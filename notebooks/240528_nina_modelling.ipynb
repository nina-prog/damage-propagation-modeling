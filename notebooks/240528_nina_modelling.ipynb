{
 "cells": [
  {
   "cell_type": "code",
   "execution_count": 45,
   "metadata": {
    "collapsed": true,
    "ExecuteTime": {
     "end_time": "2024-05-30T12:51:48.554957600Z",
     "start_time": "2024-05-30T12:51:48.476324200Z"
    }
   },
   "outputs": [
    {
     "name": "stdout",
     "output_type": "stream",
     "text": [
      "The autoreload extension is already loaded. To reload it, use:\n",
      "  %reload_ext autoreload\n"
     ]
    }
   ],
   "source": [
    "%load_ext autoreload\n",
    "%autoreload 2"
   ]
  },
  {
   "cell_type": "code",
   "execution_count": 3,
   "outputs": [],
   "source": [
    "%matplotlib inline\n",
    "%config InlineBackend.figure_format = 'retina'"
   ],
   "metadata": {
    "collapsed": false,
    "ExecuteTime": {
     "end_time": "2024-05-30T12:16:01.164250500Z",
     "start_time": "2024-05-30T12:16:01.058240600Z"
    }
   }
  },
  {
   "cell_type": "markdown",
   "source": [
    "# Topic: EX2 - Turbofan RUL Prediction\n",
    "**Task**: Predict the remaining useful life (RUL) of turbofan engines based on given sensor data (time series data). It is a regression problem.\n",
    "**Data**: Turbofan engine degradation simulation data (NASA) - [Link](https://data.nasa.gov/dataset/Turbofan-Engine-Degradation-Simulation-Data-Set/vrks-gjie). See also in the topic [introduction notebook](https://github.com/nina-prog/damage-propagation-modeling/blob/2fb8c1a1102a48d7abbf04e4031807790a913a99/notebooks/Turbofan%20remaining%20useful%20life%20Prediction.ipynb).\n",
    "\n",
    "**Subtasks**:\n",
    "1. Perform a deep **exploratory data analysis (EDA)** on the given data.\n",
    "2. Implement a more efficient **sliding window method** for time series data analysis.\n",
    "3. Apply **traditional machine learning methods** (SOTA) to predict the remaining useful life. Includes data preparation, feature extraction, feature selection, model selection, and model parameter optimization. -> 🎯 **Focus on this task** feature selection, model selection, and model parameter optimization.\n",
    "4. Create **neural network models** to predict the remaining useful life. Includes different architectures like Convolutional Neural Networks (CNN), Recurrent Neural Networks (RNN), or Attention Models. Note: You can search for SOTA research papers and reproduce current state-of-the-art models."
   ],
   "metadata": {
    "collapsed": false
   }
  },
  {
   "cell_type": "markdown",
   "source": [
    "# Imports + Settings"
   ],
   "metadata": {
    "collapsed": false
   }
  },
  {
   "cell_type": "code",
   "execution_count": 4,
   "outputs": [],
   "source": [
    "# third-party libraries\n",
    "import pandas as pd\n",
    "import numpy as np\n",
    "import os\n",
    "from typing import List\n",
    "import matplotlib.pyplot as plt\n",
    "import seaborn as sns\n",
    "from sklearn.preprocessing import StandardScaler"
   ],
   "metadata": {
    "collapsed": false,
    "ExecuteTime": {
     "end_time": "2024-05-30T12:16:01.378634600Z",
     "start_time": "2024-05-30T12:16:01.164250500Z"
    }
   }
  },
  {
   "cell_type": "code",
   "execution_count": 5,
   "outputs": [],
   "source": [
    "# source code\n",
    "from src.data_loading import load_data, load_config\n",
    "from src.data_cleaning import clean_data\n",
    "from src.rolling_window_creator import RollingWindowDatasetCreator\n",
    "from src.data_splitting import train_val_split_by_group"
   ],
   "metadata": {
    "collapsed": false,
    "ExecuteTime": {
     "end_time": "2024-05-30T12:16:02.610381Z",
     "start_time": "2024-05-30T12:16:01.378634600Z"
    }
   }
  },
  {
   "cell_type": "code",
   "execution_count": 6,
   "outputs": [],
   "source": [
    "# settings\n",
    "sns.set_style(\"whitegrid\")\n",
    "sns.set_palette(\"Set2\")\n",
    "sns.set(rc={\"figure.dpi\": 100, 'savefig.dpi': 200})\n",
    "sns.set_context('notebook')\n",
    "\n",
    "np.random.seed(42)"
   ],
   "metadata": {
    "collapsed": false,
    "ExecuteTime": {
     "end_time": "2024-05-30T12:16:02.709841500Z",
     "start_time": "2024-05-30T12:16:02.618388900Z"
    }
   }
  },
  {
   "cell_type": "markdown",
   "source": [
    "# Paths"
   ],
   "metadata": {
    "collapsed": false
   }
  },
  {
   "cell_type": "code",
   "execution_count": 7,
   "outputs": [
    {
     "data": {
      "text/plain": "'C:\\\\Users\\\\merti\\\\PycharmProjects\\\\damage-propagation-modeling'"
     },
     "execution_count": 7,
     "metadata": {},
     "output_type": "execute_result"
    }
   ],
   "source": [
    "os.chdir(\"../\")  # set working directory to root of project\n",
    "os.getcwd() # check current working directory"
   ],
   "metadata": {
    "collapsed": false,
    "ExecuteTime": {
     "end_time": "2024-05-30T12:16:02.772774500Z",
     "start_time": "2024-05-30T12:16:02.709841500Z"
    }
   }
  },
  {
   "cell_type": "code",
   "execution_count": 59,
   "outputs": [],
   "source": [
    "PATH_TO_CONFIG = \"configs/config.yaml\""
   ],
   "metadata": {
    "collapsed": false,
    "ExecuteTime": {
     "end_time": "2024-05-30T13:01:54.227904900Z",
     "start_time": "2024-05-30T13:01:45.096134700Z"
    }
   }
  },
  {
   "cell_type": "markdown",
   "source": [
    "# Load config"
   ],
   "metadata": {
    "collapsed": false
   }
  },
  {
   "cell_type": "code",
   "execution_count": 61,
   "outputs": [],
   "source": [
    "config = load_config(PATH_TO_CONFIG) # config is dict"
   ],
   "metadata": {
    "collapsed": false,
    "ExecuteTime": {
     "end_time": "2024-05-30T13:05:52.058809400Z",
     "start_time": "2024-05-30T13:05:51.948591Z"
    }
   }
  },
  {
   "cell_type": "markdown",
   "source": [
    "# Dataset 1"
   ],
   "metadata": {
    "collapsed": false
   }
  },
  {
   "cell_type": "markdown",
   "source": [
    "load data"
   ],
   "metadata": {
    "collapsed": false
   }
  },
  {
   "cell_type": "code",
   "execution_count": 10,
   "outputs": [
    {
     "name": "stdout",
     "output_type": "stream",
     "text": [
      "2024-05-30 14:16:02 [\u001B[34msrc.data_loading:43\u001B[0m] [\u001B[32mINFO\u001B[0m] >>>> Loading data set 1...\u001B[0m\n",
      "2024-05-30 14:16:03 [\u001B[34msrc.data_loading:72\u001B[0m] [\u001B[32mINFO\u001B[0m] >>>> Loaded raw data for dataset 1.\u001B[0m\n",
      "2024-05-30 14:16:03 [\u001B[34msrc.data_loading:73\u001B[0m] [\u001B[32mINFO\u001B[0m] >>>> Train Data: (20631, 26)\u001B[0m\n",
      "2024-05-30 14:16:03 [\u001B[34msrc.data_loading:74\u001B[0m] [\u001B[32mINFO\u001B[0m] >>>> Test Data: (13096, 26)\u001B[0m\n",
      "2024-05-30 14:16:03 [\u001B[34msrc.data_loading:75\u001B[0m] [\u001B[32mINFO\u001B[0m] >>>> Test RUL Data: (100, 1)\u001B[0m\n"
     ]
    }
   ],
   "source": [
    "train_data, test_data, test_RUL_data = load_data(config_path=PATH_TO_CONFIG, dataset_num=1)"
   ],
   "metadata": {
    "collapsed": false,
    "ExecuteTime": {
     "end_time": "2024-05-30T12:16:03.351259300Z",
     "start_time": "2024-05-30T12:16:02.918883200Z"
    }
   }
  },
  {
   "cell_type": "markdown",
   "source": [
    "preprocess data"
   ],
   "metadata": {
    "collapsed": false
   }
  },
  {
   "cell_type": "code",
   "execution_count": 53,
   "outputs": [
    {
     "name": "stdout",
     "output_type": "stream",
     "text": [
      "2024-05-30 14:52:54 [\u001B[34msrc.data_cleaning:142\u001B[0m] [\u001B[32mINFO\u001B[0m] >>>> Cleaning train and test data...\u001B[0m\n",
      "2024-05-30 14:52:54 [\u001B[34msrc.data_cleaning:145\u001B[0m] [\u001B[32mINFO\u001B[0m] >>>> Formatting column types...\u001B[0m\n",
      "2024-05-30 14:52:54 [\u001B[34msrc.data_cleaning:77\u001B[0m] [DEBUG\u001B[0m] >>>> Found 0 categorical columns: []\u001B[0m\n",
      "2024-05-30 14:52:54 [\u001B[34msrc.data_cleaning:77\u001B[0m] [DEBUG\u001B[0m] >>>> Found 0 categorical columns: []\u001B[0m\n",
      "2024-05-30 14:52:54 [\u001B[34msrc.data_cleaning:150\u001B[0m] [\u001B[32mINFO\u001B[0m] >>>> Filter and drop features based on missing values, single unique values, and target correlation...\u001B[0m\n",
      "2024-05-30 14:52:54 [\u001B[34msrc.data_cleaning:30\u001B[0m] [DEBUG\u001B[0m] >>>> Found 0 features with missing values above the threshold of 0.5.\u001B[0m\n",
      "2024-05-30 14:52:54 [\u001B[34msrc.data_cleaning:54\u001B[0m] [DEBUG\u001B[0m] >>>> Found 7 features with only a single unique value: ['Operation Setting 3', 'Sensor Measure 1', 'Sensor Measure 5', 'Sensor Measure 10', 'Sensor Measure 16', 'Sensor Measure 18', 'Sensor Measure 19']\u001B[0m\n",
      "2024-05-30 14:52:54 [\u001B[34msrc.data_cleaning:112\u001B[0m] [DEBUG\u001B[0m] >>>> Found 3 uncorrelated features with a correlation threshold of 0.1: ['UnitNumber', 'Operation Setting 1', 'Operation Setting 2']\u001B[0m\n",
      "2024-05-30 14:52:54 [\u001B[34msrc.data_cleaning:161\u001B[0m] [\u001B[32mINFO\u001B[0m] >>>> Dropping features based on missing values, single unique values, and no target correlation...\u001B[0m\n",
      "2024-05-30 14:52:54 [\u001B[34msrc.data_cleaning:171\u001B[0m] [\u001B[32mINFO\u001B[0m] >>>> Removing duplicates...\u001B[0m\n",
      "2024-05-30 14:52:54 [\u001B[34msrc.data_cleaning:176\u001B[0m] [\u001B[32mINFO\u001B[0m] >>>> Removing outliers...\u001B[0m\n",
      "2024-05-30 14:52:54 [\u001B[34msrc.outlier_detection:150\u001B[0m] [DEBUG\u001B[0m] >>>> Removing outliers using method: winsorize ...\u001B[0m\n",
      "2024-05-30 14:52:54 [\u001B[34msrc.outlier_detection:98\u001B[0m] [DEBUG\u001B[0m] >>>> Found 1031 outliers to be replaced (winsorized).\u001B[0m\n",
      "2024-05-30 14:52:54 [\u001B[34msrc.outlier_detection:100\u001B[0m] [DEBUG\u001B[0m] >>>> Original DataFrame shape: (20631, 17), Resulting DataFrame shape: (20631, 17)\u001B[0m\n",
      "2024-05-30 14:52:54 [\u001B[34msrc.outlier_detection:150\u001B[0m] [DEBUG\u001B[0m] >>>> Removing outliers using method: winsorize ...\u001B[0m\n",
      "2024-05-30 14:52:54 [\u001B[34msrc.outlier_detection:98\u001B[0m] [DEBUG\u001B[0m] >>>> Found 654 outliers to be replaced (winsorized).\u001B[0m\n",
      "2024-05-30 14:52:54 [\u001B[34msrc.outlier_detection:100\u001B[0m] [DEBUG\u001B[0m] >>>> Original DataFrame shape: (13096, 17), Resulting DataFrame shape: (13096, 17)\u001B[0m\n",
      "2024-05-30 14:52:54 [\u001B[34msrc.data_cleaning:186\u001B[0m] [\u001B[32mINFO\u001B[0m] >>>> Data cleaning completed.\u001B[0m\n",
      "2024-05-30 14:52:54 [\u001B[34msrc.data_cleaning:187\u001B[0m] [\u001B[32mINFO\u001B[0m] >>>> Original train DataFrame shape: (20631, 26), Resulting train DataFrame shape: (20631, 17)\u001B[0m\n",
      "2024-05-30 14:52:54 [\u001B[34msrc.data_cleaning:188\u001B[0m] [\u001B[32mINFO\u001B[0m] >>>> Original test DataFrame shape: (13096, 26), Resulting test DataFrame shape: (13096, 17)\u001B[0m\n"
     ]
    }
   ],
   "source": [
    "# clean - see data_preprocessing.ipynb for details\n",
    "cleaned_train, cleaned_test = clean_data(train_data, test_data, method='winsorize', ignore_columns=['UnitNumber', 'Cycle'], threshold_missing=0.5, threshold_corr=0.1, contamination=0.05)"
   ],
   "metadata": {
    "collapsed": false,
    "ExecuteTime": {
     "end_time": "2024-05-30T12:52:54.543167600Z",
     "start_time": "2024-05-30T12:52:54.302356600Z"
    }
   }
  },
  {
   "cell_type": "code",
   "execution_count": 62,
   "outputs": [
    {
     "name": "stdout",
     "output_type": "stream",
     "text": [
      "2024-05-30 15:05:55 [\u001B[34msrc.rolling_window_creator:117\u001B[0m] [\u001B[32mINFO\u001B[0m] >>>> Creating rolling windows for train data...\u001B[0m\n"
     ]
    },
    {
     "name": "stderr",
     "output_type": "stream",
     "text": [
      "Rolling: 100%|██████████| 37/37 [00:05<00:00,  7.34it/s]\n"
     ]
    },
    {
     "name": "stdout",
     "output_type": "stream",
     "text": [
      "2024-05-30 15:06:01 [\u001B[34msrc.rolling_window_creator:125\u001B[0m] [\u001B[32mINFO\u001B[0m] >>>> Extracting features for train data...\u001B[0m\n"
     ]
    },
    {
     "name": "stderr",
     "output_type": "stream",
     "text": [
      "Feature Extraction: 100%|██████████| 40/40 [03:01<00:00,  4.54s/it]\n"
     ]
    },
    {
     "name": "stdout",
     "output_type": "stream",
     "text": [
      "2024-05-30 15:09:56 [\u001B[34msrc.rolling_window_creator:133\u001B[0m] [\u001B[32mINFO\u001B[0m] >>>> Calculating target for train data...\u001B[0m\n",
      "2024-05-30 15:09:56 [\u001B[34msrc.rolling_window_creator:117\u001B[0m] [\u001B[32mINFO\u001B[0m] >>>> Creating rolling windows for test data...\u001B[0m\n"
     ]
    },
    {
     "name": "stderr",
     "output_type": "stream",
     "text": [
      "Rolling: 100%|██████████| 38/38 [00:03<00:00, 10.01it/s]\n"
     ]
    },
    {
     "name": "stdout",
     "output_type": "stream",
     "text": [
      "2024-05-30 15:10:01 [\u001B[34msrc.rolling_window_creator:125\u001B[0m] [\u001B[32mINFO\u001B[0m] >>>> Extracting features for test data...\u001B[0m\n"
     ]
    },
    {
     "name": "stderr",
     "output_type": "stream",
     "text": [
      "Feature Extraction: 100%|██████████| 40/40 [00:03<00:00, 13.26it/s]\n"
     ]
    },
    {
     "name": "stdout",
     "output_type": "stream",
     "text": [
      "2024-05-30 15:10:04 [\u001B[34msrc.rolling_window_creator:161\u001B[0m] [\u001B[32mINFO\u001B[0m] >>>> Datasets created successfully.\u001B[0m\n",
      "2024-05-30 15:10:04 [\u001B[34msrc.rolling_window_creator:162\u001B[0m] [\u001B[32mINFO\u001B[0m] >>>> Shape of X_train: (20131, 720)\u001B[0m\n",
      "2024-05-30 15:10:04 [\u001B[34msrc.rolling_window_creator:163\u001B[0m] [\u001B[32mINFO\u001B[0m] >>>> Shape of y_train: (20131, 1)\u001B[0m\n",
      "2024-05-30 15:10:04 [\u001B[34msrc.rolling_window_creator:164\u001B[0m] [\u001B[32mINFO\u001B[0m] >>>> Shape of X_test: (100, 720)\u001B[0m\n",
      "2024-05-30 15:10:04 [\u001B[34msrc.rolling_window_creator:165\u001B[0m] [\u001B[32mINFO\u001B[0m] >>>> Shape of y_test: (100, 1)\u001B[0m\n",
      "CPU times: total: 1min 27s\n",
      "Wall time: 4min 9s\n"
     ]
    }
   ],
   "source": [
    "%%time\n",
    "# create rolling windows - see sliding_window.ipynb for details\n",
    "creator = RollingWindowDatasetCreator(column_id=\"UnitNumber\",\n",
    "                                      column_sort=\"Cycle\",\n",
    "                                      max_window_size=config[\"preprocessing\"][\"max_window_size\"],\n",
    "                                      min_window_size=config[\"preprocessing\"][\"min_window_size\"],\n",
    "                                      feature_extraction_mode=config[\"preprocessing\"][\"feature_extraction_mode\"])\n",
    "X_train, y_train, X_test, y_test = creator.create_rolling_windows_datasets(cleaned_train, cleaned_test, test_RUL_data)"
   ],
   "metadata": {
    "collapsed": false,
    "ExecuteTime": {
     "end_time": "2024-05-30T13:10:04.799234500Z",
     "start_time": "2024-05-30T13:05:55.607446400Z"
    }
   }
  },
  {
   "cell_type": "code",
   "execution_count": 82,
   "outputs": [
    {
     "name": "stdout",
     "output_type": "stream",
     "text": [
      "2024-05-30 15:28:17 [\u001B[34msrc.data_splitting:65\u001B[0m] [\u001B[32mINFO\u001B[0m] >>>> Split data successfully.\u001B[0m\n",
      "2024-05-30 15:28:17 [\u001B[34msrc.data_splitting:66\u001B[0m] [\u001B[32mINFO\u001B[0m] >>>> Train set contains 80 different engines --> in total 16054\u001B[0m\n",
      "2024-05-30 15:28:17 [\u001B[34msrc.data_splitting:67\u001B[0m] [\u001B[32mINFO\u001B[0m] >>>> Validation set contains 20 different engines --> in total 4077\u001B[0m\n"
     ]
    }
   ],
   "source": [
    "# split\n",
    "# using a GroupShuffleSplit, to make sure that the same unit is not in both train and test set, to avoid data leakage and make the model more robust\n",
    "X_train, X_val, y_train, y_val  = train_val_split_by_group(X=X_train, y=y_train, group=\"UnitNumber\", test_size=0.2)"
   ],
   "metadata": {
    "collapsed": false,
    "ExecuteTime": {
     "end_time": "2024-05-30T13:28:17.920431600Z",
     "start_time": "2024-05-30T13:28:17.746799400Z"
    }
   }
  },
  {
   "cell_type": "code",
   "execution_count": 83,
   "outputs": [],
   "source": [
    "# scale\n",
    "scaler = StandardScaler()\n",
    "X_train_scaled = scaler.fit_transform(X_train)\n",
    "X_val_scaled = scaler.transform(X_val)\n",
    "X_test_scaled = scaler.transform(X_test)"
   ],
   "metadata": {
    "collapsed": false,
    "ExecuteTime": {
     "end_time": "2024-05-30T13:28:19.780422800Z",
     "start_time": "2024-05-30T13:28:19.453443100Z"
    }
   }
  },
  {
   "cell_type": "code",
   "execution_count": 86,
   "outputs": [
    {
     "data": {
      "text/plain": "((16054, 720), (4077, 720), (100, 720))"
     },
     "execution_count": 86,
     "metadata": {},
     "output_type": "execute_result"
    }
   ],
   "source": [
    "# check if all shapes match\n",
    "X_train_scaled.shape, X_val_scaled.shape, X_test_scaled.shape"
   ],
   "metadata": {
    "collapsed": false,
    "ExecuteTime": {
     "end_time": "2024-05-30T13:29:04.758197400Z",
     "start_time": "2024-05-30T13:29:04.685720400Z"
    }
   }
  },
  {
   "cell_type": "code",
   "execution_count": 54,
   "outputs": [
    {
     "data": {
      "text/plain": "       UnitNumber  Cycle  Sensor Measure 2  Sensor Measure 3  \\\n0               1      1            641.92           1589.70   \n1               1      2            642.15           1591.82   \n2               1      3            642.35           1587.99   \n3               1      4            642.35           1582.79   \n4               1      5            642.37           1582.85   \n...           ...    ...               ...               ...   \n20626         100    196            643.49           1597.98   \n20627         100    197            643.54           1601.47   \n20628         100    198            643.42           1601.47   \n20629         100    199            643.23           1601.47   \n20630         100    200            643.58           1600.38   \n\n       Sensor Measure 4  Sensor Measure 6  Sensor Measure 7  Sensor Measure 8  \\\n0               1400.60             21.61            554.36           2388.06   \n1               1403.14             21.61            553.75           2388.04   \n2               1404.20             21.61            554.26           2388.08   \n3               1401.87             21.61            554.45           2388.11   \n4               1406.22             21.61            554.00           2388.06   \n...                 ...               ...               ...               ...   \n20626           1425.67             21.61            551.74           2388.19   \n20627           1425.67             21.61            551.74           2388.22   \n20628           1425.67             21.61            551.74           2388.22   \n20629           1425.67             21.61            551.74           2388.22   \n20630           1425.67             21.61            551.74           2388.22   \n\n       Sensor Measure 9  Sensor Measure 11  Sensor Measure 12  \\\n0               9046.19              47.47             521.66   \n1               9044.07              47.49             522.28   \n2               9052.94              47.27             522.42   \n3               9049.48              47.15             522.50   \n4               9055.15              47.28             522.19   \n...                 ...                ...                ...   \n20626           9065.52              48.05             520.04   \n20627           9065.11              48.04             520.04   \n20628           9065.90              48.05             520.04   \n20629           9073.72              48.05             520.04   \n20630           9061.48              48.05             520.04   \n\n       Sensor Measure 13  Sensor Measure 14  Sensor Measure 15  \\\n0                2388.02            8138.62             8.4195   \n1                2388.07            8131.49             8.4318   \n2                2388.03            8133.23             8.4178   \n3                2388.08            8133.83             8.3859   \n4                2388.04            8133.80             8.4294   \n...                  ...                ...                ...   \n20626            2388.23            8137.60             8.4956   \n20627            2388.22            8136.50             8.5110   \n20628            2388.23            8141.05             8.5110   \n20629            2388.23            8139.29             8.5110   \n20630            2388.23            8137.33             8.5036   \n\n       Sensor Measure 17  Sensor Measure 20  Sensor Measure 21  \n0                    392              39.06            23.4190  \n1                    392              39.00            23.4236  \n2                    391              38.95            23.3442  \n3                    392              38.88            23.3739  \n4                    393              38.90            23.4044  \n...                  ...                ...                ...  \n20626                396              38.49            23.0934  \n20627                395              38.49            23.1594  \n20628                396              38.49            23.0934  \n20629                395              38.49            23.0934  \n20630                396              38.49            23.0934  \n\n[20631 rows x 17 columns]",
      "text/html": "<div>\n<style scoped>\n    .dataframe tbody tr th:only-of-type {\n        vertical-align: middle;\n    }\n\n    .dataframe tbody tr th {\n        vertical-align: top;\n    }\n\n    .dataframe thead th {\n        text-align: right;\n    }\n</style>\n<table border=\"1\" class=\"dataframe\">\n  <thead>\n    <tr style=\"text-align: right;\">\n      <th></th>\n      <th>UnitNumber</th>\n      <th>Cycle</th>\n      <th>Sensor Measure 2</th>\n      <th>Sensor Measure 3</th>\n      <th>Sensor Measure 4</th>\n      <th>Sensor Measure 6</th>\n      <th>Sensor Measure 7</th>\n      <th>Sensor Measure 8</th>\n      <th>Sensor Measure 9</th>\n      <th>Sensor Measure 11</th>\n      <th>Sensor Measure 12</th>\n      <th>Sensor Measure 13</th>\n      <th>Sensor Measure 14</th>\n      <th>Sensor Measure 15</th>\n      <th>Sensor Measure 17</th>\n      <th>Sensor Measure 20</th>\n      <th>Sensor Measure 21</th>\n    </tr>\n  </thead>\n  <tbody>\n    <tr>\n      <th>0</th>\n      <td>1</td>\n      <td>1</td>\n      <td>641.92</td>\n      <td>1589.70</td>\n      <td>1400.60</td>\n      <td>21.61</td>\n      <td>554.36</td>\n      <td>2388.06</td>\n      <td>9046.19</td>\n      <td>47.47</td>\n      <td>521.66</td>\n      <td>2388.02</td>\n      <td>8138.62</td>\n      <td>8.4195</td>\n      <td>392</td>\n      <td>39.06</td>\n      <td>23.4190</td>\n    </tr>\n    <tr>\n      <th>1</th>\n      <td>1</td>\n      <td>2</td>\n      <td>642.15</td>\n      <td>1591.82</td>\n      <td>1403.14</td>\n      <td>21.61</td>\n      <td>553.75</td>\n      <td>2388.04</td>\n      <td>9044.07</td>\n      <td>47.49</td>\n      <td>522.28</td>\n      <td>2388.07</td>\n      <td>8131.49</td>\n      <td>8.4318</td>\n      <td>392</td>\n      <td>39.00</td>\n      <td>23.4236</td>\n    </tr>\n    <tr>\n      <th>2</th>\n      <td>1</td>\n      <td>3</td>\n      <td>642.35</td>\n      <td>1587.99</td>\n      <td>1404.20</td>\n      <td>21.61</td>\n      <td>554.26</td>\n      <td>2388.08</td>\n      <td>9052.94</td>\n      <td>47.27</td>\n      <td>522.42</td>\n      <td>2388.03</td>\n      <td>8133.23</td>\n      <td>8.4178</td>\n      <td>391</td>\n      <td>38.95</td>\n      <td>23.3442</td>\n    </tr>\n    <tr>\n      <th>3</th>\n      <td>1</td>\n      <td>4</td>\n      <td>642.35</td>\n      <td>1582.79</td>\n      <td>1401.87</td>\n      <td>21.61</td>\n      <td>554.45</td>\n      <td>2388.11</td>\n      <td>9049.48</td>\n      <td>47.15</td>\n      <td>522.50</td>\n      <td>2388.08</td>\n      <td>8133.83</td>\n      <td>8.3859</td>\n      <td>392</td>\n      <td>38.88</td>\n      <td>23.3739</td>\n    </tr>\n    <tr>\n      <th>4</th>\n      <td>1</td>\n      <td>5</td>\n      <td>642.37</td>\n      <td>1582.85</td>\n      <td>1406.22</td>\n      <td>21.61</td>\n      <td>554.00</td>\n      <td>2388.06</td>\n      <td>9055.15</td>\n      <td>47.28</td>\n      <td>522.19</td>\n      <td>2388.04</td>\n      <td>8133.80</td>\n      <td>8.4294</td>\n      <td>393</td>\n      <td>38.90</td>\n      <td>23.4044</td>\n    </tr>\n    <tr>\n      <th>...</th>\n      <td>...</td>\n      <td>...</td>\n      <td>...</td>\n      <td>...</td>\n      <td>...</td>\n      <td>...</td>\n      <td>...</td>\n      <td>...</td>\n      <td>...</td>\n      <td>...</td>\n      <td>...</td>\n      <td>...</td>\n      <td>...</td>\n      <td>...</td>\n      <td>...</td>\n      <td>...</td>\n      <td>...</td>\n    </tr>\n    <tr>\n      <th>20626</th>\n      <td>100</td>\n      <td>196</td>\n      <td>643.49</td>\n      <td>1597.98</td>\n      <td>1425.67</td>\n      <td>21.61</td>\n      <td>551.74</td>\n      <td>2388.19</td>\n      <td>9065.52</td>\n      <td>48.05</td>\n      <td>520.04</td>\n      <td>2388.23</td>\n      <td>8137.60</td>\n      <td>8.4956</td>\n      <td>396</td>\n      <td>38.49</td>\n      <td>23.0934</td>\n    </tr>\n    <tr>\n      <th>20627</th>\n      <td>100</td>\n      <td>197</td>\n      <td>643.54</td>\n      <td>1601.47</td>\n      <td>1425.67</td>\n      <td>21.61</td>\n      <td>551.74</td>\n      <td>2388.22</td>\n      <td>9065.11</td>\n      <td>48.04</td>\n      <td>520.04</td>\n      <td>2388.22</td>\n      <td>8136.50</td>\n      <td>8.5110</td>\n      <td>395</td>\n      <td>38.49</td>\n      <td>23.1594</td>\n    </tr>\n    <tr>\n      <th>20628</th>\n      <td>100</td>\n      <td>198</td>\n      <td>643.42</td>\n      <td>1601.47</td>\n      <td>1425.67</td>\n      <td>21.61</td>\n      <td>551.74</td>\n      <td>2388.22</td>\n      <td>9065.90</td>\n      <td>48.05</td>\n      <td>520.04</td>\n      <td>2388.23</td>\n      <td>8141.05</td>\n      <td>8.5110</td>\n      <td>396</td>\n      <td>38.49</td>\n      <td>23.0934</td>\n    </tr>\n    <tr>\n      <th>20629</th>\n      <td>100</td>\n      <td>199</td>\n      <td>643.23</td>\n      <td>1601.47</td>\n      <td>1425.67</td>\n      <td>21.61</td>\n      <td>551.74</td>\n      <td>2388.22</td>\n      <td>9073.72</td>\n      <td>48.05</td>\n      <td>520.04</td>\n      <td>2388.23</td>\n      <td>8139.29</td>\n      <td>8.5110</td>\n      <td>395</td>\n      <td>38.49</td>\n      <td>23.0934</td>\n    </tr>\n    <tr>\n      <th>20630</th>\n      <td>100</td>\n      <td>200</td>\n      <td>643.58</td>\n      <td>1600.38</td>\n      <td>1425.67</td>\n      <td>21.61</td>\n      <td>551.74</td>\n      <td>2388.22</td>\n      <td>9061.48</td>\n      <td>48.05</td>\n      <td>520.04</td>\n      <td>2388.23</td>\n      <td>8137.33</td>\n      <td>8.5036</td>\n      <td>396</td>\n      <td>38.49</td>\n      <td>23.0934</td>\n    </tr>\n  </tbody>\n</table>\n<p>20631 rows × 17 columns</p>\n</div>"
     },
     "execution_count": 54,
     "metadata": {},
     "output_type": "execute_result"
    }
   ],
   "source": [
    "# feature selection\n"
   ],
   "metadata": {
    "collapsed": false
   }
  }
 ],
 "metadata": {
  "kernelspec": {
   "display_name": "Python 3",
   "language": "python",
   "name": "python3"
  },
  "language_info": {
   "codemirror_mode": {
    "name": "ipython",
    "version": 2
   },
   "file_extension": ".py",
   "mimetype": "text/x-python",
   "name": "python",
   "nbconvert_exporter": "python",
   "pygments_lexer": "ipython2",
   "version": "2.7.6"
  }
 },
 "nbformat": 4,
 "nbformat_minor": 0
}
