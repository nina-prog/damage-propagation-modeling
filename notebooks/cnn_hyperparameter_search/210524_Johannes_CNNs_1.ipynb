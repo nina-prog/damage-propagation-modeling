{
 "cells": [
  {
   "cell_type": "code",
   "metadata": {
    "collapsed": false,
    "jupyter": {
     "outputs_hidden": false
    },
    "ExecuteTime": {
     "end_time": "2024-05-31T20:44:43.192408Z",
     "start_time": "2024-05-31T20:44:42.725306Z"
    }
   },
   "source": [
    "%load_ext autoreload\n",
    "%autoreload 2"
   ],
   "outputs": [],
   "execution_count": 1
  },
  {
   "cell_type": "code",
   "metadata": {
    "collapsed": false,
    "jupyter": {
     "outputs_hidden": false
    },
    "ExecuteTime": {
     "end_time": "2024-05-31T20:44:43.617958Z",
     "start_time": "2024-05-31T20:44:43.195361Z"
    }
   },
   "source": [
    "%matplotlib inline\n",
    "%config InlineBackend.figure_format = 'retina'"
   ],
   "outputs": [],
   "execution_count": 2
  },
  {
   "cell_type": "markdown",
   "metadata": {
    "collapsed": false,
    "jupyter": {
     "outputs_hidden": false
    }
   },
   "source": [
    "# Topic: EX2 - Turbofan RUL Prediction\n",
    "**Task**: Predict the remaining useful life (RUL) of turbofan engines based on given sensor data (time series data). It is a forcasting problem, where the goal is to predict the number of cycles an engine will last before it fails.\n",
    "**Data**: Turbofan engine degradation simulation data (NASA) - [Link](https://data.nasa.gov/dataset/Turbofan-Engine-Degradation-Simulation-Data-Set/vrks-gjie). See also in the topic [introduction notebook](https://github.com/nina-prog/damage-propagation-modeling/blob/2fb8c1a1102a48d7abbf04e4031807790a913a99/notebooks/Turbofan%20remaining%20useful%20life%20Prediction.ipynb).\n",
    "\n",
    "**Subtasks**:\n",
    "1. Perform a deep **exploratory data analysis (EDA)** on the given data.\n",
    "2. Implement a more efficient **sliding window method** for time series data analysis. -> 🎯 **Focus on this task**\n",
    "3. Apply **traditional machine learning methods** (SOTA) to predict the remaining useful life. Includes data preparation, feature extraction, feature selection, model selection, and model parameter optimization.\n",
    "4. Create **neural network models** to predict the remaining useful life. Includes different architectures like Convolutional Neural Networks (CNN), Recurrent Neural Networks (RNN), or Attention Models. Note: You can search for SOTA research papers and reproduce current state-of-the-art models.\n"
   ]
  },
  {
   "cell_type": "markdown",
   "metadata": {
    "collapsed": false,
    "jupyter": {
     "outputs_hidden": false
    }
   },
   "source": [
    "# Imports + Settings"
   ]
  },
  {
   "cell_type": "code",
   "execution_count": 3,
   "metadata": {
    "scrolled": true
   },
   "outputs": [
    {
     "name": "stdout",
     "output_type": "stream",
     "text": [
      "Looking in indexes: https://pypi.org/simple, https://pypi.ngc.nvidia.com\n",
      "Requirement already satisfied: pytorch-lightning in /opt/conda/lib/python3.11/site-packages (2.2.5)\n",
      "Requirement already satisfied: numpy>=1.17.2 in /opt/conda/lib/python3.11/site-packages (from pytorch-lightning) (1.26.4)\n",
      "Requirement already satisfied: torch>=1.13.0 in /opt/conda/lib/python3.11/site-packages (from pytorch-lightning) (2.2.2+cu121)\n",
      "Requirement already satisfied: tqdm>=4.57.0 in /opt/conda/lib/python3.11/site-packages (from pytorch-lightning) (4.66.2)\n",
      "Requirement already satisfied: PyYAML>=5.4 in /opt/conda/lib/python3.11/site-packages (from pytorch-lightning) (6.0.1)\n",
      "Requirement already satisfied: fsspec>=2022.5.0 in /opt/conda/lib/python3.11/site-packages (from fsspec[http]>=2022.5.0->pytorch-lightning) (2024.3.1)\n",
      "Requirement already satisfied: torchmetrics>=0.7.0 in /opt/conda/lib/python3.11/site-packages (from pytorch-lightning) (1.4.0.post0)\n",
      "Requirement already satisfied: packaging>=20.0 in /opt/conda/lib/python3.11/site-packages (from pytorch-lightning) (24.0)\n",
      "Requirement already satisfied: typing-extensions>=4.4.0 in /opt/conda/lib/python3.11/site-packages (from pytorch-lightning) (4.11.0)\n",
      "Requirement already satisfied: lightning-utilities>=0.8.0 in /opt/conda/lib/python3.11/site-packages (from pytorch-lightning) (0.11.2)\n",
      "Requirement already satisfied: aiohttp!=4.0.0a0,!=4.0.0a1 in /opt/conda/lib/python3.11/site-packages (from fsspec[http]>=2022.5.0->pytorch-lightning) (3.9.3)\n",
      "Requirement already satisfied: setuptools in /opt/conda/lib/python3.11/site-packages (from lightning-utilities>=0.8.0->pytorch-lightning) (69.2.0)\n",
      "Requirement already satisfied: filelock in /opt/conda/lib/python3.11/site-packages (from torch>=1.13.0->pytorch-lightning) (3.13.3)\n",
      "Requirement already satisfied: sympy in /opt/conda/lib/python3.11/site-packages (from torch>=1.13.0->pytorch-lightning) (1.12)\n",
      "Requirement already satisfied: networkx in /opt/conda/lib/python3.11/site-packages (from torch>=1.13.0->pytorch-lightning) (3.3)\n",
      "Requirement already satisfied: jinja2 in /opt/conda/lib/python3.11/site-packages (from torch>=1.13.0->pytorch-lightning) (3.1.3)\n",
      "Requirement already satisfied: nvidia-cuda-nvrtc-cu12==12.1.105 in /opt/conda/lib/python3.11/site-packages (from torch>=1.13.0->pytorch-lightning) (12.1.105)\n",
      "Requirement already satisfied: nvidia-cuda-runtime-cu12==12.1.105 in /opt/conda/lib/python3.11/site-packages (from torch>=1.13.0->pytorch-lightning) (12.1.105)\n",
      "Requirement already satisfied: nvidia-cuda-cupti-cu12==12.1.105 in /opt/conda/lib/python3.11/site-packages (from torch>=1.13.0->pytorch-lightning) (12.1.105)\n",
      "Requirement already satisfied: nvidia-cudnn-cu12==8.9.2.26 in /opt/conda/lib/python3.11/site-packages (from torch>=1.13.0->pytorch-lightning) (8.9.2.26)\n",
      "Requirement already satisfied: nvidia-cublas-cu12==12.1.3.1 in /opt/conda/lib/python3.11/site-packages (from torch>=1.13.0->pytorch-lightning) (12.1.3.1)\n",
      "Requirement already satisfied: nvidia-cufft-cu12==11.0.2.54 in /opt/conda/lib/python3.11/site-packages (from torch>=1.13.0->pytorch-lightning) (11.0.2.54)\n",
      "Requirement already satisfied: nvidia-curand-cu12==10.3.2.106 in /opt/conda/lib/python3.11/site-packages (from torch>=1.13.0->pytorch-lightning) (10.3.2.106)\n",
      "Requirement already satisfied: nvidia-cusolver-cu12==11.4.5.107 in /opt/conda/lib/python3.11/site-packages (from torch>=1.13.0->pytorch-lightning) (11.4.5.107)\n",
      "Requirement already satisfied: nvidia-cusparse-cu12==12.1.0.106 in /opt/conda/lib/python3.11/site-packages (from torch>=1.13.0->pytorch-lightning) (12.1.0.106)\n",
      "Requirement already satisfied: nvidia-nccl-cu12==2.19.3 in /opt/conda/lib/python3.11/site-packages (from torch>=1.13.0->pytorch-lightning) (2.19.3)\n",
      "Requirement already satisfied: nvidia-nvtx-cu12==12.1.105 in /opt/conda/lib/python3.11/site-packages (from torch>=1.13.0->pytorch-lightning) (12.1.105)\n",
      "Requirement already satisfied: triton==2.2.0 in /opt/conda/lib/python3.11/site-packages (from torch>=1.13.0->pytorch-lightning) (2.2.0)\n",
      "Requirement already satisfied: nvidia-nvjitlink-cu12 in /opt/conda/lib/python3.11/site-packages (from nvidia-cusolver-cu12==11.4.5.107->torch>=1.13.0->pytorch-lightning) (12.4.127)\n",
      "Requirement already satisfied: aiosignal>=1.1.2 in /opt/conda/lib/python3.11/site-packages (from aiohttp!=4.0.0a0,!=4.0.0a1->fsspec[http]>=2022.5.0->pytorch-lightning) (1.3.1)\n",
      "Requirement already satisfied: attrs>=17.3.0 in /opt/conda/lib/python3.11/site-packages (from aiohttp!=4.0.0a0,!=4.0.0a1->fsspec[http]>=2022.5.0->pytorch-lightning) (23.2.0)\n",
      "Requirement already satisfied: frozenlist>=1.1.1 in /opt/conda/lib/python3.11/site-packages (from aiohttp!=4.0.0a0,!=4.0.0a1->fsspec[http]>=2022.5.0->pytorch-lightning) (1.4.1)\n",
      "Requirement already satisfied: multidict<7.0,>=4.5 in /opt/conda/lib/python3.11/site-packages (from aiohttp!=4.0.0a0,!=4.0.0a1->fsspec[http]>=2022.5.0->pytorch-lightning) (6.0.5)\n",
      "Requirement already satisfied: yarl<2.0,>=1.0 in /opt/conda/lib/python3.11/site-packages (from aiohttp!=4.0.0a0,!=4.0.0a1->fsspec[http]>=2022.5.0->pytorch-lightning) (1.9.4)\n",
      "Requirement already satisfied: MarkupSafe>=2.0 in /opt/conda/lib/python3.11/site-packages (from jinja2->torch>=1.13.0->pytorch-lightning) (2.1.5)\n",
      "Requirement already satisfied: mpmath>=0.19 in /opt/conda/lib/python3.11/site-packages (from sympy->torch>=1.13.0->pytorch-lightning) (1.3.0)\n",
      "Requirement already satisfied: idna>=2.0 in /opt/conda/lib/python3.11/site-packages (from yarl<2.0,>=1.0->aiohttp!=4.0.0a0,!=4.0.0a1->fsspec[http]>=2022.5.0->pytorch-lightning) (3.6)\n",
      "Looking in indexes: https://pypi.org/simple, https://pypi.ngc.nvidia.com\n",
      "Requirement already satisfied: colorlog in /opt/conda/lib/python3.11/site-packages (6.8.2)\n",
      "Looking in indexes: https://pypi.org/simple, https://pypi.ngc.nvidia.com\n",
      "Requirement already satisfied: bayesian-optimization in /opt/conda/lib/python3.11/site-packages (1.4.3)\n",
      "Requirement already satisfied: numpy>=1.9.0 in /opt/conda/lib/python3.11/site-packages (from bayesian-optimization) (1.26.4)\n",
      "Requirement already satisfied: scipy>=1.0.0 in /opt/conda/lib/python3.11/site-packages (from bayesian-optimization) (1.13.0)\n",
      "Requirement already satisfied: scikit-learn>=0.18.0 in /opt/conda/lib/python3.11/site-packages (from bayesian-optimization) (1.4.1.post1)\n",
      "Requirement already satisfied: colorama>=0.4.6 in /opt/conda/lib/python3.11/site-packages (from bayesian-optimization) (0.4.6)\n",
      "Requirement already satisfied: joblib>=1.2.0 in /opt/conda/lib/python3.11/site-packages (from scikit-learn>=0.18.0->bayesian-optimization) (1.4.0)\n",
      "Requirement already satisfied: threadpoolctl>=2.0.0 in /opt/conda/lib/python3.11/site-packages (from scikit-learn>=0.18.0->bayesian-optimization) (3.4.0)\n",
      "Looking in indexes: https://pypi.org/simple, https://pypi.ngc.nvidia.com\n",
      "Requirement already satisfied: pandas in /opt/conda/lib/python3.11/site-packages (2.2.1)\n",
      "Requirement already satisfied: numpy<2,>=1.23.2 in /opt/conda/lib/python3.11/site-packages (from pandas) (1.26.4)\n",
      "Requirement already satisfied: python-dateutil>=2.8.2 in /opt/conda/lib/python3.11/site-packages (from pandas) (2.9.0)\n",
      "Requirement already satisfied: pytz>=2020.1 in /opt/conda/lib/python3.11/site-packages (from pandas) (2024.1)\n",
      "Requirement already satisfied: tzdata>=2022.7 in /opt/conda/lib/python3.11/site-packages (from pandas) (2024.1)\n",
      "Requirement already satisfied: six>=1.5 in /opt/conda/lib/python3.11/site-packages (from python-dateutil>=2.8.2->pandas) (1.16.0)\n",
      "Looking in indexes: https://pypi.org/simple, https://pypi.ngc.nvidia.com\n",
      "Requirement already satisfied: plotly in /opt/conda/lib/python3.11/site-packages (5.20.0)\n",
      "Requirement already satisfied: tenacity>=6.2.0 in /opt/conda/lib/python3.11/site-packages (from plotly) (8.2.3)\n",
      "Requirement already satisfied: packaging in /opt/conda/lib/python3.11/site-packages (from plotly) (24.0)\n",
      "Looking in indexes: https://pypi.org/simple, https://pypi.ngc.nvidia.com\n",
      "Requirement already satisfied: matplotlib in /opt/conda/lib/python3.11/site-packages (3.8.4)\n",
      "Requirement already satisfied: contourpy>=1.0.1 in /opt/conda/lib/python3.11/site-packages (from matplotlib) (1.2.1)\n",
      "Requirement already satisfied: cycler>=0.10 in /opt/conda/lib/python3.11/site-packages (from matplotlib) (0.12.1)\n",
      "Requirement already satisfied: fonttools>=4.22.0 in /opt/conda/lib/python3.11/site-packages (from matplotlib) (4.51.0)\n",
      "Requirement already satisfied: kiwisolver>=1.3.1 in /opt/conda/lib/python3.11/site-packages (from matplotlib) (1.4.5)\n",
      "Requirement already satisfied: numpy>=1.21 in /opt/conda/lib/python3.11/site-packages (from matplotlib) (1.26.4)\n",
      "Requirement already satisfied: packaging>=20.0 in /opt/conda/lib/python3.11/site-packages (from matplotlib) (24.0)\n",
      "Requirement already satisfied: pillow>=8 in /opt/conda/lib/python3.11/site-packages (from matplotlib) (10.3.0)\n",
      "Requirement already satisfied: pyparsing>=2.3.1 in /opt/conda/lib/python3.11/site-packages (from matplotlib) (3.1.2)\n",
      "Requirement already satisfied: python-dateutil>=2.7 in /opt/conda/lib/python3.11/site-packages (from matplotlib) (2.9.0)\n",
      "Requirement already satisfied: six>=1.5 in /opt/conda/lib/python3.11/site-packages (from python-dateutil>=2.7->matplotlib) (1.16.0)\n",
      "Looking in indexes: https://pypi.org/simple, https://pypi.ngc.nvidia.com\n",
      "Requirement already satisfied: seaborn in /opt/conda/lib/python3.11/site-packages (0.13.2)\n",
      "Requirement already satisfied: numpy!=1.24.0,>=1.20 in /opt/conda/lib/python3.11/site-packages (from seaborn) (1.26.4)\n",
      "Requirement already satisfied: pandas>=1.2 in /opt/conda/lib/python3.11/site-packages (from seaborn) (2.2.1)\n",
      "Requirement already satisfied: matplotlib!=3.6.1,>=3.4 in /opt/conda/lib/python3.11/site-packages (from seaborn) (3.8.4)\n",
      "Requirement already satisfied: contourpy>=1.0.1 in /opt/conda/lib/python3.11/site-packages (from matplotlib!=3.6.1,>=3.4->seaborn) (1.2.1)\n",
      "Requirement already satisfied: cycler>=0.10 in /opt/conda/lib/python3.11/site-packages (from matplotlib!=3.6.1,>=3.4->seaborn) (0.12.1)\n",
      "Requirement already satisfied: fonttools>=4.22.0 in /opt/conda/lib/python3.11/site-packages (from matplotlib!=3.6.1,>=3.4->seaborn) (4.51.0)\n",
      "Requirement already satisfied: kiwisolver>=1.3.1 in /opt/conda/lib/python3.11/site-packages (from matplotlib!=3.6.1,>=3.4->seaborn) (1.4.5)\n",
      "Requirement already satisfied: packaging>=20.0 in /opt/conda/lib/python3.11/site-packages (from matplotlib!=3.6.1,>=3.4->seaborn) (24.0)\n",
      "Requirement already satisfied: pillow>=8 in /opt/conda/lib/python3.11/site-packages (from matplotlib!=3.6.1,>=3.4->seaborn) (10.3.0)\n",
      "Requirement already satisfied: pyparsing>=2.3.1 in /opt/conda/lib/python3.11/site-packages (from matplotlib!=3.6.1,>=3.4->seaborn) (3.1.2)\n",
      "Requirement already satisfied: python-dateutil>=2.7 in /opt/conda/lib/python3.11/site-packages (from matplotlib!=3.6.1,>=3.4->seaborn) (2.9.0)\n",
      "Requirement already satisfied: pytz>=2020.1 in /opt/conda/lib/python3.11/site-packages (from pandas>=1.2->seaborn) (2024.1)\n",
      "Requirement already satisfied: tzdata>=2022.7 in /opt/conda/lib/python3.11/site-packages (from pandas>=1.2->seaborn) (2024.1)\n",
      "Requirement already satisfied: six>=1.5 in /opt/conda/lib/python3.11/site-packages (from python-dateutil>=2.7->matplotlib!=3.6.1,>=3.4->seaborn) (1.16.0)\n"
     ]
    }
   ],
   "source": [
    "!pip install pytorch-lightning\n",
    "!pip install colorlog\n",
    "!pip install bayesian-optimization\n",
    "!pip install pandas\n",
    "!pip install plotly\n",
    "!pip install matplotlib\n",
    "!pip install seaborn"
   ]
  },
  {
   "cell_type": "code",
   "metadata": {
    "collapsed": false,
    "jupyter": {
     "outputs_hidden": false
    },
    "ExecuteTime": {
     "end_time": "2024-05-31T20:44:51.746818Z",
     "start_time": "2024-05-31T20:44:43.617958Z"
    }
   },
   "source": [
    "# third-party libraries\n",
    "import pandas as pd\n",
    "import numpy as np\n",
    "import os\n",
    "import pytorch_lightning as pl\n",
    "from pytorch_lightning import Trainer\n",
    "from pytorch_lightning.callbacks import ModelCheckpoint\n",
    "from sklearn.preprocessing import MinMaxScaler, StandardScaler, RobustScaler\n",
    "from bayes_opt import BayesianOptimization\n",
    "\n",
    "import time\n",
    "\n",
    "import plotly.express as px\n",
    "import matplotlib.pyplot as plt\n",
    "import seaborn as sns"
   ],
   "outputs": [],
   "execution_count": 3
  },
  {
   "cell_type": "code",
   "metadata": {
    "collapsed": false,
    "jupyter": {
     "outputs_hidden": false
    },
    "ExecuteTime": {
     "end_time": "2024-05-31T20:44:54.031885Z",
     "start_time": "2024-05-31T20:44:51.746818Z"
    }
   },
   "source": [
    "# source code\n",
    "from src.data_loading import load_data, load_config\n",
    "from src.data_splitting import train_val_split_by_group\n",
    "from src.nn_utils import create_sliding_window, create_sliding_window_test\n",
    "from src.rolling_window_creator import calculate_RUL\n",
    "from src.data_processing import apply_padding_on_train_data_and_test_data, drop_samples_with_clipped_values\n",
    "from src.nn_util.nn_models.ligthning.cnnModel1 import CNNModel1 as CNNModel\n",
    "from src.nn_util.datamodule.lightning.turbofanDatamodule import TurbofanDatamodule\n",
    "from src.data_cleaning import clean_data"
   ],
   "outputs": [],
   "execution_count": 4
  },
  {
   "cell_type": "code",
   "metadata": {
    "collapsed": false,
    "jupyter": {
     "outputs_hidden": false
    },
    "ExecuteTime": {
     "end_time": "2024-05-31T20:44:54.548829Z",
     "start_time": "2024-05-31T20:44:54.034888Z"
    }
   },
   "source": [
    "# settings\n",
    "sns.set_style(\"whitegrid\")\n",
    "sns.set_palette(\"Set2\")\n",
    "sns.set(rc={\"figure.dpi\":100, 'savefig.dpi':200})\n",
    "sns.set_context('notebook')"
   ],
   "outputs": [],
   "execution_count": 5
  },
  {
   "cell_type": "code",
   "metadata": {
    "collapsed": false,
    "jupyter": {
     "outputs_hidden": false
    },
    "ExecuteTime": {
     "end_time": "2024-05-31T20:44:55.053012Z",
     "start_time": "2024-05-31T20:44:54.551832Z"
    }
   },
   "source": [
    "np.random.seed(42)"
   ],
   "outputs": [],
   "execution_count": 6
  },
  {
   "cell_type": "markdown",
   "metadata": {
    "collapsed": false,
    "jupyter": {
     "outputs_hidden": false
    }
   },
   "source": [
    "# Paths"
   ]
  },
  {
   "metadata": {
    "ExecuteTime": {
     "end_time": "2024-05-31T20:44:55.511941Z",
     "start_time": "2024-05-31T20:44:55.056016Z"
    }
   },
   "cell_type": "code",
   "source": [
    "# Make sure to execute this cell only once for one kernel session, before running any other cell below.\n",
    "os.chdir(\"../../\") # set working directory to root of project\n",
    "os.getcwd() # check current working directory"
   ],
   "outputs": [
    {
     "data": {
      "text/plain": [
       "'C:\\\\Users\\\\Johannes\\\\PycharmProjects\\\\damage-propagation-modeling'"
      ]
     },
     "execution_count": 7,
     "metadata": {},
     "output_type": "execute_result"
    }
   ],
   "execution_count": 7
  },
  {
   "cell_type": "code",
   "metadata": {
    "collapsed": false,
    "jupyter": {
     "outputs_hidden": false
    },
    "ExecuteTime": {
     "end_time": "2024-05-31T20:44:56.062385Z",
     "start_time": "2024-05-31T20:44:55.514941Z"
    }
   },
   "source": [
    "PATH_TO_CONFIG = \"configs/config.yaml\""
   ],
   "outputs": [],
   "execution_count": 8
  },
  {
   "cell_type": "markdown",
   "metadata": {
    "collapsed": false,
    "jupyter": {
     "outputs_hidden": false
    }
   },
   "source": [
    "# Load Config + Data"
   ]
  },
  {
   "cell_type": "code",
   "metadata": {
    "collapsed": false,
    "jupyter": {
     "outputs_hidden": false
    },
    "ExecuteTime": {
     "end_time": "2024-05-31T20:44:56.625811Z",
     "start_time": "2024-05-31T20:44:56.065585Z"
    }
   },
   "source": [
    "config = load_config(PATH_TO_CONFIG) # config is dict"
   ],
   "outputs": [],
   "execution_count": 9
  },
  {
   "cell_type": "code",
   "metadata": {
    "collapsed": false,
    "jupyter": {
     "outputs_hidden": false
    },
    "ExecuteTime": {
     "end_time": "2024-05-31T20:44:57.806328Z",
     "start_time": "2024-05-31T20:44:56.630813Z"
    }
   },
   "source": [
    "train_data, test_data, test_RUL_data = load_data(config_path=PATH_TO_CONFIG, dataset_num=1)"
   ],
   "outputs": [
    {
     "name": "stdout",
     "output_type": "stream",
     "text": [
      "2024-05-31 22:44:57 [\u001B[34msrc.data_loading:43\u001B[0m] [\u001B[32mINFO\u001B[0m] >>>> Loading data set 1...\u001B[0m\n",
      "2024-05-31 22:44:57 [\u001B[34msrc.data_loading:72\u001B[0m] [\u001B[32mINFO\u001B[0m] >>>> Loaded raw data for dataset 1.\u001B[0m\n",
      "2024-05-31 22:44:57 [\u001B[34msrc.data_loading:73\u001B[0m] [\u001B[32mINFO\u001B[0m] >>>> Train Data: (20631, 26)\u001B[0m\n",
      "2024-05-31 22:44:57 [\u001B[34msrc.data_loading:74\u001B[0m] [\u001B[32mINFO\u001B[0m] >>>> Test Data: (13096, 26)\u001B[0m\n",
      "2024-05-31 22:44:57 [\u001B[34msrc.data_loading:75\u001B[0m] [\u001B[32mINFO\u001B[0m] >>>> Test RUL Data: (100, 1)\u001B[0m\n"
     ]
    }
   ],
   "execution_count": 10
  },
  {
   "cell_type": "markdown",
   "metadata": {
    "collapsed": false,
    "jupyter": {
     "outputs_hidden": false
    }
   },
   "source": [
    "# 📍 << Subtask X: TOPIC >>"
   ]
  },
  {
   "cell_type": "markdown",
   "metadata": {
    "collapsed": false,
    "jupyter": {
     "outputs_hidden": false
    }
   },
   "source": [
    "[TEMPLATE]\n",
    "\n",
    "Findings:\n",
    "* Interpretation of plots\n",
    "* or other key take aways from previous code"
   ]
  },
  {
   "cell_type": "markdown",
   "metadata": {},
   "source": [
    "TODO: Write down explanation of pipeline!"
   ]
  },
  {
   "cell_type": "code",
   "metadata": {
    "ExecuteTime": {
     "end_time": "2024-05-31T20:44:58.357332Z",
     "start_time": "2024-05-31T20:44:57.809329Z"
    }
   },
   "source": [
    "# some hyperparameters\n",
    "time_column = 'Cycle'\n",
    "group_column = 'UnitNumber'\n",
    "\n",
    "window_size = 30\n",
    "clip_value = 125\n",
    "apply_data_cleaning = True\n",
    "\n",
    "# Apply scaler. The order in the list represents the order in which they are applied\n",
    "std_scaler = StandardScaler()\n",
    "minmax_scaler = MinMaxScaler()\n",
    "robust_scaler = RobustScaler()\n",
    "scaler = [std_scaler, minmax_scaler, robust_scaler]\n",
    "\n",
    "# The model_type can be 'CNN_2D' or 'CNN_1D' and defines what type of convolutional layers has been used.\n",
    "model_type = 'CNN_1D' \n",
    "\n",
    "# Setting the seed\n",
    "pl.seed_everything(21)"
   ],
   "outputs": [
    {
     "name": "stderr",
     "output_type": "stream",
     "text": [
      "Seed set to 21\n"
     ]
    },
    {
     "data": {
      "text/plain": [
       "21"
      ]
     },
     "execution_count": 11,
     "metadata": {},
     "output_type": "execute_result"
    }
   ],
   "execution_count": 11
  },
  {
   "cell_type": "code",
   "metadata": {
    "ExecuteTime": {
     "end_time": "2024-05-31T20:45:10.234810Z",
     "start_time": "2024-05-31T20:44:58.360335Z"
    }
   },
   "source": [
    "if apply_data_cleaning:\n",
    "    train_data, test_data = clean_data(train_data, test_data, method=None, ignore_columns=['UnitNumber', 'Cycle'], threshold_missing=0.1, threshold_corr=0.0, contamination=0.05)\n",
    "    \n",
    "# Add column RUL to train_data\n",
    "train_data = calculate_RUL(train_data, time_column, group_column, clip_value)\n",
    "\n",
    "train_data, test_data = apply_padding_on_train_data_and_test_data(train_data=train_data, test_data=test_data, window_size=window_size)\n",
    "\n",
    "X_test, _ = create_sliding_window_test(test_data, column_RUL=False, drop_columns=['UnitNumber'])\n",
    "y_test = test_RUL_data.values\n",
    "\n",
    "train, val = train_val_split_by_group(train_data, test_size=0.1, random_state=12)\n",
    "\n",
    "X_train, y_train = create_sliding_window(train, window_size=window_size)  #, drop_columns=['UnitNumber', 'Cycle, 'RUL'])\n",
    "X_val, y_val = create_sliding_window(val, window_size=window_size)  #, drop_columns=['UnitNumber', 'Cycle', 'RUL'])\n",
    "\n",
    "X_train, y_train = drop_samples_with_clipped_values(X_train, y_train, clip_value)\n",
    "X_val, y_val = drop_samples_with_clipped_values(X_val, y_val, clip_value)"
   ],
   "outputs": [
    {
     "name": "stdout",
     "output_type": "stream",
     "text": [
      "2024-05-31 22:44:58 [\u001B[34msrc.data_cleaning:134\u001B[0m] [\u001B[32mINFO\u001B[0m] >>>> Cleaning train and test data...\u001B[0m\n",
      "2024-05-31 22:44:58 [\u001B[34msrc.data_cleaning:136\u001B[0m] [\u001B[32mINFO\u001B[0m] >>>> Formatting column types...\u001B[0m\n",
      "2024-05-31 22:44:58 [\u001B[34msrc.data_cleaning:69\u001B[0m] [DEBUG\u001B[0m] >>>> Found 0 categorical columns: []\u001B[0m\n",
      "2024-05-31 22:44:58 [\u001B[34msrc.data_cleaning:69\u001B[0m] [DEBUG\u001B[0m] >>>> Found 0 categorical columns: []\u001B[0m\n",
      "2024-05-31 22:44:58 [\u001B[34msrc.data_cleaning:141\u001B[0m] [\u001B[32mINFO\u001B[0m] >>>> Handling duplicates...\u001B[0m\n",
      "2024-05-31 22:44:58 [\u001B[34msrc.data_cleaning:146\u001B[0m] [\u001B[32mINFO\u001B[0m] >>>> Removing outliers...\u001B[0m\n",
      "2024-05-31 22:44:58 [\u001B[34msrc.outlier_detection:150\u001B[0m] [DEBUG\u001B[0m] >>>> Removing outliers using method: None ...\u001B[0m\n",
      "2024-05-31 22:44:58 [\u001B[34msrc.outlier_detection:162\u001B[0m] [\u001B[32mINFO\u001B[0m] >>>> No outlier detection method specified. Skipping outlier detection.\u001B[0m\n",
      "2024-05-31 22:44:58 [\u001B[34msrc.outlier_detection:150\u001B[0m] [DEBUG\u001B[0m] >>>> Removing outliers using method: None ...\u001B[0m\n",
      "2024-05-31 22:44:58 [\u001B[34msrc.outlier_detection:162\u001B[0m] [\u001B[32mINFO\u001B[0m] >>>> No outlier detection method specified. Skipping outlier detection.\u001B[0m\n",
      "2024-05-31 22:44:58 [\u001B[34msrc.data_cleaning:150\u001B[0m] [\u001B[32mINFO\u001B[0m] >>>> Filter features based train data...\u001B[0m\n",
      "2024-05-31 22:44:58 [\u001B[34msrc.data_cleaning:26\u001B[0m] [DEBUG\u001B[0m] >>>> Found 0 features with missing values above the threshold of 0.1.\u001B[0m\n",
      "2024-05-31 22:44:58 [\u001B[34msrc.data_cleaning:46\u001B[0m] [DEBUG\u001B[0m] >>>> Found 7 features with only a single unique value: ['Operation Setting 3', 'Sensor Measure 1', 'Sensor Measure 5', 'Sensor Measure 10', 'Sensor Measure 16', 'Sensor Measure 18', 'Sensor Measure 19']\u001B[0m\n",
      "2024-05-31 22:44:59 [\u001B[34msrc.data_cleaning:103\u001B[0m] [DEBUG\u001B[0m] >>>> Found 0 uncorrelated features with a correlation threshold of 0.0: []\u001B[0m\n",
      "2024-05-31 22:44:59 [\u001B[34msrc.data_cleaning:162\u001B[0m] [\u001B[32mINFO\u001B[0m] >>>> Dropping features based on missing values, single unique values, and no target correlation...\u001B[0m\n",
      "2024-05-31 22:44:59 [\u001B[34msrc.data_cleaning:172\u001B[0m] [\u001B[32mINFO\u001B[0m] >>>> Data cleaning completed.\u001B[0m\n",
      "2024-05-31 22:44:59 [\u001B[34msrc.data_cleaning:173\u001B[0m] [\u001B[32mINFO\u001B[0m] >>>> Original train DataFrame shape: (20631, 19), Resulting train DataFrame shape: (20631, 19)\u001B[0m\n",
      "2024-05-31 22:44:59 [\u001B[34msrc.data_cleaning:174\u001B[0m] [\u001B[32mINFO\u001B[0m] >>>> Original test DataFrame shape: (13096, 19), Resulting test DataFrame shape: (13096, 19)\u001B[0m\n",
      "2024-05-31 22:44:59 [\u001B[34msrc.data_processing:38\u001B[0m] [\u001B[32mINFO\u001B[0m] >>>> The minimum number of cycles of a motor before the padding is 31.\u001B[0m\n",
      "2024-05-31 22:44:59 [\u001B[34msrc.data_processing:44\u001B[0m] [\u001B[32mINFO\u001B[0m] >>>> The padding value is 0.\u001B[0m\n",
      "2024-05-31 22:44:59 [\u001B[34msrc.data_processing:53\u001B[0m] [\u001B[32mINFO\u001B[0m] >>>> The minimum number of cycles of a motor with the padding is 31.\u001B[0m\n",
      "2024-05-31 22:44:59 [\u001B[34msrc.data_splitting:47\u001B[0m] [\u001B[32mINFO\u001B[0m] >>>> Train set contains 90 different engines --> in total 18575\u001B[0m\n",
      "2024-05-31 22:44:59 [\u001B[34msrc.data_splitting:48\u001B[0m] [\u001B[32mINFO\u001B[0m] >>>>  Test set contains 10 different engines --> in total 2056\u001B[0m\n",
      "2024-05-31 22:45:10 [\u001B[34msrc.data_processing:111\u001B[0m] [\u001B[32mINFO\u001B[0m] >>>> The median of the frequency of each RUL value in the data is 90.0.\u001B[0m\n",
      "2024-05-31 22:45:10 [\u001B[34msrc.data_processing:112\u001B[0m] [\u001B[32mINFO\u001B[0m] >>>> The the frequency of the clipped RUL value in the data is 4895.\u001B[0m\n",
      "2024-05-31 22:45:10 [\u001B[34msrc.data_processing:118\u001B[0m] [\u001B[32mINFO\u001B[0m] >>>> The the frequency of the clipped RUL value after dropping is 180.\u001B[0m\n",
      "2024-05-31 22:45:10 [\u001B[34msrc.data_processing:126\u001B[0m] [\u001B[32mINFO\u001B[0m] >>>> The number of samples in the data has dropped from 15965 to 11250.\u001B[0m\n",
      "2024-05-31 22:45:10 [\u001B[34msrc.data_processing:111\u001B[0m] [\u001B[32mINFO\u001B[0m] >>>> The median of the frequency of each RUL value in the data is 10.0.\u001B[0m\n",
      "2024-05-31 22:45:10 [\u001B[34msrc.data_processing:112\u001B[0m] [\u001B[32mINFO\u001B[0m] >>>> The the frequency of the clipped RUL value in the data is 526.\u001B[0m\n",
      "2024-05-31 22:45:10 [\u001B[34msrc.data_processing:118\u001B[0m] [\u001B[32mINFO\u001B[0m] >>>> The the frequency of the clipped RUL value after dropping is 20.\u001B[0m\n",
      "2024-05-31 22:45:10 [\u001B[34msrc.data_processing:126\u001B[0m] [\u001B[32mINFO\u001B[0m] >>>> The number of samples in the data has dropped from 1766 to 1260.\u001B[0m\n"
     ]
    }
   ],
   "execution_count": 12
  },
  {
   "cell_type": "markdown",
   "metadata": {},
   "source": [
    "Scale the data"
   ]
  },
  {
   "cell_type": "code",
   "execution_count": 13,
   "metadata": {
    "ExecuteTime": {
     "end_time": "2024-05-31T08:50:23.688451Z",
     "start_time": "2024-05-31T08:50:22.165585Z"
    }
   },
   "outputs": [],
   "source": [
    "X_train_shape = X_train.shape\n",
    "X_val_shape = X_val.shape\n",
    "X_test_shape = X_test.shape\n",
    "\n",
    "# Note: Do not normalize the cycle value! That is why we start with one\n",
    "for single_scaler in scaler:\n",
    "    for i in range(1, X_train.shape[-1]):\n",
    "        X_train[:, :, i] = single_scaler.fit_transform(X_train[:, :, i])\n",
    "        X_val[:, :, i] = single_scaler.transform(X_val[:, :, i])\n",
    "        X_test[:, :, i] = single_scaler.transform(X_test[:, :, i])"
   ]
  },
  {
   "cell_type": "markdown",
   "metadata": {},
   "source": [
    "Change data types of arrays to float32 and swap axes if necessary:"
   ]
  },
  {
   "cell_type": "code",
   "execution_count": 14,
   "metadata": {
    "ExecuteTime": {
     "end_time": "2024-05-30T15:35:13.166133Z",
     "start_time": "2024-05-30T15:35:12.746168Z"
    }
   },
   "outputs": [
    {
     "name": "stdout",
     "output_type": "stream",
     "text": [
      "(11250, 30, 18)\n",
      "(11250, 18, 30)\n",
      "(1260, 30, 18)\n",
      "(1260, 18, 30)\n",
      "(100, 30, 18)\n",
      "(100, 18, 30)\n"
     ]
    }
   ],
   "source": [
    "model_type = 'CNN_1D'\n",
    "\n",
    "print(X_train.shape)\n",
    "if model_type == 'CNN_1D':\n",
    "    X_train = np.swapaxes(X_train, 1, 2)\n",
    "elif model_type == 'CNN_2D':\n",
    "    X_train = np.swapaxes(X_train, 1, 2)\n",
    "    X_train = X_train[:, np.newaxis, :, :]\n",
    "X_train = np.array(X_train, dtype=np.float32)\n",
    "y_train = np.array(y_train, dtype=np.float32)\n",
    "print(X_train.shape)\n",
    "\n",
    "print(X_val.shape)\n",
    "if model_type == 'CNN_1D':\n",
    "    X_val = np.swapaxes(X_val, 1, 2)\n",
    "elif model_type == 'CNN_2D':\n",
    "    X_val = np.swapaxes(X_val, 1, 2)\n",
    "    X_val = X_val[:, np.newaxis, :, :]\n",
    "X_val = np.array(X_val, dtype=np.float32)\n",
    "y_val = np.array(y_val, dtype=np.float32)\n",
    "print(X_val.shape)\n",
    "\n",
    "print(X_test.shape)\n",
    "if model_type == 'CNN_1D':\n",
    "    X_test = np.swapaxes(X_test, 1, 2)\n",
    "elif model_type == 'CNN_2D':\n",
    "    X_test = np.swapaxes(X_test, 1, 2)\n",
    "    X_test = X_test[:, np.newaxis, :, :]\n",
    "X_test = np.array(X_test, dtype=np.float32)\n",
    "y_test = np.array(y_test, dtype=np.float32)\n",
    "print(X_test.shape)"
   ]
  },
  {
   "cell_type": "markdown",
   "metadata": {},
   "source": [
    "## Hyperparameter Search "
   ]
  },
  {
   "cell_type": "code",
   "metadata": {
    "scrolled": true
   },
   "source": [
    "from sklearn.metrics import root_mean_squared_error\n",
    "import torch \n",
    "# Setting the seed\n",
    "pl.seed_everything(21)\n",
    "\n",
    "def hyperparameter_function_cnn(learning_rate_init, batch_size, dropout, beta_1, beta_2):\n",
    "    \"\"\" Function for hyperparameter optimization\n",
    "    \"\"\"    \n",
    "    # Select hyperparameters of trainer!\n",
    "    checkpoint_callback = ModelCheckpoint(monitor=\"val_loss\")\n",
    "    trainer = Trainer(min_epochs=1, max_epochs=150, callbacks=[checkpoint_callback], deterministic=True)\n",
    "    datamodule = TurbofanDatamodule(batch_size=int(batch_size), random_state=15)\n",
    "    datamodule.set_train_dataset(X_train, y_train)\n",
    "    datamodule.set_val_dataset(X_val, y_val)\n",
    "    datamodule.set_predict_dataset(X_test)\n",
    "    datamodule.set_test_dataset(X_test, y_test)\n",
    "    model = CNNModel(lr=learning_rate_init, window_size=window_size, features=18, dropout_rate=dropout, beta_1=beta_1, beta_2=beta_2)\n",
    "    trainer.fit(model, datamodule=datamodule)\n",
    "    pred = trainer.validate(model, datamodule=datamodule, ckpt_path='best')\n",
    "    return - pred[0]['val_loss']\n",
    "    \n",
    "\n",
    "# Bounded region of parameter space\n",
    "pbounds = {'learning_rate_init': (0.00001, 0.1), 'batch_size': (10, 200), 'dropout': (0.01, 0.5), 'beta_1': (0.8, 0.999), 'beta_2': (0.9, 0.999999)}\n",
    "\n",
    "optimizer = BayesianOptimization(\n",
    "    f=hyperparameter_function_cnn,\n",
    "    pbounds=pbounds,\n",
    "    random_state=14,\n",
    ")\n",
    "optimizer.maximize(\n",
    "    init_points=20,\n",
    "    n_iter=30,\n",
    ")"
   ],
   "outputs": [],
   "execution_count": null
  },
  {
   "cell_type": "code",
   "execution_count": 16,
   "metadata": {},
   "outputs": [
    {
     "name": "stdout",
     "output_type": "stream",
     "text": [
      "Iteration 0: \n",
      "\t{'target': -380.0711669921875, 'params': {'batch_size': 107.64923531681114, 'beta_1': 0.9538598453637801, 'beta_2': 0.9870418981447955, 'dropout': 0.013943004779610777, 'learning_rate_init': 0.03098049519126536}}\n",
      "Iteration 1: \n",
      "\t{'target': -623.3966674804688, 'params': {'batch_size': 191.94471047951927, 'beta_1': 0.9021102257413096, 'beta_2': 0.931828124202785, 'dropout': 0.27420796933856756, 'learning_rate_init': 0.022133281693351714}}\n",
      "Iteration 2: \n",
      "\t{'target': -1321.9324951171875, 'params': {'batch_size': 163.2314580056113, 'beta_1': 0.8681086704973222, 'beta_2': 0.9538883460178654, 'dropout': 0.012878154920018581, 'learning_rate_init': 0.06731851629327074}}\n",
      "Iteration 3: \n",
      "\t{'target': -3635.07421875, 'params': {'batch_size': 49.90460981396025, 'beta_1': 0.9855789609828637, 'beta_2': 0.9374241007033998, 'dropout': 0.37868527182211376, 'learning_rate_init': 0.07631626879453375}}\n",
      "Iteration 4: \n",
      "\t{'target': -1321.942626953125, 'params': {'batch_size': 175.39489650163253, 'beta_1': 0.8219121244730637, 'beta_2': 0.9300088979473979, 'dropout': 0.24270382531572957, 'learning_rate_init': 0.06729694254946691}}\n",
      "Iteration 5: \n",
      "\t{'target': -950.8353881835938, 'params': {'batch_size': 58.94256225491737, 'beta_1': 0.939529112625173, 'beta_2': 0.9656993489373669, 'dropout': 0.09918380127882818, 'learning_rate_init': 0.03221307865298179}}\n",
      "Iteration 6: \n",
      "\t{'target': -1321.946533203125, 'params': {'batch_size': 178.63211681495739, 'beta_1': 0.8165864830489016, 'beta_2': 0.9746556654499207, 'dropout': 0.040551524001903434, 'learning_rate_init': 0.07315079784600712}}\n",
      "Iteration 7: \n",
      "\t{'target': -710.9136962890625, 'params': {'batch_size': 151.07715744877333, 'beta_1': 0.8811752468768806, 'beta_2': 0.9991373085068492, 'dropout': 0.231547276391612, 'learning_rate_init': 0.018995955527360876}}\n",
      "Iteration 8: \n",
      "\t{'target': -1321.932861328125, 'params': {'batch_size': 76.8090296988827, 'beta_1': 0.9422475216186267, 'beta_2': 0.9357431788898133, 'dropout': 0.03529309145758723, 'learning_rate_init': 0.03159874124515306}}\n",
      "Iteration 9: \n",
      "\t{'target': -1321.9364013671875, 'params': {'batch_size': 199.77287619734636, 'beta_1': 0.8572930664668456, 'beta_2': 0.9461791253457091, 'dropout': 0.3702813743821469, 'learning_rate_init': 0.09436845828502852}}\n",
      "Iteration 10: \n",
      "\t{'target': -1321.9329833984375, 'params': {'batch_size': 43.32650210645331, 'beta_1': 0.8422718538047104, 'beta_2': 0.9132476288174433, 'dropout': 0.112253784201265, 'learning_rate_init': 0.0995688375749075}}\n",
      "Iteration 11: \n",
      "\t{'target': -1321.9324951171875, 'params': {'batch_size': 56.862708064289414, 'beta_1': 0.8219005785635657, 'beta_2': 0.9502315215062622, 'dropout': 0.23349968945944774, 'learning_rate_init': 0.07345167799229872}}\n",
      "Iteration 12: \n",
      "\t{'target': -566.0753784179688, 'params': {'batch_size': 127.9792728512369, 'beta_1': 0.923592975111074, 'beta_2': 0.9150171132469691, 'dropout': 0.27375452753265683, 'learning_rate_init': 0.012043520878734962}}\n",
      "Iteration 13: \n",
      "\t{'target': -505.2936096191406, 'params': {'batch_size': 39.0748491840653, 'beta_1': 0.8895855328059911, 'beta_2': 0.9429068056483236, 'dropout': 0.36949441961073487, 'learning_rate_init': 0.007366419290650092}}\n",
      "Iteration 14: \n",
      "\t{'target': -1321.9322509765625, 'params': {'batch_size': 62.96930765495891, 'beta_1': 0.8328934611416204, 'beta_2': 0.9508083057579204, 'dropout': 0.293833064764942, 'learning_rate_init': 0.06386440674346731}}\n",
      "Iteration 15: \n",
      "\t{'target': -780.228515625, 'params': {'batch_size': 50.66488382450915, 'beta_1': 0.8830979520361631, 'beta_2': 0.9466809512457492, 'dropout': 0.05070391565243765, 'learning_rate_init': 0.05703158807604388}}\n",
      "Iteration 16: \n",
      "\t{'target': -1321.9327392578125, 'params': {'batch_size': 53.41833690630608, 'beta_1': 0.8071102142365116, 'beta_2': 0.9964519632927225, 'dropout': 0.046583373813312894, 'learning_rate_init': 0.07305071928293734}}\n",
      "Iteration 17: \n",
      "\t{'target': -1321.9459228515625, 'params': {'batch_size': 105.49968548601811, 'beta_1': 0.8184295561224192, 'beta_2': 0.9523944114865796, 'dropout': 0.2227668011249469, 'learning_rate_init': 0.05480616050637969}}\n",
      "Iteration 18: \n",
      "\t{'target': -3008.11279296875, 'params': {'batch_size': 187.6513239771596, 'beta_1': 0.99801501028843, 'beta_2': 0.9662311450599859, 'dropout': 0.1835238333172812, 'learning_rate_init': 0.043921309833093336}}\n",
      "Iteration 19: \n",
      "\t{'target': -1321.936279296875, 'params': {'batch_size': 157.34801654120002, 'beta_1': 0.9251094331416186, 'beta_2': 0.9097989941236432, 'dropout': 0.32927716943566326, 'learning_rate_init': 0.09686191467505177}}\n",
      "Iteration 20: \n",
      "\t{'target': -1321.932373046875, 'params': {'batch_size': 68.18737541850123, 'beta_1': 0.8767209656296726, 'beta_2': 0.9624102250182882, 'dropout': 0.4935025430186811, 'learning_rate_init': 0.0923824723458757}}\n",
      "Iteration 21: \n",
      "\t{'target': -1321.933349609375, 'params': {'batch_size': 48.20764480375873, 'beta_1': 0.8496187408602455, 'beta_2': 0.963727020970999, 'dropout': 0.4946433421231926, 'learning_rate_init': 0.05124566616090784}}\n",
      "Iteration 22: \n",
      "\t{'target': -1321.984130859375, 'params': {'batch_size': 130.653910699682, 'beta_1': 0.9387713367249595, 'beta_2': 0.9138151560189642, 'dropout': 0.45486946885779955, 'learning_rate_init': 0.0237013927755233}}\n",
      "Iteration 23: \n",
      "\t{'target': -1321.935302734375, 'params': {'batch_size': 148.9457248889632, 'beta_1': 0.9657220868403715, 'beta_2': 0.9527867171431499, 'dropout': 0.38383052675359686, 'learning_rate_init': 0.05686047521773553}}\n",
      "Iteration 24: \n",
      "\t{'target': -1321.9326171875, 'params': {'batch_size': 119.98758476867656, 'beta_1': 0.9314375402496033, 'beta_2': 0.9057516110952688, 'dropout': 0.019666025143691566, 'learning_rate_init': 0.08096079192208551}}\n",
      "Iteration 25: \n",
      "\t{'target': -1321.944091796875, 'params': {'batch_size': 157.56504677543563, 'beta_1': 0.9709015544081966, 'beta_2': 0.9260359017696026, 'dropout': 0.2695502946943634, 'learning_rate_init': 0.06800655269536651}}\n",
      "Iteration 26: \n",
      "\t{'target': -1321.9324951171875, 'params': {'batch_size': 107.84517691027943, 'beta_1': 0.9812119185883652, 'beta_2': 0.9962684800700113, 'dropout': 0.2574083403810965, 'learning_rate_init': 0.058922500223087024}}\n",
      "Iteration 27: \n",
      "\t{'target': -1321.973876953125, 'params': {'batch_size': 107.44630739221512, 'beta_1': 0.908217068387055, 'beta_2': 0.9669681024586151, 'dropout': 0.1407930410736462, 'learning_rate_init': 0.05506706090868042}}\n",
      "Iteration 28: \n",
      "\t{'target': -1321.9327392578125, 'params': {'batch_size': 95.44936487270864, 'beta_1': 0.8798705378173048, 'beta_2': 0.923062976910543, 'dropout': 0.18154231930385162, 'learning_rate_init': 0.0608187855541309}}\n",
      "Iteration 29: \n",
      "\t{'target': -1321.9324951171875, 'params': {'batch_size': 47.35002249074081, 'beta_1': 0.8350412486921852, 'beta_2': 0.9778055819387392, 'dropout': 0.27105968382167617, 'learning_rate_init': 0.08250004251065972}}\n",
      "Iteration 30: \n",
      "\t{'target': -4813.94189453125, 'params': {'batch_size': 133.2197929195286, 'beta_1': 0.992312891172471, 'beta_2': 0.922990592765469, 'dropout': 0.27809884218764686, 'learning_rate_init': 0.01719378612290091}}\n",
      "Iteration 31: \n",
      "\t{'target': -1321.9324951171875, 'params': {'batch_size': 39.27922941165682, 'beta_1': 0.9605354517984116, 'beta_2': 0.9563053575744797, 'dropout': 0.130596817531461, 'learning_rate_init': 0.025242458640215876}}\n",
      "Iteration 32: \n",
      "\t{'target': -388.8275451660156, 'params': {'batch_size': 39.080953225229784, 'beta_1': 0.8977959224520511, 'beta_2': 0.9010728278918141, 'dropout': 0.3270620437930545, 'learning_rate_init': 0.007238704901270764}}\n",
      "Iteration 33: \n",
      "\t{'target': -1321.9334716796875, 'params': {'batch_size': 38.75457288434727, 'beta_1': 0.9249295939574874, 'beta_2': 0.9227460422855407, 'dropout': 0.23204843472530598, 'learning_rate_init': 0.011213513234745863}}\n",
      "Iteration 34: \n",
      "\t{'target': -1321.9324951171875, 'params': {'batch_size': 127.64782553620313, 'beta_1': 0.9143887961695188, 'beta_2': 0.9580802576955588, 'dropout': 0.37880567059275844, 'learning_rate_init': 0.0886176536651549}}\n",
      "Iteration 35: \n",
      "\t{'target': -1321.9326171875, 'params': {'batch_size': 82.52456858479508, 'beta_1': 0.9369860670358221, 'beta_2': 0.9667625256581357, 'dropout': 0.20063279318455576, 'learning_rate_init': 0.08025112693463969}}\n",
      "Iteration 36: \n",
      "\t{'target': -500.0813903808594, 'params': {'batch_size': 128.28355204855592, 'beta_1': 0.9330213129876517, 'beta_2': 0.9973721646533658, 'dropout': 0.11644491908277753, 'learning_rate_init': 0.032108711951972624}}\n",
      "Iteration 37: \n",
      "\t{'target': -1321.9324951171875, 'params': {'batch_size': 128.26182275006107, 'beta_1': 0.8418446860343592, 'beta_2': 0.972436464648544, 'dropout': 0.4939019747511411, 'learning_rate_init': 0.09707039031343226}}\n",
      "Iteration 38: \n",
      "\t{'target': -1321.9337158203125, 'params': {'batch_size': 192.07773064450396, 'beta_1': 0.8369035272899317, 'beta_2': 0.9787181959456421, 'dropout': 0.1731867756793726, 'learning_rate_init': 0.026826775983611197}}\n",
      "Iteration 39: \n",
      "\t{'target': -1321.9329833984375, 'params': {'batch_size': 191.681195344732, 'beta_1': 0.9755954800150749, 'beta_2': 0.9746635395107746, 'dropout': 0.4073429182489793, 'learning_rate_init': 0.09992806209869007}}\n",
      "Iteration 40: \n",
      "\t{'target': -1321.9324951171875, 'params': {'batch_size': 128.14751372694113, 'beta_1': 0.8431139324399781, 'beta_2': 0.9290105390547445, 'dropout': 0.010391728935486443, 'learning_rate_init': 0.06719153366896058}}\n",
      "Iteration 41: \n",
      "\t{'target': -1338.606201171875, 'params': {'batch_size': 128.6226420717546, 'beta_1': 0.9985755743817528, 'beta_2': 0.9781430897320832, 'dropout': 0.1225293664265411, 'learning_rate_init': 0.021076370576663967}}\n",
      "Iteration 42: \n",
      "\t{'target': -1321.9334716796875, 'params': {'batch_size': 151.3426553198963, 'beta_1': 0.912653756181098, 'beta_2': 0.9991487738490746, 'dropout': 0.08198397705110803, 'learning_rate_init': 0.09943793849402197}}\n",
      "Iteration 43: \n",
      "\t{'target': -5516.20556640625, 'params': {'batch_size': 150.79193083447853, 'beta_1': 0.9794251898371802, 'beta_2': 0.9324760221078277, 'dropout': 0.2414283464804445, 'learning_rate_init': 0.06406174206600554}}\n",
      "Iteration 44: \n",
      "\t{'target': -1321.9324951171875, 'params': {'batch_size': 19.897816847899854, 'beta_1': 0.929535141746112, 'beta_2': 0.9344517928708234, 'dropout': 0.08028489318087524, 'learning_rate_init': 0.09858844291808239}}\n",
      "Iteration 45: \n",
      "\t{'target': -6210.17919921875, 'params': {'batch_size': 180.1796597628395, 'beta_1': 0.9862024610239402, 'beta_2': 0.9408391808865801, 'dropout': 0.01340284003738197, 'learning_rate_init': 0.08675971865714935}}\n",
      "Iteration 46: \n",
      "\t{'target': -1321.932861328125, 'params': {'batch_size': 26.847769084549956, 'beta_1': 0.8889883782226813, 'beta_2': 0.9055603649473619, 'dropout': 0.4657882784081238, 'learning_rate_init': 0.034093250547465405}}\n",
      "Iteration 47: \n",
      "\t{'target': -1321.934326171875, 'params': {'batch_size': 75.32532977269969, 'beta_1': 0.984019199163482, 'beta_2': 0.9689345625460206, 'dropout': 0.17444593620480378, 'learning_rate_init': 0.09129610854640687}}\n",
      "Iteration 48: \n",
      "\t{'target': -1322.01416015625, 'params': {'batch_size': 151.3046882076411, 'beta_1': 0.8401095166733453, 'beta_2': 0.9674967883234299, 'dropout': 0.38364445739967923, 'learning_rate_init': 0.040014624705791604}}\n",
      "Iteration 49: \n",
      "\t{'target': -1751.7220458984375, 'params': {'batch_size': 128.30133114387593, 'beta_1': 0.9725632206693988, 'beta_2': 0.9060189015838157, 'dropout': 0.2995178716325579, 'learning_rate_init': 0.018770169434082856}}\n"
     ]
    }
   ],
   "source": [
    "for i, res in enumerate(optimizer.res):\n",
    "    print(\"Iteration {}: \\n\\t{}\".format(i, res))"
   ]
  },
  {
   "cell_type": "code",
   "execution_count": 17,
   "metadata": {},
   "outputs": [],
   "source": [
    "threshold = 500\n",
    "under_threshold_indices = np.arange(len(optimizer.res))[np.array([- optimizer.res[i][\"target\"] for i in range(len(optimizer.res))]) < threshold]\n",
    "under_threshold = [optimizer.res[i] for i in under_threshold_indices]"
   ]
  },
  {
   "cell_type": "code",
   "execution_count": 18,
   "metadata": {},
   "outputs": [
    {
     "data": {
      "text/plain": [
       "[{'target': -380.0711669921875,\n",
       "  'params': {'batch_size': 107.64923531681114,\n",
       "   'beta_1': 0.9538598453637801,\n",
       "   'beta_2': 0.9870418981447955,\n",
       "   'dropout': 0.013943004779610777,\n",
       "   'learning_rate_init': 0.03098049519126536}},\n",
       " {'target': -388.8275451660156,\n",
       "  'params': {'batch_size': 39.080953225229784,\n",
       "   'beta_1': 0.8977959224520511,\n",
       "   'beta_2': 0.9010728278918141,\n",
       "   'dropout': 0.3270620437930545,\n",
       "   'learning_rate_init': 0.007238704901270764}}]"
      ]
     },
     "execution_count": 18,
     "metadata": {},
     "output_type": "execute_result"
    }
   ],
   "source": [
    "under_threshold"
   ]
  },
  {
   "cell_type": "code",
   "execution_count": 19,
   "metadata": {},
   "outputs": [
    {
     "name": "stdout",
     "output_type": "stream",
     "text": [
      "{'target': -380.0711669921875, 'params': {'batch_size': 107.64923531681114, 'beta_1': 0.9538598453637801, 'beta_2': 0.9870418981447955, 'dropout': 0.013943004779610777, 'learning_rate_init': 0.03098049519126536}}\n"
     ]
    }
   ],
   "source": [
    "max_params = optimizer.max['params']\n",
    "print(optimizer.max)"
   ]
  },
  {
   "cell_type": "code",
   "metadata": {
    "scrolled": true
   },
   "source": [
    "def hyperparameter_function_cnn(learning_rate_init, batch_size, dropout, beta_1, beta_2):\n",
    "    \"\"\" Function for hyperparameter optimization\n",
    "    \"\"\"    \n",
    "    # Select hyperparameters of trainer!\n",
    "    checkpoint_callback = ModelCheckpoint(monitor=\"val_loss\")\n",
    "    trainer = Trainer(min_epochs=1, max_epochs=150, callbacks=[checkpoint_callback], deterministic=True)\n",
    "    datamodule = TurbofanDatamodule(batch_size=int(batch_size), random_state=15)\n",
    "    datamodule.set_train_dataset(X_train, y_train)\n",
    "    datamodule.set_val_dataset(X_val, y_val)\n",
    "    datamodule.set_predict_dataset(X_test)\n",
    "    datamodule.set_test_dataset(X_test, y_test)\n",
    "    model = CNNModel(lr=learning_rate_init, window_size=window_size, features=18, dropout_rate=dropout, beta_1=beta_1, beta_2=beta_2)\n",
    "    trainer.fit(model, datamodule=datamodule)\n",
    "    pred = trainer.validate(model, datamodule=datamodule, ckpt_path='best')\n",
    "    return - pred[0]['val_loss']\n",
    "    \n",
    "\n",
    "# Bounded region of parameter space\n",
    "pbounds = {'learning_rate_init': (0.01, 0.1), 'batch_size': (100, 115), 'dropout': (0.005, 0.1), 'beta_1': (0.9, 0.99), 'beta_2': (0.95, 0.99)}\n",
    "\n",
    "optimizer = BayesianOptimization(\n",
    "    f=hyperparameter_function_cnn,\n",
    "    pbounds=pbounds,\n",
    "    random_state=17,\n",
    "    allow_duplicate_points=True,\n",
    ")\n",
    "optimizer.maximize(\n",
    "    init_points=20,\n",
    "    n_iter=30,\n",
    ")"
   ],
   "outputs": [],
   "execution_count": null
  },
  {
   "cell_type": "code",
   "execution_count": 17,
   "metadata": {},
   "outputs": [
    {
     "name": "stdout",
     "output_type": "stream",
     "text": [
      "Iteration 0: \n",
      "\t{'target': -1321.940185546875, 'params': {'batch_size': 104.41997504030664, 'beta_1': 0.9477528080044765, 'beta_2': 0.9576608314778997, 'dropout': 0.01145053402817268, 'learning_rate_init': 0.0808286913999922}}\n",
      "Iteration 1: \n",
      "\t{'target': -545.5281982421875, 'params': {'batch_size': 109.84500282663782, 'beta_1': 0.9573768806439272, 'beta_2': 0.9730241157501214, 'dropout': 0.008710977037942316, 'learning_rate_init': 0.04220322440351941}}\n",
      "Iteration 2: \n",
      "\t{'target': -208.14474487304688, 'params': {'batch_size': 114.18524780227611, 'beta_1': 0.9054040212283847, 'beta_2': 0.9845616841418484, 'dropout': 0.08834259998406288, 'learning_rate_init': 0.014607429905840833}}\n",
      "Iteration 3: \n",
      "\t{'target': -398.7694091796875, 'params': {'batch_size': 109.78627923198482, 'beta_1': 0.9496576231771388, 'beta_2': 0.973900530129562, 'dropout': 0.0509352193094502, 'learning_rate_init': 0.03546893447712921}}\n",
      "Iteration 4: \n",
      "\t{'target': -1321.97802734375, 'params': {'batch_size': 104.46588577452657, 'beta_1': 0.9505358014793726, 'beta_2': 0.965841897441881, 'dropout': 0.07992656741949547, 'learning_rate_init': 0.047663594681128935}}\n",
      "Iteration 5: \n",
      "\t{'target': -1321.9324951171875, 'params': {'batch_size': 102.15855881162992, 'beta_1': 0.9135816024978609, 'beta_2': 0.9522096540086329, 'dropout': 0.07321353340184635, 'learning_rate_init': 0.036308561905372475}}\n",
      "Iteration 6: \n",
      "\t{'target': -1321.9326171875, 'params': {'batch_size': 102.98160808300514, 'beta_1': 0.9748227530079469, 'beta_2': 0.9727196447889852, 'dropout': 0.012822276175185672, 'learning_rate_init': 0.059049871653764845}}\n",
      "Iteration 7: \n",
      "\t{'target': -1321.94091796875, 'params': {'batch_size': 102.38438116850914, 'beta_1': 0.9609086147132664, 'beta_2': 0.954738890595163, 'dropout': 0.04727462628140654, 'learning_rate_init': 0.08991841907414791}}\n",
      "Iteration 8: \n",
      "\t{'target': -1321.9326171875, 'params': {'batch_size': 111.95901594992965, 'beta_1': 0.9061180855437264, 'beta_2': 0.9884315102586712, 'dropout': 0.06762451227572207, 'learning_rate_init': 0.07468984749019912}}\n",
      "Iteration 9: \n",
      "\t{'target': -1321.9388427734375, 'params': {'batch_size': 111.15365147701145, 'beta_1': 0.9798962716697073, 'beta_2': 0.9553578267030317, 'dropout': 0.07881258515753013, 'learning_rate_init': 0.08541923609757926}}\n",
      "Iteration 10: \n",
      "\t{'target': -1321.9332275390625, 'params': {'batch_size': 112.43957145862642, 'beta_1': 0.9026241296867829, 'beta_2': 0.9656149796510634, 'dropout': 0.04653893925596388, 'learning_rate_init': 0.05685715571601987}}\n",
      "Iteration 11: \n",
      "\t{'target': -1321.9324951171875, 'params': {'batch_size': 107.39309011248527, 'beta_1': 0.9117386353987758, 'beta_2': 0.9893753412397789, 'dropout': 0.011241720582218107, 'learning_rate_init': 0.062135566996966304}}\n",
      "Iteration 12: \n",
      "\t{'target': -5567.80078125, 'params': {'batch_size': 108.71162237630092, 'beta_1': 0.9858904079001232, 'beta_2': 0.957897751100547, 'dropout': 0.01291591305988848, 'learning_rate_init': 0.08954777959599135}}\n",
      "Iteration 13: \n",
      "\t{'target': -1321.9324951171875, 'params': {'batch_size': 100.23544289426415, 'beta_1': 0.9716035182618172, 'beta_2': 0.9807276175771324, 'dropout': 0.0878441596655512, 'learning_rate_init': 0.09244990777505997}}\n",
      "Iteration 14: \n",
      "\t{'target': -287.2508239746094, 'params': {'batch_size': 104.10719789376677, 'beta_1': 0.921274301374434, 'beta_2': 0.9624207937458155, 'dropout': 0.07298610959725503, 'learning_rate_init': 0.017446194032806304}}\n",
      "Iteration 15: \n",
      "\t{'target': -1321.9329833984375, 'params': {'batch_size': 110.13229664506639, 'beta_1': 0.9772672201989774, 'beta_2': 0.9777158753646602, 'dropout': 0.07958295067007332, 'learning_rate_init': 0.04179531266025576}}\n",
      "Iteration 16: \n",
      "\t{'target': -1321.9329833984375, 'params': {'batch_size': 103.30288103565606, 'beta_1': 0.9220835151413775, 'beta_2': 0.9790965006229693, 'dropout': 0.01109213842570985, 'learning_rate_init': 0.050836371574798624}}\n",
      "Iteration 17: \n",
      "\t{'target': -1321.93359375, 'params': {'batch_size': 107.31515994202823, 'beta_1': 0.9576787346500045, 'beta_2': 0.9542467540945335, 'dropout': 0.059492944091098565, 'learning_rate_init': 0.096431121462164}}\n",
      "Iteration 18: \n",
      "\t{'target': -833.483642578125, 'params': {'batch_size': 107.73520870296309, 'beta_1': 0.9512842541305362, 'beta_2': 0.9895202664628571, 'dropout': 0.08412273883156096, 'learning_rate_init': 0.054832931389359664}}\n",
      "Iteration 19: \n",
      "\t{'target': -1321.932373046875, 'params': {'batch_size': 101.20227006796046, 'beta_1': 0.9783942294658466, 'beta_2': 0.978523456359497, 'dropout': 0.07455064413579024, 'learning_rate_init': 0.08412579883180138}}\n",
      "Iteration 20: \n",
      "\t{'target': -159.756591796875, 'params': {'batch_size': 104.11587650425484, 'beta_1': 0.9119246839760772, 'beta_2': 0.9610651608417315, 'dropout': 0.052730945624881044, 'learning_rate_init': 0.014936946074819988}}\n",
      "Iteration 21: \n",
      "\t{'target': -171.6083526611328, 'params': {'batch_size': 114.65947309612879, 'beta_1': 0.9026386508240088, 'beta_2': 0.9884924884736225, 'dropout': 0.09640110938754486, 'learning_rate_init': 0.01}}\n",
      "Iteration 22: \n",
      "\t{'target': -1321.9324951171875, 'params': {'batch_size': 114.02367453852989, 'beta_1': 0.9705829128042498, 'beta_2': 0.9815748281328865, 'dropout': 0.0733333582672995, 'learning_rate_init': 0.069100904237037}}\n",
      "Iteration 23: \n",
      "\t{'target': -2109.54345703125, 'params': {'batch_size': 114.38956443431937, 'beta_1': 0.9862451488076193, 'beta_2': 0.9642269834256233, 'dropout': 0.011012197429450196, 'learning_rate_init': 0.09055635890919857}}\n",
      "Iteration 24: \n",
      "\t{'target': -166.67971801757812, 'params': {'batch_size': 114.90308043489712, 'beta_1': 0.9, 'beta_2': 0.99, 'dropout': 0.1, 'learning_rate_init': 0.01}}\n",
      "Iteration 25: \n",
      "\t{'target': -1321.9327392578125, 'params': {'batch_size': 103.82271313571842, 'beta_1': 0.9094401944982297, 'beta_2': 0.9546935530699182, 'dropout': 0.005979711122501248, 'learning_rate_init': 0.0943450606635863}}\n",
      "Iteration 26: \n",
      "\t{'target': -1321.932861328125, 'params': {'batch_size': 109.50388223093424, 'beta_1': 0.9773418029616014, 'beta_2': 0.9664911293053134, 'dropout': 0.011729119444058548, 'learning_rate_init': 0.09540765463072036}}\n",
      "Iteration 27: \n",
      "\t{'target': -374.5850830078125, 'params': {'batch_size': 104.11045468266447, 'beta_1': 0.9030804765383255, 'beta_2': 0.9607147356878234, 'dropout': 0.0711287547989292, 'learning_rate_init': 0.014781621827490977}}\n",
      "Iteration 28: \n",
      "\t{'target': -1321.9345703125, 'params': {'batch_size': 108.62981779786573, 'beta_1': 0.9749961297183678, 'beta_2': 0.9532342258608173, 'dropout': 0.05889174584930653, 'learning_rate_init': 0.054378956087651}}\n",
      "Iteration 29: \n",
      "\t{'target': -177.40127563476562, 'params': {'batch_size': 114.81644271583559, 'beta_1': 0.9009367800260817, 'beta_2': 0.9894642880082647, 'dropout': 0.09872169611957977, 'learning_rate_init': 0.01}}\n",
      "Iteration 30: \n",
      "\t{'target': -1321.9609375, 'params': {'batch_size': 111.65460046212912, 'beta_1': 0.9424793129731927, 'beta_2': 0.9692576761581062, 'dropout': 0.09390636200068134, 'learning_rate_init': 0.06661466723389609}}\n",
      "Iteration 31: \n",
      "\t{'target': -231.04949951171875, 'params': {'batch_size': 114.73339369380565, 'beta_1': 0.9508149599491471, 'beta_2': 0.99, 'dropout': 0.1, 'learning_rate_init': 0.01}}\n",
      "Iteration 32: \n",
      "\t{'target': -158.19349670410156, 'params': {'batch_size': 114.73156805354867, 'beta_1': 0.9, 'beta_2': 0.9599201143943352, 'dropout': 0.030172709400534896, 'learning_rate_init': 0.01}}\n",
      "Iteration 33: \n",
      "\t{'target': -149.1744842529297, 'params': {'batch_size': 108.58303556956479, 'beta_1': 0.9528741620672433, 'beta_2': 0.9862703873676469, 'dropout': 0.056748836949525705, 'learning_rate_init': 0.0112286551298623}}\n",
      "Iteration 34: \n",
      "\t{'target': -136.14785766601562, 'params': {'batch_size': 114.84809532072403, 'beta_1': 0.9586517323123119, 'beta_2': 0.9558431375026947, 'dropout': 0.021025382021542985, 'learning_rate_init': 0.01}}\n",
      "Iteration 35: \n",
      "\t{'target': -1321.9324951171875, 'params': {'batch_size': 114.82320945901952, 'beta_1': 0.9084958544266059, 'beta_2': 0.99, 'dropout': 0.03450845770304992, 'learning_rate_init': 0.1}}\n",
      "Iteration 36: \n",
      "\t{'target': -765.0653686523438, 'params': {'batch_size': 114.87581571841858, 'beta_1': 0.99, 'beta_2': 0.95, 'dropout': 0.1, 'learning_rate_init': 0.01}}\n",
      "Iteration 37: \n",
      "\t{'target': -1321.9998779296875, 'params': {'batch_size': 108.48126182167286, 'beta_1': 0.9555279511953672, 'beta_2': 0.962874556382797, 'dropout': 0.08282211842886554, 'learning_rate_init': 0.0279033537305688}}\n",
      "Iteration 38: \n",
      "\t{'target': -1321.93408203125, 'params': {'batch_size': 108.47027541557846, 'beta_1': 0.9867765189166716, 'beta_2': 0.9886295337116932, 'dropout': 0.07755285776454766, 'learning_rate_init': 0.09678169767549794}}\n",
      "Iteration 39: \n",
      "\t{'target': -228.16873168945312, 'params': {'batch_size': 114.6652924481292, 'beta_1': 0.9797942432827215, 'beta_2': 0.95, 'dropout': 0.028932020798033954, 'learning_rate_init': 0.01}}\n",
      "Iteration 40: \n",
      "\t{'target': -1321.9324951171875, 'params': {'batch_size': 111.08851616315746, 'beta_1': 0.9284501871958212, 'beta_2': 0.9815987345062374, 'dropout': 0.029784977857423768, 'learning_rate_init': 0.06785633901891487}}\n",
      "Iteration 41: \n",
      "\t{'target': -390.2870788574219, 'params': {'batch_size': 114.22833672321403, 'beta_1': 0.952884409677686, 'beta_2': 0.9844047231018811, 'dropout': 0.09826131802753861, 'learning_rate_init': 0.01940848479338708}}\n",
      "Iteration 42: \n",
      "\t{'target': -1321.9326171875, 'params': {'batch_size': 104.18689313750303, 'beta_1': 0.984921059033588, 'beta_2': 0.9641066759484411, 'dropout': 0.022019878722495313, 'learning_rate_init': 0.031122613040309124}}\n",
      "Iteration 43: \n",
      "\t{'target': -148.25955200195312, 'params': {'batch_size': 114.9350392229255, 'beta_1': 0.9, 'beta_2': 0.95, 'dropout': 0.005, 'learning_rate_init': 0.01}}\n",
      "Iteration 44: \n",
      "\t{'target': -652.656982421875, 'params': {'batch_size': 104.05887957628134, 'beta_1': 0.9260254386639507, 'beta_2': 0.9875250749852202, 'dropout': 0.007263984313147391, 'learning_rate_init': 0.049610506267929656}}\n",
      "Iteration 45: \n",
      "\t{'target': -514.7868041992188, 'params': {'batch_size': 105.15289621152307, 'beta_1': 0.9511321230376667, 'beta_2': 0.9680456851053519, 'dropout': 0.09937994468252238, 'learning_rate_init': 0.04044781610377655}}\n",
      "Iteration 46: \n",
      "\t{'target': -202.99290466308594, 'params': {'batch_size': 115.0, 'beta_1': 0.9, 'beta_2': 0.95, 'dropout': 0.08796740161093751, 'learning_rate_init': 0.01}}\n",
      "Iteration 47: \n",
      "\t{'target': -419.4583435058594, 'params': {'batch_size': 101.9913880551069, 'beta_1': 0.9439848214673604, 'beta_2': 0.981016628737828, 'dropout': 0.017980255254174866, 'learning_rate_init': 0.03187089661564653}}\n",
      "Iteration 48: \n",
      "\t{'target': -151.94140625, 'params': {'batch_size': 114.98833082683562, 'beta_1': 0.9807024020413586, 'beta_2': 0.99, 'dropout': 0.012096043207637693, 'learning_rate_init': 0.01}}\n",
      "Iteration 49: \n",
      "\t{'target': -1321.9329833984375, 'params': {'batch_size': 115.0, 'beta_1': 0.9091925386100123, 'beta_2': 0.99, 'dropout': 0.02691317867064523, 'learning_rate_init': 0.09226652534940223}}\n"
     ]
    }
   ],
   "source": [
    "for i, res in enumerate(optimizer.res):\n",
    "    print(\"Iteration {}: \\n\\t{}\".format(i, res))"
   ]
  },
  {
   "cell_type": "code",
   "execution_count": 19,
   "metadata": {},
   "outputs": [
    {
     "name": "stdout",
     "output_type": "stream",
     "text": [
      "{'target': -136.14785766601562, 'params': {'batch_size': 114.84809532072403, 'beta_1': 0.9586517323123119, 'beta_2': 0.9558431375026947, 'dropout': 0.021025382021542985, 'learning_rate_init': 0.01}}\n"
     ]
    }
   ],
   "source": [
    "max_params = optimizer.max['params']\n",
    "print(optimizer.max)"
   ]
  },
  {
   "cell_type": "code",
   "execution_count": null,
   "metadata": {},
   "outputs": [],
   "source": []
  }
 ],
 "metadata": {
  "kernelspec": {
   "display_name": "Python 3 (ipykernel)",
   "language": "python",
   "name": "python3"
  },
  "language_info": {
   "codemirror_mode": {
    "name": "ipython",
    "version": 3
   },
   "file_extension": ".py",
   "mimetype": "text/x-python",
   "name": "python",
   "nbconvert_exporter": "python",
   "pygments_lexer": "ipython3",
   "version": "3.11.8"
  }
 },
 "nbformat": 4,
 "nbformat_minor": 4
}
