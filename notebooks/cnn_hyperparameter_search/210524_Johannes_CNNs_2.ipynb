{
 "cells": [
  {
   "cell_type": "code",
   "metadata": {
    "collapsed": false,
    "jupyter": {
     "outputs_hidden": false
    },
    "ExecuteTime": {
     "end_time": "2024-06-01T07:53:45.814576Z",
     "start_time": "2024-06-01T07:53:45.445088Z"
    }
   },
   "source": [
    "%load_ext autoreload\n",
    "%autoreload 2"
   ],
   "outputs": [],
   "execution_count": 1
  },
  {
   "cell_type": "code",
   "metadata": {
    "collapsed": false,
    "jupyter": {
     "outputs_hidden": false
    },
    "ExecuteTime": {
     "end_time": "2024-06-01T07:53:46.270597Z",
     "start_time": "2024-06-01T07:53:45.817580Z"
    }
   },
   "source": [
    "%matplotlib inline\n",
    "%config InlineBackend.figure_format = 'retina'"
   ],
   "outputs": [],
   "execution_count": 2
  },
  {
   "cell_type": "markdown",
   "metadata": {
    "collapsed": false,
    "jupyter": {
     "outputs_hidden": false
    }
   },
   "source": [
    "# Topic: EX2 - Turbofan RUL Prediction\n",
    "**Task**: Predict the remaining useful life (RUL) of turbofan engines based on given sensor data (time series data). It is a forcasting problem, where the goal is to predict the number of cycles an engine will last before it fails.\n",
    "**Data**: Turbofan engine degradation simulation data (NASA) - [Link](https://data.nasa.gov/dataset/Turbofan-Engine-Degradation-Simulation-Data-Set/vrks-gjie). See also in the topic [introduction notebook](https://github.com/nina-prog/damage-propagation-modeling/blob/2fb8c1a1102a48d7abbf04e4031807790a913a99/notebooks/Turbofan%20remaining%20useful%20life%20Prediction.ipynb).\n",
    "\n",
    "**Subtasks**:\n",
    "1. Perform a deep **exploratory data analysis (EDA)** on the given data.\n",
    "2. Implement a more efficient **sliding window method** for time series data analysis. -> 🎯 **Focus on this task**\n",
    "3. Apply **traditional machine learning methods** (SOTA) to predict the remaining useful life. Includes data preparation, feature extraction, feature selection, model selection, and model parameter optimization.\n",
    "4. Create **neural network models** to predict the remaining useful life. Includes different architectures like Convolutional Neural Networks (CNN), Recurrent Neural Networks (RNN), or Attention Models. Note: You can search for SOTA research papers and reproduce current state-of-the-art models.\n"
   ]
  },
  {
   "cell_type": "markdown",
   "metadata": {
    "collapsed": false,
    "jupyter": {
     "outputs_hidden": false
    }
   },
   "source": [
    "# Imports + Settings"
   ]
  },
  {
   "cell_type": "code",
   "execution_count": 3,
   "metadata": {},
   "outputs": [
    {
     "name": "stdout",
     "output_type": "stream",
     "text": [
      "Looking in indexes: https://pypi.org/simple, https://pypi.ngc.nvidia.com\n",
      "Requirement already satisfied: pytorch-lightning in /opt/conda/lib/python3.11/site-packages (2.2.5)\n",
      "Requirement already satisfied: numpy>=1.17.2 in /opt/conda/lib/python3.11/site-packages (from pytorch-lightning) (1.26.4)\n",
      "Requirement already satisfied: torch>=1.13.0 in /opt/conda/lib/python3.11/site-packages (from pytorch-lightning) (2.2.2+cu121)\n",
      "Requirement already satisfied: tqdm>=4.57.0 in /opt/conda/lib/python3.11/site-packages (from pytorch-lightning) (4.66.2)\n",
      "Requirement already satisfied: PyYAML>=5.4 in /opt/conda/lib/python3.11/site-packages (from pytorch-lightning) (6.0.1)\n",
      "Requirement already satisfied: fsspec>=2022.5.0 in /opt/conda/lib/python3.11/site-packages (from fsspec[http]>=2022.5.0->pytorch-lightning) (2024.3.1)\n",
      "Requirement already satisfied: torchmetrics>=0.7.0 in /opt/conda/lib/python3.11/site-packages (from pytorch-lightning) (1.4.0.post0)\n",
      "Requirement already satisfied: packaging>=20.0 in /opt/conda/lib/python3.11/site-packages (from pytorch-lightning) (24.0)\n",
      "Requirement already satisfied: typing-extensions>=4.4.0 in /opt/conda/lib/python3.11/site-packages (from pytorch-lightning) (4.11.0)\n",
      "Requirement already satisfied: lightning-utilities>=0.8.0 in /opt/conda/lib/python3.11/site-packages (from pytorch-lightning) (0.11.2)\n",
      "Requirement already satisfied: aiohttp!=4.0.0a0,!=4.0.0a1 in /opt/conda/lib/python3.11/site-packages (from fsspec[http]>=2022.5.0->pytorch-lightning) (3.9.3)\n",
      "Requirement already satisfied: setuptools in /opt/conda/lib/python3.11/site-packages (from lightning-utilities>=0.8.0->pytorch-lightning) (69.2.0)\n",
      "Requirement already satisfied: filelock in /opt/conda/lib/python3.11/site-packages (from torch>=1.13.0->pytorch-lightning) (3.13.3)\n",
      "Requirement already satisfied: sympy in /opt/conda/lib/python3.11/site-packages (from torch>=1.13.0->pytorch-lightning) (1.12)\n",
      "Requirement already satisfied: networkx in /opt/conda/lib/python3.11/site-packages (from torch>=1.13.0->pytorch-lightning) (3.3)\n",
      "Requirement already satisfied: jinja2 in /opt/conda/lib/python3.11/site-packages (from torch>=1.13.0->pytorch-lightning) (3.1.3)\n",
      "Requirement already satisfied: nvidia-cuda-nvrtc-cu12==12.1.105 in /opt/conda/lib/python3.11/site-packages (from torch>=1.13.0->pytorch-lightning) (12.1.105)\n",
      "Requirement already satisfied: nvidia-cuda-runtime-cu12==12.1.105 in /opt/conda/lib/python3.11/site-packages (from torch>=1.13.0->pytorch-lightning) (12.1.105)\n",
      "Requirement already satisfied: nvidia-cuda-cupti-cu12==12.1.105 in /opt/conda/lib/python3.11/site-packages (from torch>=1.13.0->pytorch-lightning) (12.1.105)\n",
      "Requirement already satisfied: nvidia-cudnn-cu12==8.9.2.26 in /opt/conda/lib/python3.11/site-packages (from torch>=1.13.0->pytorch-lightning) (8.9.2.26)\n",
      "Requirement already satisfied: nvidia-cublas-cu12==12.1.3.1 in /opt/conda/lib/python3.11/site-packages (from torch>=1.13.0->pytorch-lightning) (12.1.3.1)\n",
      "Requirement already satisfied: nvidia-cufft-cu12==11.0.2.54 in /opt/conda/lib/python3.11/site-packages (from torch>=1.13.0->pytorch-lightning) (11.0.2.54)\n",
      "Requirement already satisfied: nvidia-curand-cu12==10.3.2.106 in /opt/conda/lib/python3.11/site-packages (from torch>=1.13.0->pytorch-lightning) (10.3.2.106)\n",
      "Requirement already satisfied: nvidia-cusolver-cu12==11.4.5.107 in /opt/conda/lib/python3.11/site-packages (from torch>=1.13.0->pytorch-lightning) (11.4.5.107)\n",
      "Requirement already satisfied: nvidia-cusparse-cu12==12.1.0.106 in /opt/conda/lib/python3.11/site-packages (from torch>=1.13.0->pytorch-lightning) (12.1.0.106)\n",
      "Requirement already satisfied: nvidia-nccl-cu12==2.19.3 in /opt/conda/lib/python3.11/site-packages (from torch>=1.13.0->pytorch-lightning) (2.19.3)\n",
      "Requirement already satisfied: nvidia-nvtx-cu12==12.1.105 in /opt/conda/lib/python3.11/site-packages (from torch>=1.13.0->pytorch-lightning) (12.1.105)\n",
      "Requirement already satisfied: triton==2.2.0 in /opt/conda/lib/python3.11/site-packages (from torch>=1.13.0->pytorch-lightning) (2.2.0)\n",
      "Requirement already satisfied: nvidia-nvjitlink-cu12 in /opt/conda/lib/python3.11/site-packages (from nvidia-cusolver-cu12==11.4.5.107->torch>=1.13.0->pytorch-lightning) (12.4.127)\n",
      "Requirement already satisfied: aiosignal>=1.1.2 in /opt/conda/lib/python3.11/site-packages (from aiohttp!=4.0.0a0,!=4.0.0a1->fsspec[http]>=2022.5.0->pytorch-lightning) (1.3.1)\n",
      "Requirement already satisfied: attrs>=17.3.0 in /opt/conda/lib/python3.11/site-packages (from aiohttp!=4.0.0a0,!=4.0.0a1->fsspec[http]>=2022.5.0->pytorch-lightning) (23.2.0)\n",
      "Requirement already satisfied: frozenlist>=1.1.1 in /opt/conda/lib/python3.11/site-packages (from aiohttp!=4.0.0a0,!=4.0.0a1->fsspec[http]>=2022.5.0->pytorch-lightning) (1.4.1)\n",
      "Requirement already satisfied: multidict<7.0,>=4.5 in /opt/conda/lib/python3.11/site-packages (from aiohttp!=4.0.0a0,!=4.0.0a1->fsspec[http]>=2022.5.0->pytorch-lightning) (6.0.5)\n",
      "Requirement already satisfied: yarl<2.0,>=1.0 in /opt/conda/lib/python3.11/site-packages (from aiohttp!=4.0.0a0,!=4.0.0a1->fsspec[http]>=2022.5.0->pytorch-lightning) (1.9.4)\n",
      "Requirement already satisfied: MarkupSafe>=2.0 in /opt/conda/lib/python3.11/site-packages (from jinja2->torch>=1.13.0->pytorch-lightning) (2.1.5)\n",
      "Requirement already satisfied: mpmath>=0.19 in /opt/conda/lib/python3.11/site-packages (from sympy->torch>=1.13.0->pytorch-lightning) (1.3.0)\n",
      "Requirement already satisfied: idna>=2.0 in /opt/conda/lib/python3.11/site-packages (from yarl<2.0,>=1.0->aiohttp!=4.0.0a0,!=4.0.0a1->fsspec[http]>=2022.5.0->pytorch-lightning) (3.6)\n",
      "Looking in indexes: https://pypi.org/simple, https://pypi.ngc.nvidia.com\n",
      "Requirement already satisfied: colorlog in /opt/conda/lib/python3.11/site-packages (6.8.2)\n",
      "Looking in indexes: https://pypi.org/simple, https://pypi.ngc.nvidia.com\n",
      "Requirement already satisfied: bayesian-optimization in /opt/conda/lib/python3.11/site-packages (1.4.3)\n",
      "Requirement already satisfied: numpy>=1.9.0 in /opt/conda/lib/python3.11/site-packages (from bayesian-optimization) (1.26.4)\n",
      "Requirement already satisfied: scipy>=1.0.0 in /opt/conda/lib/python3.11/site-packages (from bayesian-optimization) (1.13.0)\n",
      "Requirement already satisfied: scikit-learn>=0.18.0 in /opt/conda/lib/python3.11/site-packages (from bayesian-optimization) (1.4.1.post1)\n",
      "Requirement already satisfied: colorama>=0.4.6 in /opt/conda/lib/python3.11/site-packages (from bayesian-optimization) (0.4.6)\n",
      "Requirement already satisfied: joblib>=1.2.0 in /opt/conda/lib/python3.11/site-packages (from scikit-learn>=0.18.0->bayesian-optimization) (1.4.0)\n",
      "Requirement already satisfied: threadpoolctl>=2.0.0 in /opt/conda/lib/python3.11/site-packages (from scikit-learn>=0.18.0->bayesian-optimization) (3.4.0)\n",
      "Looking in indexes: https://pypi.org/simple, https://pypi.ngc.nvidia.com\n",
      "Requirement already satisfied: pandas in /opt/conda/lib/python3.11/site-packages (2.2.1)\n",
      "Requirement already satisfied: numpy<2,>=1.23.2 in /opt/conda/lib/python3.11/site-packages (from pandas) (1.26.4)\n",
      "Requirement already satisfied: python-dateutil>=2.8.2 in /opt/conda/lib/python3.11/site-packages (from pandas) (2.9.0)\n",
      "Requirement already satisfied: pytz>=2020.1 in /opt/conda/lib/python3.11/site-packages (from pandas) (2024.1)\n",
      "Requirement already satisfied: tzdata>=2022.7 in /opt/conda/lib/python3.11/site-packages (from pandas) (2024.1)\n",
      "Requirement already satisfied: six>=1.5 in /opt/conda/lib/python3.11/site-packages (from python-dateutil>=2.8.2->pandas) (1.16.0)\n",
      "Looking in indexes: https://pypi.org/simple, https://pypi.ngc.nvidia.com\n",
      "Requirement already satisfied: plotly in /opt/conda/lib/python3.11/site-packages (5.20.0)\n",
      "Requirement already satisfied: tenacity>=6.2.0 in /opt/conda/lib/python3.11/site-packages (from plotly) (8.2.3)\n",
      "Requirement already satisfied: packaging in /opt/conda/lib/python3.11/site-packages (from plotly) (24.0)\n",
      "Looking in indexes: https://pypi.org/simple, https://pypi.ngc.nvidia.com\n",
      "Requirement already satisfied: matplotlib in /opt/conda/lib/python3.11/site-packages (3.8.4)\n",
      "Requirement already satisfied: contourpy>=1.0.1 in /opt/conda/lib/python3.11/site-packages (from matplotlib) (1.2.1)\n",
      "Requirement already satisfied: cycler>=0.10 in /opt/conda/lib/python3.11/site-packages (from matplotlib) (0.12.1)\n",
      "Requirement already satisfied: fonttools>=4.22.0 in /opt/conda/lib/python3.11/site-packages (from matplotlib) (4.51.0)\n",
      "Requirement already satisfied: kiwisolver>=1.3.1 in /opt/conda/lib/python3.11/site-packages (from matplotlib) (1.4.5)\n",
      "Requirement already satisfied: numpy>=1.21 in /opt/conda/lib/python3.11/site-packages (from matplotlib) (1.26.4)\n",
      "Requirement already satisfied: packaging>=20.0 in /opt/conda/lib/python3.11/site-packages (from matplotlib) (24.0)\n",
      "Requirement already satisfied: pillow>=8 in /opt/conda/lib/python3.11/site-packages (from matplotlib) (10.3.0)\n",
      "Requirement already satisfied: pyparsing>=2.3.1 in /opt/conda/lib/python3.11/site-packages (from matplotlib) (3.1.2)\n",
      "Requirement already satisfied: python-dateutil>=2.7 in /opt/conda/lib/python3.11/site-packages (from matplotlib) (2.9.0)\n",
      "Requirement already satisfied: six>=1.5 in /opt/conda/lib/python3.11/site-packages (from python-dateutil>=2.7->matplotlib) (1.16.0)\n",
      "Looking in indexes: https://pypi.org/simple, https://pypi.ngc.nvidia.com\n",
      "Requirement already satisfied: seaborn in /opt/conda/lib/python3.11/site-packages (0.13.2)\n",
      "Requirement already satisfied: numpy!=1.24.0,>=1.20 in /opt/conda/lib/python3.11/site-packages (from seaborn) (1.26.4)\n",
      "Requirement already satisfied: pandas>=1.2 in /opt/conda/lib/python3.11/site-packages (from seaborn) (2.2.1)\n",
      "Requirement already satisfied: matplotlib!=3.6.1,>=3.4 in /opt/conda/lib/python3.11/site-packages (from seaborn) (3.8.4)\n",
      "Requirement already satisfied: contourpy>=1.0.1 in /opt/conda/lib/python3.11/site-packages (from matplotlib!=3.6.1,>=3.4->seaborn) (1.2.1)\n",
      "Requirement already satisfied: cycler>=0.10 in /opt/conda/lib/python3.11/site-packages (from matplotlib!=3.6.1,>=3.4->seaborn) (0.12.1)\n",
      "Requirement already satisfied: fonttools>=4.22.0 in /opt/conda/lib/python3.11/site-packages (from matplotlib!=3.6.1,>=3.4->seaborn) (4.51.0)\n",
      "Requirement already satisfied: kiwisolver>=1.3.1 in /opt/conda/lib/python3.11/site-packages (from matplotlib!=3.6.1,>=3.4->seaborn) (1.4.5)\n",
      "Requirement already satisfied: packaging>=20.0 in /opt/conda/lib/python3.11/site-packages (from matplotlib!=3.6.1,>=3.4->seaborn) (24.0)\n",
      "Requirement already satisfied: pillow>=8 in /opt/conda/lib/python3.11/site-packages (from matplotlib!=3.6.1,>=3.4->seaborn) (10.3.0)\n",
      "Requirement already satisfied: pyparsing>=2.3.1 in /opt/conda/lib/python3.11/site-packages (from matplotlib!=3.6.1,>=3.4->seaborn) (3.1.2)\n",
      "Requirement already satisfied: python-dateutil>=2.7 in /opt/conda/lib/python3.11/site-packages (from matplotlib!=3.6.1,>=3.4->seaborn) (2.9.0)\n",
      "Requirement already satisfied: pytz>=2020.1 in /opt/conda/lib/python3.11/site-packages (from pandas>=1.2->seaborn) (2024.1)\n",
      "Requirement already satisfied: tzdata>=2022.7 in /opt/conda/lib/python3.11/site-packages (from pandas>=1.2->seaborn) (2024.1)\n",
      "Requirement already satisfied: six>=1.5 in /opt/conda/lib/python3.11/site-packages (from python-dateutil>=2.7->matplotlib!=3.6.1,>=3.4->seaborn) (1.16.0)\n"
     ]
    }
   ],
   "source": [
    "!pip install pytorch-lightning\n",
    "!pip install colorlog\n",
    "!pip install bayesian-optimization\n",
    "!pip install pandas\n",
    "!pip install plotly\n",
    "!pip install matplotlib\n",
    "!pip install seaborn"
   ]
  },
  {
   "cell_type": "code",
   "metadata": {
    "collapsed": false,
    "jupyter": {
     "outputs_hidden": false
    },
    "ExecuteTime": {
     "end_time": "2024-06-01T07:53:53.914515Z",
     "start_time": "2024-06-01T07:53:46.274595Z"
    }
   },
   "source": [
    "# third-party libraries\n",
    "import pandas as pd\n",
    "import numpy as np\n",
    "import os\n",
    "import pytorch_lightning as pl\n",
    "from pytorch_lightning import Trainer\n",
    "from pytorch_lightning.callbacks import ModelCheckpoint\n",
    "from sklearn.preprocessing import MinMaxScaler, StandardScaler, RobustScaler\n",
    "from bayes_opt import BayesianOptimization\n",
    "\n",
    "import time\n",
    "\n",
    "import plotly.express as px\n",
    "import matplotlib.pyplot as plt\n",
    "import seaborn as sns"
   ],
   "outputs": [],
   "execution_count": 3
  },
  {
   "cell_type": "code",
   "metadata": {
    "collapsed": false,
    "jupyter": {
     "outputs_hidden": false
    },
    "ExecuteTime": {
     "end_time": "2024-06-01T07:53:55.695966Z",
     "start_time": "2024-06-01T07:53:53.916516Z"
    }
   },
   "source": [
    "# source code\n",
    "from src.data_loading import load_data, load_config\n",
    "from src.data_splitting import train_val_split_by_group\n",
    "from src.nn_utils import create_sliding_window, create_sliding_window_test\n",
    "from src.rolling_window_creator import calculate_RUL\n",
    "from src.data_processing import apply_padding_on_train_data_and_test_data, drop_samples_with_clipped_values\n",
    "from src.nn_util.nn_models.ligthning.cnnModel1 import CNNModel1 as CNNModel\n",
    "from src.nn_util.datamodule.lightning.turbofanDatamodule import TurbofanDatamodule\n",
    "from src.data_cleaning import clean_data"
   ],
   "outputs": [],
   "execution_count": 4
  },
  {
   "cell_type": "code",
   "metadata": {
    "collapsed": false,
    "jupyter": {
     "outputs_hidden": false
    },
    "ExecuteTime": {
     "end_time": "2024-06-01T07:53:56.227572Z",
     "start_time": "2024-06-01T07:53:55.699961Z"
    }
   },
   "source": [
    "# settings\n",
    "sns.set_style(\"whitegrid\")\n",
    "sns.set_palette(\"Set2\")\n",
    "sns.set(rc={\"figure.dpi\":100, 'savefig.dpi':200})\n",
    "sns.set_context('notebook')"
   ],
   "outputs": [],
   "execution_count": 5
  },
  {
   "cell_type": "code",
   "metadata": {
    "collapsed": false,
    "jupyter": {
     "outputs_hidden": false
    },
    "ExecuteTime": {
     "end_time": "2024-06-01T07:53:56.740670Z",
     "start_time": "2024-06-01T07:53:56.234584Z"
    }
   },
   "source": [
    "np.random.seed(42)"
   ],
   "outputs": [],
   "execution_count": 6
  },
  {
   "cell_type": "markdown",
   "metadata": {
    "collapsed": false,
    "jupyter": {
     "outputs_hidden": false
    }
   },
   "source": [
    "# Paths"
   ]
  },
  {
   "metadata": {
    "ExecuteTime": {
     "end_time": "2024-06-01T07:53:57.287977Z",
     "start_time": "2024-06-01T07:53:56.742674Z"
    }
   },
   "cell_type": "code",
   "source": [
    "# Make sure to execute this cell only once for one kernel session, before running any other cell below.\n",
    "os.chdir(\"../../\") # set working directory to root of project\n",
    "os.getcwd() # check current working directory"
   ],
   "outputs": [
    {
     "data": {
      "text/plain": [
       "'C:\\\\Users\\\\Johannes\\\\PycharmProjects\\\\damage-propagation-modeling'"
      ]
     },
     "execution_count": 7,
     "metadata": {},
     "output_type": "execute_result"
    }
   ],
   "execution_count": 7
  },
  {
   "cell_type": "code",
   "metadata": {
    "collapsed": false,
    "jupyter": {
     "outputs_hidden": false
    },
    "ExecuteTime": {
     "end_time": "2024-06-01T07:53:57.831164Z",
     "start_time": "2024-06-01T07:53:57.291978Z"
    }
   },
   "source": [
    "PATH_TO_CONFIG = \"configs/config.yaml\""
   ],
   "outputs": [],
   "execution_count": 8
  },
  {
   "cell_type": "markdown",
   "metadata": {
    "collapsed": false,
    "jupyter": {
     "outputs_hidden": false
    }
   },
   "source": [
    "# Load Config + Data"
   ]
  },
  {
   "cell_type": "code",
   "metadata": {
    "collapsed": false,
    "jupyter": {
     "outputs_hidden": false
    },
    "ExecuteTime": {
     "end_time": "2024-06-01T07:53:58.417102Z",
     "start_time": "2024-06-01T07:53:57.834099Z"
    }
   },
   "source": [
    "config = load_config(PATH_TO_CONFIG) # config is dict"
   ],
   "outputs": [],
   "execution_count": 9
  },
  {
   "cell_type": "code",
   "metadata": {
    "collapsed": false,
    "jupyter": {
     "outputs_hidden": false
    },
    "ExecuteTime": {
     "end_time": "2024-06-01T07:54:00.184654Z",
     "start_time": "2024-06-01T07:53:58.420382Z"
    }
   },
   "source": [
    "train_data, test_data, test_RUL_data = load_data(config_path=PATH_TO_CONFIG, dataset_num=2)"
   ],
   "outputs": [
    {
     "name": "stdout",
     "output_type": "stream",
     "text": [
      "2024-06-01 09:53:58 [\u001B[34msrc.data_loading:43\u001B[0m] [\u001B[32mINFO\u001B[0m] >>>> Loading data set 2...\u001B[0m\n",
      "2024-06-01 09:54:00 [\u001B[34msrc.data_loading:72\u001B[0m] [\u001B[32mINFO\u001B[0m] >>>> Loaded raw data for dataset 2.\u001B[0m\n",
      "2024-06-01 09:54:00 [\u001B[34msrc.data_loading:73\u001B[0m] [\u001B[32mINFO\u001B[0m] >>>> Train Data: (53759, 26)\u001B[0m\n",
      "2024-06-01 09:54:00 [\u001B[34msrc.data_loading:74\u001B[0m] [\u001B[32mINFO\u001B[0m] >>>> Test Data: (33991, 26)\u001B[0m\n",
      "2024-06-01 09:54:00 [\u001B[34msrc.data_loading:75\u001B[0m] [\u001B[32mINFO\u001B[0m] >>>> Test RUL Data: (259, 1)\u001B[0m\n"
     ]
    }
   ],
   "execution_count": 10
  },
  {
   "cell_type": "markdown",
   "metadata": {
    "collapsed": false,
    "jupyter": {
     "outputs_hidden": false
    }
   },
   "source": "# Hyperparameter Search for CNNModel1 for dataset FD002"
  },
  {
   "cell_type": "markdown",
   "metadata": {
    "collapsed": false,
    "jupyter": {
     "outputs_hidden": false
    }
   },
   "source": [
    "Search space:\n",
    "* learning rate initialisation: (0.00001, 0.1)\n",
    "* batch size: (10, 200)\n",
    "* dropout: (0.01, 0.5)\n",
    "* betas (of classifier Adam): beta_1 (0.8, 0.999) and beta_2 (0.9, 0.999999)"
   ]
  },
  {
   "cell_type": "markdown",
   "metadata": {},
   "source": "Iterations: 40 (Due to many connection errors to the server during the training and a long computation time, we terminated the optimization earlier)"
  },
  {
   "cell_type": "code",
   "execution_count": 11,
   "metadata": {
    "ExecuteTime": {
     "end_time": "2024-05-31T08:50:15.868827Z",
     "start_time": "2024-05-31T08:50:15.570942Z"
    }
   },
   "outputs": [
    {
     "name": "stderr",
     "output_type": "stream",
     "text": [
      "Seed set to 21\n"
     ]
    },
    {
     "data": {
      "text/plain": [
       "21"
      ]
     },
     "execution_count": 11,
     "metadata": {},
     "output_type": "execute_result"
    }
   ],
   "source": [
    "# some hyperparameters\n",
    "time_column = 'Cycle'\n",
    "group_column = 'UnitNumber'\n",
    "\n",
    "window_size = 30\n",
    "clip_value = 125\n",
    "apply_data_cleaning = True\n",
    "\n",
    "# Apply scaler. The order in the list represents the order in which they are applied\n",
    "std_scaler = StandardScaler()\n",
    "minmax_scaler = MinMaxScaler()\n",
    "robust_scaler = RobustScaler()\n",
    "scaler = [std_scaler, minmax_scaler, robust_scaler]\n",
    "\n",
    "# The model_type can be 'CNN_2D' or 'CNN_1D' and defines what type of convolutional layers has been used.\n",
    "model_type = 'CNN_1D' \n",
    "\n",
    "# Setting the seed\n",
    "pl.seed_everything(21)"
   ]
  },
  {
   "cell_type": "code",
   "execution_count": 12,
   "metadata": {
    "ExecuteTime": {
     "end_time": "2024-05-31T08:14:41.432236Z",
     "start_time": "2024-05-31T08:14:41.211969Z"
    }
   },
   "outputs": [
    {
     "name": "stdout",
     "output_type": "stream",
     "text": [
      "2024-05-31 19:01:07 [\u001B[34msrc.data_cleaning:134\u001B[0m] [\u001B[32mINFO\u001B[0m] >>>> Cleaning train and test data...\u001B[0m\n",
      "2024-05-31 19:01:07 [\u001B[34msrc.data_cleaning:136\u001B[0m] [\u001B[32mINFO\u001B[0m] >>>> Formatting column types...\u001B[0m\n",
      "2024-05-31 19:01:07 [\u001B[34msrc.data_cleaning:69\u001B[0m] [DEBUG\u001B[0m] >>>> Found 0 categorical columns: []\u001B[0m\n",
      "2024-05-31 19:01:07 [\u001B[34msrc.data_cleaning:69\u001B[0m] [DEBUG\u001B[0m] >>>> Found 0 categorical columns: []\u001B[0m\n",
      "2024-05-31 19:01:07 [\u001B[34msrc.data_cleaning:141\u001B[0m] [\u001B[32mINFO\u001B[0m] >>>> Handling duplicates...\u001B[0m\n",
      "2024-05-31 19:01:07 [\u001B[34msrc.data_cleaning:146\u001B[0m] [\u001B[32mINFO\u001B[0m] >>>> Removing outliers...\u001B[0m\n",
      "2024-05-31 19:01:07 [\u001B[34msrc.outlier_detection:150\u001B[0m] [DEBUG\u001B[0m] >>>> Removing outliers using method: None ...\u001B[0m\n",
      "2024-05-31 19:01:07 [\u001B[34msrc.outlier_detection:162\u001B[0m] [\u001B[32mINFO\u001B[0m] >>>> No outlier detection method specified. Skipping outlier detection.\u001B[0m\n",
      "2024-05-31 19:01:07 [\u001B[34msrc.outlier_detection:150\u001B[0m] [DEBUG\u001B[0m] >>>> Removing outliers using method: None ...\u001B[0m\n",
      "2024-05-31 19:01:07 [\u001B[34msrc.outlier_detection:162\u001B[0m] [\u001B[32mINFO\u001B[0m] >>>> No outlier detection method specified. Skipping outlier detection.\u001B[0m\n",
      "2024-05-31 19:01:07 [\u001B[34msrc.data_cleaning:150\u001B[0m] [\u001B[32mINFO\u001B[0m] >>>> Filter features based train data...\u001B[0m\n",
      "2024-05-31 19:01:07 [\u001B[34msrc.data_cleaning:26\u001B[0m] [DEBUG\u001B[0m] >>>> Found 0 features with missing values above the threshold of 0.1.\u001B[0m\n",
      "2024-05-31 19:01:07 [\u001B[34msrc.data_cleaning:46\u001B[0m] [DEBUG\u001B[0m] >>>> Found 0 features with only a single unique value: []\u001B[0m\n",
      "2024-05-31 19:01:07 [\u001B[34msrc.data_cleaning:103\u001B[0m] [DEBUG\u001B[0m] >>>> Found 0 uncorrelated features with a correlation threshold of 0.0: []\u001B[0m\n",
      "2024-05-31 19:01:07 [\u001B[34msrc.data_cleaning:162\u001B[0m] [\u001B[32mINFO\u001B[0m] >>>> Dropping features based on missing values, single unique values, and no target correlation...\u001B[0m\n",
      "2024-05-31 19:01:07 [\u001B[34msrc.data_cleaning:172\u001B[0m] [\u001B[32mINFO\u001B[0m] >>>> Data cleaning completed.\u001B[0m\n",
      "2024-05-31 19:01:07 [\u001B[34msrc.data_cleaning:173\u001B[0m] [\u001B[32mINFO\u001B[0m] >>>> Original train DataFrame shape: (53759, 26), Resulting train DataFrame shape: (53759, 26)\u001B[0m\n",
      "2024-05-31 19:01:07 [\u001B[34msrc.data_cleaning:174\u001B[0m] [\u001B[32mINFO\u001B[0m] >>>> Original test DataFrame shape: (33991, 26), Resulting test DataFrame shape: (33991, 26)\u001B[0m\n",
      "2024-05-31 19:01:07 [\u001B[34msrc.data_processing:37\u001B[0m] [\u001B[32mINFO\u001B[0m] >>>> The minimum number of cycles of a motor before the padding is 21.\u001B[0m\n",
      "2024-05-31 19:01:07 [\u001B[34msrc.data_processing:43\u001B[0m] [\u001B[32mINFO\u001B[0m] >>>> The padding value is 9.\u001B[0m\n",
      "2024-05-31 19:01:08 [\u001B[34msrc.data_processing:52\u001B[0m] [\u001B[32mINFO\u001B[0m] >>>> The minimum number of cycles of a motor with the padding is 21.\u001B[0m\n",
      "2024-05-31 19:01:08 [\u001B[34msrc.data_splitting:47\u001B[0m] [\u001B[32mINFO\u001B[0m] >>>> Train set contains 234 different engines --> in total 50633\u001B[0m\n",
      "2024-05-31 19:01:08 [\u001B[34msrc.data_splitting:48\u001B[0m] [\u001B[32mINFO\u001B[0m] >>>>  Test set contains 26 different engines --> in total 5466\u001B[0m\n",
      "2024-05-31 19:01:21 [\u001B[34msrc.data_processing:110\u001B[0m] [\u001B[32mINFO\u001B[0m] >>>> The median of the frequency of each RUL value in the data is 234.0.\u001B[0m\n",
      "2024-05-31 19:01:21 [\u001B[34msrc.data_processing:111\u001B[0m] [\u001B[32mINFO\u001B[0m] >>>> The the frequency of the clipped RUL value in the data is 14895.\u001B[0m\n",
      "2024-05-31 19:01:21 [\u001B[34msrc.data_processing:117\u001B[0m] [\u001B[32mINFO\u001B[0m] >>>> The the frequency of the clipped RUL value after dropping is 468.\u001B[0m\n",
      "2024-05-31 19:01:21 [\u001B[34msrc.data_processing:125\u001B[0m] [\u001B[32mINFO\u001B[0m] >>>> The number of samples in the data has dropped from 43847 to 29420.\u001B[0m\n",
      "2024-05-31 19:01:21 [\u001B[34msrc.data_processing:110\u001B[0m] [\u001B[32mINFO\u001B[0m] >>>> The median of the frequency of each RUL value in the data is 26.0.\u001B[0m\n",
      "2024-05-31 19:01:21 [\u001B[34msrc.data_processing:111\u001B[0m] [\u001B[32mINFO\u001B[0m] >>>> The the frequency of the clipped RUL value in the data is 1488.\u001B[0m\n",
      "2024-05-31 19:01:21 [\u001B[34msrc.data_processing:117\u001B[0m] [\u001B[32mINFO\u001B[0m] >>>> The the frequency of the clipped RUL value after dropping is 52.\u001B[0m\n",
      "2024-05-31 19:01:21 [\u001B[34msrc.data_processing:125\u001B[0m] [\u001B[32mINFO\u001B[0m] >>>> The number of samples in the data has dropped from 4712 to 3276.\u001B[0m\n"
     ]
    }
   ],
   "source": [
    "if apply_data_cleaning:\n",
    "    train_data, test_data = clean_data(train_data, test_data, method=None, ignore_columns=['UnitNumber', 'Cycle'], threshold_missing=0.1, threshold_corr=0.0, contamination=0.05)\n",
    "    \n",
    "# Add column RUL to train_data\n",
    "train_data = calculate_RUL(train_data, time_column, group_column, clip_value)\n",
    "\n",
    "train_data, test_data = apply_padding_on_train_data_and_test_data(train_data=train_data, test_data=test_data, window_size=window_size)\n",
    "\n",
    "X_test, _ = create_sliding_window_test(test_data, column_RUL=False, drop_columns=['UnitNumber'])\n",
    "y_test = test_RUL_data.values\n",
    "\n",
    "train, val = train_val_split_by_group(train_data, test_size=0.1, random_state=12)\n",
    "\n",
    "X_train, y_train = create_sliding_window(train, window_size=window_size)  #, drop_columns=['UnitNumber', 'Cycle, 'RUL'])\n",
    "X_val, y_val = create_sliding_window(val, window_size=window_size)  #, drop_columns=['UnitNumber', 'Cycle', 'RUL'])\n",
    "\n",
    "X_train, y_train = drop_samples_with_clipped_values(X_train, y_train, clip_value)\n",
    "X_val, y_val = drop_samples_with_clipped_values(X_val, y_val, clip_value)"
   ]
  },
  {
   "cell_type": "markdown",
   "metadata": {},
   "source": [
    "Scale the data"
   ]
  },
  {
   "cell_type": "code",
   "execution_count": 13,
   "metadata": {
    "ExecuteTime": {
     "end_time": "2024-05-31T08:50:23.688451Z",
     "start_time": "2024-05-31T08:50:22.165585Z"
    }
   },
   "outputs": [],
   "source": [
    "X_train_shape = X_train.shape\n",
    "X_val_shape = X_val.shape\n",
    "X_test_shape = X_test.shape\n",
    "\n",
    "# Note: Do not normalize the cycle value! That is why we start with one\n",
    "for single_scaler in scaler:\n",
    "    for i in range(1, X_train.shape[-1]):\n",
    "        X_train[:, :, i] = single_scaler.fit_transform(X_train[:, :, i])\n",
    "        X_val[:, :, i] = single_scaler.transform(X_val[:, :, i])\n",
    "        X_test[:, :, i] = single_scaler.transform(X_test[:, :, i])"
   ]
  },
  {
   "cell_type": "markdown",
   "metadata": {},
   "source": [
    "Change data types of arrays to float32 and swap axes if necessary:"
   ]
  },
  {
   "cell_type": "code",
   "execution_count": 14,
   "metadata": {
    "ExecuteTime": {
     "end_time": "2024-05-30T15:35:13.166133Z",
     "start_time": "2024-05-30T15:35:12.746168Z"
    }
   },
   "outputs": [
    {
     "name": "stdout",
     "output_type": "stream",
     "text": [
      "(29420, 30, 25)\n",
      "(29420, 25, 30)\n",
      "(3276, 30, 25)\n",
      "(3276, 25, 30)\n",
      "(259, 30, 25)\n",
      "(259, 25, 30)\n"
     ]
    }
   ],
   "source": [
    "model_type = 'CNN_1D'\n",
    "\n",
    "print(X_train.shape)\n",
    "if model_type == 'CNN_1D':\n",
    "    X_train = np.swapaxes(X_train, 1, 2)\n",
    "elif model_type == 'CNN_2D':\n",
    "    X_train = np.swapaxes(X_train, 1, 2)\n",
    "    X_train = X_train[:, np.newaxis, :, :]\n",
    "X_train = np.array(X_train, dtype=np.float32)\n",
    "y_train = np.array(y_train, dtype=np.float32)\n",
    "print(X_train.shape)\n",
    "\n",
    "print(X_val.shape)\n",
    "if model_type == 'CNN_1D':\n",
    "    X_val = np.swapaxes(X_val, 1, 2)\n",
    "elif model_type == 'CNN_2D':\n",
    "    X_val = np.swapaxes(X_val, 1, 2)\n",
    "    X_val = X_val[:, np.newaxis, :, :]\n",
    "X_val = np.array(X_val, dtype=np.float32)\n",
    "y_val = np.array(y_val, dtype=np.float32)\n",
    "print(X_val.shape)\n",
    "\n",
    "print(X_test.shape)\n",
    "if model_type == 'CNN_1D':\n",
    "    X_test = np.swapaxes(X_test, 1, 2)\n",
    "elif model_type == 'CNN_2D':\n",
    "    X_test = np.swapaxes(X_test, 1, 2)\n",
    "    X_test = X_test[:, np.newaxis, :, :]\n",
    "X_test = np.array(X_test, dtype=np.float32)\n",
    "y_test = np.array(y_test, dtype=np.float32)\n",
    "print(X_test.shape)"
   ]
  },
  {
   "cell_type": "markdown",
   "metadata": {},
   "source": [
    "## Hyperparameter Search "
   ]
  },
  {
   "cell_type": "code",
   "metadata": {
    "scrolled": true
   },
   "source": [
    "from sklearn.metrics import root_mean_squared_error\n",
    "import torch \n",
    "# Setting the seed\n",
    "pl.seed_everything(21)\n",
    "\n",
    "def hyperparameter_function_cnn(learning_rate_init, batch_size, dropout, beta_1, beta_2):\n",
    "    \"\"\" Function for hyperparameter optimization\n",
    "    \"\"\"    \n",
    "    # Select hyperparameters of trainer!\n",
    "    checkpoint_callback = ModelCheckpoint(monitor=\"val_loss\")\n",
    "    trainer = Trainer(min_epochs=1, max_epochs=150, callbacks=[checkpoint_callback], deterministic=True)\n",
    "    datamodule = TurbofanDatamodule(batch_size=int(batch_size), random_state=15)\n",
    "    datamodule.set_train_dataset(X_train, y_train)\n",
    "    datamodule.set_val_dataset(X_val, y_val)\n",
    "    datamodule.set_predict_dataset(X_test)\n",
    "    datamodule.set_test_dataset(X_test, y_test)\n",
    "    model = CNNModel(lr=learning_rate_init, window_size=window_size, features=25, dropout_rate=dropout, beta_1=beta_1, beta_2=beta_2)\n",
    "    trainer.fit(model, datamodule=datamodule)\n",
    "    pred = trainer.validate(model, datamodule=datamodule, ckpt_path='best')\n",
    "    return - pred[0]['val_loss']\n",
    "    \n",
    "\n",
    "# Bounded region of parameter space\n",
    "pbounds = {'learning_rate_init': (0.00001, 0.1), 'batch_size': (10, 200), 'dropout': (0.01, 0.5), 'beta_1': (0.8, 0.999), 'beta_2': (0.9, 0.999999)}\n",
    "\n",
    "optimizer = BayesianOptimization(\n",
    "    f=hyperparameter_function_cnn,\n",
    "    pbounds=pbounds,\n",
    "    random_state=14,\n",
    ")\n",
    "optimizer.maximize(\n",
    "    init_points=20,\n",
    "    n_iter=30,\n",
    ")"
   ],
   "outputs": [],
   "execution_count": null
  },
  {
   "cell_type": "code",
   "execution_count": 16,
   "metadata": {},
   "outputs": [
    {
     "name": "stdout",
     "output_type": "stream",
     "text": [
      "Iteration 0: \n",
      "\t{'target': -447.6927185058594, 'params': {'batch_size': 107.64923531681114, 'beta_1': 0.9538598453637801, 'beta_2': 0.9870418981447955, 'dropout': 0.013943004779610777, 'learning_rate_init': 0.03098049519126536}}\n",
      "Iteration 1: \n",
      "\t{'target': -846.3485107421875, 'params': {'batch_size': 191.94471047951927, 'beta_1': 0.9021102257413096, 'beta_2': 0.931828124202785, 'dropout': 0.27420796933856756, 'learning_rate_init': 0.022133281693351714}}\n",
      "Iteration 2: \n",
      "\t{'target': -1321.932373046875, 'params': {'batch_size': 163.2314580056113, 'beta_1': 0.8681086704973222, 'beta_2': 0.9538883460178654, 'dropout': 0.012878154920018581, 'learning_rate_init': 0.06731851629327074}}\n",
      "Iteration 3: \n",
      "\t{'target': -11591.5576171875, 'params': {'batch_size': 49.90460981396025, 'beta_1': 0.9855789609828637, 'beta_2': 0.9374241007033998, 'dropout': 0.37868527182211376, 'learning_rate_init': 0.07631626879453375}}\n",
      "Iteration 4: \n",
      "\t{'target': -1321.932373046875, 'params': {'batch_size': 175.39489650163253, 'beta_1': 0.8219121244730637, 'beta_2': 0.9300088979473979, 'dropout': 0.24270382531572957, 'learning_rate_init': 0.06729694254946691}}\n",
      "Iteration 5: \n",
      "\t{'target': -811.7481079101562, 'params': {'batch_size': 58.94256225491737, 'beta_1': 0.939529112625173, 'beta_2': 0.9656993489373669, 'dropout': 0.09918380127882818, 'learning_rate_init': 0.03221307865298179}}\n",
      "Iteration 6: \n",
      "\t{'target': -1321.9324951171875, 'params': {'batch_size': 178.63211681495739, 'beta_1': 0.8165864830489016, 'beta_2': 0.9746556654499207, 'dropout': 0.040551524001903434, 'learning_rate_init': 0.07315079784600712}}\n",
      "Iteration 7: \n",
      "\t{'target': -570.9568481445312, 'params': {'batch_size': 151.07715744877333, 'beta_1': 0.8811752468768806, 'beta_2': 0.9991373085068492, 'dropout': 0.231547276391612, 'learning_rate_init': 0.018995955527360876}}\n",
      "Iteration 8: \n",
      "\t{'target': -859.8690185546875, 'params': {'batch_size': 76.8090296988827, 'beta_1': 0.9422475216186267, 'beta_2': 0.9357431788898133, 'dropout': 0.03529309145758723, 'learning_rate_init': 0.03159874124515306}}\n",
      "Iteration 9: \n",
      "\t{'target': -1321.932373046875, 'params': {'batch_size': 199.77287619734636, 'beta_1': 0.8572930664668456, 'beta_2': 0.9461791253457091, 'dropout': 0.3702813743821469, 'learning_rate_init': 0.09436845828502852}}\n",
      "Iteration 10: \n",
      "\t{'target': -1321.9324951171875, 'params': {'batch_size': 43.32650210645331, 'beta_1': 0.8422718538047104, 'beta_2': 0.9132476288174433, 'dropout': 0.112253784201265, 'learning_rate_init': 0.0995688375749075}}\n",
      "Iteration 11: \n",
      "\t{'target': -1321.932373046875, 'params': {'batch_size': 56.862708064289414, 'beta_1': 0.8219005785635657, 'beta_2': 0.9502315215062622, 'dropout': 0.23349968945944774, 'learning_rate_init': 0.07345167799229872}}\n",
      "Iteration 12: \n",
      "\t{'target': -762.7625732421875, 'params': {'batch_size': 127.9792728512369, 'beta_1': 0.923592975111074, 'beta_2': 0.9150171132469691, 'dropout': 0.27375452753265683, 'learning_rate_init': 0.012043520878734962}}\n",
      "Iteration 13: \n",
      "\t{'target': -830.4599609375, 'params': {'batch_size': 39.0748491840653, 'beta_1': 0.8895855328059911, 'beta_2': 0.9429068056483236, 'dropout': 0.36949441961073487, 'learning_rate_init': 0.007366419290650092}}\n",
      "Iteration 14: \n",
      "\t{'target': -1321.932373046875, 'params': {'batch_size': 62.96930765495891, 'beta_1': 0.8328934611416204, 'beta_2': 0.9508083057579204, 'dropout': 0.293833064764942, 'learning_rate_init': 0.06386440674346731}}\n",
      "Iteration 15: \n",
      "\t{'target': -829.8540649414062, 'params': {'batch_size': 50.66488382450915, 'beta_1': 0.8830979520361631, 'beta_2': 0.9466809512457492, 'dropout': 0.05070391565243765, 'learning_rate_init': 0.05703158807604388}}\n",
      "Iteration 16: \n",
      "\t{'target': -1321.9324951171875, 'params': {'batch_size': 53.41833690630608, 'beta_1': 0.8071102142365116, 'beta_2': 0.9964519632927225, 'dropout': 0.046583373813312894, 'learning_rate_init': 0.07305071928293734}}\n",
      "Iteration 17: \n",
      "\t{'target': -1321.932373046875, 'params': {'batch_size': 105.49968548601811, 'beta_1': 0.8184295561224192, 'beta_2': 0.9523944114865796, 'dropout': 0.2227668011249469, 'learning_rate_init': 0.05480616050637969}}\n",
      "Iteration 18: \n",
      "\t{'target': -5603.4716796875, 'params': {'batch_size': 187.6513239771596, 'beta_1': 0.99801501028843, 'beta_2': 0.9662311450599859, 'dropout': 0.1835238333172812, 'learning_rate_init': 0.043921309833093336}}\n",
      "Iteration 19: \n",
      "\t{'target': -1321.932373046875, 'params': {'batch_size': 157.34801654120002, 'beta_1': 0.9251094331416186, 'beta_2': 0.9097989941236432, 'dropout': 0.32927716943566326, 'learning_rate_init': 0.09686191467505177}}\n",
      "Iteration 20: \n",
      "\t{'target': -1321.932373046875, 'params': {'batch_size': 68.18737541850123, 'beta_1': 0.8767209656296726, 'beta_2': 0.9624102250182882, 'dropout': 0.4935025430186811, 'learning_rate_init': 0.0923824723458757}}\n",
      "Iteration 21: \n",
      "\t{'target': -1321.932373046875, 'params': {'batch_size': 48.20764480375873, 'beta_1': 0.8496187408602455, 'beta_2': 0.963727020970999, 'dropout': 0.4946433421231926, 'learning_rate_init': 0.05124566616090784}}\n",
      "Iteration 22: \n",
      "\t{'target': -1321.932373046875, 'params': {'batch_size': 130.653910699682, 'beta_1': 0.9387713367249595, 'beta_2': 0.9138151560189642, 'dropout': 0.45486946885779955, 'learning_rate_init': 0.0237013927755233}}\n",
      "Iteration 23: \n",
      "\t{'target': -1321.9322509765625, 'params': {'batch_size': 148.9457248889632, 'beta_1': 0.9657220868403715, 'beta_2': 0.9527867171431499, 'dropout': 0.38383052675359686, 'learning_rate_init': 0.05686047521773553}}\n",
      "Iteration 24: \n",
      "\t{'target': -1321.932373046875, 'params': {'batch_size': 119.98758476867656, 'beta_1': 0.9314375402496033, 'beta_2': 0.9057516110952688, 'dropout': 0.019666025143691566, 'learning_rate_init': 0.08096079192208551}}\n",
      "Iteration 25: \n",
      "\t{'target': -1321.9327392578125, 'params': {'batch_size': 157.56504677543563, 'beta_1': 0.9709015544081966, 'beta_2': 0.9260359017696026, 'dropout': 0.2695502946943634, 'learning_rate_init': 0.06800655269536651}}\n",
      "Iteration 26: \n",
      "\t{'target': -1321.9324951171875, 'params': {'batch_size': 108.0956161239525, 'beta_1': 0.9079878112678019, 'beta_2': 0.9423833839786537, 'dropout': 0.28669214991073816, 'learning_rate_init': 0.09383384796358825}}\n",
      "Iteration 27: \n",
      "\t{'target': -866.4994506835938, 'params': {'batch_size': 51.23161291917157, 'beta_1': 0.9066978343877784, 'beta_2': 0.9831334798900664, 'dropout': 0.056813554550273586, 'learning_rate_init': 0.04717405516974235}}\n",
      "Iteration 28: \n",
      "\t{'target': -1321.9324951171875, 'params': {'batch_size': 95.44936487270864, 'beta_1': 0.8798705378173048, 'beta_2': 0.923062976910543, 'dropout': 0.18154231930385162, 'learning_rate_init': 0.0608187855541309}}\n",
      "Iteration 29: \n",
      "\t{'target': -1321.932373046875, 'params': {'batch_size': 127.98157700854082, 'beta_1': 0.9219990184642938, 'beta_2': 0.9210560208080755, 'dropout': 0.2799566084946216, 'learning_rate_init': 0.04391698440227516}}\n",
      "Iteration 30: \n",
      "\t{'target': -1321.9322509765625, 'params': {'batch_size': 107.66621752163768, 'beta_1': 0.843225683182873, 'beta_2': 0.9407982657340173, 'dropout': 0.25802724603397587, 'learning_rate_init': 0.07794926276796443}}\n",
      "Iteration 31: \n",
      "\t{'target': -402.5487976074219, 'params': {'batch_size': 127.72985881961519, 'beta_1': 0.9576093191573507, 'beta_2': 0.9526469758161494, 'dropout': 0.02996178060917725, 'learning_rate_init': 0.003466050946964172}}\n",
      "Iteration 32: \n",
      "\t{'target': -339.0616455078125, 'params': {'batch_size': 127.48322018921996, 'beta_1': 0.8003393739374182, 'beta_2': 0.9058535052032789, 'dropout': 0.2584373840086995, 'learning_rate_init': 0.0015861602059778223}}\n",
      "Iteration 33: \n",
      "\t{'target': -15402.5068359375, 'params': {'batch_size': 127.34645761256944, 'beta_1': 0.9808934691700542, 'beta_2': 0.9184280720891268, 'dropout': 0.05651191567783729, 'learning_rate_init': 0.08648991047739217}}\n",
      "Iteration 34: \n",
      "\t{'target': -968.1607055664062, 'params': {'batch_size': 127.71636254935899, 'beta_1': 0.8360549597869799, 'beta_2': 0.9154955731773649, 'dropout': 0.2259231250268006, 'learning_rate_init': 1e-05}}\n",
      "Iteration 35: \n",
      "\t{'target': -1321.9324951171875, 'params': {'batch_size': 95.46781677579659, 'beta_1': 0.8769113033899701, 'beta_2': 0.9614650585142197, 'dropout': 0.19170817554476896, 'learning_rate_init': 0.04689728676563314}}\n",
      "Iteration 36: \n",
      "\t{'target': -1321.932373046875, 'params': {'batch_size': 48.64618162840552, 'beta_1': 0.9255866347377599, 'beta_2': 0.9435189017702628, 'dropout': 0.3942307238653048, 'learning_rate_init': 0.03563005734108723}}\n",
      "Iteration 37: \n",
      "\t{'target': -1321.932373046875, 'params': {'batch_size': 127.57690130020774, 'beta_1': 0.8054695252367521, 'beta_2': 0.9047742877347045, 'dropout': 0.4961447725645369, 'learning_rate_init': 0.04739486532741581}}\n",
      "Iteration 38: \n",
      "\t{'target': -1321.9322509765625, 'params': {'batch_size': 192.07773064450396, 'beta_1': 0.8369035272899317, 'beta_2': 0.9787181959456421, 'dropout': 0.1731867756793726, 'learning_rate_init': 0.026826775983611197}}\n",
      "Iteration 39: \n",
      "\t{'target': -1130.2159423828125, 'params': {'batch_size': 128.07224305295523, 'beta_1': 0.9595447072632122, 'beta_2': 0.9995933579267567, 'dropout': 0.018243108219069937, 'learning_rate_init': 0.05702453820218944}}\n"
     ]
    }
   ],
   "source": [
    "for i, res in enumerate(optimizer.res):\n",
    "    print(\"Iteration {}: \\n\\t{}\".format(i, res))"
   ]
  },
  {
   "cell_type": "code",
   "execution_count": 17,
   "metadata": {},
   "outputs": [
    {
     "name": "stdout",
     "output_type": "stream",
     "text": [
      "{'target': -339.0616455078125, 'params': {'batch_size': 127.48322018921996, 'beta_1': 0.8003393739374182, 'beta_2': 0.9058535052032789, 'dropout': 0.2584373840086995, 'learning_rate_init': 0.0015861602059778223}}\n"
     ]
    }
   ],
   "source": [
    "max_params = optimizer.max['params']\n",
    "print(optimizer.max)"
   ]
  },
  {
   "cell_type": "code",
   "execution_count": null,
   "metadata": {},
   "outputs": [],
   "source": []
  }
 ],
 "metadata": {
  "kernelspec": {
   "display_name": "Python 3 (ipykernel)",
   "language": "python",
   "name": "python3"
  },
  "language_info": {
   "codemirror_mode": {
    "name": "ipython",
    "version": 3
   },
   "file_extension": ".py",
   "mimetype": "text/x-python",
   "name": "python",
   "nbconvert_exporter": "python",
   "pygments_lexer": "ipython3",
   "version": "3.11.8"
  }
 },
 "nbformat": 4,
 "nbformat_minor": 4
}
