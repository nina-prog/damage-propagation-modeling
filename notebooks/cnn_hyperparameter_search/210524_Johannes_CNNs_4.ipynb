{
 "cells": [
  {
   "cell_type": "code",
   "execution_count": 19,
   "metadata": {
    "ExecuteTime": {
     "end_time": "2024-05-31T07:22:47.677265Z",
     "start_time": "2024-05-31T07:22:47.538328Z"
    },
    "collapsed": false,
    "jupyter": {
     "outputs_hidden": false
    }
   },
   "outputs": [
    {
     "name": "stdout",
     "output_type": "stream",
     "text": [
      "The autoreload extension is already loaded. To reload it, use:\n",
      "  %reload_ext autoreload\n"
     ]
    }
   ],
   "source": [
    "%load_ext autoreload\n",
    "%autoreload 2"
   ]
  },
  {
   "cell_type": "code",
   "execution_count": 20,
   "metadata": {
    "ExecuteTime": {
     "end_time": "2024-05-31T07:22:47.847864Z",
     "start_time": "2024-05-31T07:22:47.680264Z"
    },
    "collapsed": false,
    "jupyter": {
     "outputs_hidden": false
    }
   },
   "outputs": [],
   "source": [
    "%matplotlib inline\n",
    "%config InlineBackend.figure_format = 'retina'"
   ]
  },
  {
   "cell_type": "markdown",
   "metadata": {
    "collapsed": false,
    "jupyter": {
     "outputs_hidden": false
    }
   },
   "source": [
    "# Topic: EX2 - Turbofan RUL Prediction\n",
    "**Task**: Predict the remaining useful life (RUL) of turbofan engines based on given sensor data (time series data). It is a forcasting problem, where the goal is to predict the number of cycles an engine will last before it fails.\n",
    "**Data**: Turbofan engine degradation simulation data (NASA) - [Link](https://data.nasa.gov/dataset/Turbofan-Engine-Degradation-Simulation-Data-Set/vrks-gjie). See also in the topic [introduction notebook](https://github.com/nina-prog/damage-propagation-modeling/blob/2fb8c1a1102a48d7abbf04e4031807790a913a99/notebooks/Turbofan%20remaining%20useful%20life%20Prediction.ipynb).\n",
    "\n",
    "**Subtasks**:\n",
    "1. Perform a deep **exploratory data analysis (EDA)** on the given data.\n",
    "2. Implement a more efficient **sliding window method** for time series data analysis. -> 🎯 **Focus on this task**\n",
    "3. Apply **traditional machine learning methods** (SOTA) to predict the remaining useful life. Includes data preparation, feature extraction, feature selection, model selection, and model parameter optimization.\n",
    "4. Create **neural network models** to predict the remaining useful life. Includes different architectures like Convolutional Neural Networks (CNN), Recurrent Neural Networks (RNN), or Attention Models. Note: You can search for SOTA research papers and reproduce current state-of-the-art models.\n"
   ]
  },
  {
   "cell_type": "markdown",
   "metadata": {
    "collapsed": false,
    "jupyter": {
     "outputs_hidden": false
    }
   },
   "source": [
    "# Imports + Settings"
   ]
  },
  {
   "cell_type": "code",
   "execution_count": 21,
   "metadata": {},
   "outputs": [
    {
     "name": "stdout",
     "output_type": "stream",
     "text": [
      "Looking in indexes: https://pypi.org/simple, https://pypi.ngc.nvidia.com\n",
      "Requirement already satisfied: pytorch-lightning in /opt/conda/lib/python3.11/site-packages (2.2.5)\n",
      "Requirement already satisfied: numpy>=1.17.2 in /opt/conda/lib/python3.11/site-packages (from pytorch-lightning) (1.26.4)\n",
      "Requirement already satisfied: torch>=1.13.0 in /opt/conda/lib/python3.11/site-packages (from pytorch-lightning) (2.2.2+cu121)\n",
      "Requirement already satisfied: tqdm>=4.57.0 in /opt/conda/lib/python3.11/site-packages (from pytorch-lightning) (4.66.2)\n",
      "Requirement already satisfied: PyYAML>=5.4 in /opt/conda/lib/python3.11/site-packages (from pytorch-lightning) (6.0.1)\n",
      "Requirement already satisfied: fsspec>=2022.5.0 in /opt/conda/lib/python3.11/site-packages (from fsspec[http]>=2022.5.0->pytorch-lightning) (2024.3.1)\n",
      "Requirement already satisfied: torchmetrics>=0.7.0 in /opt/conda/lib/python3.11/site-packages (from pytorch-lightning) (1.4.0.post0)\n",
      "Requirement already satisfied: packaging>=20.0 in /opt/conda/lib/python3.11/site-packages (from pytorch-lightning) (24.0)\n",
      "Requirement already satisfied: typing-extensions>=4.4.0 in /opt/conda/lib/python3.11/site-packages (from pytorch-lightning) (4.11.0)\n",
      "Requirement already satisfied: lightning-utilities>=0.8.0 in /opt/conda/lib/python3.11/site-packages (from pytorch-lightning) (0.11.2)\n",
      "Requirement already satisfied: aiohttp!=4.0.0a0,!=4.0.0a1 in /opt/conda/lib/python3.11/site-packages (from fsspec[http]>=2022.5.0->pytorch-lightning) (3.9.3)\n",
      "Requirement already satisfied: setuptools in /opt/conda/lib/python3.11/site-packages (from lightning-utilities>=0.8.0->pytorch-lightning) (69.2.0)\n",
      "Requirement already satisfied: filelock in /opt/conda/lib/python3.11/site-packages (from torch>=1.13.0->pytorch-lightning) (3.13.3)\n",
      "Requirement already satisfied: sympy in /opt/conda/lib/python3.11/site-packages (from torch>=1.13.0->pytorch-lightning) (1.12)\n",
      "Requirement already satisfied: networkx in /opt/conda/lib/python3.11/site-packages (from torch>=1.13.0->pytorch-lightning) (3.3)\n",
      "Requirement already satisfied: jinja2 in /opt/conda/lib/python3.11/site-packages (from torch>=1.13.0->pytorch-lightning) (3.1.3)\n",
      "Requirement already satisfied: nvidia-cuda-nvrtc-cu12==12.1.105 in /opt/conda/lib/python3.11/site-packages (from torch>=1.13.0->pytorch-lightning) (12.1.105)\n",
      "Requirement already satisfied: nvidia-cuda-runtime-cu12==12.1.105 in /opt/conda/lib/python3.11/site-packages (from torch>=1.13.0->pytorch-lightning) (12.1.105)\n",
      "Requirement already satisfied: nvidia-cuda-cupti-cu12==12.1.105 in /opt/conda/lib/python3.11/site-packages (from torch>=1.13.0->pytorch-lightning) (12.1.105)\n",
      "Requirement already satisfied: nvidia-cudnn-cu12==8.9.2.26 in /opt/conda/lib/python3.11/site-packages (from torch>=1.13.0->pytorch-lightning) (8.9.2.26)\n",
      "Requirement already satisfied: nvidia-cublas-cu12==12.1.3.1 in /opt/conda/lib/python3.11/site-packages (from torch>=1.13.0->pytorch-lightning) (12.1.3.1)\n",
      "Requirement already satisfied: nvidia-cufft-cu12==11.0.2.54 in /opt/conda/lib/python3.11/site-packages (from torch>=1.13.0->pytorch-lightning) (11.0.2.54)\n",
      "Requirement already satisfied: nvidia-curand-cu12==10.3.2.106 in /opt/conda/lib/python3.11/site-packages (from torch>=1.13.0->pytorch-lightning) (10.3.2.106)\n",
      "Requirement already satisfied: nvidia-cusolver-cu12==11.4.5.107 in /opt/conda/lib/python3.11/site-packages (from torch>=1.13.0->pytorch-lightning) (11.4.5.107)\n",
      "Requirement already satisfied: nvidia-cusparse-cu12==12.1.0.106 in /opt/conda/lib/python3.11/site-packages (from torch>=1.13.0->pytorch-lightning) (12.1.0.106)\n",
      "Requirement already satisfied: nvidia-nccl-cu12==2.19.3 in /opt/conda/lib/python3.11/site-packages (from torch>=1.13.0->pytorch-lightning) (2.19.3)\n",
      "Requirement already satisfied: nvidia-nvtx-cu12==12.1.105 in /opt/conda/lib/python3.11/site-packages (from torch>=1.13.0->pytorch-lightning) (12.1.105)\n",
      "Requirement already satisfied: triton==2.2.0 in /opt/conda/lib/python3.11/site-packages (from torch>=1.13.0->pytorch-lightning) (2.2.0)\n",
      "Requirement already satisfied: nvidia-nvjitlink-cu12 in /opt/conda/lib/python3.11/site-packages (from nvidia-cusolver-cu12==11.4.5.107->torch>=1.13.0->pytorch-lightning) (12.4.127)\n",
      "Requirement already satisfied: aiosignal>=1.1.2 in /opt/conda/lib/python3.11/site-packages (from aiohttp!=4.0.0a0,!=4.0.0a1->fsspec[http]>=2022.5.0->pytorch-lightning) (1.3.1)\n",
      "Requirement already satisfied: attrs>=17.3.0 in /opt/conda/lib/python3.11/site-packages (from aiohttp!=4.0.0a0,!=4.0.0a1->fsspec[http]>=2022.5.0->pytorch-lightning) (23.2.0)\n",
      "Requirement already satisfied: frozenlist>=1.1.1 in /opt/conda/lib/python3.11/site-packages (from aiohttp!=4.0.0a0,!=4.0.0a1->fsspec[http]>=2022.5.0->pytorch-lightning) (1.4.1)\n",
      "Requirement already satisfied: multidict<7.0,>=4.5 in /opt/conda/lib/python3.11/site-packages (from aiohttp!=4.0.0a0,!=4.0.0a1->fsspec[http]>=2022.5.0->pytorch-lightning) (6.0.5)\n",
      "Requirement already satisfied: yarl<2.0,>=1.0 in /opt/conda/lib/python3.11/site-packages (from aiohttp!=4.0.0a0,!=4.0.0a1->fsspec[http]>=2022.5.0->pytorch-lightning) (1.9.4)\n",
      "Requirement already satisfied: MarkupSafe>=2.0 in /opt/conda/lib/python3.11/site-packages (from jinja2->torch>=1.13.0->pytorch-lightning) (2.1.5)\n",
      "Requirement already satisfied: mpmath>=0.19 in /opt/conda/lib/python3.11/site-packages (from sympy->torch>=1.13.0->pytorch-lightning) (1.3.0)\n",
      "Requirement already satisfied: idna>=2.0 in /opt/conda/lib/python3.11/site-packages (from yarl<2.0,>=1.0->aiohttp!=4.0.0a0,!=4.0.0a1->fsspec[http]>=2022.5.0->pytorch-lightning) (3.6)\n",
      "Looking in indexes: https://pypi.org/simple, https://pypi.ngc.nvidia.com\n",
      "Requirement already satisfied: colorlog in /opt/conda/lib/python3.11/site-packages (6.8.2)\n",
      "Looking in indexes: https://pypi.org/simple, https://pypi.ngc.nvidia.com\n",
      "Requirement already satisfied: bayesian-optimization in /opt/conda/lib/python3.11/site-packages (1.4.3)\n",
      "Requirement already satisfied: numpy>=1.9.0 in /opt/conda/lib/python3.11/site-packages (from bayesian-optimization) (1.26.4)\n",
      "Requirement already satisfied: scipy>=1.0.0 in /opt/conda/lib/python3.11/site-packages (from bayesian-optimization) (1.13.0)\n",
      "Requirement already satisfied: scikit-learn>=0.18.0 in /opt/conda/lib/python3.11/site-packages (from bayesian-optimization) (1.4.1.post1)\n",
      "Requirement already satisfied: colorama>=0.4.6 in /opt/conda/lib/python3.11/site-packages (from bayesian-optimization) (0.4.6)\n",
      "Requirement already satisfied: joblib>=1.2.0 in /opt/conda/lib/python3.11/site-packages (from scikit-learn>=0.18.0->bayesian-optimization) (1.4.0)\n",
      "Requirement already satisfied: threadpoolctl>=2.0.0 in /opt/conda/lib/python3.11/site-packages (from scikit-learn>=0.18.0->bayesian-optimization) (3.4.0)\n",
      "Looking in indexes: https://pypi.org/simple, https://pypi.ngc.nvidia.com\n",
      "Requirement already satisfied: pandas in /opt/conda/lib/python3.11/site-packages (2.2.1)\n",
      "Requirement already satisfied: numpy<2,>=1.23.2 in /opt/conda/lib/python3.11/site-packages (from pandas) (1.26.4)\n",
      "Requirement already satisfied: python-dateutil>=2.8.2 in /opt/conda/lib/python3.11/site-packages (from pandas) (2.9.0)\n",
      "Requirement already satisfied: pytz>=2020.1 in /opt/conda/lib/python3.11/site-packages (from pandas) (2024.1)\n",
      "Requirement already satisfied: tzdata>=2022.7 in /opt/conda/lib/python3.11/site-packages (from pandas) (2024.1)\n",
      "Requirement already satisfied: six>=1.5 in /opt/conda/lib/python3.11/site-packages (from python-dateutil>=2.8.2->pandas) (1.16.0)\n",
      "Looking in indexes: https://pypi.org/simple, https://pypi.ngc.nvidia.com\n",
      "Requirement already satisfied: plotly in /opt/conda/lib/python3.11/site-packages (5.20.0)\n",
      "Requirement already satisfied: tenacity>=6.2.0 in /opt/conda/lib/python3.11/site-packages (from plotly) (8.2.3)\n",
      "Requirement already satisfied: packaging in /opt/conda/lib/python3.11/site-packages (from plotly) (24.0)\n",
      "Looking in indexes: https://pypi.org/simple, https://pypi.ngc.nvidia.com\n",
      "Requirement already satisfied: matplotlib in /opt/conda/lib/python3.11/site-packages (3.8.4)\n",
      "Requirement already satisfied: contourpy>=1.0.1 in /opt/conda/lib/python3.11/site-packages (from matplotlib) (1.2.1)\n",
      "Requirement already satisfied: cycler>=0.10 in /opt/conda/lib/python3.11/site-packages (from matplotlib) (0.12.1)\n",
      "Requirement already satisfied: fonttools>=4.22.0 in /opt/conda/lib/python3.11/site-packages (from matplotlib) (4.51.0)\n",
      "Requirement already satisfied: kiwisolver>=1.3.1 in /opt/conda/lib/python3.11/site-packages (from matplotlib) (1.4.5)\n",
      "Requirement already satisfied: numpy>=1.21 in /opt/conda/lib/python3.11/site-packages (from matplotlib) (1.26.4)\n",
      "Requirement already satisfied: packaging>=20.0 in /opt/conda/lib/python3.11/site-packages (from matplotlib) (24.0)\n",
      "Requirement already satisfied: pillow>=8 in /opt/conda/lib/python3.11/site-packages (from matplotlib) (10.3.0)\n",
      "Requirement already satisfied: pyparsing>=2.3.1 in /opt/conda/lib/python3.11/site-packages (from matplotlib) (3.1.2)\n",
      "Requirement already satisfied: python-dateutil>=2.7 in /opt/conda/lib/python3.11/site-packages (from matplotlib) (2.9.0)\n",
      "Requirement already satisfied: six>=1.5 in /opt/conda/lib/python3.11/site-packages (from python-dateutil>=2.7->matplotlib) (1.16.0)\n",
      "Looking in indexes: https://pypi.org/simple, https://pypi.ngc.nvidia.com\n",
      "Requirement already satisfied: seaborn in /opt/conda/lib/python3.11/site-packages (0.13.2)\n",
      "Requirement already satisfied: numpy!=1.24.0,>=1.20 in /opt/conda/lib/python3.11/site-packages (from seaborn) (1.26.4)\n",
      "Requirement already satisfied: pandas>=1.2 in /opt/conda/lib/python3.11/site-packages (from seaborn) (2.2.1)\n",
      "Requirement already satisfied: matplotlib!=3.6.1,>=3.4 in /opt/conda/lib/python3.11/site-packages (from seaborn) (3.8.4)\n",
      "Requirement already satisfied: contourpy>=1.0.1 in /opt/conda/lib/python3.11/site-packages (from matplotlib!=3.6.1,>=3.4->seaborn) (1.2.1)\n",
      "Requirement already satisfied: cycler>=0.10 in /opt/conda/lib/python3.11/site-packages (from matplotlib!=3.6.1,>=3.4->seaborn) (0.12.1)\n",
      "Requirement already satisfied: fonttools>=4.22.0 in /opt/conda/lib/python3.11/site-packages (from matplotlib!=3.6.1,>=3.4->seaborn) (4.51.0)\n",
      "Requirement already satisfied: kiwisolver>=1.3.1 in /opt/conda/lib/python3.11/site-packages (from matplotlib!=3.6.1,>=3.4->seaborn) (1.4.5)\n",
      "Requirement already satisfied: packaging>=20.0 in /opt/conda/lib/python3.11/site-packages (from matplotlib!=3.6.1,>=3.4->seaborn) (24.0)\n",
      "Requirement already satisfied: pillow>=8 in /opt/conda/lib/python3.11/site-packages (from matplotlib!=3.6.1,>=3.4->seaborn) (10.3.0)\n",
      "Requirement already satisfied: pyparsing>=2.3.1 in /opt/conda/lib/python3.11/site-packages (from matplotlib!=3.6.1,>=3.4->seaborn) (3.1.2)\n",
      "Requirement already satisfied: python-dateutil>=2.7 in /opt/conda/lib/python3.11/site-packages (from matplotlib!=3.6.1,>=3.4->seaborn) (2.9.0)\n",
      "Requirement already satisfied: pytz>=2020.1 in /opt/conda/lib/python3.11/site-packages (from pandas>=1.2->seaborn) (2024.1)\n",
      "Requirement already satisfied: tzdata>=2022.7 in /opt/conda/lib/python3.11/site-packages (from pandas>=1.2->seaborn) (2024.1)\n",
      "Requirement already satisfied: six>=1.5 in /opt/conda/lib/python3.11/site-packages (from python-dateutil>=2.7->matplotlib!=3.6.1,>=3.4->seaborn) (1.16.0)\n"
     ]
    }
   ],
   "source": [
    "!pip install pytorch-lightning\n",
    "!pip install colorlog\n",
    "!pip install bayesian-optimization\n",
    "!pip install pandas\n",
    "!pip install plotly\n",
    "!pip install matplotlib\n",
    "!pip install seaborn"
   ]
  },
  {
   "cell_type": "code",
   "execution_count": 22,
   "metadata": {
    "ExecuteTime": {
     "end_time": "2024-05-31T08:50:12.983185Z",
     "start_time": "2024-05-31T08:50:12.682126Z"
    },
    "collapsed": false,
    "jupyter": {
     "outputs_hidden": false
    }
   },
   "outputs": [],
   "source": [
    "# third-party libraries\n",
    "import pandas as pd\n",
    "import numpy as np\n",
    "import os\n",
    "import pytorch_lightning as pl\n",
    "from pytorch_lightning import Trainer\n",
    "from pytorch_lightning.callbacks import ModelCheckpoint\n",
    "from sklearn.preprocessing import MinMaxScaler, StandardScaler, RobustScaler\n",
    "from bayes_opt import BayesianOptimization\n",
    "\n",
    "import time\n",
    "\n",
    "import plotly.express as px\n",
    "import matplotlib.pyplot as plt\n",
    "import seaborn as sns"
   ]
  },
  {
   "cell_type": "code",
   "execution_count": 25,
   "metadata": {
    "ExecuteTime": {
     "end_time": "2024-05-31T08:09:02.612502Z",
     "start_time": "2024-05-31T08:09:02.305441Z"
    },
    "collapsed": false,
    "jupyter": {
     "outputs_hidden": false
    }
   },
   "outputs": [],
   "source": [
    "# source code\n",
    "from src.data_loading import load_data, load_config\n",
    "from src.data_splitting import train_val_split_by_group\n",
    "from src.nn_utils import create_sliding_window, create_sliding_window_test\n",
    "from src.rolling_window_creator import calculate_RUL\n",
    "from src.data_processing import apply_padding_on_train_data_and_test_data, drop_samples_with_clipped_values\n",
    "from src.nn_util.nn_models.ligthning.cnnModel2 import CNNModel2 as CNNModel\n",
    "from src.nn_util.nn_models.ligthning.cnnModel1 import CNNModel1 as CNNModel1\n",
    "from src.nn_util.nn_models.ligthning.exampleLSTMModel import ExampleLSTMModel as LSTMModel\n",
    "from src.nn_util.datamodule.lightning.turbofanDatamodule import TurbofanDatamodule\n",
    "from src.data_cleaning import clean_data"
   ]
  },
  {
   "cell_type": "code",
   "execution_count": 26,
   "metadata": {
    "ExecuteTime": {
     "end_time": "2024-05-31T07:22:53.725604Z",
     "start_time": "2024-05-31T07:22:53.505419Z"
    },
    "collapsed": false,
    "jupyter": {
     "outputs_hidden": false
    }
   },
   "outputs": [],
   "source": [
    "# settings\n",
    "sns.set_style(\"whitegrid\")\n",
    "sns.set_palette(\"Set2\")\n",
    "sns.set(rc={\"figure.dpi\":100, 'savefig.dpi':200})\n",
    "sns.set_context('notebook')"
   ]
  },
  {
   "cell_type": "code",
   "execution_count": 27,
   "metadata": {
    "ExecuteTime": {
     "end_time": "2024-05-31T07:22:53.946459Z",
     "start_time": "2024-05-31T07:22:53.727631Z"
    },
    "collapsed": false,
    "jupyter": {
     "outputs_hidden": false
    }
   },
   "outputs": [],
   "source": [
    "np.random.seed(42)"
   ]
  },
  {
   "cell_type": "markdown",
   "metadata": {
    "collapsed": false,
    "jupyter": {
     "outputs_hidden": false
    }
   },
   "source": [
    "# Paths"
   ]
  },
  {
   "cell_type": "code",
   "execution_count": 28,
   "metadata": {
    "ExecuteTime": {
     "end_time": "2024-05-31T07:22:54.412806Z",
     "start_time": "2024-05-31T07:22:54.176545Z"
    },
    "collapsed": false,
    "jupyter": {
     "outputs_hidden": false
    }
   },
   "outputs": [],
   "source": [
    "PATH_TO_CONFIG = \"configs/config.yaml\""
   ]
  },
  {
   "cell_type": "markdown",
   "metadata": {
    "collapsed": false,
    "jupyter": {
     "outputs_hidden": false
    }
   },
   "source": [
    "# Load Config + Data"
   ]
  },
  {
   "cell_type": "code",
   "execution_count": 29,
   "metadata": {
    "ExecuteTime": {
     "end_time": "2024-05-31T07:22:54.654420Z",
     "start_time": "2024-05-31T07:22:54.412806Z"
    },
    "collapsed": false,
    "jupyter": {
     "outputs_hidden": false
    }
   },
   "outputs": [],
   "source": [
    "config = load_config(PATH_TO_CONFIG) # config is dict"
   ]
  },
  {
   "cell_type": "code",
   "execution_count": 30,
   "metadata": {
    "ExecuteTime": {
     "end_time": "2024-05-31T08:14:38.960674Z",
     "start_time": "2024-05-31T08:14:38.385040Z"
    },
    "collapsed": false,
    "jupyter": {
     "outputs_hidden": false
    }
   },
   "outputs": [
    {
     "name": "stdout",
     "output_type": "stream",
     "text": [
      "2024-06-01 05:40:01 [\u001B[34msrc.data_loading:43\u001B[0m] [\u001B[32mINFO\u001B[0m] >>>> Loading data set 4...\u001B[0m\n",
      "2024-06-01 05:40:01 [\u001B[34msrc.data_loading:72\u001B[0m] [\u001B[32mINFO\u001B[0m] >>>> Loaded raw data for dataset 4.\u001B[0m\n",
      "2024-06-01 05:40:01 [\u001B[34msrc.data_loading:73\u001B[0m] [\u001B[32mINFO\u001B[0m] >>>> Train Data: (61249, 26)\u001B[0m\n",
      "2024-06-01 05:40:01 [\u001B[34msrc.data_loading:74\u001B[0m] [\u001B[32mINFO\u001B[0m] >>>> Test Data: (41214, 26)\u001B[0m\n",
      "2024-06-01 05:40:01 [\u001B[34msrc.data_loading:75\u001B[0m] [\u001B[32mINFO\u001B[0m] >>>> Test RUL Data: (248, 1)\u001B[0m\n"
     ]
    }
   ],
   "source": [
    "train_data, test_data, test_RUL_data = load_data(config_path=PATH_TO_CONFIG, dataset_num=4)"
   ]
  },
  {
   "cell_type": "markdown",
   "metadata": {
    "collapsed": false,
    "jupyter": {
     "outputs_hidden": false
    }
   },
   "source": "# Hyperparameter Search for CNNModel1 for dataset FD004"
  },
  {
   "cell_type": "markdown",
   "metadata": {
    "collapsed": false,
    "jupyter": {
     "outputs_hidden": false
    }
   },
   "source": [
    "First search space:\n",
    "* learning rate initialisation: (0.00001, 0.1)\n",
    "* batch size: (10, 200)\n",
    "* dropout: (0.01, 0.5)\n",
    "* betas (of classifier Adam): beta_1 (0.8, 0.999) and beta_2 (0.9, 0.999999)"
   ]
  },
  {
   "metadata": {},
   "cell_type": "markdown",
   "source": [
    "Second search space:\n",
    "* learning rate initialisation:  (0.001, 0.01)\n",
    "* batch size: (140, 160)\n",
    "* dropout: (0.01, 0.5)\n",
    "* betas (of classifier Adam): beta_1 (0.9, 0.999) and beta_2 (0.9, 0.999)"
   ]
  },
  {
   "metadata": {},
   "cell_type": "markdown",
   "source": "Iterations: 26 for the first search space and 40 for the second search space "
  },
  {
   "metadata": {},
   "cell_type": "markdown",
   "source": "Note: Due to an error in the first search space the run ended with the 26th iteration. The second search space was selected around the hyperparameters of the best model of the first search space."
  },
  {
   "cell_type": "code",
   "execution_count": 31,
   "metadata": {
    "ExecuteTime": {
     "end_time": "2024-05-31T08:50:15.868827Z",
     "start_time": "2024-05-31T08:50:15.570942Z"
    }
   },
   "outputs": [
    {
     "name": "stderr",
     "output_type": "stream",
     "text": [
      "Seed set to 21\n"
     ]
    },
    {
     "data": {
      "text/plain": [
       "21"
      ]
     },
     "execution_count": 31,
     "metadata": {},
     "output_type": "execute_result"
    }
   ],
   "source": [
    "# some hyperparameters\n",
    "time_column = 'Cycle'\n",
    "group_column = 'UnitNumber'\n",
    "\n",
    "window_size = 30\n",
    "clip_value = 125\n",
    "apply_data_cleaning = True\n",
    "\n",
    "# Apply scaler. The order in the list represents the order in which they are applied\n",
    "std_scaler = StandardScaler()\n",
    "minmax_scaler = MinMaxScaler()\n",
    "robust_scaler = RobustScaler()\n",
    "scaler = [std_scaler, minmax_scaler, robust_scaler]\n",
    "\n",
    "# The model_type can be 'CNN_2D' or 'CNN_1D' and defines what type of convolutional layers has been used.\n",
    "model_type = 'CNN_1D' \n",
    "\n",
    "# Setting the seed\n",
    "pl.seed_everything(21)"
   ]
  },
  {
   "cell_type": "code",
   "execution_count": 32,
   "metadata": {
    "ExecuteTime": {
     "end_time": "2024-05-31T08:14:41.432236Z",
     "start_time": "2024-05-31T08:14:41.211969Z"
    }
   },
   "outputs": [
    {
     "name": "stdout",
     "output_type": "stream",
     "text": [
      "2024-06-01 05:40:04 [\u001B[34msrc.data_cleaning:134\u001B[0m] [\u001B[32mINFO\u001B[0m] >>>> Cleaning train and test data...\u001B[0m\n",
      "2024-06-01 05:40:04 [\u001B[34msrc.data_cleaning:136\u001B[0m] [\u001B[32mINFO\u001B[0m] >>>> Formatting column types...\u001B[0m\n",
      "2024-06-01 05:40:04 [\u001B[34msrc.data_cleaning:69\u001B[0m] [DEBUG\u001B[0m] >>>> Found 0 categorical columns: []\u001B[0m\n",
      "2024-06-01 05:40:04 [\u001B[34msrc.data_cleaning:69\u001B[0m] [DEBUG\u001B[0m] >>>> Found 0 categorical columns: []\u001B[0m\n",
      "2024-06-01 05:40:04 [\u001B[34msrc.data_cleaning:141\u001B[0m] [\u001B[32mINFO\u001B[0m] >>>> Handling duplicates...\u001B[0m\n",
      "2024-06-01 05:40:04 [\u001B[34msrc.data_cleaning:146\u001B[0m] [\u001B[32mINFO\u001B[0m] >>>> Removing outliers...\u001B[0m\n",
      "2024-06-01 05:40:04 [\u001B[34msrc.outlier_detection:150\u001B[0m] [DEBUG\u001B[0m] >>>> Removing outliers using method: None ...\u001B[0m\n",
      "2024-06-01 05:40:04 [\u001B[34msrc.outlier_detection:162\u001B[0m] [\u001B[32mINFO\u001B[0m] >>>> No outlier detection method specified. Skipping outlier detection.\u001B[0m\n",
      "2024-06-01 05:40:04 [\u001B[34msrc.outlier_detection:150\u001B[0m] [DEBUG\u001B[0m] >>>> Removing outliers using method: None ...\u001B[0m\n",
      "2024-06-01 05:40:04 [\u001B[34msrc.outlier_detection:162\u001B[0m] [\u001B[32mINFO\u001B[0m] >>>> No outlier detection method specified. Skipping outlier detection.\u001B[0m\n",
      "2024-06-01 05:40:04 [\u001B[34msrc.data_cleaning:150\u001B[0m] [\u001B[32mINFO\u001B[0m] >>>> Filter features based train data...\u001B[0m\n",
      "2024-06-01 05:40:04 [\u001B[34msrc.data_cleaning:26\u001B[0m] [DEBUG\u001B[0m] >>>> Found 0 features with missing values above the threshold of 0.1.\u001B[0m\n",
      "2024-06-01 05:40:04 [\u001B[34msrc.data_cleaning:46\u001B[0m] [DEBUG\u001B[0m] >>>> Found 0 features with only a single unique value: []\u001B[0m\n",
      "2024-06-01 05:40:04 [\u001B[34msrc.data_cleaning:103\u001B[0m] [DEBUG\u001B[0m] >>>> Found 0 uncorrelated features with a correlation threshold of 0.0: []\u001B[0m\n",
      "2024-06-01 05:40:04 [\u001B[34msrc.data_cleaning:162\u001B[0m] [\u001B[32mINFO\u001B[0m] >>>> Dropping features based on missing values, single unique values, and no target correlation...\u001B[0m\n",
      "2024-06-01 05:40:04 [\u001B[34msrc.data_cleaning:172\u001B[0m] [\u001B[32mINFO\u001B[0m] >>>> Data cleaning completed.\u001B[0m\n",
      "2024-06-01 05:40:04 [\u001B[34msrc.data_cleaning:173\u001B[0m] [\u001B[32mINFO\u001B[0m] >>>> Original train DataFrame shape: (61249, 26), Resulting train DataFrame shape: (61249, 26)\u001B[0m\n",
      "2024-06-01 05:40:04 [\u001B[34msrc.data_cleaning:174\u001B[0m] [\u001B[32mINFO\u001B[0m] >>>> Original test DataFrame shape: (41214, 26), Resulting test DataFrame shape: (41214, 26)\u001B[0m\n",
      "2024-06-01 05:40:04 [\u001B[34msrc.data_processing:37\u001B[0m] [\u001B[32mINFO\u001B[0m] >>>> The minimum number of cycles of a motor before the padding is 19.\u001B[0m\n",
      "2024-06-01 05:40:04 [\u001B[34msrc.data_processing:43\u001B[0m] [\u001B[32mINFO\u001B[0m] >>>> The padding value is 11.\u001B[0m\n",
      "2024-06-01 05:40:04 [\u001B[34msrc.data_processing:52\u001B[0m] [\u001B[32mINFO\u001B[0m] >>>> The minimum number of cycles of a motor with the padding is 19.\u001B[0m\n",
      "2024-06-01 05:40:05 [\u001B[34msrc.data_splitting:47\u001B[0m] [\u001B[32mINFO\u001B[0m] >>>> Train set contains 224 different engines --> in total 57320\u001B[0m\n",
      "2024-06-01 05:40:05 [\u001B[34msrc.data_splitting:48\u001B[0m] [\u001B[32mINFO\u001B[0m] >>>>  Test set contains 25 different engines --> in total 6668\u001B[0m\n",
      "2024-06-01 05:40:20 [\u001B[34msrc.data_processing:110\u001B[0m] [\u001B[32mINFO\u001B[0m] >>>> The median of the frequency of each RUL value in the data is 224.0.\u001B[0m\n",
      "2024-06-01 05:40:20 [\u001B[34msrc.data_processing:111\u001B[0m] [\u001B[32mINFO\u001B[0m] >>>> The the frequency of the clipped RUL value in the data is 23084.\u001B[0m\n",
      "2024-06-01 05:40:20 [\u001B[34msrc.data_processing:117\u001B[0m] [\u001B[32mINFO\u001B[0m] >>>> The the frequency of the clipped RUL value after dropping is 448.\u001B[0m\n",
      "2024-06-01 05:40:20 [\u001B[34msrc.data_processing:125\u001B[0m] [\u001B[32mINFO\u001B[0m] >>>> The number of samples in the data has dropped from 50824 to 28188.\u001B[0m\n",
      "2024-06-01 05:40:20 [\u001B[34msrc.data_processing:110\u001B[0m] [\u001B[32mINFO\u001B[0m] >>>> The median of the frequency of each RUL value in the data is 25.0.\u001B[0m\n",
      "2024-06-01 05:40:20 [\u001B[34msrc.data_processing:111\u001B[0m] [\u001B[32mINFO\u001B[0m] >>>> The the frequency of the clipped RUL value in the data is 2843.\u001B[0m\n",
      "2024-06-01 05:40:20 [\u001B[34msrc.data_processing:117\u001B[0m] [\u001B[32mINFO\u001B[0m] >>>> The the frequency of the clipped RUL value after dropping is 50.\u001B[0m\n",
      "2024-06-01 05:40:20 [\u001B[34msrc.data_processing:125\u001B[0m] [\u001B[32mINFO\u001B[0m] >>>> The number of samples in the data has dropped from 5943 to 3150.\u001B[0m\n"
     ]
    }
   ],
   "source": [
    "if apply_data_cleaning:\n",
    "    train_data, test_data = clean_data(train_data, test_data, method=None, ignore_columns=['UnitNumber', 'Cycle'], threshold_missing=0.1, threshold_corr=0.0, contamination=0.05)\n",
    "    \n",
    "# Add column RUL to train_data\n",
    "train_data = calculate_RUL(train_data, time_column, group_column, clip_value)\n",
    "\n",
    "train_data, test_data = apply_padding_on_train_data_and_test_data(train_data=train_data, test_data=test_data, window_size=window_size)\n",
    "\n",
    "X_test, _ = create_sliding_window_test(test_data, column_RUL=False, drop_columns=['UnitNumber'])\n",
    "y_test = test_RUL_data.values\n",
    "\n",
    "train, val = train_val_split_by_group(train_data, test_size=0.1, random_state=12)\n",
    "\n",
    "X_train, y_train = create_sliding_window(train, window_size=window_size)  #, drop_columns=['UnitNumber', 'Cycle, 'RUL'])\n",
    "X_val, y_val = create_sliding_window(val, window_size=window_size)  #, drop_columns=['UnitNumber', 'Cycle', 'RUL'])\n",
    "\n",
    "X_train, y_train = drop_samples_with_clipped_values(X_train, y_train, clip_value)\n",
    "X_val, y_val = drop_samples_with_clipped_values(X_val, y_val, clip_value)"
   ]
  },
  {
   "cell_type": "markdown",
   "metadata": {},
   "source": [
    "Scale the data"
   ]
  },
  {
   "cell_type": "code",
   "execution_count": 33,
   "metadata": {
    "ExecuteTime": {
     "end_time": "2024-05-31T08:50:23.688451Z",
     "start_time": "2024-05-31T08:50:22.165585Z"
    }
   },
   "outputs": [],
   "source": [
    "X_train_shape = X_train.shape\n",
    "X_val_shape = X_val.shape\n",
    "X_test_shape = X_test.shape\n",
    "\n",
    "# Note: Do not normalize the cycle value! That is why we start with one\n",
    "for single_scaler in scaler:\n",
    "    for i in range(1, X_train.shape[-1]):\n",
    "        X_train[:, :, i] = single_scaler.fit_transform(X_train[:, :, i])\n",
    "        X_val[:, :, i] = single_scaler.transform(X_val[:, :, i])\n",
    "        X_test[:, :, i] = single_scaler.transform(X_test[:, :, i])"
   ]
  },
  {
   "cell_type": "markdown",
   "metadata": {},
   "source": [
    "Change data types of arrays to float32 and swap axes if necessary:"
   ]
  },
  {
   "cell_type": "code",
   "execution_count": 34,
   "metadata": {
    "ExecuteTime": {
     "end_time": "2024-05-30T15:35:13.166133Z",
     "start_time": "2024-05-30T15:35:12.746168Z"
    }
   },
   "outputs": [
    {
     "name": "stdout",
     "output_type": "stream",
     "text": [
      "(28188, 30, 25)\n",
      "(28188, 25, 30)\n",
      "(3150, 30, 25)\n",
      "(3150, 25, 30)\n",
      "(248, 30, 25)\n",
      "(248, 25, 30)\n"
     ]
    }
   ],
   "source": [
    "model_type = 'CNN_1D'\n",
    "\n",
    "print(X_train.shape)\n",
    "if model_type == 'CNN_1D':\n",
    "    X_train = np.swapaxes(X_train, 1, 2)\n",
    "elif model_type == 'CNN_2D':\n",
    "    X_train = np.swapaxes(X_train, 1, 2)\n",
    "    X_train = X_train[:, np.newaxis, :, :]\n",
    "X_train = np.array(X_train, dtype=np.float32)\n",
    "y_train = np.array(y_train, dtype=np.float32)\n",
    "print(X_train.shape)\n",
    "\n",
    "print(X_val.shape)\n",
    "if model_type == 'CNN_1D':\n",
    "    X_val = np.swapaxes(X_val, 1, 2)\n",
    "elif model_type == 'CNN_2D':\n",
    "    X_val = np.swapaxes(X_val, 1, 2)\n",
    "    X_val = X_val[:, np.newaxis, :, :]\n",
    "X_val = np.array(X_val, dtype=np.float32)\n",
    "y_val = np.array(y_val, dtype=np.float32)\n",
    "print(X_val.shape)\n",
    "\n",
    "print(X_test.shape)\n",
    "if model_type == 'CNN_1D':\n",
    "    X_test = np.swapaxes(X_test, 1, 2)\n",
    "elif model_type == 'CNN_2D':\n",
    "    X_test = np.swapaxes(X_test, 1, 2)\n",
    "    X_test = X_test[:, np.newaxis, :, :]\n",
    "X_test = np.array(X_test, dtype=np.float32)\n",
    "y_test = np.array(y_test, dtype=np.float32)\n",
    "print(X_test.shape)"
   ]
  },
  {
   "cell_type": "markdown",
   "metadata": {},
   "source": [
    "## Hyperparameter Search "
   ]
  },
  {
   "cell_type": "code",
   "metadata": {
    "scrolled": true
   },
   "source": [
    "from sklearn.metrics import root_mean_squared_error\n",
    "import torch \n",
    "# Setting the seed\n",
    "pl.seed_everything(21)\n",
    "\n",
    "def hyperparameter_function_cnn(learning_rate_init, batch_size, dropout, beta_1, beta_2):\n",
    "    \"\"\" Function for hyperparameter optimization\n",
    "    \"\"\"    \n",
    "    # Select hyperparameters of trainer!\n",
    "    checkpoint_callback = ModelCheckpoint(monitor=\"val_loss\")\n",
    "    trainer = Trainer(min_epochs=1, max_epochs=150, callbacks=[checkpoint_callback], deterministic=True)\n",
    "    datamodule = TurbofanDatamodule(batch_size=int(batch_size), random_state=15)\n",
    "    datamodule.set_train_dataset(X_train, y_train)\n",
    "    datamodule.set_val_dataset(X_val, y_val)\n",
    "    datamodule.set_predict_dataset(X_test)\n",
    "    datamodule.set_test_dataset(X_test, y_test)\n",
    "    model = CNNModel(lr=learning_rate_init, window_size=window_size, features=25, dropout_rate=dropout, beta_1=beta_1, beta_2=beta_2)\n",
    "    trainer.fit(model, datamodule=datamodule)\n",
    "    pred = trainer.validate(model, datamodule=datamodule, ckpt_path='best')\n",
    "    return - pred[0]['val_loss']\n",
    "    \n",
    "\n",
    "# Bounded region of parameter space\n",
    "pbounds = {'learning_rate_init': (0.00001, 0.1), 'batch_size': (10, 200), 'dropout': (0.01, 0.5), 'beta_1': (0.8, 0.999), 'beta_2': (0.9, 0.999999)}\n",
    "\n",
    "optimizer = BayesianOptimization(\n",
    "    f=hyperparameter_function_cnn,\n",
    "    pbounds=pbounds,\n",
    "    random_state=15,\n",
    ")\n",
    "optimizer.maximize(\n",
    "    init_points=15,\n",
    "    n_iter=25,\n",
    ")"
   ],
   "outputs": [],
   "execution_count": null
  },
  {
   "cell_type": "code",
   "execution_count": 16,
   "metadata": {},
   "outputs": [
    {
     "name": "stdout",
     "output_type": "stream",
     "text": [
      "Iteration 0: \n",
      "\t{'target': -1180.4991455078125, 'params': {'batch_size': 171.27536248102996, 'beta_1': 0.8356002890592787, 'beta_2': 0.9054362670674289, 'dropout': 0.18715383858322926, 'learning_rate_init': 0.027547338851355133}}\n",
      "Iteration 1: \n",
      "\t{'target': -888.2766723632812, 'params': {'batch_size': 110.7000427301308, 'beta_1': 0.8608778642314473, 'beta_2': 0.9304471314410552, 'dropout': 0.0647532253260414, 'learning_rate_init': 0.02499740239787265}}\n",
      "Iteration 2: \n",
      "\t{'target': -1321.932373046875, 'params': {'batch_size': 184.34968058894685, 'beta_1': 0.8525652237974214, 'beta_2': 0.9717766509736682, 'dropout': 0.43420036675317547, 'learning_rate_init': 0.08070987742971512}}\n",
      "Iteration 3: \n",
      "\t{'target': -1051.4298095703125, 'params': {'batch_size': 50.00461070517731, 'beta_1': 0.8332813632598327, 'beta_2': 0.9046705924618155, 'dropout': 0.029316932761174072, 'learning_rate_init': 0.020031078669449538}}\n",
      "Iteration 4: \n",
      "\t{'target': -1321.932373046875, 'params': {'batch_size': 199.72324651816268, 'beta_1': 0.8741846086872498, 'beta_2': 0.976050266882621, 'dropout': 0.242002476914749, 'learning_rate_init': 0.0509764334287073}}\n",
      "Iteration 5: \n",
      "\t{'target': -1139.9647216796875, 'params': {'batch_size': 189.55729926618412, 'beta_1': 0.8217798830200242, 'beta_2': 0.9465088509833228, 'dropout': 0.0793620773513927, 'learning_rate_init': 0.053839492728071}}\n",
      "Iteration 6: \n",
      "\t{'target': -1321.932373046875, 'params': {'batch_size': 66.80974473504665, 'beta_1': 0.9070112986643484, 'beta_2': 0.9665620881549476, 'dropout': 0.18852111227839155, 'learning_rate_init': 0.0623056317472627}}\n",
      "Iteration 7: \n",
      "\t{'target': -1321.932373046875, 'params': {'batch_size': 132.11772819659015, 'beta_1': 0.8835763821993773, 'beta_2': 0.9403238401585822, 'dropout': 0.20130595978730492, 'learning_rate_init': 0.040624890352024434}}\n",
      "Iteration 8: \n",
      "\t{'target': -588.8761596679688, 'params': {'batch_size': 25.136560024080588, 'beta_1': 0.8113094090810047, 'beta_2': 0.9078330125324002, 'dropout': 0.3508821272131725, 'learning_rate_init': 0.0029256045009052405}}\n",
      "Iteration 9: \n",
      "\t{'target': -1321.9324951171875, 'params': {'batch_size': 104.90355974852595, 'beta_1': 0.8263942292311478, 'beta_2': 0.903075532598945, 'dropout': 0.32334981987380085, 'learning_rate_init': 0.044605354770486064}}\n",
      "Iteration 10: \n",
      "\t{'target': -1321.9324951171875, 'params': {'batch_size': 195.1752607867139, 'beta_1': 0.8656234205419467, 'beta_2': 0.9195422868964955, 'dropout': 0.34518264403357063, 'learning_rate_init': 0.035116374738145426}}\n",
      "Iteration 11: \n",
      "\t{'target': -546.3052978515625, 'params': {'batch_size': 156.49686153446098, 'beta_1': 0.9575681007725255, 'beta_2': 0.9443870150379537, 'dropout': 0.14172586761653777, 'learning_rate_init': 0.0024002031612311145}}\n",
      "Iteration 12: \n",
      "\t{'target': -1321.9324951171875, 'params': {'batch_size': 80.55318749588672, 'beta_1': 0.8194484450515168, 'beta_2': 0.9727515273352426, 'dropout': 0.2351277684145007, 'learning_rate_init': 0.05205444251622601}}\n",
      "Iteration 13: \n",
      "\t{'target': -1321.932373046875, 'params': {'batch_size': 140.0681181516677, 'beta_1': 0.8846327687631779, 'beta_2': 0.9603467022580682, 'dropout': 0.4136860631436413, 'learning_rate_init': 0.04519260763164287}}\n",
      "Iteration 14: \n",
      "\t{'target': -1321.9324951171875, 'params': {'batch_size': 178.70958819632807, 'beta_1': 0.8438595077980542, 'beta_2': 0.9106821583494007, 'dropout': 0.01588496155841028, 'learning_rate_init': 0.09179496045118114}}\n",
      "Iteration 15: \n",
      "\t{'target': -1321.9324951171875, 'params': {'batch_size': 160.63161312488307, 'beta_1': 0.8143476641963074, 'beta_2': 0.9557642285934176, 'dropout': 0.4827530354851442, 'learning_rate_init': 0.07477519877207141}}\n",
      "Iteration 16: \n",
      "\t{'target': -1023.6820678710938, 'params': {'batch_size': 21.87344866542841, 'beta_1': 0.9514849420716964, 'beta_2': 0.9026641966911714, 'dropout': 0.10549343879686018, 'learning_rate_init': 0.017003924919182883}}\n",
      "Iteration 17: \n",
      "\t{'target': -1492.8394775390625, 'params': {'batch_size': 155.4336959890639, 'beta_1': 0.9943787500147452, 'beta_2': 0.9414428868511008, 'dropout': 0.05389209448994127, 'learning_rate_init': 1e-05}}\n",
      "Iteration 18: \n",
      "\t{'target': -710.1315307617188, 'params': {'batch_size': 187.5526415593449, 'beta_1': 0.9419222920925182, 'beta_2': 0.9757271851692053, 'dropout': 0.022127859956258395, 'learning_rate_init': 0.04322597519764118}}\n",
      "Iteration 19: \n",
      "\t{'target': -1321.9326171875, 'params': {'batch_size': 92.03535155456579, 'beta_1': 0.9359225277755373, 'beta_2': 0.9810973486523481, 'dropout': 0.0819597971583201, 'learning_rate_init': 0.09123645728933885}}\n",
      "Iteration 20: \n",
      "\t{'target': -1070.348388671875, 'params': {'batch_size': 152.8747729500178, 'beta_1': 0.9943239390539831, 'beta_2': 0.994342435011905, 'dropout': 0.03939159757438576, 'learning_rate_init': 0.04717543831473712}}\n",
      "Iteration 21: \n",
      "\t{'target': -12675.158203125, 'params': {'batch_size': 133.66645664985361, 'beta_1': 0.9784831688485837, 'beta_2': 0.9108603219282768, 'dropout': 0.18097664513500056, 'learning_rate_init': 0.08937859698527204}}\n",
      "Iteration 22: \n",
      "\t{'target': -1321.9324951171875, 'params': {'batch_size': 156.47550895024173, 'beta_1': 0.9386069979930304, 'beta_2': 0.9099669708722443, 'dropout': 0.1476040691283853, 'learning_rate_init': 0.029765814066668315}}\n",
      "Iteration 23: \n",
      "\t{'target': -1321.932373046875, 'params': {'batch_size': 13.661802478316007, 'beta_1': 0.8723602094137, 'beta_2': 0.9015978198457064, 'dropout': 0.038707344251575515, 'learning_rate_init': 0.054373070939518785}}\n",
      "Iteration 24: \n",
      "\t{'target': -1320.8748779296875, 'params': {'batch_size': 25.126108511946917, 'beta_1': 0.8003813004774255, 'beta_2': 0.9478475127233061, 'dropout': 0.35485324354089787, 'learning_rate_init': 0.03395264400063482}}\n",
      "Iteration 25: \n",
      "\t{'target': -1054.550048828125, 'params': {'batch_size': 156.7754817139867, 'beta_1': 0.999, 'beta_2': 0.999999, 'dropout': 0.06502186673759103, 'learning_rate_init': 1e-05}}\n",
      "Iteration 26: \n",
      "\t{'target': nan, 'params': {'batch_size': 25.420548489737648, 'beta_1': 0.9921219261301872, 'beta_2': 0.935966526933483, 'dropout': 0.12540181650093898, 'learning_rate_init': 0.006867875008993247}}\n"
     ]
    }
   ],
   "source": [
    "for i, res in enumerate(optimizer.res):\n",
    "    print(\"Iteration {}: \\n\\t{}\".format(i, res))"
   ]
  },
  {
   "cell_type": "code",
   "metadata": {
    "scrolled": true
   },
   "source": [
    "from sklearn.metrics import root_mean_squared_error\n",
    "import torch \n",
    "# Setting the seed\n",
    "pl.seed_everything(21)\n",
    "\n",
    "def hyperparameter_function_cnn(learning_rate_init, batch_size, dropout, beta_1, beta_2):\n",
    "    \"\"\" Function for hyperparameter optimization\n",
    "    \"\"\"    \n",
    "    # Select hyperparameters of trainer!\n",
    "    checkpoint_callback = ModelCheckpoint(monitor=\"val_loss\")\n",
    "    trainer = Trainer(min_epochs=1, max_epochs=150, callbacks=[checkpoint_callback], deterministic=True)\n",
    "    datamodule = TurbofanDatamodule(batch_size=int(batch_size), random_state=15)\n",
    "    datamodule.set_train_dataset(X_train, y_train)\n",
    "    datamodule.set_val_dataset(X_val, y_val)\n",
    "    datamodule.set_predict_dataset(X_test)\n",
    "    datamodule.set_test_dataset(X_test, y_test)\n",
    "    model = CNNModel(lr=learning_rate_init, window_size=window_size, features=25, dropout_rate=dropout, beta_1=beta_1, beta_2=beta_2)\n",
    "    trainer.fit(model, datamodule=datamodule)\n",
    "    pred = trainer.validate(model, datamodule=datamodule, ckpt_path='best')\n",
    "    return - pred[0]['val_loss']\n",
    "    \n",
    "\n",
    "# Bounded region of parameter space\n",
    "pbounds = {'learning_rate_init': (0.001, 0.01), 'batch_size': (140, 160), 'dropout': (0.01, 0.2), 'beta_1': (0.9, 0.999), 'beta_2': (0.9, 0.999)}\n",
    "\n",
    "optimizer = BayesianOptimization(\n",
    "    f=hyperparameter_function_cnn,\n",
    "    pbounds=pbounds,\n",
    "    random_state=20,\n",
    ")\n",
    "optimizer.maximize(\n",
    "    init_points=15,\n",
    "    n_iter=25,\n",
    ")"
   ],
   "outputs": [],
   "execution_count": null
  },
  {
   "cell_type": "code",
   "execution_count": 36,
   "metadata": {},
   "outputs": [
    {
     "name": "stdout",
     "output_type": "stream",
     "text": [
      "Iteration 0: \n",
      "\t{'target': -578.6076049804688, 'params': {'batch_size': 151.76261602154548, 'beta_1': 0.9888736590630324, 'beta_2': 0.9882615422179961, 'dropout': 0.16500912068845996, 'learning_rate_init': 0.0013230062705516796}}\n",
      "Iteration 1: \n",
      "\t{'target': -620.138916015625, 'params': {'batch_size': 153.83515163517768, 'beta_1': 0.9374894132585354, 'beta_2': 0.95133258359936, 'dropout': 0.13501077845617449, 'learning_rate_init': 0.002744651960946535}}\n",
      "Iteration 2: \n",
      "\t{'target': -505.94805908203125, 'params': {'batch_size': 145.44632804133167, 'beta_1': 0.9711419874265155, 'beta_2': 0.9775173573364421, 'dropout': 0.17156225155724913, 'learning_rate_init': 0.007977204045949265}}\n",
      "Iteration 3: \n",
      "\t{'target': -614.5155639648438, 'params': {'batch_size': 140.73328612842172, 'beta_1': 0.9115526797781567, 'beta_2': 0.9743767892492824, 'dropout': 0.055451461077925805, 'learning_rate_init': 0.003293254125479321}}\n",
      "Iteration 4: \n",
      "\t{'target': -1158.251708984375, 'params': {'batch_size': 157.15251062339524, 'beta_1': 0.994028123585316, 'beta_2': 0.9556069989431046, 'dropout': 0.04396829877149555, 'learning_rate_init': 0.007932267398245603}}\n",
      "Iteration 5: \n",
      "\t{'target': -487.2310791015625, 'params': {'batch_size': 149.847620792291, 'beta_1': 0.962494053490791, 'beta_2': 0.9831102943684569, 'dropout': 0.09759748529556184, 'learning_rate_init': 0.005481460659765747}}\n",
      "Iteration 6: \n",
      "\t{'target': -434.22528076171875, 'params': {'batch_size': 153.588222351065, 'beta_1': 0.9644278054982097, 'beta_2': 0.926610728635691, 'dropout': 0.02279168671841337, 'learning_rate_init': 0.007943006245227067}}\n",
      "Iteration 7: \n",
      "\t{'target': -660.3881225585938, 'params': {'batch_size': 149.61968264599292, 'beta_1': 0.9325914343656311, 'beta_2': 0.95055346456134, 'dropout': 0.06008947744541079, 'learning_rate_init': 0.003794603950416677}}\n",
      "Iteration 8: \n",
      "\t{'target': -562.9197387695312, 'params': {'batch_size': 152.537068754327, 'beta_1': 0.955187531246656, 'beta_2': 0.9315393763984005, 'dropout': 0.0850202119631012, 'learning_rate_init': 0.003321771272786667}}\n",
      "Iteration 9: \n",
      "\t{'target': -579.76513671875, 'params': {'batch_size': 151.64482246570432, 'beta_1': 0.916001242333935, 'beta_2': 0.959215248156737, 'dropout': 0.16690647967864194, 'learning_rate_init': 0.002407525466598525}}\n",
      "Iteration 10: \n",
      "\t{'target': -632.943115234375, 'params': {'batch_size': 154.68601038634105, 'beta_1': 0.9404556997758035, 'beta_2': 0.9770901025319697, 'dropout': 0.16275440784609166, 'learning_rate_init': 0.008074642991741657}}\n",
      "Iteration 11: \n",
      "\t{'target': -443.6600341796875, 'params': {'batch_size': 151.84574037311626, 'beta_1': 0.9657844310797348, 'beta_2': 0.9640101613907853, 'dropout': 0.09087093100316966, 'learning_rate_init': 0.00562211500381969}}\n",
      "Iteration 12: \n",
      "\t{'target': -488.81329345703125, 'params': {'batch_size': 150.02515687432194, 'beta_1': 0.9036712972809612, 'beta_2': 0.9701034934229699, 'dropout': 0.12788181404123183, 'learning_rate_init': 0.008000276811555187}}\n",
      "Iteration 13: \n",
      "\t{'target': -612.6192626953125, 'params': {'batch_size': 149.18818931295758, 'beta_1': 0.9376007499155505, 'beta_2': 0.9288973281518184, 'dropout': 0.1158734838725285, 'learning_rate_init': 0.001757472415277799}}\n",
      "Iteration 14: \n",
      "\t{'target': -509.84271240234375, 'params': {'batch_size': 152.62563338288092, 'beta_1': 0.9935124783041165, 'beta_2': 0.9882325159590342, 'dropout': 0.17693069015504437, 'learning_rate_init': 0.00410276464306296}}\n",
      "Iteration 15: \n",
      "\t{'target': -634.15966796875, 'params': {'batch_size': 154.30882061859094, 'beta_1': 0.9004590669315207, 'beta_2': 0.913683026563733, 'dropout': 0.04730201746390671, 'learning_rate_init': 0.007339819314185926}}\n",
      "Iteration 16: \n",
      "\t{'target': -1035.22998046875, 'params': {'batch_size': 153.2353912145378, 'beta_1': 0.9812550122690876, 'beta_2': 0.9379926131705907, 'dropout': 0.026475435833612004, 'learning_rate_init': 0.0015858225842142356}}\n",
      "Iteration 17: \n",
      "\t{'target': -550.3507690429688, 'params': {'batch_size': 150.25850066572073, 'beta_1': 0.9620220609352185, 'beta_2': 0.9755527800232375, 'dropout': 0.19465038749032637, 'learning_rate_init': 0.0012135024462546367}}\n",
      "Iteration 18: \n",
      "\t{'target': -620.4813232421875, 'params': {'batch_size': 152.04736889140466, 'beta_1': 0.9130264857644449, 'beta_2': 0.9016577261771179, 'dropout': 0.01599712145113183, 'learning_rate_init': 0.002453369003057826}}\n",
      "Iteration 19: \n",
      "\t{'target': -1239.1461181640625, 'params': {'batch_size': 153.60326548199617, 'beta_1': 0.967089047177382, 'beta_2': 0.9124069719788105, 'dropout': 0.04610536903819311, 'learning_rate_init': 0.008863971034589548}}\n",
      "Iteration 20: \n",
      "\t{'target': -513.56201171875, 'params': {'batch_size': 140.07030358051603, 'beta_1': 0.9049687940108734, 'beta_2': 0.9839051419028986, 'dropout': 0.050846737012691726, 'learning_rate_init': 0.008962204870465115}}\n",
      "Iteration 21: \n",
      "\t{'target': -579.4551391601562, 'params': {'batch_size': 147.34485817320788, 'beta_1': 0.9770695358041911, 'beta_2': 0.9658433420045797, 'dropout': 0.1362522929400882, 'learning_rate_init': 0.002107783410532036}}\n",
      "Iteration 22: \n",
      "\t{'target': -613.3753662109375, 'params': {'batch_size': 153.75092714962764, 'beta_1': 0.9561032710320342, 'beta_2': 0.970022504007695, 'dropout': 0.059638922610318286, 'learning_rate_init': 0.002541486618070866}}\n",
      "Iteration 23: \n",
      "\t{'target': -1088.998046875, 'params': {'batch_size': 157.71027155481096, 'beta_1': 0.9677407113056506, 'beta_2': 0.9054909573550564, 'dropout': 0.17270669125044366, 'learning_rate_init': 0.007719784283720497}}\n",
      "Iteration 24: \n",
      "\t{'target': -626.9474487304688, 'params': {'batch_size': 140.20490563466103, 'beta_1': 0.9358674920959681, 'beta_2': 0.949716455444396, 'dropout': 0.07106051636293753, 'learning_rate_init': 0.0025436858291832736}}\n",
      "Iteration 25: \n",
      "\t{'target': -434.9427490234375, 'params': {'batch_size': 145.7382805990612, 'beta_1': 0.9186263206793975, 'beta_2': 0.9947425633276286, 'dropout': 0.11697009292836788, 'learning_rate_init': 0.0061921477791518865}}\n",
      "Iteration 26: \n",
      "\t{'target': -522.01171875, 'params': {'batch_size': 158.2895043555705, 'beta_1': 0.9476810561728712, 'beta_2': 0.9692110780048745, 'dropout': 0.10069577511941762, 'learning_rate_init': 0.0071866204116404495}}\n",
      "Iteration 27: \n",
      "\t{'target': -626.4490966796875, 'params': {'batch_size': 147.15131392437564, 'beta_1': 0.9090039562477475, 'beta_2': 0.9657380728469034, 'dropout': 0.1862803576713718, 'learning_rate_init': 0.006827548598781254}}\n",
      "Iteration 28: \n",
      "\t{'target': -1118.36669921875, 'params': {'batch_size': 153.90138696244796, 'beta_1': 0.9967914809777509, 'beta_2': 0.9794777959745422, 'dropout': 0.1205653316950856, 'learning_rate_init': 0.00573097118050519}}\n",
      "Iteration 29: \n",
      "\t{'target': -1283.097900390625, 'params': {'batch_size': 145.03699800626293, 'beta_1': 0.9935093749938674, 'beta_2': 0.9721969036368505, 'dropout': 0.14563014560536178, 'learning_rate_init': 0.004943496840503291}}\n",
      "Iteration 30: \n",
      "\t{'target': -468.0154724121094, 'params': {'batch_size': 148.05131356696972, 'beta_1': 0.9612410914270345, 'beta_2': 0.9504019243718382, 'dropout': 0.10620686048550028, 'learning_rate_init': 0.006377263845583817}}\n",
      "Iteration 31: \n",
      "\t{'target': -478.2315979003906, 'params': {'batch_size': 140.57775770708784, 'beta_1': 0.9160989910469332, 'beta_2': 0.9346918658154395, 'dropout': 0.1938613234580949, 'learning_rate_init': 0.0054729831831968915}}\n",
      "Iteration 32: \n",
      "\t{'target': -548.3637084960938, 'params': {'batch_size': 153.86811783947394, 'beta_1': 0.9470887685250793, 'beta_2': 0.9500757342383057, 'dropout': 0.1899472183374326, 'learning_rate_init': 0.0012008052322112737}}\n",
      "Iteration 33: \n",
      "\t{'target': -796.7433471679688, 'params': {'batch_size': 149.24276397874803, 'beta_1': 0.9677069992578149, 'beta_2': 0.9565646463286577, 'dropout': 0.11751928491143906, 'learning_rate_init': 0.009250896494758024}}\n",
      "Iteration 34: \n",
      "\t{'target': -614.0291137695312, 'params': {'batch_size': 156.19006173647932, 'beta_1': 0.9348188470314738, 'beta_2': 0.9116915329163922, 'dropout': 0.11476194884498324, 'learning_rate_init': 0.002666792159071378}}\n",
      "Iteration 35: \n",
      "\t{'target': -584.9452514648438, 'params': {'batch_size': 156.9678816668392, 'beta_1': 0.9130352032532554, 'beta_2': 0.9501365939752647, 'dropout': 0.07129052734085164, 'learning_rate_init': 0.007173169809413617}}\n",
      "Iteration 36: \n",
      "\t{'target': -603.7255859375, 'params': {'batch_size': 145.699127836559, 'beta_1': 0.9243942813278786, 'beta_2': 0.9828173041732178, 'dropout': 0.06634525338211125, 'learning_rate_init': 0.0033368768574340425}}\n",
      "Iteration 37: \n",
      "\t{'target': -484.12548828125, 'params': {'batch_size': 148.96783583136684, 'beta_1': 0.9058023584661822, 'beta_2': 0.9181371765143458, 'dropout': 0.05208216610706831, 'learning_rate_init': 0.00908165020959752}}\n",
      "Iteration 38: \n",
      "\t{'target': -1082.4205322265625, 'params': {'batch_size': 151.9012188545464, 'beta_1': 0.9982493561513931, 'beta_2': 0.9786138442257194, 'dropout': 0.04493180305634893, 'learning_rate_init': 0.005040232218948902}}\n",
      "Iteration 39: \n",
      "\t{'target': -2274.89501953125, 'params': {'batch_size': 152.30057074866014, 'beta_1': 0.9964862541401522, 'beta_2': 0.939037147644012, 'dropout': 0.14772601068279495, 'learning_rate_init': 0.009299489638138786}}\n"
     ]
    }
   ],
   "source": [
    "for i, res in enumerate(optimizer.res):\n",
    "    print(\"Iteration {}: \\n\\t{}\".format(i, res))"
   ]
  },
  {
   "cell_type": "code",
   "execution_count": 37,
   "metadata": {},
   "outputs": [
    {
     "name": "stdout",
     "output_type": "stream",
     "text": [
      "{'target': -434.22528076171875, 'params': {'batch_size': 153.588222351065, 'beta_1': 0.9644278054982097, 'beta_2': 0.926610728635691, 'dropout': 0.02279168671841337, 'learning_rate_init': 0.007943006245227067}}\n"
     ]
    }
   ],
   "source": [
    "max_params = optimizer.max['params']\n",
    "print(optimizer.max)"
   ]
  },
  {
   "cell_type": "code",
   "execution_count": null,
   "metadata": {},
   "outputs": [],
   "source": []
  }
 ],
 "metadata": {
  "kernelspec": {
   "display_name": "Python 3 (ipykernel)",
   "language": "python",
   "name": "python3"
  },
  "language_info": {
   "codemirror_mode": {
    "name": "ipython",
    "version": 3
   },
   "file_extension": ".py",
   "mimetype": "text/x-python",
   "name": "python",
   "nbconvert_exporter": "python",
   "pygments_lexer": "ipython3",
   "version": "3.11.8"
  }
 },
 "nbformat": 4,
 "nbformat_minor": 4
}
