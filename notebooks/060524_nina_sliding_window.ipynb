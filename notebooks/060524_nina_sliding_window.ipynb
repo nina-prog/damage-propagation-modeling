{
 "cells": [
  {
   "cell_type": "code",
   "execution_count": 1,
   "outputs": [],
   "source": [
    "%load_ext autoreload\n",
    "%autoreload 2"
   ],
   "metadata": {
    "collapsed": false,
    "ExecuteTime": {
     "end_time": "2024-05-12T13:52:15.266818100Z",
     "start_time": "2024-05-12T13:52:15.171679400Z"
    }
   }
  },
  {
   "cell_type": "code",
   "execution_count": 2,
   "outputs": [],
   "source": [
    "%matplotlib inline\n",
    "%config InlineBackend.figure_format = 'retina'"
   ],
   "metadata": {
    "collapsed": false,
    "ExecuteTime": {
     "end_time": "2024-05-12T13:52:15.393576300Z",
     "start_time": "2024-05-12T13:52:15.266818100Z"
    }
   }
  },
  {
   "cell_type": "markdown",
   "source": [
    "# Topic: EX2 - Turbofan RUL Prediction\n",
    "**Task**: Predict the remaining useful life (RUL) of turbofan engines based on given sensor data (time series data). It is a regression problem.\n",
    "**Data**: Turbofan engine degradation simulation data (NASA) - [Link](https://data.nasa.gov/dataset/Turbofan-Engine-Degradation-Simulation-Data-Set/vrks-gjie). See also in the topic [introduction notebook](https://github.com/nina-prog/damage-propagation-modeling/blob/2fb8c1a1102a48d7abbf04e4031807790a913a99/notebooks/Turbofan%20remaining%20useful%20life%20Prediction.ipynb).\n",
    "\n",
    "**Subtasks**:\n",
    "1. Perform a deep **exploratory data analysis (EDA)** on the given data.\n",
    "2. Implement a more efficient **sliding window method** for time series data analysis. -> 🎯 **Focus on this task**\n",
    "3. Apply **traditional machine learning methods** (SOTA) to predict the remaining useful life. Includes data preparation, feature extraction, feature selection, model selection, and model parameter optimization.\n",
    "4. Create **neural network models** to predict the remaining useful life. Includes different architectures like Convolutional Neural Networks (CNN), Recurrent Neural Networks (RNN), or Attention Models. Note: You can search for SOTA research papers and reproduce current state-of-the-art models.\n"
   ],
   "metadata": {
    "collapsed": false
   }
  },
  {
   "cell_type": "markdown",
   "source": [
    "# Imports + Settings"
   ],
   "metadata": {
    "collapsed": false
   }
  },
  {
   "cell_type": "code",
   "execution_count": 50,
   "outputs": [],
   "source": [
    "# third-party libraries\n",
    "import pandas as pd\n",
    "import numpy as np\n",
    "import os\n",
    "import time\n",
    "import seaborn as sns\n",
    "\n",
    "from tsfresh import extract_features, select_features\n",
    "from tsfresh.utilities.dataframe_functions import roll_time_series, make_forecasting_frame, impute\n",
    "from tsfresh.feature_extraction import EfficientFCParameters, MinimalFCParameters"
   ],
   "metadata": {
    "collapsed": false,
    "ExecuteTime": {
     "end_time": "2024-05-12T14:27:19.887189100Z",
     "start_time": "2024-05-12T14:27:19.777104Z"
    }
   }
  },
  {
   "cell_type": "code",
   "execution_count": 4,
   "outputs": [],
   "source": [
    "# source code\n",
    "from src.utils import load_data, load_config\n",
    "from src.data_preprocessing import calculate_RUL"
   ],
   "metadata": {
    "collapsed": false,
    "ExecuteTime": {
     "end_time": "2024-05-12T13:52:16.510048Z",
     "start_time": "2024-05-12T13:52:16.415896800Z"
    }
   }
  },
  {
   "cell_type": "code",
   "execution_count": 5,
   "outputs": [],
   "source": [
    "# settings\n",
    "sns.set_style(\"whitegrid\")\n",
    "sns.set_palette(\"Set2\")\n",
    "sns.set(rc={\"figure.dpi\":100, 'savefig.dpi':200})\n",
    "sns.set_context('notebook')"
   ],
   "metadata": {
    "collapsed": false,
    "ExecuteTime": {
     "end_time": "2024-05-12T13:52:16.589074400Z",
     "start_time": "2024-05-12T13:52:16.510048Z"
    }
   }
  },
  {
   "cell_type": "code",
   "execution_count": 6,
   "outputs": [],
   "source": [
    "np.random.seed(42)"
   ],
   "metadata": {
    "collapsed": false,
    "ExecuteTime": {
     "end_time": "2024-05-12T13:52:16.688823600Z",
     "start_time": "2024-05-12T13:52:16.589074400Z"
    }
   }
  },
  {
   "cell_type": "markdown",
   "source": [
    "# Paths"
   ],
   "metadata": {
    "collapsed": false
   }
  },
  {
   "cell_type": "code",
   "execution_count": 7,
   "outputs": [],
   "source": [
    "os.chdir(\"../\") # set working directory to root of project\n",
    "#os.getcwd() # check current working directory"
   ],
   "metadata": {
    "collapsed": false,
    "ExecuteTime": {
     "end_time": "2024-05-12T13:52:16.798900800Z",
     "start_time": "2024-05-12T13:52:16.688823600Z"
    }
   }
  },
  {
   "cell_type": "code",
   "execution_count": 8,
   "outputs": [],
   "source": [
    "PATH_TO_CONFIG = \"configs/config.yaml\""
   ],
   "metadata": {
    "collapsed": false,
    "ExecuteTime": {
     "end_time": "2024-05-12T13:52:16.877810500Z",
     "start_time": "2024-05-12T13:52:16.798900800Z"
    }
   }
  },
  {
   "cell_type": "markdown",
   "source": [
    "# Load Config + Data"
   ],
   "metadata": {
    "collapsed": false
   }
  },
  {
   "cell_type": "code",
   "execution_count": 9,
   "outputs": [],
   "source": [
    "config = load_config(PATH_TO_CONFIG) # config is dict"
   ],
   "metadata": {
    "collapsed": false,
    "ExecuteTime": {
     "end_time": "2024-05-12T13:52:16.969497Z",
     "start_time": "2024-05-12T13:52:16.877810500Z"
    }
   }
  },
  {
   "cell_type": "code",
   "execution_count": 10,
   "outputs": [
    {
     "name": "stdout",
     "output_type": "stream",
     "text": [
      "2024-05-12 15:52:17 [\u001B[34msrc.utils:56\u001B[0m] [\u001B[32mINFO\u001B[0m] >>>> Loading data set 1...\u001B[0m\n",
      "2024-05-12 15:52:17 [\u001B[34msrc.utils:85\u001B[0m] [\u001B[32mINFO\u001B[0m] >>>> Loaded raw data for dataset 1.\u001B[0m\n",
      "2024-05-12 15:52:17 [\u001B[34msrc.utils:86\u001B[0m] [\u001B[32mINFO\u001B[0m] >>>> Train Data: (20631, 26)\u001B[0m\n",
      "2024-05-12 15:52:17 [\u001B[34msrc.utils:87\u001B[0m] [\u001B[32mINFO\u001B[0m] >>>> Test Data: (13096, 26)\u001B[0m\n",
      "2024-05-12 15:52:17 [\u001B[34msrc.utils:88\u001B[0m] [\u001B[32mINFO\u001B[0m] >>>> Test RUL Data: (100, 1)\u001B[0m\n"
     ]
    }
   ],
   "source": [
    "train_data, test_data, test_RUL_data = load_data(config_path=PATH_TO_CONFIG, dataset_num=1)"
   ],
   "metadata": {
    "collapsed": false,
    "ExecuteTime": {
     "end_time": "2024-05-12T13:52:17.349023100Z",
     "start_time": "2024-05-12T13:52:16.969497Z"
    }
   }
  },
  {
   "cell_type": "markdown",
   "source": [
    "# 📍 Subtask 2: Sliding Window Method"
   ],
   "metadata": {
    "collapsed": false
   }
  },
  {
   "cell_type": "markdown",
   "source": [
    "Note:\n",
    "* In training however, we need multiple examples to train. If we would only use the time series until today (and wait for the value of tomorrow to have a target), we would only have a single training example. Therefore, we use a trick: we replay the history.\n",
    "* At each time step $t$, you treat the data as it would be today. You extract the features with everything you know until today (which is all data until and including $t$). The target for the features until time $t$ is the time value of time t + 1 (which we already know, because everything has already happened).\n",
    "* The process of window-sliding is implemented in the function `roll_time_series`. Our window size will be 20 (we look at max 20 days in the past) and we disregard all windows which are shorter than 5 days.\n",
    "\n",
    "Generating Data to train Forecasting typically involves the following steps:\n",
    "1. Generate roling windows of size k (e.g. 20) from the time series data. It means that we take the last k time periods as relevant features, including the current time period. The target is then the next time period.\n",
    "2. Extract features from the rolling windows. This can be as simple as taking the mean of the last k days, or more complex features like the slope of a linear regression. The dimension of the rolling window then would be (k, n_features) and the dimension of the target would be (1,).\n",
    "\n",
    "--> The data would then be of size (n_samples, k, n_features) and the target would be of size (n_samples, 1)."
   ],
   "metadata": {
    "collapsed": false
   }
  },
  {
   "cell_type": "markdown",
   "source": [
    "## 1. Generate rolling windows"
   ],
   "metadata": {
    "collapsed": false
   }
  },
  {
   "cell_type": "code",
   "execution_count": 11,
   "outputs": [],
   "source": [
    "# define window size\n",
    "MAX_K = 20\n",
    "MIN_K = 5"
   ],
   "metadata": {
    "collapsed": false,
    "ExecuteTime": {
     "end_time": "2024-05-12T13:52:17.425729500Z",
     "start_time": "2024-05-12T13:52:17.349023100Z"
    }
   }
  },
  {
   "cell_type": "code",
   "execution_count": 12,
   "outputs": [
    {
     "name": "stderr",
     "output_type": "stream",
     "text": [
      "Rolling: 100%|██████████| 37/37 [00:04<00:00,  8.16it/s]\n"
     ]
    },
    {
     "name": "stdout",
     "output_type": "stream",
     "text": [
      "CPU times: total: 797 ms\n",
      "Wall time: 5.08 s\n"
     ]
    }
   ],
   "source": [
    "%%time\n",
    "# generate rolling windows\n",
    "train_data_rolled = roll_time_series(train_data, column_id=\"UnitNumber\", column_sort=\"Cycle\", max_timeshift=MAX_K, min_timeshift=MIN_K)"
   ],
   "metadata": {
    "collapsed": false,
    "ExecuteTime": {
     "end_time": "2024-05-12T13:52:22.591191500Z",
     "start_time": "2024-05-12T13:52:17.425729500Z"
    }
   }
  },
  {
   "cell_type": "code",
   "execution_count": 13,
   "outputs": [
    {
     "data": {
      "text/plain": "   UnitNumber  Cycle  Operation Setting 1  Operation Setting 2  \\\n0           1      1              -0.0007              -0.0004   \n1           1      2               0.0019              -0.0003   \n2           1      3              -0.0043               0.0003   \n3           1      4               0.0007               0.0000   \n4           1      5              -0.0019              -0.0002   \n\n   Operation Setting 3  Sensor Measure 1  Sensor Measure 2  Sensor Measure 3  \\\n0                100.0            518.67            641.82           1589.70   \n1                100.0            518.67            642.15           1591.82   \n2                100.0            518.67            642.35           1587.99   \n3                100.0            518.67            642.35           1582.79   \n4                100.0            518.67            642.37           1582.85   \n\n   Sensor Measure 4  Sensor Measure 5  ...  Sensor Measure 13  \\\n0           1400.60             14.62  ...            2388.02   \n1           1403.14             14.62  ...            2388.07   \n2           1404.20             14.62  ...            2388.03   \n3           1401.87             14.62  ...            2388.08   \n4           1406.22             14.62  ...            2388.04   \n\n   Sensor Measure 14  Sensor Measure 15  Sensor Measure 16  Sensor Measure 17  \\\n0            8138.62             8.4195               0.03                392   \n1            8131.49             8.4318               0.03                392   \n2            8133.23             8.4178               0.03                390   \n3            8133.83             8.3682               0.03                392   \n4            8133.80             8.4294               0.03                393   \n\n   Sensor Measure 18  Sensor Measure 19  Sensor Measure 20  Sensor Measure 21  \\\n0               2388              100.0              39.06            23.4190   \n1               2388              100.0              39.00            23.4236   \n2               2388              100.0              38.95            23.3442   \n3               2388              100.0              38.88            23.3739   \n4               2388              100.0              38.90            23.4044   \n\n       id  \n0  (1, 6)  \n1  (1, 6)  \n2  (1, 6)  \n3  (1, 6)  \n4  (1, 6)  \n\n[5 rows x 27 columns]",
      "text/html": "<div>\n<style scoped>\n    .dataframe tbody tr th:only-of-type {\n        vertical-align: middle;\n    }\n\n    .dataframe tbody tr th {\n        vertical-align: top;\n    }\n\n    .dataframe thead th {\n        text-align: right;\n    }\n</style>\n<table border=\"1\" class=\"dataframe\">\n  <thead>\n    <tr style=\"text-align: right;\">\n      <th></th>\n      <th>UnitNumber</th>\n      <th>Cycle</th>\n      <th>Operation Setting 1</th>\n      <th>Operation Setting 2</th>\n      <th>Operation Setting 3</th>\n      <th>Sensor Measure 1</th>\n      <th>Sensor Measure 2</th>\n      <th>Sensor Measure 3</th>\n      <th>Sensor Measure 4</th>\n      <th>Sensor Measure 5</th>\n      <th>...</th>\n      <th>Sensor Measure 13</th>\n      <th>Sensor Measure 14</th>\n      <th>Sensor Measure 15</th>\n      <th>Sensor Measure 16</th>\n      <th>Sensor Measure 17</th>\n      <th>Sensor Measure 18</th>\n      <th>Sensor Measure 19</th>\n      <th>Sensor Measure 20</th>\n      <th>Sensor Measure 21</th>\n      <th>id</th>\n    </tr>\n  </thead>\n  <tbody>\n    <tr>\n      <th>0</th>\n      <td>1</td>\n      <td>1</td>\n      <td>-0.0007</td>\n      <td>-0.0004</td>\n      <td>100.0</td>\n      <td>518.67</td>\n      <td>641.82</td>\n      <td>1589.70</td>\n      <td>1400.60</td>\n      <td>14.62</td>\n      <td>...</td>\n      <td>2388.02</td>\n      <td>8138.62</td>\n      <td>8.4195</td>\n      <td>0.03</td>\n      <td>392</td>\n      <td>2388</td>\n      <td>100.0</td>\n      <td>39.06</td>\n      <td>23.4190</td>\n      <td>(1, 6)</td>\n    </tr>\n    <tr>\n      <th>1</th>\n      <td>1</td>\n      <td>2</td>\n      <td>0.0019</td>\n      <td>-0.0003</td>\n      <td>100.0</td>\n      <td>518.67</td>\n      <td>642.15</td>\n      <td>1591.82</td>\n      <td>1403.14</td>\n      <td>14.62</td>\n      <td>...</td>\n      <td>2388.07</td>\n      <td>8131.49</td>\n      <td>8.4318</td>\n      <td>0.03</td>\n      <td>392</td>\n      <td>2388</td>\n      <td>100.0</td>\n      <td>39.00</td>\n      <td>23.4236</td>\n      <td>(1, 6)</td>\n    </tr>\n    <tr>\n      <th>2</th>\n      <td>1</td>\n      <td>3</td>\n      <td>-0.0043</td>\n      <td>0.0003</td>\n      <td>100.0</td>\n      <td>518.67</td>\n      <td>642.35</td>\n      <td>1587.99</td>\n      <td>1404.20</td>\n      <td>14.62</td>\n      <td>...</td>\n      <td>2388.03</td>\n      <td>8133.23</td>\n      <td>8.4178</td>\n      <td>0.03</td>\n      <td>390</td>\n      <td>2388</td>\n      <td>100.0</td>\n      <td>38.95</td>\n      <td>23.3442</td>\n      <td>(1, 6)</td>\n    </tr>\n    <tr>\n      <th>3</th>\n      <td>1</td>\n      <td>4</td>\n      <td>0.0007</td>\n      <td>0.0000</td>\n      <td>100.0</td>\n      <td>518.67</td>\n      <td>642.35</td>\n      <td>1582.79</td>\n      <td>1401.87</td>\n      <td>14.62</td>\n      <td>...</td>\n      <td>2388.08</td>\n      <td>8133.83</td>\n      <td>8.3682</td>\n      <td>0.03</td>\n      <td>392</td>\n      <td>2388</td>\n      <td>100.0</td>\n      <td>38.88</td>\n      <td>23.3739</td>\n      <td>(1, 6)</td>\n    </tr>\n    <tr>\n      <th>4</th>\n      <td>1</td>\n      <td>5</td>\n      <td>-0.0019</td>\n      <td>-0.0002</td>\n      <td>100.0</td>\n      <td>518.67</td>\n      <td>642.37</td>\n      <td>1582.85</td>\n      <td>1406.22</td>\n      <td>14.62</td>\n      <td>...</td>\n      <td>2388.04</td>\n      <td>8133.80</td>\n      <td>8.4294</td>\n      <td>0.03</td>\n      <td>393</td>\n      <td>2388</td>\n      <td>100.0</td>\n      <td>38.90</td>\n      <td>23.4044</td>\n      <td>(1, 6)</td>\n    </tr>\n  </tbody>\n</table>\n<p>5 rows × 27 columns</p>\n</div>"
     },
     "execution_count": 13,
     "metadata": {},
     "output_type": "execute_result"
    }
   ],
   "source": [
    "train_data_rolled.head(5)"
   ],
   "metadata": {
    "collapsed": false,
    "ExecuteTime": {
     "end_time": "2024-05-12T13:52:22.685385900Z",
     "start_time": "2024-05-12T13:52:22.591191500Z"
    }
   }
  },
  {
   "cell_type": "markdown",
   "source": [
    "Findings:\n",
    "* **Function Result**: New column `id` is generated, representing a **window id**. It is a tuple of the **`UnitNumber` (certain group)** and the **ending `Cycle` (ending time step)**.\n",
    "* **Example**: Data with the `id` (1, 40) contains the original data of `UnitNumber` 1 of the last 20 `Cycle` steps until `Cycle` 40 (including `Cycle` 40)."
   ],
   "metadata": {
    "collapsed": false
   }
  },
  {
   "cell_type": "code",
   "execution_count": 14,
   "outputs": [
    {
     "name": "stdout",
     "output_type": "stream",
     "text": [
      "(21, 27)\n"
     ]
    },
    {
     "data": {
      "text/plain": "       UnitNumber  Cycle  Operation Setting 1  Operation Setting 2  \\\n43900           1     20              -0.0037               0.0001   \n43901           1     21              -0.0012               0.0001   \n43902           1     22               0.0002               0.0000   \n43903           1     23               0.0034              -0.0003   \n43904           1     24              -0.0010               0.0003   \n\n       Operation Setting 3  Sensor Measure 1  Sensor Measure 2  \\\n43900                100.0            518.67            643.04   \n43901                100.0            518.67            642.37   \n43902                100.0            518.67            642.77   \n43903                100.0            518.67            642.14   \n43904                100.0            518.67            642.38   \n\n       Sensor Measure 3  Sensor Measure 4  Sensor Measure 5  ...  \\\n43900           1581.11           1405.23             14.62  ...   \n43901           1586.07           1398.13             14.62  ...   \n43902           1592.93           1400.57             14.62  ...   \n43903           1588.19           1394.75             14.62  ...   \n43904           1590.83           1398.81             14.62  ...   \n\n       Sensor Measure 13  Sensor Measure 14  Sensor Measure 15  \\\n43900            2388.02            8129.71             8.4210   \n43901            2388.08            8134.02             8.4049   \n43902            2388.03            8130.41             8.4034   \n43903            2388.05            8127.90             8.4240   \n43904            2388.03            8133.88             8.3891   \n\n       Sensor Measure 16  Sensor Measure 17  Sensor Measure 18  \\\n43900               0.03                392               2388   \n43901               0.03                392               2388   \n43902               0.03                392               2388   \n43903               0.03                392               2388   \n43904               0.03                392               2388   \n\n       Sensor Measure 19  Sensor Measure 20  Sensor Measure 21       id  \n43900              100.0              39.03            23.4220  (1, 40)  \n43901              100.0              39.09            23.3101  (1, 40)  \n43902              100.0              38.92            23.3792  (1, 40)  \n43903              100.0              38.94            23.4562  (1, 40)  \n43904              100.0              39.00            23.3696  (1, 40)  \n\n[5 rows x 27 columns]",
      "text/html": "<div>\n<style scoped>\n    .dataframe tbody tr th:only-of-type {\n        vertical-align: middle;\n    }\n\n    .dataframe tbody tr th {\n        vertical-align: top;\n    }\n\n    .dataframe thead th {\n        text-align: right;\n    }\n</style>\n<table border=\"1\" class=\"dataframe\">\n  <thead>\n    <tr style=\"text-align: right;\">\n      <th></th>\n      <th>UnitNumber</th>\n      <th>Cycle</th>\n      <th>Operation Setting 1</th>\n      <th>Operation Setting 2</th>\n      <th>Operation Setting 3</th>\n      <th>Sensor Measure 1</th>\n      <th>Sensor Measure 2</th>\n      <th>Sensor Measure 3</th>\n      <th>Sensor Measure 4</th>\n      <th>Sensor Measure 5</th>\n      <th>...</th>\n      <th>Sensor Measure 13</th>\n      <th>Sensor Measure 14</th>\n      <th>Sensor Measure 15</th>\n      <th>Sensor Measure 16</th>\n      <th>Sensor Measure 17</th>\n      <th>Sensor Measure 18</th>\n      <th>Sensor Measure 19</th>\n      <th>Sensor Measure 20</th>\n      <th>Sensor Measure 21</th>\n      <th>id</th>\n    </tr>\n  </thead>\n  <tbody>\n    <tr>\n      <th>43900</th>\n      <td>1</td>\n      <td>20</td>\n      <td>-0.0037</td>\n      <td>0.0001</td>\n      <td>100.0</td>\n      <td>518.67</td>\n      <td>643.04</td>\n      <td>1581.11</td>\n      <td>1405.23</td>\n      <td>14.62</td>\n      <td>...</td>\n      <td>2388.02</td>\n      <td>8129.71</td>\n      <td>8.4210</td>\n      <td>0.03</td>\n      <td>392</td>\n      <td>2388</td>\n      <td>100.0</td>\n      <td>39.03</td>\n      <td>23.4220</td>\n      <td>(1, 40)</td>\n    </tr>\n    <tr>\n      <th>43901</th>\n      <td>1</td>\n      <td>21</td>\n      <td>-0.0012</td>\n      <td>0.0001</td>\n      <td>100.0</td>\n      <td>518.67</td>\n      <td>642.37</td>\n      <td>1586.07</td>\n      <td>1398.13</td>\n      <td>14.62</td>\n      <td>...</td>\n      <td>2388.08</td>\n      <td>8134.02</td>\n      <td>8.4049</td>\n      <td>0.03</td>\n      <td>392</td>\n      <td>2388</td>\n      <td>100.0</td>\n      <td>39.09</td>\n      <td>23.3101</td>\n      <td>(1, 40)</td>\n    </tr>\n    <tr>\n      <th>43902</th>\n      <td>1</td>\n      <td>22</td>\n      <td>0.0002</td>\n      <td>0.0000</td>\n      <td>100.0</td>\n      <td>518.67</td>\n      <td>642.77</td>\n      <td>1592.93</td>\n      <td>1400.57</td>\n      <td>14.62</td>\n      <td>...</td>\n      <td>2388.03</td>\n      <td>8130.41</td>\n      <td>8.4034</td>\n      <td>0.03</td>\n      <td>392</td>\n      <td>2388</td>\n      <td>100.0</td>\n      <td>38.92</td>\n      <td>23.3792</td>\n      <td>(1, 40)</td>\n    </tr>\n    <tr>\n      <th>43903</th>\n      <td>1</td>\n      <td>23</td>\n      <td>0.0034</td>\n      <td>-0.0003</td>\n      <td>100.0</td>\n      <td>518.67</td>\n      <td>642.14</td>\n      <td>1588.19</td>\n      <td>1394.75</td>\n      <td>14.62</td>\n      <td>...</td>\n      <td>2388.05</td>\n      <td>8127.90</td>\n      <td>8.4240</td>\n      <td>0.03</td>\n      <td>392</td>\n      <td>2388</td>\n      <td>100.0</td>\n      <td>38.94</td>\n      <td>23.4562</td>\n      <td>(1, 40)</td>\n    </tr>\n    <tr>\n      <th>43904</th>\n      <td>1</td>\n      <td>24</td>\n      <td>-0.0010</td>\n      <td>0.0003</td>\n      <td>100.0</td>\n      <td>518.67</td>\n      <td>642.38</td>\n      <td>1590.83</td>\n      <td>1398.81</td>\n      <td>14.62</td>\n      <td>...</td>\n      <td>2388.03</td>\n      <td>8133.88</td>\n      <td>8.3891</td>\n      <td>0.03</td>\n      <td>392</td>\n      <td>2388</td>\n      <td>100.0</td>\n      <td>39.00</td>\n      <td>23.3696</td>\n      <td>(1, 40)</td>\n    </tr>\n  </tbody>\n</table>\n<p>5 rows × 27 columns</p>\n</div>"
     },
     "metadata": {},
     "output_type": "display_data"
    },
    {
     "name": "stdout",
     "output_type": "stream",
     "text": [
      "(21, 26)\n"
     ]
    },
    {
     "data": {
      "text/plain": "    UnitNumber  Cycle  Operation Setting 1  Operation Setting 2  \\\n19           1     20              -0.0037               0.0001   \n20           1     21              -0.0012               0.0001   \n21           1     22               0.0002               0.0000   \n22           1     23               0.0034              -0.0003   \n23           1     24              -0.0010               0.0003   \n\n    Operation Setting 3  Sensor Measure 1  Sensor Measure 2  Sensor Measure 3  \\\n19                100.0            518.67            643.04           1581.11   \n20                100.0            518.67            642.37           1586.07   \n21                100.0            518.67            642.77           1592.93   \n22                100.0            518.67            642.14           1588.19   \n23                100.0            518.67            642.38           1590.83   \n\n    Sensor Measure 4  Sensor Measure 5  ...  Sensor Measure 12  \\\n19           1405.23             14.62  ...             522.07   \n20           1398.13             14.62  ...             522.42   \n21           1400.57             14.62  ...             522.00   \n22           1394.75             14.62  ...             521.52   \n23           1398.81             14.62  ...             522.13   \n\n    Sensor Measure 13  Sensor Measure 14  Sensor Measure 15  \\\n19            2388.02            8129.71             8.4210   \n20            2388.08            8134.02             8.4049   \n21            2388.03            8130.41             8.4034   \n22            2388.05            8127.90             8.4240   \n23            2388.03            8133.88             8.3891   \n\n    Sensor Measure 16  Sensor Measure 17  Sensor Measure 18  \\\n19               0.03                392               2388   \n20               0.03                392               2388   \n21               0.03                392               2388   \n22               0.03                392               2388   \n23               0.03                392               2388   \n\n    Sensor Measure 19  Sensor Measure 20  Sensor Measure 21  \n19              100.0              39.03            23.4220  \n20              100.0              39.09            23.3101  \n21              100.0              38.92            23.3792  \n22              100.0              38.94            23.4562  \n23              100.0              39.00            23.3696  \n\n[5 rows x 26 columns]",
      "text/html": "<div>\n<style scoped>\n    .dataframe tbody tr th:only-of-type {\n        vertical-align: middle;\n    }\n\n    .dataframe tbody tr th {\n        vertical-align: top;\n    }\n\n    .dataframe thead th {\n        text-align: right;\n    }\n</style>\n<table border=\"1\" class=\"dataframe\">\n  <thead>\n    <tr style=\"text-align: right;\">\n      <th></th>\n      <th>UnitNumber</th>\n      <th>Cycle</th>\n      <th>Operation Setting 1</th>\n      <th>Operation Setting 2</th>\n      <th>Operation Setting 3</th>\n      <th>Sensor Measure 1</th>\n      <th>Sensor Measure 2</th>\n      <th>Sensor Measure 3</th>\n      <th>Sensor Measure 4</th>\n      <th>Sensor Measure 5</th>\n      <th>...</th>\n      <th>Sensor Measure 12</th>\n      <th>Sensor Measure 13</th>\n      <th>Sensor Measure 14</th>\n      <th>Sensor Measure 15</th>\n      <th>Sensor Measure 16</th>\n      <th>Sensor Measure 17</th>\n      <th>Sensor Measure 18</th>\n      <th>Sensor Measure 19</th>\n      <th>Sensor Measure 20</th>\n      <th>Sensor Measure 21</th>\n    </tr>\n  </thead>\n  <tbody>\n    <tr>\n      <th>19</th>\n      <td>1</td>\n      <td>20</td>\n      <td>-0.0037</td>\n      <td>0.0001</td>\n      <td>100.0</td>\n      <td>518.67</td>\n      <td>643.04</td>\n      <td>1581.11</td>\n      <td>1405.23</td>\n      <td>14.62</td>\n      <td>...</td>\n      <td>522.07</td>\n      <td>2388.02</td>\n      <td>8129.71</td>\n      <td>8.4210</td>\n      <td>0.03</td>\n      <td>392</td>\n      <td>2388</td>\n      <td>100.0</td>\n      <td>39.03</td>\n      <td>23.4220</td>\n    </tr>\n    <tr>\n      <th>20</th>\n      <td>1</td>\n      <td>21</td>\n      <td>-0.0012</td>\n      <td>0.0001</td>\n      <td>100.0</td>\n      <td>518.67</td>\n      <td>642.37</td>\n      <td>1586.07</td>\n      <td>1398.13</td>\n      <td>14.62</td>\n      <td>...</td>\n      <td>522.42</td>\n      <td>2388.08</td>\n      <td>8134.02</td>\n      <td>8.4049</td>\n      <td>0.03</td>\n      <td>392</td>\n      <td>2388</td>\n      <td>100.0</td>\n      <td>39.09</td>\n      <td>23.3101</td>\n    </tr>\n    <tr>\n      <th>21</th>\n      <td>1</td>\n      <td>22</td>\n      <td>0.0002</td>\n      <td>0.0000</td>\n      <td>100.0</td>\n      <td>518.67</td>\n      <td>642.77</td>\n      <td>1592.93</td>\n      <td>1400.57</td>\n      <td>14.62</td>\n      <td>...</td>\n      <td>522.00</td>\n      <td>2388.03</td>\n      <td>8130.41</td>\n      <td>8.4034</td>\n      <td>0.03</td>\n      <td>392</td>\n      <td>2388</td>\n      <td>100.0</td>\n      <td>38.92</td>\n      <td>23.3792</td>\n    </tr>\n    <tr>\n      <th>22</th>\n      <td>1</td>\n      <td>23</td>\n      <td>0.0034</td>\n      <td>-0.0003</td>\n      <td>100.0</td>\n      <td>518.67</td>\n      <td>642.14</td>\n      <td>1588.19</td>\n      <td>1394.75</td>\n      <td>14.62</td>\n      <td>...</td>\n      <td>521.52</td>\n      <td>2388.05</td>\n      <td>8127.90</td>\n      <td>8.4240</td>\n      <td>0.03</td>\n      <td>392</td>\n      <td>2388</td>\n      <td>100.0</td>\n      <td>38.94</td>\n      <td>23.4562</td>\n    </tr>\n    <tr>\n      <th>23</th>\n      <td>1</td>\n      <td>24</td>\n      <td>-0.0010</td>\n      <td>0.0003</td>\n      <td>100.0</td>\n      <td>518.67</td>\n      <td>642.38</td>\n      <td>1590.83</td>\n      <td>1398.81</td>\n      <td>14.62</td>\n      <td>...</td>\n      <td>522.13</td>\n      <td>2388.03</td>\n      <td>8133.88</td>\n      <td>8.3891</td>\n      <td>0.03</td>\n      <td>392</td>\n      <td>2388</td>\n      <td>100.0</td>\n      <td>39.00</td>\n      <td>23.3696</td>\n    </tr>\n  </tbody>\n</table>\n<p>5 rows × 26 columns</p>\n</div>"
     },
     "metadata": {},
     "output_type": "display_data"
    }
   ],
   "source": [
    "# check if example interpretation is correct and if the window is generated correctly\n",
    "rolled_win = train_data_rolled[train_data_rolled[\"id\"] == (1, 40)]\n",
    "print(rolled_win.shape)\n",
    "display(rolled_win.head(5))\n",
    "\n",
    "original_win_data = train_data[(train_data[\"UnitNumber\"] == 1) &\n",
    "                               (train_data[\"Cycle\"] <= 40) &\n",
    "                               (train_data[\"Cycle\"] >= 40 - 20)]\n",
    "print(original_win_data.shape)\n",
    "display(original_win_data.head(5))"
   ],
   "metadata": {
    "collapsed": false,
    "ExecuteTime": {
     "end_time": "2024-05-12T13:52:22.858456400Z",
     "start_time": "2024-05-12T13:52:22.685385900Z"
    }
   }
  },
  {
   "cell_type": "code",
   "execution_count": 15,
   "outputs": [
    {
     "name": "stdout",
     "output_type": "stream",
     "text": [
      "Number of samples: 410751\n",
      "Number of unique windows: 20131\n",
      "Number of windows shorter than 5 days: 0\n",
      "Number of unique units: 100\n"
     ]
    }
   ],
   "source": [
    "print(f\"Number of samples: {train_data_rolled.shape[0]}\")\n",
    "print(f\"Number of unique windows: {train_data_rolled['id'].nunique()}\")\n",
    "print(f\"Number of windows shorter than 5 days: {train_data_rolled['id'].value_counts().loc[lambda x: x < MIN_K].sum()}\")\n",
    "print(f\"Number of unique units: {train_data_rolled['UnitNumber'].nunique()}\")"
   ],
   "metadata": {
    "collapsed": false,
    "ExecuteTime": {
     "end_time": "2024-05-12T13:52:23.156290400Z",
     "start_time": "2024-05-12T13:52:22.826702Z"
    }
   }
  },
  {
   "cell_type": "code",
   "execution_count": 16,
   "outputs": [
    {
     "data": {
      "text/plain": "21    18631\n6       100\n7       100\n8       100\n9       100\n10      100\n11      100\n12      100\n13      100\n14      100\n15      100\n16      100\n17      100\n18      100\n19      100\n20      100\nName: count, dtype: int64"
     },
     "execution_count": 16,
     "metadata": {},
     "output_type": "execute_result"
    }
   ],
   "source": [
    "# check windows sizes / lengths\n",
    "train_data_rolled.groupby(\"id\").size().value_counts()"
   ],
   "metadata": {
    "collapsed": false,
    "ExecuteTime": {
     "end_time": "2024-05-12T13:52:23.203599400Z",
     "start_time": "2024-05-12T13:52:22.968256900Z"
    }
   }
  },
  {
   "cell_type": "code",
   "execution_count": 17,
   "outputs": [],
   "source": [
    "# get list of features\n",
    "features = config[\"dataloading\"][\"features\"][\"operational_settings\"] + \\\n",
    "           config[\"dataloading\"][\"features\"][\"sensor_measure\"]"
   ],
   "metadata": {
    "collapsed": false,
    "ExecuteTime": {
     "end_time": "2024-05-12T13:52:23.258057900Z",
     "start_time": "2024-05-12T13:52:23.125037400Z"
    }
   }
  },
  {
   "cell_type": "markdown",
   "source": [
    "Findings:\n",
    "* The fact that there are always a number of 100 windows for each window size less than 21 and more than 5 indicates that there are 100 unique units in the data and that the windows are generated correctly."
   ],
   "metadata": {
    "collapsed": false
   }
  },
  {
   "cell_type": "markdown",
   "source": [
    "## 2. Extract Features\n",
    "Note:\n",
    "* We have many features and the `RUL` column is the target. so we thus need to extract features for each feature column in the window and then also get a y value for each window."
   ],
   "metadata": {
    "collapsed": false
   }
  },
  {
   "cell_type": "code",
   "execution_count": 18,
   "outputs": [
    {
     "name": "stderr",
     "output_type": "stream",
     "text": [
      "Feature Extraction: 100%|██████████| 40/40 [01:00<00:00,  1.51s/it]\n"
     ]
    },
    {
     "name": "stdout",
     "output_type": "stream",
     "text": [
      "CPU times: total: 43 s\n",
      "Wall time: 1min 10s\n"
     ]
    }
   ],
   "source": [
    "%%time\n",
    "# extract features - tsfresh\n",
    "X = extract_features(train_data_rolled.drop([\"UnitNumber\"], axis=1),\n",
    "                     column_id=\"id\", column_sort=\"Cycle\",\n",
    "                     default_fc_parameters=MinimalFCParameters(),\n",
    "                     impute_function=impute, show_warnings=False)\n",
    "# add index names\n",
    "X.index = X.index.rename([\"UnitNumber\", \"Cycle\"])"
   ],
   "metadata": {
    "collapsed": false,
    "ExecuteTime": {
     "end_time": "2024-05-12T13:53:33.798687700Z",
     "start_time": "2024-05-12T13:52:23.203599400Z"
    }
   }
  },
  {
   "cell_type": "code",
   "execution_count": 19,
   "outputs": [
    {
     "data": {
      "text/plain": "                  Operation Setting 1__sum_values  \\\nUnitNumber Cycle                                    \n1          6                              -0.0086   \n           7                              -0.0076   \n           8                              -0.0110   \n           9                              -0.0102   \n           10                             -0.0135   \n\n                  Operation Setting 1__median  Operation Setting 1__mean  \\\nUnitNumber Cycle                                                           \n1          6                          -0.0013                  -0.001433   \n           7                          -0.0007                  -0.001086   \n           8                          -0.0013                  -0.001375   \n           9                          -0.0007                  -0.001133   \n           10                         -0.0013                  -0.001350   \n\n                  Operation Setting 1__length  \\\nUnitNumber Cycle                                \n1          6                              6.0   \n           7                              7.0   \n           8                              8.0   \n           9                              9.0   \n           10                            10.0   \n\n                  Operation Setting 1__standard_deviation  \\\nUnitNumber Cycle                                            \n1          6                                     0.002340   \n           7                                     0.002328   \n           8                                     0.002308   \n           9                                     0.002281   \n           10                                    0.002259   \n\n                  Operation Setting 1__variance  \\\nUnitNumber Cycle                                  \n1          6                           0.000005   \n           7                           0.000005   \n           8                           0.000005   \n           9                           0.000005   \n           10                          0.000005   \n\n                  Operation Setting 1__root_mean_square  \\\nUnitNumber Cycle                                          \n1          6                                   0.002744   \n           7                                   0.002568   \n           8                                   0.002687   \n           9                                   0.002547   \n           10                                  0.002632   \n\n                  Operation Setting 1__maximum  \\\nUnitNumber Cycle                                 \n1          6                            0.0019   \n           7                            0.0019   \n           8                            0.0019   \n           9                            0.0019   \n           10                           0.0019   \n\n                  Operation Setting 1__absolute_maximum  \\\nUnitNumber Cycle                                          \n1          6                                     0.0043   \n           7                                     0.0043   \n           8                                     0.0043   \n           9                                     0.0043   \n           10                                    0.0043   \n\n                  Operation Setting 1__minimum  ...  \\\nUnitNumber Cycle                                ...   \n1          6                           -0.0043  ...   \n           7                           -0.0043  ...   \n           8                           -0.0043  ...   \n           9                           -0.0043  ...   \n           10                          -0.0043  ...   \n\n                  Sensor Measure 21__sum_values  Sensor Measure 21__median  \\\nUnitNumber Cycle                                                             \n1          6                           140.3320                   23.38915   \n           7                           163.7094                   23.37740   \n           8                           187.0200                   23.37565   \n           9                           210.4266                   23.37740   \n           10                          233.8960                   23.39090   \n\n                  Sensor Measure 21__mean  Sensor Measure 21__length  \\\nUnitNumber Cycle                                                       \n1          6                    23.388667                        6.0   \n           7                    23.387057                        7.0   \n           8                    23.377500                        8.0   \n           9                    23.380733                        9.0   \n           10                   23.389600                       10.0   \n\n                  Sensor Measure 21__standard_deviation  \\\nUnitNumber Cycle                                          \n1          6                                   0.029032   \n           7                                   0.027166   \n           8                                   0.035848   \n           9                                   0.035014   \n           10                                  0.042555   \n\n                  Sensor Measure 21__variance  \\\nUnitNumber Cycle                                \n1          6                         0.000843   \n           7                         0.000738   \n           8                         0.001285   \n           9                         0.001226   \n           10                        0.001811   \n\n                  Sensor Measure 21__root_mean_square  \\\nUnitNumber Cycle                                        \n1          6                                23.388685   \n           7                                23.387073   \n           8                                23.377527   \n           9                                23.380760   \n           10                               23.389639   \n\n                  Sensor Measure 21__maximum  \\\nUnitNumber Cycle                               \n1          6                         23.4236   \n           7                         23.4236   \n           8                         23.4236   \n           9                         23.4236   \n           10                        23.4694   \n\n                  Sensor Measure 21__absolute_maximum  \\\nUnitNumber Cycle                                        \n1          6                                  23.4236   \n           7                                  23.4236   \n           8                                  23.4236   \n           9                                  23.4236   \n           10                                 23.4694   \n\n                  Sensor Measure 21__minimum  \nUnitNumber Cycle                              \n1          6                         23.3442  \n           7                         23.3442  \n           8                         23.3106  \n           9                         23.3106  \n           10                        23.3106  \n\n[5 rows x 240 columns]",
      "text/html": "<div>\n<style scoped>\n    .dataframe tbody tr th:only-of-type {\n        vertical-align: middle;\n    }\n\n    .dataframe tbody tr th {\n        vertical-align: top;\n    }\n\n    .dataframe thead th {\n        text-align: right;\n    }\n</style>\n<table border=\"1\" class=\"dataframe\">\n  <thead>\n    <tr style=\"text-align: right;\">\n      <th></th>\n      <th></th>\n      <th>Operation Setting 1__sum_values</th>\n      <th>Operation Setting 1__median</th>\n      <th>Operation Setting 1__mean</th>\n      <th>Operation Setting 1__length</th>\n      <th>Operation Setting 1__standard_deviation</th>\n      <th>Operation Setting 1__variance</th>\n      <th>Operation Setting 1__root_mean_square</th>\n      <th>Operation Setting 1__maximum</th>\n      <th>Operation Setting 1__absolute_maximum</th>\n      <th>Operation Setting 1__minimum</th>\n      <th>...</th>\n      <th>Sensor Measure 21__sum_values</th>\n      <th>Sensor Measure 21__median</th>\n      <th>Sensor Measure 21__mean</th>\n      <th>Sensor Measure 21__length</th>\n      <th>Sensor Measure 21__standard_deviation</th>\n      <th>Sensor Measure 21__variance</th>\n      <th>Sensor Measure 21__root_mean_square</th>\n      <th>Sensor Measure 21__maximum</th>\n      <th>Sensor Measure 21__absolute_maximum</th>\n      <th>Sensor Measure 21__minimum</th>\n    </tr>\n    <tr>\n      <th>UnitNumber</th>\n      <th>Cycle</th>\n      <th></th>\n      <th></th>\n      <th></th>\n      <th></th>\n      <th></th>\n      <th></th>\n      <th></th>\n      <th></th>\n      <th></th>\n      <th></th>\n      <th></th>\n      <th></th>\n      <th></th>\n      <th></th>\n      <th></th>\n      <th></th>\n      <th></th>\n      <th></th>\n      <th></th>\n      <th></th>\n      <th></th>\n    </tr>\n  </thead>\n  <tbody>\n    <tr>\n      <th rowspan=\"5\" valign=\"top\">1</th>\n      <th>6</th>\n      <td>-0.0086</td>\n      <td>-0.0013</td>\n      <td>-0.001433</td>\n      <td>6.0</td>\n      <td>0.002340</td>\n      <td>0.000005</td>\n      <td>0.002744</td>\n      <td>0.0019</td>\n      <td>0.0043</td>\n      <td>-0.0043</td>\n      <td>...</td>\n      <td>140.3320</td>\n      <td>23.38915</td>\n      <td>23.388667</td>\n      <td>6.0</td>\n      <td>0.029032</td>\n      <td>0.000843</td>\n      <td>23.388685</td>\n      <td>23.4236</td>\n      <td>23.4236</td>\n      <td>23.3442</td>\n    </tr>\n    <tr>\n      <th>7</th>\n      <td>-0.0076</td>\n      <td>-0.0007</td>\n      <td>-0.001086</td>\n      <td>7.0</td>\n      <td>0.002328</td>\n      <td>0.000005</td>\n      <td>0.002568</td>\n      <td>0.0019</td>\n      <td>0.0043</td>\n      <td>-0.0043</td>\n      <td>...</td>\n      <td>163.7094</td>\n      <td>23.37740</td>\n      <td>23.387057</td>\n      <td>7.0</td>\n      <td>0.027166</td>\n      <td>0.000738</td>\n      <td>23.387073</td>\n      <td>23.4236</td>\n      <td>23.4236</td>\n      <td>23.3442</td>\n    </tr>\n    <tr>\n      <th>8</th>\n      <td>-0.0110</td>\n      <td>-0.0013</td>\n      <td>-0.001375</td>\n      <td>8.0</td>\n      <td>0.002308</td>\n      <td>0.000005</td>\n      <td>0.002687</td>\n      <td>0.0019</td>\n      <td>0.0043</td>\n      <td>-0.0043</td>\n      <td>...</td>\n      <td>187.0200</td>\n      <td>23.37565</td>\n      <td>23.377500</td>\n      <td>8.0</td>\n      <td>0.035848</td>\n      <td>0.001285</td>\n      <td>23.377527</td>\n      <td>23.4236</td>\n      <td>23.4236</td>\n      <td>23.3106</td>\n    </tr>\n    <tr>\n      <th>9</th>\n      <td>-0.0102</td>\n      <td>-0.0007</td>\n      <td>-0.001133</td>\n      <td>9.0</td>\n      <td>0.002281</td>\n      <td>0.000005</td>\n      <td>0.002547</td>\n      <td>0.0019</td>\n      <td>0.0043</td>\n      <td>-0.0043</td>\n      <td>...</td>\n      <td>210.4266</td>\n      <td>23.37740</td>\n      <td>23.380733</td>\n      <td>9.0</td>\n      <td>0.035014</td>\n      <td>0.001226</td>\n      <td>23.380760</td>\n      <td>23.4236</td>\n      <td>23.4236</td>\n      <td>23.3106</td>\n    </tr>\n    <tr>\n      <th>10</th>\n      <td>-0.0135</td>\n      <td>-0.0013</td>\n      <td>-0.001350</td>\n      <td>10.0</td>\n      <td>0.002259</td>\n      <td>0.000005</td>\n      <td>0.002632</td>\n      <td>0.0019</td>\n      <td>0.0043</td>\n      <td>-0.0043</td>\n      <td>...</td>\n      <td>233.8960</td>\n      <td>23.39090</td>\n      <td>23.389600</td>\n      <td>10.0</td>\n      <td>0.042555</td>\n      <td>0.001811</td>\n      <td>23.389639</td>\n      <td>23.4694</td>\n      <td>23.4694</td>\n      <td>23.3106</td>\n    </tr>\n  </tbody>\n</table>\n<p>5 rows × 240 columns</p>\n</div>"
     },
     "execution_count": 19,
     "metadata": {},
     "output_type": "execute_result"
    }
   ],
   "source": [
    "X.head(5)"
   ],
   "metadata": {
    "collapsed": false,
    "ExecuteTime": {
     "end_time": "2024-05-12T13:53:33.909171700Z",
     "start_time": "2024-05-12T13:53:33.803596600Z"
    }
   }
  },
  {
   "cell_type": "code",
   "execution_count": 20,
   "outputs": [
    {
     "data": {
      "text/plain": "Operation Setting 1__sum_values            -0.010700\nOperation Setting 1__median                -0.000400\nOperation Setting 1__mean                  -0.000510\nOperation Setting 1__length                21.000000\nOperation Setting 1__standard_deviation     0.001900\n                                             ...    \nSensor Measure 21__variance                 0.003121\nSensor Measure 21__root_mean_square        23.394533\nSensor Measure 21__maximum                 23.499900\nSensor Measure 21__absolute_maximum        23.499900\nSensor Measure 21__minimum                 23.284100\nName: (1, 40), Length: 240, dtype: float64"
     },
     "execution_count": 20,
     "metadata": {},
     "output_type": "execute_result"
    }
   ],
   "source": [
    "# check if example window can also be found in the extracted features\n",
    "X.loc[(1, 40)]"
   ],
   "metadata": {
    "collapsed": false,
    "ExecuteTime": {
     "end_time": "2024-05-12T13:53:34.129368500Z",
     "start_time": "2024-05-12T13:53:33.909171700Z"
    }
   }
  },
  {
   "cell_type": "markdown",
   "source": [
    "## 3. Extract Target & Map to Features\n",
    "Note:\n",
    "* **Target Example**: The target for the row with the id (1, 40) is the RUL of the row with the id (1, 41) and so on --> shift the RUL column by one and then we can use it as our target. - Only if RUL is shifted by one for forcasting. (DEPRECATED)\n",
    "* **Target Example**: The target for the row with the id (1, 40) is the RUL of the row with the id (1, 40)"
   ],
   "metadata": {
    "collapsed": false
   }
  },
  {
   "cell_type": "code",
   "execution_count": 57,
   "outputs": [],
   "source": [
    "# calculate RUL\n",
    "train_data_RUL = calculate_RUL(data=train_data, time_column=\"Cycle\", group_column=\"UnitNumber\")"
   ],
   "metadata": {
    "collapsed": false,
    "ExecuteTime": {
     "end_time": "2024-05-12T14:36:20.430501200Z",
     "start_time": "2024-05-12T14:36:20.335792900Z"
    }
   }
  },
  {
   "cell_type": "code",
   "execution_count": 58,
   "outputs": [
    {
     "data": {
      "text/plain": "     UnitNumber  Cycle  Operation Setting 1  Operation Setting 2  \\\n187           1    188              -0.0067               0.0003   \n188           1    189              -0.0006               0.0002   \n189           1    190              -0.0027               0.0001   \n190           1    191              -0.0000              -0.0004   \n191           1    192               0.0009              -0.0000   \n\n     Operation Setting 3  Sensor Measure 1  Sensor Measure 2  \\\n187                100.0            518.67            643.75   \n188                100.0            518.67            644.18   \n189                100.0            518.67            643.64   \n190                100.0            518.67            643.34   \n191                100.0            518.67            643.54   \n\n     Sensor Measure 3  Sensor Measure 4  Sensor Measure 5  ...  \\\n187           1602.38           1422.78             14.62  ...   \n188           1596.17           1428.01             14.62  ...   \n189           1599.22           1425.95             14.62  ...   \n190           1602.36           1425.77             14.62  ...   \n191           1601.41           1427.20             14.62  ...   \n\n     Sensor Measure 13  Sensor Measure 14  Sensor Measure 15  \\\n187            2388.23            8117.69             8.5207   \n188            2388.33            8117.51             8.5183   \n189            2388.35            8112.58             8.5223   \n190            2388.30            8114.61             8.5174   \n191            2388.32            8110.93             8.5113   \n\n     Sensor Measure 16  Sensor Measure 17  Sensor Measure 18  \\\n187               0.03                396               2388   \n188               0.03                395               2388   \n189               0.03                398               2388   \n190               0.03                394               2388   \n191               0.03                396               2388   \n\n     Sensor Measure 19  Sensor Measure 20  Sensor Measure 21  RUL  \n187              100.0              38.51            22.9588    5  \n188              100.0              38.48            23.1127    4  \n189              100.0              38.49            23.0675    3  \n190              100.0              38.45            23.1295    2  \n191              100.0              38.48            22.9649    1  \n\n[5 rows x 27 columns]",
      "text/html": "<div>\n<style scoped>\n    .dataframe tbody tr th:only-of-type {\n        vertical-align: middle;\n    }\n\n    .dataframe tbody tr th {\n        vertical-align: top;\n    }\n\n    .dataframe thead th {\n        text-align: right;\n    }\n</style>\n<table border=\"1\" class=\"dataframe\">\n  <thead>\n    <tr style=\"text-align: right;\">\n      <th></th>\n      <th>UnitNumber</th>\n      <th>Cycle</th>\n      <th>Operation Setting 1</th>\n      <th>Operation Setting 2</th>\n      <th>Operation Setting 3</th>\n      <th>Sensor Measure 1</th>\n      <th>Sensor Measure 2</th>\n      <th>Sensor Measure 3</th>\n      <th>Sensor Measure 4</th>\n      <th>Sensor Measure 5</th>\n      <th>...</th>\n      <th>Sensor Measure 13</th>\n      <th>Sensor Measure 14</th>\n      <th>Sensor Measure 15</th>\n      <th>Sensor Measure 16</th>\n      <th>Sensor Measure 17</th>\n      <th>Sensor Measure 18</th>\n      <th>Sensor Measure 19</th>\n      <th>Sensor Measure 20</th>\n      <th>Sensor Measure 21</th>\n      <th>RUL</th>\n    </tr>\n  </thead>\n  <tbody>\n    <tr>\n      <th>187</th>\n      <td>1</td>\n      <td>188</td>\n      <td>-0.0067</td>\n      <td>0.0003</td>\n      <td>100.0</td>\n      <td>518.67</td>\n      <td>643.75</td>\n      <td>1602.38</td>\n      <td>1422.78</td>\n      <td>14.62</td>\n      <td>...</td>\n      <td>2388.23</td>\n      <td>8117.69</td>\n      <td>8.5207</td>\n      <td>0.03</td>\n      <td>396</td>\n      <td>2388</td>\n      <td>100.0</td>\n      <td>38.51</td>\n      <td>22.9588</td>\n      <td>5</td>\n    </tr>\n    <tr>\n      <th>188</th>\n      <td>1</td>\n      <td>189</td>\n      <td>-0.0006</td>\n      <td>0.0002</td>\n      <td>100.0</td>\n      <td>518.67</td>\n      <td>644.18</td>\n      <td>1596.17</td>\n      <td>1428.01</td>\n      <td>14.62</td>\n      <td>...</td>\n      <td>2388.33</td>\n      <td>8117.51</td>\n      <td>8.5183</td>\n      <td>0.03</td>\n      <td>395</td>\n      <td>2388</td>\n      <td>100.0</td>\n      <td>38.48</td>\n      <td>23.1127</td>\n      <td>4</td>\n    </tr>\n    <tr>\n      <th>189</th>\n      <td>1</td>\n      <td>190</td>\n      <td>-0.0027</td>\n      <td>0.0001</td>\n      <td>100.0</td>\n      <td>518.67</td>\n      <td>643.64</td>\n      <td>1599.22</td>\n      <td>1425.95</td>\n      <td>14.62</td>\n      <td>...</td>\n      <td>2388.35</td>\n      <td>8112.58</td>\n      <td>8.5223</td>\n      <td>0.03</td>\n      <td>398</td>\n      <td>2388</td>\n      <td>100.0</td>\n      <td>38.49</td>\n      <td>23.0675</td>\n      <td>3</td>\n    </tr>\n    <tr>\n      <th>190</th>\n      <td>1</td>\n      <td>191</td>\n      <td>-0.0000</td>\n      <td>-0.0004</td>\n      <td>100.0</td>\n      <td>518.67</td>\n      <td>643.34</td>\n      <td>1602.36</td>\n      <td>1425.77</td>\n      <td>14.62</td>\n      <td>...</td>\n      <td>2388.30</td>\n      <td>8114.61</td>\n      <td>8.5174</td>\n      <td>0.03</td>\n      <td>394</td>\n      <td>2388</td>\n      <td>100.0</td>\n      <td>38.45</td>\n      <td>23.1295</td>\n      <td>2</td>\n    </tr>\n    <tr>\n      <th>191</th>\n      <td>1</td>\n      <td>192</td>\n      <td>0.0009</td>\n      <td>-0.0000</td>\n      <td>100.0</td>\n      <td>518.67</td>\n      <td>643.54</td>\n      <td>1601.41</td>\n      <td>1427.20</td>\n      <td>14.62</td>\n      <td>...</td>\n      <td>2388.32</td>\n      <td>8110.93</td>\n      <td>8.5113</td>\n      <td>0.03</td>\n      <td>396</td>\n      <td>2388</td>\n      <td>100.0</td>\n      <td>38.48</td>\n      <td>22.9649</td>\n      <td>1</td>\n    </tr>\n  </tbody>\n</table>\n<p>5 rows × 27 columns</p>\n</div>"
     },
     "execution_count": 58,
     "metadata": {},
     "output_type": "execute_result"
    }
   ],
   "source": [
    "train_data_RUL[(train_data_RUL[\"UnitNumber\"] == 1)].tail(5)"
   ],
   "metadata": {
    "collapsed": false,
    "ExecuteTime": {
     "end_time": "2024-05-12T14:36:22.116930800Z",
     "start_time": "2024-05-12T14:36:21.994937200Z"
    }
   }
  },
  {
   "cell_type": "code",
   "execution_count": 89,
   "outputs": [],
   "source": [
    "# extract target\n",
    "#y = train_data_RUL.set_index([\"UnitNumber\", \"Cycle\"]).sort_index().RUL.shift(-1) # shift RUL by one for forcasting (DEPRECATED)\n",
    "y = train_data_RUL.set_index([\"UnitNumber\", \"Cycle\"]).sort_index().RUL"
   ],
   "metadata": {
    "collapsed": false,
    "ExecuteTime": {
     "end_time": "2024-05-12T16:01:19.122717300Z",
     "start_time": "2024-05-12T16:01:18.934027900Z"
    }
   }
  },
  {
   "cell_type": "code",
   "execution_count": 85,
   "outputs": [
    {
     "name": "stdout",
     "output_type": "stream",
     "text": [
      "y value for window (1, 40): 153\n",
      "Train data RUL value for UnitNumber, Cycle (1, 41): 152\n"
     ]
    }
   ],
   "source": [
    "# consistency check for example window (1, 40)\n",
    "print(f\"y value for window (1, 40): {y.loc[(1, 40)]}\") # should be the same as the RUL of the row with the id (1, 41)\n",
    "print(f\"Train data RUL value for UnitNumber, Cycle (1, 41): {train_data_RUL[(train_data_RUL['UnitNumber'] == 1) & (train_data_RUL['Cycle'] == 41)]['RUL'].values[0]}\")"
   ],
   "metadata": {
    "collapsed": false,
    "ExecuteTime": {
     "end_time": "2024-05-12T15:53:48.559162700Z",
     "start_time": "2024-05-12T15:53:48.417482800Z"
    }
   }
  },
  {
   "cell_type": "markdown",
   "source": [
    "Findings:\n",
    "* The target value RUL does indeed match the RUL of the next cycle in the original data and the rolled data. If RUL is shifted by one for forcasting."
   ],
   "metadata": {
    "collapsed": false
   }
  },
  {
   "cell_type": "code",
   "execution_count": 90,
   "outputs": [
    {
     "name": "stdout",
     "output_type": "stream",
     "text": [
      "Shape of X: (20131, 240)\n",
      "Fist 3 rows of index of X: MultiIndex([(1, 6),\n",
      "            (1, 7),\n",
      "            (1, 8)],\n",
      "           names=['UnitNumber', 'Cycle'])\n",
      "Shape of y: (20631,)\n",
      "Fist 3 rows of index of y: MultiIndex([(1, 1),\n",
      "            (1, 2),\n",
      "            (1, 3)],\n",
      "           names=['UnitNumber', 'Cycle'])\n"
     ]
    }
   ],
   "source": [
    "# compare index and size of X and y\n",
    "print(f\"Shape of X: {X.shape}\")\n",
    "print(f\"Fist 3 rows of index of X: {X.index[:3]}\")\n",
    "print(f\"Shape of y: {y.shape}\")\n",
    "print(f\"Fist 3 rows of index of y: {y.index[:3]}\")"
   ],
   "metadata": {
    "collapsed": false,
    "ExecuteTime": {
     "end_time": "2024-05-12T16:01:23.932522Z",
     "start_time": "2024-05-12T16:01:23.811316800Z"
    }
   }
  },
  {
   "cell_type": "code",
   "execution_count": 91,
   "outputs": [
    {
     "data": {
      "text/plain": "UnitNumber  Cycle\n100         196      5\n            197      4\n            198      3\n            199      2\n            200      1\nName: RUL, dtype: int64"
     },
     "execution_count": 91,
     "metadata": {},
     "output_type": "execute_result"
    }
   ],
   "source": [
    "# check last rows of y\n",
    "y.tail(5)"
   ],
   "metadata": {
    "collapsed": false,
    "ExecuteTime": {
     "end_time": "2024-05-12T16:01:26.418416400Z",
     "start_time": "2024-05-12T16:01:26.240616300Z"
    }
   }
  },
  {
   "cell_type": "code",
   "execution_count": 92,
   "outputs": [
    {
     "name": "stdout",
     "output_type": "stream",
     "text": [
      "Number of NaN values in y: 0\n"
     ]
    },
    {
     "data": {
      "text/plain": "Series([], Name: RUL, dtype: int64)"
     },
     "execution_count": 92,
     "metadata": {},
     "output_type": "execute_result"
    }
   ],
   "source": [
    "# show nan values in y\n",
    "print(f\"Number of NaN values in y: {y.isnull().sum()}\")\n",
    "y[y.isnull()]"
   ],
   "metadata": {
    "collapsed": false,
    "ExecuteTime": {
     "end_time": "2024-05-12T16:01:28.104583800Z",
     "start_time": "2024-05-12T16:01:27.996832700Z"
    }
   }
  },
  {
   "cell_type": "markdown",
   "source": [
    "Findings:\n",
    "\n",
    "There are some inconsistencies! :\n",
    "* X is missing the first 5 dates (as our minimum window size was 5), which can be seen looking at the index length of X and y. X index has a length of `20131` and y index has a length of `20631`. This `500` difference is because we have `100` units and the first `5` cycles of each unit are not in X, thus we have $100 * 5 = 500$ missing rows in X which are in y. --> drop the first min_k time steps / cycles from X\n",
    "* y is missing the last date, as we cannot predict the RUL of the last cycle of each unit, as there is no next cycle to predict on. This can be seen by looking at the last row of y where the RUL is `NaN`. - only if shifted by one for forcasting. (DEPRECATED)"
   ],
   "metadata": {
    "collapsed": false
   }
  },
  {
   "cell_type": "code",
   "execution_count": 93,
   "outputs": [],
   "source": [
    "# make X and y consistent\n",
    "y = y[y.index.isin(X.index)]\n",
    "X = X[X.index.isin(y.index)]"
   ],
   "metadata": {
    "collapsed": false,
    "ExecuteTime": {
     "end_time": "2024-05-12T16:01:31.255337500Z",
     "start_time": "2024-05-12T16:01:30.793548900Z"
    }
   }
  },
  {
   "cell_type": "code",
   "execution_count": 94,
   "outputs": [
    {
     "name": "stdout",
     "output_type": "stream",
     "text": [
      "Shape of X: (20131, 240)\n",
      "Fist 3 rows of index of X: MultiIndex([(1, 6),\n",
      "            (1, 7),\n",
      "            (1, 8)],\n",
      "           names=['UnitNumber', 'Cycle'])\n",
      "Shape of y: (20131,)\n",
      "Fist 3 rows of index of y: MultiIndex([(1, 6),\n",
      "            (1, 7),\n",
      "            (1, 8)],\n",
      "           names=['UnitNumber', 'Cycle'])\n"
     ]
    }
   ],
   "source": [
    "# compare index of X and y\n",
    "print(f\"Shape of X: {X.shape}\")\n",
    "print(f\"Fist 3 rows of index of X: {X.index[:3]}\")\n",
    "print(f\"Shape of y: {y.shape}\")\n",
    "print(f\"Fist 3 rows of index of y: {y.index[:3]}\")"
   ],
   "metadata": {
    "collapsed": false,
    "ExecuteTime": {
     "end_time": "2024-05-12T16:01:32.402026600Z",
     "start_time": "2024-05-12T16:01:32.241690400Z"
    }
   }
  },
  {
   "cell_type": "code",
   "execution_count": 97,
   "outputs": [
    {
     "name": "stdout",
     "output_type": "stream",
     "text": [
      "Shape of X: (20131, 240)\n"
     ]
    },
    {
     "data": {
      "text/plain": "                  Operation Setting 1__sum_values  \\\nUnitNumber Cycle                                    \n100        196                             0.0035   \n           197                             0.0036   \n           198                             0.0051   \n           199                             0.0035   \n           200                            -0.0017   \n\n                  Operation Setting 1__median  Operation Setting 1__mean  \\\nUnitNumber Cycle                                                           \n100        196                        -0.0002                   0.000167   \n           197                        -0.0002                   0.000171   \n           198                        -0.0001                   0.000243   \n           199                        -0.0002                   0.000167   \n           200                        -0.0004                  -0.000081   \n\n                  Operation Setting 1__length  \\\nUnitNumber Cycle                                \n100        196                           21.0   \n           197                           21.0   \n           198                           21.0   \n           199                           21.0   \n           200                           21.0   \n\n                  Operation Setting 1__standard_deviation  \\\nUnitNumber Cycle                                            \n100        196                                   0.001378   \n           197                                   0.001372   \n           198                                   0.001342   \n           199                                   0.001371   \n           200                                   0.001482   \n\n                  Operation Setting 1__variance  \\\nUnitNumber Cycle                                  \n100        196                         0.000002   \n           197                         0.000002   \n           198                         0.000002   \n           199                         0.000002   \n           200                         0.000002   \n\n                  Operation Setting 1__root_mean_square  \\\nUnitNumber Cycle                                          \n100        196                                 0.001388   \n           197                                 0.001382   \n           198                                 0.001364   \n           199                                 0.001381   \n           200                                 0.001484   \n\n                  Operation Setting 1__maximum  \\\nUnitNumber Cycle                                 \n100        196                          0.0027   \n           197                          0.0027   \n           198                          0.0027   \n           199                          0.0027   \n           200                          0.0027   \n\n                  Operation Setting 1__absolute_maximum  \\\nUnitNumber Cycle                                          \n100        196                                   0.0027   \n           197                                   0.0027   \n           198                                   0.0027   \n           199                                   0.0027   \n           200                                   0.0032   \n\n                  Operation Setting 1__minimum  ...  \\\nUnitNumber Cycle                                ...   \n100        196                         -0.0017  ...   \n           197                         -0.0016  ...   \n           198                         -0.0016  ...   \n           199                         -0.0016  ...   \n           200                         -0.0032  ...   \n\n                  Sensor Measure 21__sum_values  Sensor Measure 21__median  \\\nUnitNumber Cycle                                                             \n100        196                         485.5209                    23.1218   \n           197                         485.5783                    23.1229   \n           198                         485.4764                    23.1229   \n           199                         485.3152                    23.1218   \n           200                         485.1989                    23.1173   \n\n                  Sensor Measure 21__mean  Sensor Measure 21__length  \\\nUnitNumber Cycle                                                       \n100        196                  23.120043                       21.0   \n           197                  23.122776                       21.0   \n           198                  23.117924                       21.0   \n           199                  23.110248                       21.0   \n           200                  23.104710                       21.0   \n\n                  Sensor Measure 21__standard_deviation  \\\nUnitNumber Cycle                                          \n100        196                                 0.072470   \n           197                                 0.072820   \n           198                                 0.081385   \n           199                                 0.078455   \n           200                                 0.078252   \n\n                  Sensor Measure 21__variance  \\\nUnitNumber Cycle                                \n100        196                       0.005252   \n           197                       0.005303   \n           198                       0.006624   \n           199                       0.006155   \n           200                       0.006123   \n\n                  Sensor Measure 21__root_mean_square  \\\nUnitNumber Cycle                                        \n100        196                              23.120156   \n           197                              23.122891   \n           198                              23.118067   \n           199                              23.110381   \n           200                              23.104842   \n\n                  Sensor Measure 21__maximum  \\\nUnitNumber Cycle                               \n100        196                       23.2345   \n           197                       23.2345   \n           198                       23.2345   \n           199                       23.2345   \n           200                       23.2345   \n\n                  Sensor Measure 21__absolute_maximum  \\\nUnitNumber Cycle                                        \n100        196                                23.2345   \n           197                                23.2345   \n           198                                23.2345   \n           199                                23.2345   \n           200                                23.2345   \n\n                  Sensor Measure 21__minimum  \nUnitNumber Cycle                              \n100        196                       22.9735  \n           197                       22.9735  \n           198                       22.9333  \n           199                       22.9333  \n           200                       22.9333  \n\n[5 rows x 240 columns]",
      "text/html": "<div>\n<style scoped>\n    .dataframe tbody tr th:only-of-type {\n        vertical-align: middle;\n    }\n\n    .dataframe tbody tr th {\n        vertical-align: top;\n    }\n\n    .dataframe thead th {\n        text-align: right;\n    }\n</style>\n<table border=\"1\" class=\"dataframe\">\n  <thead>\n    <tr style=\"text-align: right;\">\n      <th></th>\n      <th></th>\n      <th>Operation Setting 1__sum_values</th>\n      <th>Operation Setting 1__median</th>\n      <th>Operation Setting 1__mean</th>\n      <th>Operation Setting 1__length</th>\n      <th>Operation Setting 1__standard_deviation</th>\n      <th>Operation Setting 1__variance</th>\n      <th>Operation Setting 1__root_mean_square</th>\n      <th>Operation Setting 1__maximum</th>\n      <th>Operation Setting 1__absolute_maximum</th>\n      <th>Operation Setting 1__minimum</th>\n      <th>...</th>\n      <th>Sensor Measure 21__sum_values</th>\n      <th>Sensor Measure 21__median</th>\n      <th>Sensor Measure 21__mean</th>\n      <th>Sensor Measure 21__length</th>\n      <th>Sensor Measure 21__standard_deviation</th>\n      <th>Sensor Measure 21__variance</th>\n      <th>Sensor Measure 21__root_mean_square</th>\n      <th>Sensor Measure 21__maximum</th>\n      <th>Sensor Measure 21__absolute_maximum</th>\n      <th>Sensor Measure 21__minimum</th>\n    </tr>\n    <tr>\n      <th>UnitNumber</th>\n      <th>Cycle</th>\n      <th></th>\n      <th></th>\n      <th></th>\n      <th></th>\n      <th></th>\n      <th></th>\n      <th></th>\n      <th></th>\n      <th></th>\n      <th></th>\n      <th></th>\n      <th></th>\n      <th></th>\n      <th></th>\n      <th></th>\n      <th></th>\n      <th></th>\n      <th></th>\n      <th></th>\n      <th></th>\n      <th></th>\n    </tr>\n  </thead>\n  <tbody>\n    <tr>\n      <th rowspan=\"5\" valign=\"top\">100</th>\n      <th>196</th>\n      <td>0.0035</td>\n      <td>-0.0002</td>\n      <td>0.000167</td>\n      <td>21.0</td>\n      <td>0.001378</td>\n      <td>0.000002</td>\n      <td>0.001388</td>\n      <td>0.0027</td>\n      <td>0.0027</td>\n      <td>-0.0017</td>\n      <td>...</td>\n      <td>485.5209</td>\n      <td>23.1218</td>\n      <td>23.120043</td>\n      <td>21.0</td>\n      <td>0.072470</td>\n      <td>0.005252</td>\n      <td>23.120156</td>\n      <td>23.2345</td>\n      <td>23.2345</td>\n      <td>22.9735</td>\n    </tr>\n    <tr>\n      <th>197</th>\n      <td>0.0036</td>\n      <td>-0.0002</td>\n      <td>0.000171</td>\n      <td>21.0</td>\n      <td>0.001372</td>\n      <td>0.000002</td>\n      <td>0.001382</td>\n      <td>0.0027</td>\n      <td>0.0027</td>\n      <td>-0.0016</td>\n      <td>...</td>\n      <td>485.5783</td>\n      <td>23.1229</td>\n      <td>23.122776</td>\n      <td>21.0</td>\n      <td>0.072820</td>\n      <td>0.005303</td>\n      <td>23.122891</td>\n      <td>23.2345</td>\n      <td>23.2345</td>\n      <td>22.9735</td>\n    </tr>\n    <tr>\n      <th>198</th>\n      <td>0.0051</td>\n      <td>-0.0001</td>\n      <td>0.000243</td>\n      <td>21.0</td>\n      <td>0.001342</td>\n      <td>0.000002</td>\n      <td>0.001364</td>\n      <td>0.0027</td>\n      <td>0.0027</td>\n      <td>-0.0016</td>\n      <td>...</td>\n      <td>485.4764</td>\n      <td>23.1229</td>\n      <td>23.117924</td>\n      <td>21.0</td>\n      <td>0.081385</td>\n      <td>0.006624</td>\n      <td>23.118067</td>\n      <td>23.2345</td>\n      <td>23.2345</td>\n      <td>22.9333</td>\n    </tr>\n    <tr>\n      <th>199</th>\n      <td>0.0035</td>\n      <td>-0.0002</td>\n      <td>0.000167</td>\n      <td>21.0</td>\n      <td>0.001371</td>\n      <td>0.000002</td>\n      <td>0.001381</td>\n      <td>0.0027</td>\n      <td>0.0027</td>\n      <td>-0.0016</td>\n      <td>...</td>\n      <td>485.3152</td>\n      <td>23.1218</td>\n      <td>23.110248</td>\n      <td>21.0</td>\n      <td>0.078455</td>\n      <td>0.006155</td>\n      <td>23.110381</td>\n      <td>23.2345</td>\n      <td>23.2345</td>\n      <td>22.9333</td>\n    </tr>\n    <tr>\n      <th>200</th>\n      <td>-0.0017</td>\n      <td>-0.0004</td>\n      <td>-0.000081</td>\n      <td>21.0</td>\n      <td>0.001482</td>\n      <td>0.000002</td>\n      <td>0.001484</td>\n      <td>0.0027</td>\n      <td>0.0032</td>\n      <td>-0.0032</td>\n      <td>...</td>\n      <td>485.1989</td>\n      <td>23.1173</td>\n      <td>23.104710</td>\n      <td>21.0</td>\n      <td>0.078252</td>\n      <td>0.006123</td>\n      <td>23.104842</td>\n      <td>23.2345</td>\n      <td>23.2345</td>\n      <td>22.9333</td>\n    </tr>\n  </tbody>\n</table>\n<p>5 rows × 240 columns</p>\n</div>"
     },
     "metadata": {},
     "output_type": "display_data"
    },
    {
     "name": "stdout",
     "output_type": "stream",
     "text": [
      "Shape of y: (20131,)\n"
     ]
    },
    {
     "data": {
      "text/plain": "UnitNumber  Cycle\n100         196      5\n            197      4\n            198      3\n            199      2\n            200      1\nName: RUL, dtype: int64"
     },
     "metadata": {},
     "output_type": "display_data"
    }
   ],
   "source": [
    "print(f\"Shape of X: {X.shape}\")\n",
    "display(X.tail(5))\n",
    "print(f\"Shape of y: {y.shape}\")\n",
    "display(y.tail(5))"
   ],
   "metadata": {
    "collapsed": false,
    "ExecuteTime": {
     "end_time": "2024-05-12T16:29:56.858140700Z",
     "start_time": "2024-05-12T16:29:56.551268700Z"
    }
   }
  },
  {
   "cell_type": "markdown",
   "source": [
    "## 3. Modification for Test Set\n",
    "Note:\n",
    "* The test is different from the training set, as we have extern RUL target values for the test set. This target consits only of one value for each unit, which is the RUL of the last cycle of each unit. Thus, we need to filter the data.\n",
    "* Only use last window of each unit in the test set. The target RUL is in the `test_RUL_data` dataframe, which is the true RUL of the last cycle of each unit, thus a shape of (100, 1).\n",
    "\n",
    "--> Filter rolled data to only include the last window of each UnitNumber:\n",
    "* Ensure the selected cycles are sorted in ascending order of UnitNumber and Cycle values.\n",
    "* Group the filtered data by UnitNumber.\n",
    "* For each UnitNumber group, select the last max_window_size cycles.\n"
   ],
   "metadata": {
    "collapsed": false
   }
  },
  {
   "cell_type": "code",
   "execution_count": 31,
   "outputs": [
    {
     "name": "stderr",
     "output_type": "stream",
     "text": [
      "Rolling: 100%|██████████| 38/38 [00:03<00:00,  9.65it/s]\n"
     ]
    }
   ],
   "source": [
    "# generate rolling windows for test data\n",
    "test_data_rolled = roll_time_series(test_data, column_id=\"UnitNumber\", column_sort=\"Cycle\", max_timeshift=MAX_K, min_timeshift=MIN_K)"
   ],
   "metadata": {
    "collapsed": false,
    "ExecuteTime": {
     "end_time": "2024-05-12T13:53:39.205984900Z",
     "start_time": "2024-05-12T13:53:34.927511800Z"
    }
   }
  },
  {
   "cell_type": "code",
   "execution_count": 32,
   "outputs": [
    {
     "data": {
      "text/plain": "   UnitNumber  Cycle  Operation Setting 1  Operation Setting 2  \\\n0           1      1               0.0023               0.0003   \n1           1      2              -0.0027              -0.0003   \n2           1      3               0.0003               0.0001   \n3           1      4               0.0042               0.0000   \n4           1      5               0.0014               0.0000   \n\n   Operation Setting 3  Sensor Measure 1  Sensor Measure 2  Sensor Measure 3  \\\n0                100.0            518.67            643.02           1585.29   \n1                100.0            518.67            641.71           1588.45   \n2                100.0            518.67            642.46           1586.94   \n3                100.0            518.67            642.44           1584.12   \n4                100.0            518.67            642.51           1587.19   \n\n   Sensor Measure 4  Sensor Measure 5  ...  Sensor Measure 13  \\\n0           1398.21             14.62  ...            2388.03   \n1           1395.42             14.62  ...            2388.06   \n2           1401.34             14.62  ...            2388.03   \n3           1406.42             14.62  ...            2388.05   \n4           1401.92             14.62  ...            2388.03   \n\n   Sensor Measure 14  Sensor Measure 15  Sensor Measure 16  Sensor Measure 17  \\\n0            8125.55             8.4052               0.03                392   \n1            8139.62             8.3803               0.03                393   \n2            8130.10             8.4441               0.03                393   \n3            8132.90             8.3917               0.03                391   \n4            8129.54             8.4031               0.03                390   \n\n   Sensor Measure 18  Sensor Measure 19  Sensor Measure 20  Sensor Measure 21  \\\n0               2388              100.0              38.86            23.3735   \n1               2388              100.0              39.02            23.3916   \n2               2388              100.0              39.08            23.4166   \n3               2388              100.0              39.00            23.3737   \n4               2388              100.0              38.99            23.4130   \n\n       id  \n0  (1, 6)  \n1  (1, 6)  \n2  (1, 6)  \n3  (1, 6)  \n4  (1, 6)  \n\n[5 rows x 27 columns]",
      "text/html": "<div>\n<style scoped>\n    .dataframe tbody tr th:only-of-type {\n        vertical-align: middle;\n    }\n\n    .dataframe tbody tr th {\n        vertical-align: top;\n    }\n\n    .dataframe thead th {\n        text-align: right;\n    }\n</style>\n<table border=\"1\" class=\"dataframe\">\n  <thead>\n    <tr style=\"text-align: right;\">\n      <th></th>\n      <th>UnitNumber</th>\n      <th>Cycle</th>\n      <th>Operation Setting 1</th>\n      <th>Operation Setting 2</th>\n      <th>Operation Setting 3</th>\n      <th>Sensor Measure 1</th>\n      <th>Sensor Measure 2</th>\n      <th>Sensor Measure 3</th>\n      <th>Sensor Measure 4</th>\n      <th>Sensor Measure 5</th>\n      <th>...</th>\n      <th>Sensor Measure 13</th>\n      <th>Sensor Measure 14</th>\n      <th>Sensor Measure 15</th>\n      <th>Sensor Measure 16</th>\n      <th>Sensor Measure 17</th>\n      <th>Sensor Measure 18</th>\n      <th>Sensor Measure 19</th>\n      <th>Sensor Measure 20</th>\n      <th>Sensor Measure 21</th>\n      <th>id</th>\n    </tr>\n  </thead>\n  <tbody>\n    <tr>\n      <th>0</th>\n      <td>1</td>\n      <td>1</td>\n      <td>0.0023</td>\n      <td>0.0003</td>\n      <td>100.0</td>\n      <td>518.67</td>\n      <td>643.02</td>\n      <td>1585.29</td>\n      <td>1398.21</td>\n      <td>14.62</td>\n      <td>...</td>\n      <td>2388.03</td>\n      <td>8125.55</td>\n      <td>8.4052</td>\n      <td>0.03</td>\n      <td>392</td>\n      <td>2388</td>\n      <td>100.0</td>\n      <td>38.86</td>\n      <td>23.3735</td>\n      <td>(1, 6)</td>\n    </tr>\n    <tr>\n      <th>1</th>\n      <td>1</td>\n      <td>2</td>\n      <td>-0.0027</td>\n      <td>-0.0003</td>\n      <td>100.0</td>\n      <td>518.67</td>\n      <td>641.71</td>\n      <td>1588.45</td>\n      <td>1395.42</td>\n      <td>14.62</td>\n      <td>...</td>\n      <td>2388.06</td>\n      <td>8139.62</td>\n      <td>8.3803</td>\n      <td>0.03</td>\n      <td>393</td>\n      <td>2388</td>\n      <td>100.0</td>\n      <td>39.02</td>\n      <td>23.3916</td>\n      <td>(1, 6)</td>\n    </tr>\n    <tr>\n      <th>2</th>\n      <td>1</td>\n      <td>3</td>\n      <td>0.0003</td>\n      <td>0.0001</td>\n      <td>100.0</td>\n      <td>518.67</td>\n      <td>642.46</td>\n      <td>1586.94</td>\n      <td>1401.34</td>\n      <td>14.62</td>\n      <td>...</td>\n      <td>2388.03</td>\n      <td>8130.10</td>\n      <td>8.4441</td>\n      <td>0.03</td>\n      <td>393</td>\n      <td>2388</td>\n      <td>100.0</td>\n      <td>39.08</td>\n      <td>23.4166</td>\n      <td>(1, 6)</td>\n    </tr>\n    <tr>\n      <th>3</th>\n      <td>1</td>\n      <td>4</td>\n      <td>0.0042</td>\n      <td>0.0000</td>\n      <td>100.0</td>\n      <td>518.67</td>\n      <td>642.44</td>\n      <td>1584.12</td>\n      <td>1406.42</td>\n      <td>14.62</td>\n      <td>...</td>\n      <td>2388.05</td>\n      <td>8132.90</td>\n      <td>8.3917</td>\n      <td>0.03</td>\n      <td>391</td>\n      <td>2388</td>\n      <td>100.0</td>\n      <td>39.00</td>\n      <td>23.3737</td>\n      <td>(1, 6)</td>\n    </tr>\n    <tr>\n      <th>4</th>\n      <td>1</td>\n      <td>5</td>\n      <td>0.0014</td>\n      <td>0.0000</td>\n      <td>100.0</td>\n      <td>518.67</td>\n      <td>642.51</td>\n      <td>1587.19</td>\n      <td>1401.92</td>\n      <td>14.62</td>\n      <td>...</td>\n      <td>2388.03</td>\n      <td>8129.54</td>\n      <td>8.4031</td>\n      <td>0.03</td>\n      <td>390</td>\n      <td>2388</td>\n      <td>100.0</td>\n      <td>38.99</td>\n      <td>23.4130</td>\n      <td>(1, 6)</td>\n    </tr>\n  </tbody>\n</table>\n<p>5 rows × 27 columns</p>\n</div>"
     },
     "execution_count": 32,
     "metadata": {},
     "output_type": "execute_result"
    }
   ],
   "source": [
    "test_data_rolled.head(5)"
   ],
   "metadata": {
    "collapsed": false,
    "ExecuteTime": {
     "end_time": "2024-05-12T13:53:39.299031Z",
     "start_time": "2024-05-12T13:53:39.208222500Z"
    }
   }
  },
  {
   "cell_type": "code",
   "execution_count": 33,
   "outputs": [],
   "source": [
    "# filter to only include the last window of each unit\n",
    "filtered_test_data_rolled = test_data_rolled.groupby(\"UnitNumber\").tail(MAX_K)"
   ],
   "metadata": {
    "collapsed": false,
    "ExecuteTime": {
     "end_time": "2024-05-12T13:53:39.424460700Z",
     "start_time": "2024-05-12T13:53:39.299031Z"
    }
   }
  },
  {
   "cell_type": "code",
   "execution_count": 34,
   "outputs": [
    {
     "data": {
      "text/plain": "       UnitNumber  Cycle  Operation Setting 1  Operation Setting 2  \\\n76785           1     12               0.0026               0.0003   \n76786           1     13              -0.0056               0.0003   \n76787           1     14               0.0017              -0.0004   \n76788           1     15              -0.0003              -0.0003   \n76789           1     16              -0.0018               0.0003   \n76790           1     17               0.0014               0.0002   \n76791           1     18               0.0035               0.0001   \n76792           1     19               0.0029               0.0001   \n76793           1     20               0.0011              -0.0001   \n76794           1     21               0.0038              -0.0002   \n76795           1     22               0.0012               0.0001   \n76796           1     23               0.0009              -0.0000   \n76797           1     24              -0.0006              -0.0001   \n76798           1     25               0.0028              -0.0003   \n76799           1     26               0.0047              -0.0005   \n76800           1     27              -0.0007               0.0001   \n76801           1     28               0.0022               0.0005   \n76802           1     29               0.0014               0.0001   \n76803           1     30              -0.0025               0.0004   \n76804           1     31              -0.0006               0.0004   \n48771           2     30               0.0015               0.0004   \n48772           2     31               0.0003               0.0002   \n48773           2     32               0.0032               0.0002   \n48774           2     33              -0.0006              -0.0003   \n48775           2     34              -0.0033               0.0001   \n48776           2     35              -0.0033              -0.0001   \n48777           2     36              -0.0017               0.0001   \n48778           2     37               0.0004              -0.0001   \n48779           2     38              -0.0029              -0.0001   \n48780           2     39               0.0002               0.0004   \n48781           2     40               0.0023               0.0003   \n48782           2     41              -0.0001              -0.0002   \n48783           2     42              -0.0039              -0.0002   \n48784           2     43               0.0014               0.0001   \n48785           2     44              -0.0023               0.0003   \n48786           2     45              -0.0029               0.0000   \n48787           2     46               0.0026              -0.0002   \n48788           2     47              -0.0029              -0.0004   \n48789           2     48               0.0011              -0.0001   \n48790           2     49               0.0018              -0.0001   \n\n       Operation Setting 3  Sensor Measure 1  Sensor Measure 2  \\\n76785                100.0            518.67            642.54   \n76786                100.0            518.67            641.94   \n76787                100.0            518.67            642.23   \n76788                100.0            518.67            642.50   \n76789                100.0            518.67            642.32   \n76790                100.0            518.67            642.19   \n76791                100.0            518.67            642.59   \n76792                100.0            518.67            642.43   \n76793                100.0            518.67            642.61   \n76794                100.0            518.67            642.70   \n76795                100.0            518.67            642.45   \n76796                100.0            518.67            642.12   \n76797                100.0            518.67            642.32   \n76798                100.0            518.67            642.25   \n76799                100.0            518.67            642.48   \n76800                100.0            518.67            642.08   \n76801                100.0            518.67            641.93   \n76802                100.0            518.67            641.95   \n76803                100.0            518.67            642.79   \n76804                100.0            518.67            642.58   \n48771                100.0            518.67            642.75   \n48772                100.0            518.67            642.77   \n48773                100.0            518.67            642.78   \n48774                100.0            518.67            642.53   \n48775                100.0            518.67            642.43   \n48776                100.0            518.67            642.89   \n48777                100.0            518.67            642.23   \n48778                100.0            518.67            643.20   \n48779                100.0            518.67            642.62   \n48780                100.0            518.67            642.98   \n48781                100.0            518.67            642.65   \n48782                100.0            518.67            642.78   \n48783                100.0            518.67            642.74   \n48784                100.0            518.67            642.82   \n48785                100.0            518.67            642.77   \n48786                100.0            518.67            642.48   \n48787                100.0            518.67            642.84   \n48788                100.0            518.67            642.85   \n48789                100.0            518.67            642.64   \n48790                100.0            518.67            642.55   \n\n       Sensor Measure 3  Sensor Measure 4  Sensor Measure 5  ...  \\\n76785           1587.43           1397.82             14.62  ...   \n76786           1589.09           1403.94             14.62  ...   \n76787           1583.16           1402.88             14.62  ...   \n76788           1584.81           1398.79             14.62  ...   \n76789           1584.51           1407.76             14.62  ...   \n76790           1582.70           1404.12             14.62  ...   \n76791           1586.53           1403.69             14.62  ...   \n76792           1585.58           1402.30             14.62  ...   \n76793           1587.78           1400.70             14.62  ...   \n76794           1583.30           1399.20             14.62  ...   \n76795           1582.78           1404.06             14.62  ...   \n76796           1587.51           1395.09             14.62  ...   \n76797           1594.29           1400.15             14.62  ...   \n76798           1582.43           1400.23             14.62  ...   \n76799           1583.28           1408.07             14.62  ...   \n76800           1586.65           1400.31             14.62  ...   \n76801           1594.25           1401.29             14.62  ...   \n76802           1587.15           1398.11             14.62  ...   \n76803           1585.72           1400.97             14.62  ...   \n76804           1581.22           1398.91             14.62  ...   \n48771           1583.78           1409.97             14.62  ...   \n48772           1591.32           1402.47             14.62  ...   \n48773           1594.31           1416.93             14.62  ...   \n48774           1592.58           1405.06             14.62  ...   \n48775           1582.25           1409.15             14.62  ...   \n48776           1597.36           1402.02             14.62  ...   \n48777           1584.89           1407.87             14.62  ...   \n48778           1581.90           1404.83             14.62  ...   \n48779           1588.47           1401.81             14.62  ...   \n48780           1591.62           1405.46             14.62  ...   \n48781           1590.33           1407.82             14.62  ...   \n48782           1595.98           1405.79             14.62  ...   \n48783           1586.43           1409.10             14.62  ...   \n48784           1588.40           1405.06             14.62  ...   \n48785           1591.75           1411.05             14.62  ...   \n48786           1590.52           1406.20             14.62  ...   \n48787           1589.31           1401.67             14.62  ...   \n48788           1587.58           1403.23             14.62  ...   \n48789           1587.71           1411.96             14.62  ...   \n48790           1586.59           1410.83             14.62  ...   \n\n       Sensor Measure 13  Sensor Measure 14  Sensor Measure 15  \\\n76785            2388.06            8132.33             8.3984   \n76786            2388.03            8131.12             8.4166   \n76787            2388.06            8130.30             8.4293   \n76788            2388.00            8133.62             8.4163   \n76789            2388.10            8133.83             8.4300   \n76790            2388.02            8126.78             8.4577   \n76791            2388.06            8133.22             8.4323   \n76792            2388.01            8129.31             8.3892   \n76793            2388.05            8128.59             8.4099   \n76794            2388.11            8126.86             8.4174   \n76795            2388.04            8128.89             8.4557   \n76796            2388.06            8130.97             8.4116   \n76797            2388.12            8130.70             8.4074   \n76798            2388.08            8128.65             8.4007   \n76799            2388.07            8129.12             8.3949   \n76800            2388.02            8127.24             8.4494   \n76801            2388.07            8134.89             8.4470   \n76802            2388.07            8133.13             8.4212   \n76803            2388.10            8134.79             8.4110   \n76804            2388.06            8130.11             8.4024   \n48771            2388.11            8132.58             8.4629   \n48772            2388.13            8129.54             8.4312   \n48773            2388.11            8129.92             8.4061   \n48774            2388.06            8127.13             8.4163   \n48775            2388.09            8126.81             8.4476   \n48776            2388.14            8124.10             8.4593   \n48777            2388.12            8131.65             8.4211   \n48778            2388.16            8135.15             8.4178   \n48779            2388.12            8127.19             8.4541   \n48780            2388.13            8128.53             8.4363   \n48781            2388.12            8127.59             8.4190   \n48782            2388.10            8125.49             8.4247   \n48783            2388.14            8126.66             8.4788   \n48784            2388.15            8125.56             8.4927   \n48785            2388.13            8132.18             8.4366   \n48786            2388.10            8128.22             8.4467   \n48787            2388.10            8128.82             8.4455   \n48788            2388.11            8128.77             8.4221   \n48789            2388.11            8125.65             8.4465   \n48790            2388.09            8126.90             8.4505   \n\n       Sensor Measure 16  Sensor Measure 17  Sensor Measure 18  \\\n76785               0.03                391               2388   \n76786               0.03                392               2388   \n76787               0.03                392               2388   \n76788               0.03                392               2388   \n76789               0.03                390               2388   \n76790               0.03                391               2388   \n76791               0.03                391               2388   \n76792               0.03                391               2388   \n76793               0.03                392               2388   \n76794               0.03                392               2388   \n76795               0.03                392               2388   \n76796               0.03                393               2388   \n76797               0.03                393               2388   \n76798               0.03                393               2388   \n76799               0.03                391               2388   \n76800               0.03                392               2388   \n76801               0.03                392               2388   \n76802               0.03                392               2388   \n76803               0.03                391               2388   \n76804               0.03                393               2388   \n48771               0.03                393               2388   \n48772               0.03                394               2388   \n48773               0.03                394               2388   \n48774               0.03                395               2388   \n48775               0.03                392               2388   \n48776               0.03                393               2388   \n48777               0.03                393               2388   \n48778               0.03                393               2388   \n48779               0.03                393               2388   \n48780               0.03                394               2388   \n48781               0.03                393               2388   \n48782               0.03                393               2388   \n48783               0.03                393               2388   \n48784               0.03                392               2388   \n48785               0.03                392               2388   \n48786               0.03                392               2388   \n48787               0.03                394               2388   \n48788               0.03                392               2388   \n48789               0.03                392               2388   \n48790               0.03                391               2388   \n\n       Sensor Measure 19  Sensor Measure 20  Sensor Measure 21       id  \n76785              100.0              39.11            23.3845  (1, 31)  \n76786              100.0              39.08            23.3677  (1, 31)  \n76787              100.0              39.03            23.4572  (1, 31)  \n76788              100.0              39.04            23.3672  (1, 31)  \n76789              100.0              38.87            23.3484  (1, 31)  \n76790              100.0              39.09            23.3409  (1, 31)  \n76791              100.0              38.96            23.4481  (1, 31)  \n76792              100.0              39.06            23.3809  (1, 31)  \n76793              100.0              39.00            23.3325  (1, 31)  \n76794              100.0              38.96            23.4025  (1, 31)  \n76795              100.0              38.94            23.3770  (1, 31)  \n76796              100.0              39.10            23.3186  (1, 31)  \n76797              100.0              38.94            23.3971  (1, 31)  \n76798              100.0              38.96            23.3785  (1, 31)  \n76799              100.0              38.77            23.3557  (1, 31)  \n76800              100.0              38.87            23.3931  (1, 31)  \n76801              100.0              38.83            23.3502  (1, 31)  \n76802              100.0              39.02            23.3621  (1, 31)  \n76803              100.0              39.09            23.4069  (1, 31)  \n76804              100.0              38.81            23.3552  (1, 31)  \n48771              100.0              38.93            23.3048  (2, 49)  \n48772              100.0              38.74            23.3065  (2, 49)  \n48773              100.0              38.74            23.3139  (2, 49)  \n48774              100.0              39.02            23.3074  (2, 49)  \n48775              100.0              38.97            23.2535  (2, 49)  \n48776              100.0              38.87            23.3074  (2, 49)  \n48777              100.0              38.84            23.2243  (2, 49)  \n48778              100.0              39.02            23.2880  (2, 49)  \n48779              100.0              38.81            23.3641  (2, 49)  \n48780              100.0              38.67            23.3072  (2, 49)  \n48781              100.0              38.74            23.3693  (2, 49)  \n48782              100.0              38.82            23.3411  (2, 49)  \n48783              100.0              38.88            23.2196  (2, 49)  \n48784              100.0              38.73            23.2775  (2, 49)  \n48785              100.0              38.79            23.3533  (2, 49)  \n48786              100.0              38.95            23.2906  (2, 49)  \n48787              100.0              38.88            23.2310  (2, 49)  \n48788              100.0              38.88            23.2965  (2, 49)  \n48789              100.0              38.99            23.2918  (2, 49)  \n48790              100.0              38.81            23.2618  (2, 49)  \n\n[40 rows x 27 columns]",
      "text/html": "<div>\n<style scoped>\n    .dataframe tbody tr th:only-of-type {\n        vertical-align: middle;\n    }\n\n    .dataframe tbody tr th {\n        vertical-align: top;\n    }\n\n    .dataframe thead th {\n        text-align: right;\n    }\n</style>\n<table border=\"1\" class=\"dataframe\">\n  <thead>\n    <tr style=\"text-align: right;\">\n      <th></th>\n      <th>UnitNumber</th>\n      <th>Cycle</th>\n      <th>Operation Setting 1</th>\n      <th>Operation Setting 2</th>\n      <th>Operation Setting 3</th>\n      <th>Sensor Measure 1</th>\n      <th>Sensor Measure 2</th>\n      <th>Sensor Measure 3</th>\n      <th>Sensor Measure 4</th>\n      <th>Sensor Measure 5</th>\n      <th>...</th>\n      <th>Sensor Measure 13</th>\n      <th>Sensor Measure 14</th>\n      <th>Sensor Measure 15</th>\n      <th>Sensor Measure 16</th>\n      <th>Sensor Measure 17</th>\n      <th>Sensor Measure 18</th>\n      <th>Sensor Measure 19</th>\n      <th>Sensor Measure 20</th>\n      <th>Sensor Measure 21</th>\n      <th>id</th>\n    </tr>\n  </thead>\n  <tbody>\n    <tr>\n      <th>76785</th>\n      <td>1</td>\n      <td>12</td>\n      <td>0.0026</td>\n      <td>0.0003</td>\n      <td>100.0</td>\n      <td>518.67</td>\n      <td>642.54</td>\n      <td>1587.43</td>\n      <td>1397.82</td>\n      <td>14.62</td>\n      <td>...</td>\n      <td>2388.06</td>\n      <td>8132.33</td>\n      <td>8.3984</td>\n      <td>0.03</td>\n      <td>391</td>\n      <td>2388</td>\n      <td>100.0</td>\n      <td>39.11</td>\n      <td>23.3845</td>\n      <td>(1, 31)</td>\n    </tr>\n    <tr>\n      <th>76786</th>\n      <td>1</td>\n      <td>13</td>\n      <td>-0.0056</td>\n      <td>0.0003</td>\n      <td>100.0</td>\n      <td>518.67</td>\n      <td>641.94</td>\n      <td>1589.09</td>\n      <td>1403.94</td>\n      <td>14.62</td>\n      <td>...</td>\n      <td>2388.03</td>\n      <td>8131.12</td>\n      <td>8.4166</td>\n      <td>0.03</td>\n      <td>392</td>\n      <td>2388</td>\n      <td>100.0</td>\n      <td>39.08</td>\n      <td>23.3677</td>\n      <td>(1, 31)</td>\n    </tr>\n    <tr>\n      <th>76787</th>\n      <td>1</td>\n      <td>14</td>\n      <td>0.0017</td>\n      <td>-0.0004</td>\n      <td>100.0</td>\n      <td>518.67</td>\n      <td>642.23</td>\n      <td>1583.16</td>\n      <td>1402.88</td>\n      <td>14.62</td>\n      <td>...</td>\n      <td>2388.06</td>\n      <td>8130.30</td>\n      <td>8.4293</td>\n      <td>0.03</td>\n      <td>392</td>\n      <td>2388</td>\n      <td>100.0</td>\n      <td>39.03</td>\n      <td>23.4572</td>\n      <td>(1, 31)</td>\n    </tr>\n    <tr>\n      <th>76788</th>\n      <td>1</td>\n      <td>15</td>\n      <td>-0.0003</td>\n      <td>-0.0003</td>\n      <td>100.0</td>\n      <td>518.67</td>\n      <td>642.50</td>\n      <td>1584.81</td>\n      <td>1398.79</td>\n      <td>14.62</td>\n      <td>...</td>\n      <td>2388.00</td>\n      <td>8133.62</td>\n      <td>8.4163</td>\n      <td>0.03</td>\n      <td>392</td>\n      <td>2388</td>\n      <td>100.0</td>\n      <td>39.04</td>\n      <td>23.3672</td>\n      <td>(1, 31)</td>\n    </tr>\n    <tr>\n      <th>76789</th>\n      <td>1</td>\n      <td>16</td>\n      <td>-0.0018</td>\n      <td>0.0003</td>\n      <td>100.0</td>\n      <td>518.67</td>\n      <td>642.32</td>\n      <td>1584.51</td>\n      <td>1407.76</td>\n      <td>14.62</td>\n      <td>...</td>\n      <td>2388.10</td>\n      <td>8133.83</td>\n      <td>8.4300</td>\n      <td>0.03</td>\n      <td>390</td>\n      <td>2388</td>\n      <td>100.0</td>\n      <td>38.87</td>\n      <td>23.3484</td>\n      <td>(1, 31)</td>\n    </tr>\n    <tr>\n      <th>76790</th>\n      <td>1</td>\n      <td>17</td>\n      <td>0.0014</td>\n      <td>0.0002</td>\n      <td>100.0</td>\n      <td>518.67</td>\n      <td>642.19</td>\n      <td>1582.70</td>\n      <td>1404.12</td>\n      <td>14.62</td>\n      <td>...</td>\n      <td>2388.02</td>\n      <td>8126.78</td>\n      <td>8.4577</td>\n      <td>0.03</td>\n      <td>391</td>\n      <td>2388</td>\n      <td>100.0</td>\n      <td>39.09</td>\n      <td>23.3409</td>\n      <td>(1, 31)</td>\n    </tr>\n    <tr>\n      <th>76791</th>\n      <td>1</td>\n      <td>18</td>\n      <td>0.0035</td>\n      <td>0.0001</td>\n      <td>100.0</td>\n      <td>518.67</td>\n      <td>642.59</td>\n      <td>1586.53</td>\n      <td>1403.69</td>\n      <td>14.62</td>\n      <td>...</td>\n      <td>2388.06</td>\n      <td>8133.22</td>\n      <td>8.4323</td>\n      <td>0.03</td>\n      <td>391</td>\n      <td>2388</td>\n      <td>100.0</td>\n      <td>38.96</td>\n      <td>23.4481</td>\n      <td>(1, 31)</td>\n    </tr>\n    <tr>\n      <th>76792</th>\n      <td>1</td>\n      <td>19</td>\n      <td>0.0029</td>\n      <td>0.0001</td>\n      <td>100.0</td>\n      <td>518.67</td>\n      <td>642.43</td>\n      <td>1585.58</td>\n      <td>1402.30</td>\n      <td>14.62</td>\n      <td>...</td>\n      <td>2388.01</td>\n      <td>8129.31</td>\n      <td>8.3892</td>\n      <td>0.03</td>\n      <td>391</td>\n      <td>2388</td>\n      <td>100.0</td>\n      <td>39.06</td>\n      <td>23.3809</td>\n      <td>(1, 31)</td>\n    </tr>\n    <tr>\n      <th>76793</th>\n      <td>1</td>\n      <td>20</td>\n      <td>0.0011</td>\n      <td>-0.0001</td>\n      <td>100.0</td>\n      <td>518.67</td>\n      <td>642.61</td>\n      <td>1587.78</td>\n      <td>1400.70</td>\n      <td>14.62</td>\n      <td>...</td>\n      <td>2388.05</td>\n      <td>8128.59</td>\n      <td>8.4099</td>\n      <td>0.03</td>\n      <td>392</td>\n      <td>2388</td>\n      <td>100.0</td>\n      <td>39.00</td>\n      <td>23.3325</td>\n      <td>(1, 31)</td>\n    </tr>\n    <tr>\n      <th>76794</th>\n      <td>1</td>\n      <td>21</td>\n      <td>0.0038</td>\n      <td>-0.0002</td>\n      <td>100.0</td>\n      <td>518.67</td>\n      <td>642.70</td>\n      <td>1583.30</td>\n      <td>1399.20</td>\n      <td>14.62</td>\n      <td>...</td>\n      <td>2388.11</td>\n      <td>8126.86</td>\n      <td>8.4174</td>\n      <td>0.03</td>\n      <td>392</td>\n      <td>2388</td>\n      <td>100.0</td>\n      <td>38.96</td>\n      <td>23.4025</td>\n      <td>(1, 31)</td>\n    </tr>\n    <tr>\n      <th>76795</th>\n      <td>1</td>\n      <td>22</td>\n      <td>0.0012</td>\n      <td>0.0001</td>\n      <td>100.0</td>\n      <td>518.67</td>\n      <td>642.45</td>\n      <td>1582.78</td>\n      <td>1404.06</td>\n      <td>14.62</td>\n      <td>...</td>\n      <td>2388.04</td>\n      <td>8128.89</td>\n      <td>8.4557</td>\n      <td>0.03</td>\n      <td>392</td>\n      <td>2388</td>\n      <td>100.0</td>\n      <td>38.94</td>\n      <td>23.3770</td>\n      <td>(1, 31)</td>\n    </tr>\n    <tr>\n      <th>76796</th>\n      <td>1</td>\n      <td>23</td>\n      <td>0.0009</td>\n      <td>-0.0000</td>\n      <td>100.0</td>\n      <td>518.67</td>\n      <td>642.12</td>\n      <td>1587.51</td>\n      <td>1395.09</td>\n      <td>14.62</td>\n      <td>...</td>\n      <td>2388.06</td>\n      <td>8130.97</td>\n      <td>8.4116</td>\n      <td>0.03</td>\n      <td>393</td>\n      <td>2388</td>\n      <td>100.0</td>\n      <td>39.10</td>\n      <td>23.3186</td>\n      <td>(1, 31)</td>\n    </tr>\n    <tr>\n      <th>76797</th>\n      <td>1</td>\n      <td>24</td>\n      <td>-0.0006</td>\n      <td>-0.0001</td>\n      <td>100.0</td>\n      <td>518.67</td>\n      <td>642.32</td>\n      <td>1594.29</td>\n      <td>1400.15</td>\n      <td>14.62</td>\n      <td>...</td>\n      <td>2388.12</td>\n      <td>8130.70</td>\n      <td>8.4074</td>\n      <td>0.03</td>\n      <td>393</td>\n      <td>2388</td>\n      <td>100.0</td>\n      <td>38.94</td>\n      <td>23.3971</td>\n      <td>(1, 31)</td>\n    </tr>\n    <tr>\n      <th>76798</th>\n      <td>1</td>\n      <td>25</td>\n      <td>0.0028</td>\n      <td>-0.0003</td>\n      <td>100.0</td>\n      <td>518.67</td>\n      <td>642.25</td>\n      <td>1582.43</td>\n      <td>1400.23</td>\n      <td>14.62</td>\n      <td>...</td>\n      <td>2388.08</td>\n      <td>8128.65</td>\n      <td>8.4007</td>\n      <td>0.03</td>\n      <td>393</td>\n      <td>2388</td>\n      <td>100.0</td>\n      <td>38.96</td>\n      <td>23.3785</td>\n      <td>(1, 31)</td>\n    </tr>\n    <tr>\n      <th>76799</th>\n      <td>1</td>\n      <td>26</td>\n      <td>0.0047</td>\n      <td>-0.0005</td>\n      <td>100.0</td>\n      <td>518.67</td>\n      <td>642.48</td>\n      <td>1583.28</td>\n      <td>1408.07</td>\n      <td>14.62</td>\n      <td>...</td>\n      <td>2388.07</td>\n      <td>8129.12</td>\n      <td>8.3949</td>\n      <td>0.03</td>\n      <td>391</td>\n      <td>2388</td>\n      <td>100.0</td>\n      <td>38.77</td>\n      <td>23.3557</td>\n      <td>(1, 31)</td>\n    </tr>\n    <tr>\n      <th>76800</th>\n      <td>1</td>\n      <td>27</td>\n      <td>-0.0007</td>\n      <td>0.0001</td>\n      <td>100.0</td>\n      <td>518.67</td>\n      <td>642.08</td>\n      <td>1586.65</td>\n      <td>1400.31</td>\n      <td>14.62</td>\n      <td>...</td>\n      <td>2388.02</td>\n      <td>8127.24</td>\n      <td>8.4494</td>\n      <td>0.03</td>\n      <td>392</td>\n      <td>2388</td>\n      <td>100.0</td>\n      <td>38.87</td>\n      <td>23.3931</td>\n      <td>(1, 31)</td>\n    </tr>\n    <tr>\n      <th>76801</th>\n      <td>1</td>\n      <td>28</td>\n      <td>0.0022</td>\n      <td>0.0005</td>\n      <td>100.0</td>\n      <td>518.67</td>\n      <td>641.93</td>\n      <td>1594.25</td>\n      <td>1401.29</td>\n      <td>14.62</td>\n      <td>...</td>\n      <td>2388.07</td>\n      <td>8134.89</td>\n      <td>8.4470</td>\n      <td>0.03</td>\n      <td>392</td>\n      <td>2388</td>\n      <td>100.0</td>\n      <td>38.83</td>\n      <td>23.3502</td>\n      <td>(1, 31)</td>\n    </tr>\n    <tr>\n      <th>76802</th>\n      <td>1</td>\n      <td>29</td>\n      <td>0.0014</td>\n      <td>0.0001</td>\n      <td>100.0</td>\n      <td>518.67</td>\n      <td>641.95</td>\n      <td>1587.15</td>\n      <td>1398.11</td>\n      <td>14.62</td>\n      <td>...</td>\n      <td>2388.07</td>\n      <td>8133.13</td>\n      <td>8.4212</td>\n      <td>0.03</td>\n      <td>392</td>\n      <td>2388</td>\n      <td>100.0</td>\n      <td>39.02</td>\n      <td>23.3621</td>\n      <td>(1, 31)</td>\n    </tr>\n    <tr>\n      <th>76803</th>\n      <td>1</td>\n      <td>30</td>\n      <td>-0.0025</td>\n      <td>0.0004</td>\n      <td>100.0</td>\n      <td>518.67</td>\n      <td>642.79</td>\n      <td>1585.72</td>\n      <td>1400.97</td>\n      <td>14.62</td>\n      <td>...</td>\n      <td>2388.10</td>\n      <td>8134.79</td>\n      <td>8.4110</td>\n      <td>0.03</td>\n      <td>391</td>\n      <td>2388</td>\n      <td>100.0</td>\n      <td>39.09</td>\n      <td>23.4069</td>\n      <td>(1, 31)</td>\n    </tr>\n    <tr>\n      <th>76804</th>\n      <td>1</td>\n      <td>31</td>\n      <td>-0.0006</td>\n      <td>0.0004</td>\n      <td>100.0</td>\n      <td>518.67</td>\n      <td>642.58</td>\n      <td>1581.22</td>\n      <td>1398.91</td>\n      <td>14.62</td>\n      <td>...</td>\n      <td>2388.06</td>\n      <td>8130.11</td>\n      <td>8.4024</td>\n      <td>0.03</td>\n      <td>393</td>\n      <td>2388</td>\n      <td>100.0</td>\n      <td>38.81</td>\n      <td>23.3552</td>\n      <td>(1, 31)</td>\n    </tr>\n    <tr>\n      <th>48771</th>\n      <td>2</td>\n      <td>30</td>\n      <td>0.0015</td>\n      <td>0.0004</td>\n      <td>100.0</td>\n      <td>518.67</td>\n      <td>642.75</td>\n      <td>1583.78</td>\n      <td>1409.97</td>\n      <td>14.62</td>\n      <td>...</td>\n      <td>2388.11</td>\n      <td>8132.58</td>\n      <td>8.4629</td>\n      <td>0.03</td>\n      <td>393</td>\n      <td>2388</td>\n      <td>100.0</td>\n      <td>38.93</td>\n      <td>23.3048</td>\n      <td>(2, 49)</td>\n    </tr>\n    <tr>\n      <th>48772</th>\n      <td>2</td>\n      <td>31</td>\n      <td>0.0003</td>\n      <td>0.0002</td>\n      <td>100.0</td>\n      <td>518.67</td>\n      <td>642.77</td>\n      <td>1591.32</td>\n      <td>1402.47</td>\n      <td>14.62</td>\n      <td>...</td>\n      <td>2388.13</td>\n      <td>8129.54</td>\n      <td>8.4312</td>\n      <td>0.03</td>\n      <td>394</td>\n      <td>2388</td>\n      <td>100.0</td>\n      <td>38.74</td>\n      <td>23.3065</td>\n      <td>(2, 49)</td>\n    </tr>\n    <tr>\n      <th>48773</th>\n      <td>2</td>\n      <td>32</td>\n      <td>0.0032</td>\n      <td>0.0002</td>\n      <td>100.0</td>\n      <td>518.67</td>\n      <td>642.78</td>\n      <td>1594.31</td>\n      <td>1416.93</td>\n      <td>14.62</td>\n      <td>...</td>\n      <td>2388.11</td>\n      <td>8129.92</td>\n      <td>8.4061</td>\n      <td>0.03</td>\n      <td>394</td>\n      <td>2388</td>\n      <td>100.0</td>\n      <td>38.74</td>\n      <td>23.3139</td>\n      <td>(2, 49)</td>\n    </tr>\n    <tr>\n      <th>48774</th>\n      <td>2</td>\n      <td>33</td>\n      <td>-0.0006</td>\n      <td>-0.0003</td>\n      <td>100.0</td>\n      <td>518.67</td>\n      <td>642.53</td>\n      <td>1592.58</td>\n      <td>1405.06</td>\n      <td>14.62</td>\n      <td>...</td>\n      <td>2388.06</td>\n      <td>8127.13</td>\n      <td>8.4163</td>\n      <td>0.03</td>\n      <td>395</td>\n      <td>2388</td>\n      <td>100.0</td>\n      <td>39.02</td>\n      <td>23.3074</td>\n      <td>(2, 49)</td>\n    </tr>\n    <tr>\n      <th>48775</th>\n      <td>2</td>\n      <td>34</td>\n      <td>-0.0033</td>\n      <td>0.0001</td>\n      <td>100.0</td>\n      <td>518.67</td>\n      <td>642.43</td>\n      <td>1582.25</td>\n      <td>1409.15</td>\n      <td>14.62</td>\n      <td>...</td>\n      <td>2388.09</td>\n      <td>8126.81</td>\n      <td>8.4476</td>\n      <td>0.03</td>\n      <td>392</td>\n      <td>2388</td>\n      <td>100.0</td>\n      <td>38.97</td>\n      <td>23.2535</td>\n      <td>(2, 49)</td>\n    </tr>\n    <tr>\n      <th>48776</th>\n      <td>2</td>\n      <td>35</td>\n      <td>-0.0033</td>\n      <td>-0.0001</td>\n      <td>100.0</td>\n      <td>518.67</td>\n      <td>642.89</td>\n      <td>1597.36</td>\n      <td>1402.02</td>\n      <td>14.62</td>\n      <td>...</td>\n      <td>2388.14</td>\n      <td>8124.10</td>\n      <td>8.4593</td>\n      <td>0.03</td>\n      <td>393</td>\n      <td>2388</td>\n      <td>100.0</td>\n      <td>38.87</td>\n      <td>23.3074</td>\n      <td>(2, 49)</td>\n    </tr>\n    <tr>\n      <th>48777</th>\n      <td>2</td>\n      <td>36</td>\n      <td>-0.0017</td>\n      <td>0.0001</td>\n      <td>100.0</td>\n      <td>518.67</td>\n      <td>642.23</td>\n      <td>1584.89</td>\n      <td>1407.87</td>\n      <td>14.62</td>\n      <td>...</td>\n      <td>2388.12</td>\n      <td>8131.65</td>\n      <td>8.4211</td>\n      <td>0.03</td>\n      <td>393</td>\n      <td>2388</td>\n      <td>100.0</td>\n      <td>38.84</td>\n      <td>23.2243</td>\n      <td>(2, 49)</td>\n    </tr>\n    <tr>\n      <th>48778</th>\n      <td>2</td>\n      <td>37</td>\n      <td>0.0004</td>\n      <td>-0.0001</td>\n      <td>100.0</td>\n      <td>518.67</td>\n      <td>643.20</td>\n      <td>1581.90</td>\n      <td>1404.83</td>\n      <td>14.62</td>\n      <td>...</td>\n      <td>2388.16</td>\n      <td>8135.15</td>\n      <td>8.4178</td>\n      <td>0.03</td>\n      <td>393</td>\n      <td>2388</td>\n      <td>100.0</td>\n      <td>39.02</td>\n      <td>23.2880</td>\n      <td>(2, 49)</td>\n    </tr>\n    <tr>\n      <th>48779</th>\n      <td>2</td>\n      <td>38</td>\n      <td>-0.0029</td>\n      <td>-0.0001</td>\n      <td>100.0</td>\n      <td>518.67</td>\n      <td>642.62</td>\n      <td>1588.47</td>\n      <td>1401.81</td>\n      <td>14.62</td>\n      <td>...</td>\n      <td>2388.12</td>\n      <td>8127.19</td>\n      <td>8.4541</td>\n      <td>0.03</td>\n      <td>393</td>\n      <td>2388</td>\n      <td>100.0</td>\n      <td>38.81</td>\n      <td>23.3641</td>\n      <td>(2, 49)</td>\n    </tr>\n    <tr>\n      <th>48780</th>\n      <td>2</td>\n      <td>39</td>\n      <td>0.0002</td>\n      <td>0.0004</td>\n      <td>100.0</td>\n      <td>518.67</td>\n      <td>642.98</td>\n      <td>1591.62</td>\n      <td>1405.46</td>\n      <td>14.62</td>\n      <td>...</td>\n      <td>2388.13</td>\n      <td>8128.53</td>\n      <td>8.4363</td>\n      <td>0.03</td>\n      <td>394</td>\n      <td>2388</td>\n      <td>100.0</td>\n      <td>38.67</td>\n      <td>23.3072</td>\n      <td>(2, 49)</td>\n    </tr>\n    <tr>\n      <th>48781</th>\n      <td>2</td>\n      <td>40</td>\n      <td>0.0023</td>\n      <td>0.0003</td>\n      <td>100.0</td>\n      <td>518.67</td>\n      <td>642.65</td>\n      <td>1590.33</td>\n      <td>1407.82</td>\n      <td>14.62</td>\n      <td>...</td>\n      <td>2388.12</td>\n      <td>8127.59</td>\n      <td>8.4190</td>\n      <td>0.03</td>\n      <td>393</td>\n      <td>2388</td>\n      <td>100.0</td>\n      <td>38.74</td>\n      <td>23.3693</td>\n      <td>(2, 49)</td>\n    </tr>\n    <tr>\n      <th>48782</th>\n      <td>2</td>\n      <td>41</td>\n      <td>-0.0001</td>\n      <td>-0.0002</td>\n      <td>100.0</td>\n      <td>518.67</td>\n      <td>642.78</td>\n      <td>1595.98</td>\n      <td>1405.79</td>\n      <td>14.62</td>\n      <td>...</td>\n      <td>2388.10</td>\n      <td>8125.49</td>\n      <td>8.4247</td>\n      <td>0.03</td>\n      <td>393</td>\n      <td>2388</td>\n      <td>100.0</td>\n      <td>38.82</td>\n      <td>23.3411</td>\n      <td>(2, 49)</td>\n    </tr>\n    <tr>\n      <th>48783</th>\n      <td>2</td>\n      <td>42</td>\n      <td>-0.0039</td>\n      <td>-0.0002</td>\n      <td>100.0</td>\n      <td>518.67</td>\n      <td>642.74</td>\n      <td>1586.43</td>\n      <td>1409.10</td>\n      <td>14.62</td>\n      <td>...</td>\n      <td>2388.14</td>\n      <td>8126.66</td>\n      <td>8.4788</td>\n      <td>0.03</td>\n      <td>393</td>\n      <td>2388</td>\n      <td>100.0</td>\n      <td>38.88</td>\n      <td>23.2196</td>\n      <td>(2, 49)</td>\n    </tr>\n    <tr>\n      <th>48784</th>\n      <td>2</td>\n      <td>43</td>\n      <td>0.0014</td>\n      <td>0.0001</td>\n      <td>100.0</td>\n      <td>518.67</td>\n      <td>642.82</td>\n      <td>1588.40</td>\n      <td>1405.06</td>\n      <td>14.62</td>\n      <td>...</td>\n      <td>2388.15</td>\n      <td>8125.56</td>\n      <td>8.4927</td>\n      <td>0.03</td>\n      <td>392</td>\n      <td>2388</td>\n      <td>100.0</td>\n      <td>38.73</td>\n      <td>23.2775</td>\n      <td>(2, 49)</td>\n    </tr>\n    <tr>\n      <th>48785</th>\n      <td>2</td>\n      <td>44</td>\n      <td>-0.0023</td>\n      <td>0.0003</td>\n      <td>100.0</td>\n      <td>518.67</td>\n      <td>642.77</td>\n      <td>1591.75</td>\n      <td>1411.05</td>\n      <td>14.62</td>\n      <td>...</td>\n      <td>2388.13</td>\n      <td>8132.18</td>\n      <td>8.4366</td>\n      <td>0.03</td>\n      <td>392</td>\n      <td>2388</td>\n      <td>100.0</td>\n      <td>38.79</td>\n      <td>23.3533</td>\n      <td>(2, 49)</td>\n    </tr>\n    <tr>\n      <th>48786</th>\n      <td>2</td>\n      <td>45</td>\n      <td>-0.0029</td>\n      <td>0.0000</td>\n      <td>100.0</td>\n      <td>518.67</td>\n      <td>642.48</td>\n      <td>1590.52</td>\n      <td>1406.20</td>\n      <td>14.62</td>\n      <td>...</td>\n      <td>2388.10</td>\n      <td>8128.22</td>\n      <td>8.4467</td>\n      <td>0.03</td>\n      <td>392</td>\n      <td>2388</td>\n      <td>100.0</td>\n      <td>38.95</td>\n      <td>23.2906</td>\n      <td>(2, 49)</td>\n    </tr>\n    <tr>\n      <th>48787</th>\n      <td>2</td>\n      <td>46</td>\n      <td>0.0026</td>\n      <td>-0.0002</td>\n      <td>100.0</td>\n      <td>518.67</td>\n      <td>642.84</td>\n      <td>1589.31</td>\n      <td>1401.67</td>\n      <td>14.62</td>\n      <td>...</td>\n      <td>2388.10</td>\n      <td>8128.82</td>\n      <td>8.4455</td>\n      <td>0.03</td>\n      <td>394</td>\n      <td>2388</td>\n      <td>100.0</td>\n      <td>38.88</td>\n      <td>23.2310</td>\n      <td>(2, 49)</td>\n    </tr>\n    <tr>\n      <th>48788</th>\n      <td>2</td>\n      <td>47</td>\n      <td>-0.0029</td>\n      <td>-0.0004</td>\n      <td>100.0</td>\n      <td>518.67</td>\n      <td>642.85</td>\n      <td>1587.58</td>\n      <td>1403.23</td>\n      <td>14.62</td>\n      <td>...</td>\n      <td>2388.11</td>\n      <td>8128.77</td>\n      <td>8.4221</td>\n      <td>0.03</td>\n      <td>392</td>\n      <td>2388</td>\n      <td>100.0</td>\n      <td>38.88</td>\n      <td>23.2965</td>\n      <td>(2, 49)</td>\n    </tr>\n    <tr>\n      <th>48789</th>\n      <td>2</td>\n      <td>48</td>\n      <td>0.0011</td>\n      <td>-0.0001</td>\n      <td>100.0</td>\n      <td>518.67</td>\n      <td>642.64</td>\n      <td>1587.71</td>\n      <td>1411.96</td>\n      <td>14.62</td>\n      <td>...</td>\n      <td>2388.11</td>\n      <td>8125.65</td>\n      <td>8.4465</td>\n      <td>0.03</td>\n      <td>392</td>\n      <td>2388</td>\n      <td>100.0</td>\n      <td>38.99</td>\n      <td>23.2918</td>\n      <td>(2, 49)</td>\n    </tr>\n    <tr>\n      <th>48790</th>\n      <td>2</td>\n      <td>49</td>\n      <td>0.0018</td>\n      <td>-0.0001</td>\n      <td>100.0</td>\n      <td>518.67</td>\n      <td>642.55</td>\n      <td>1586.59</td>\n      <td>1410.83</td>\n      <td>14.62</td>\n      <td>...</td>\n      <td>2388.09</td>\n      <td>8126.90</td>\n      <td>8.4505</td>\n      <td>0.03</td>\n      <td>391</td>\n      <td>2388</td>\n      <td>100.0</td>\n      <td>38.81</td>\n      <td>23.2618</td>\n      <td>(2, 49)</td>\n    </tr>\n  </tbody>\n</table>\n<p>40 rows × 27 columns</p>\n</div>"
     },
     "execution_count": 34,
     "metadata": {},
     "output_type": "execute_result"
    }
   ],
   "source": [
    "filtered_test_data_rolled.head(40)"
   ],
   "metadata": {
    "collapsed": false,
    "ExecuteTime": {
     "end_time": "2024-05-12T13:53:39.534652700Z",
     "start_time": "2024-05-12T13:53:39.408830Z"
    }
   }
  },
  {
   "cell_type": "code",
   "execution_count": 35,
   "outputs": [
    {
     "name": "stderr",
     "output_type": "stream",
     "text": [
      "Feature Extraction: 100%|██████████| 40/40 [00:02<00:00, 15.03it/s]\n"
     ]
    }
   ],
   "source": [
    "# extract features for test data\n",
    "X_test = extract_features(filtered_test_data_rolled.drop([\"UnitNumber\"], axis=1),\n",
    "                          column_id=\"id\", column_sort=\"Cycle\",\n",
    "                          default_fc_parameters=MinimalFCParameters(),\n",
    "                          impute_function=impute, show_warnings=False)\n",
    "# add index names\n",
    "X_test.index = X_test.index.rename([\"UnitNumber\", \"Cycle\"])"
   ],
   "metadata": {
    "collapsed": false,
    "ExecuteTime": {
     "end_time": "2024-05-12T13:53:42.463073600Z",
     "start_time": "2024-05-12T13:53:39.534652700Z"
    }
   }
  },
  {
   "cell_type": "code",
   "execution_count": 36,
   "outputs": [],
   "source": [
    "# extract target for test data - match index of y_test with X_test\n",
    "y_test = test_RUL_data\n",
    "y_test.index = X_test.index"
   ],
   "metadata": {
    "collapsed": false,
    "ExecuteTime": {
     "end_time": "2024-05-12T13:53:42.546993700Z",
     "start_time": "2024-05-12T13:53:42.463073600Z"
    }
   }
  },
  {
   "cell_type": "code",
   "execution_count": 37,
   "outputs": [
    {
     "name": "stdout",
     "output_type": "stream",
     "text": [
      "Shape of X_test: (100, 240)\n"
     ]
    },
    {
     "data": {
      "text/plain": "                  Operation Setting 1__sum_values  \\\nUnitNumber Cycle                                    \n1          31                        1.810000e-02   \n2          49                       -9.100000e-03   \n3          126                      -4.400000e-03   \n4          106                      -4.336809e-19   \n5          98                        1.640000e-02   \n\n                  Operation Setting 1__median  Operation Setting 1__mean  \\\nUnitNumber Cycle                                                           \n1          31                         0.00130               9.050000e-04   \n2          49                         0.00005              -4.550000e-04   \n3          126                       -0.00025              -2.200000e-04   \n4          106                        0.00005              -2.168404e-20   \n5          98                         0.00105               8.200000e-04   \n\n                  Operation Setting 1__length  \\\nUnitNumber Cycle                                \n1          31                            20.0   \n2          49                            20.0   \n3          126                           20.0   \n4          106                           20.0   \n5          98                            20.0   \n\n                  Operation Setting 1__standard_deviation  \\\nUnitNumber Cycle                                            \n1          31                                    0.002373   \n2          49                                    0.002212   \n3          126                                   0.002824   \n4          106                                   0.001972   \n5          98                                    0.002243   \n\n                  Operation Setting 1__variance  \\\nUnitNumber Cycle                                  \n1          31                          0.000006   \n2          49                          0.000005   \n3          126                         0.000008   \n4          106                         0.000004   \n5          98                          0.000005   \n\n                  Operation Setting 1__root_mean_square  \\\nUnitNumber Cycle                                          \n1          31                                  0.002540   \n2          49                                  0.002258   \n3          126                                 0.002832   \n4          106                                 0.001972   \n5          98                                  0.002388   \n\n                  Operation Setting 1__maximum  \\\nUnitNumber Cycle                                 \n1          31                           0.0047   \n2          49                           0.0032   \n3          126                          0.0057   \n4          106                          0.0031   \n5          98                           0.0062   \n\n                  Operation Setting 1__absolute_maximum  \\\nUnitNumber Cycle                                          \n1          31                                    0.0056   \n2          49                                    0.0039   \n3          126                                   0.0057   \n4          106                                   0.0048   \n5          98                                    0.0062   \n\n                  Operation Setting 1__minimum  ...  \\\nUnitNumber Cycle                                ...   \n1          31                          -0.0056  ...   \n2          49                          -0.0039  ...   \n3          126                         -0.0057  ...   \n4          106                         -0.0048  ...   \n5          98                          -0.0035  ...   \n\n                  Sensor Measure 21__sum_values  Sensor Measure 21__median  \\\nUnitNumber Cycle                                                             \n1          31                          467.5243                   23.37235   \n2          49                          465.9096                   23.30065   \n3          126                         465.0032                   23.24990   \n4          106                         465.5171                   23.27205   \n5          98                          465.1504                   23.24325   \n\n                  Sensor Measure 21__mean  Sensor Measure 21__length  \\\nUnitNumber Cycle                                                       \n1          31                   23.376215                       20.0   \n2          49                   23.295480                       20.0   \n3          126                  23.250160                       20.0   \n4          106                  23.275855                       20.0   \n5          98                   23.257520                       20.0   \n\n                  Sensor Measure 21__standard_deviation  \\\nUnitNumber Cycle                                          \n1          31                                  0.034147   \n2          49                                  0.041742   \n3          126                                 0.043298   \n4          106                                 0.056855   \n5          98                                  0.064874   \n\n                  Sensor Measure 21__variance  \\\nUnitNumber Cycle                                \n1          31                        0.001166   \n2          49                        0.001742   \n3          126                       0.001875   \n4          106                       0.003232   \n5          98                        0.004209   \n\n                  Sensor Measure 21__root_mean_square  \\\nUnitNumber Cycle                                        \n1          31                               23.376240   \n2          49                               23.295517   \n3          126                              23.250200   \n4          106                              23.275924   \n5          98                               23.257610   \n\n                  Sensor Measure 21__maximum  \\\nUnitNumber Cycle                               \n1          31                        23.4572   \n2          49                        23.3693   \n3          126                       23.3559   \n4          106                       23.3769   \n5          98                        23.4117   \n\n                  Sensor Measure 21__absolute_maximum  \\\nUnitNumber Cycle                                        \n1          31                                 23.4572   \n2          49                                 23.3693   \n3          126                                23.3559   \n4          106                                23.3769   \n5          98                                 23.4117   \n\n                  Sensor Measure 21__minimum  \nUnitNumber Cycle                              \n1          31                        23.3186  \n2          49                        23.2196  \n3          126                       23.1749  \n4          106                       23.1676  \n5          98                        23.1476  \n\n[5 rows x 240 columns]",
      "text/html": "<div>\n<style scoped>\n    .dataframe tbody tr th:only-of-type {\n        vertical-align: middle;\n    }\n\n    .dataframe tbody tr th {\n        vertical-align: top;\n    }\n\n    .dataframe thead th {\n        text-align: right;\n    }\n</style>\n<table border=\"1\" class=\"dataframe\">\n  <thead>\n    <tr style=\"text-align: right;\">\n      <th></th>\n      <th></th>\n      <th>Operation Setting 1__sum_values</th>\n      <th>Operation Setting 1__median</th>\n      <th>Operation Setting 1__mean</th>\n      <th>Operation Setting 1__length</th>\n      <th>Operation Setting 1__standard_deviation</th>\n      <th>Operation Setting 1__variance</th>\n      <th>Operation Setting 1__root_mean_square</th>\n      <th>Operation Setting 1__maximum</th>\n      <th>Operation Setting 1__absolute_maximum</th>\n      <th>Operation Setting 1__minimum</th>\n      <th>...</th>\n      <th>Sensor Measure 21__sum_values</th>\n      <th>Sensor Measure 21__median</th>\n      <th>Sensor Measure 21__mean</th>\n      <th>Sensor Measure 21__length</th>\n      <th>Sensor Measure 21__standard_deviation</th>\n      <th>Sensor Measure 21__variance</th>\n      <th>Sensor Measure 21__root_mean_square</th>\n      <th>Sensor Measure 21__maximum</th>\n      <th>Sensor Measure 21__absolute_maximum</th>\n      <th>Sensor Measure 21__minimum</th>\n    </tr>\n    <tr>\n      <th>UnitNumber</th>\n      <th>Cycle</th>\n      <th></th>\n      <th></th>\n      <th></th>\n      <th></th>\n      <th></th>\n      <th></th>\n      <th></th>\n      <th></th>\n      <th></th>\n      <th></th>\n      <th></th>\n      <th></th>\n      <th></th>\n      <th></th>\n      <th></th>\n      <th></th>\n      <th></th>\n      <th></th>\n      <th></th>\n      <th></th>\n      <th></th>\n    </tr>\n  </thead>\n  <tbody>\n    <tr>\n      <th>1</th>\n      <th>31</th>\n      <td>1.810000e-02</td>\n      <td>0.00130</td>\n      <td>9.050000e-04</td>\n      <td>20.0</td>\n      <td>0.002373</td>\n      <td>0.000006</td>\n      <td>0.002540</td>\n      <td>0.0047</td>\n      <td>0.0056</td>\n      <td>-0.0056</td>\n      <td>...</td>\n      <td>467.5243</td>\n      <td>23.37235</td>\n      <td>23.376215</td>\n      <td>20.0</td>\n      <td>0.034147</td>\n      <td>0.001166</td>\n      <td>23.376240</td>\n      <td>23.4572</td>\n      <td>23.4572</td>\n      <td>23.3186</td>\n    </tr>\n    <tr>\n      <th>2</th>\n      <th>49</th>\n      <td>-9.100000e-03</td>\n      <td>0.00005</td>\n      <td>-4.550000e-04</td>\n      <td>20.0</td>\n      <td>0.002212</td>\n      <td>0.000005</td>\n      <td>0.002258</td>\n      <td>0.0032</td>\n      <td>0.0039</td>\n      <td>-0.0039</td>\n      <td>...</td>\n      <td>465.9096</td>\n      <td>23.30065</td>\n      <td>23.295480</td>\n      <td>20.0</td>\n      <td>0.041742</td>\n      <td>0.001742</td>\n      <td>23.295517</td>\n      <td>23.3693</td>\n      <td>23.3693</td>\n      <td>23.2196</td>\n    </tr>\n    <tr>\n      <th>3</th>\n      <th>126</th>\n      <td>-4.400000e-03</td>\n      <td>-0.00025</td>\n      <td>-2.200000e-04</td>\n      <td>20.0</td>\n      <td>0.002824</td>\n      <td>0.000008</td>\n      <td>0.002832</td>\n      <td>0.0057</td>\n      <td>0.0057</td>\n      <td>-0.0057</td>\n      <td>...</td>\n      <td>465.0032</td>\n      <td>23.24990</td>\n      <td>23.250160</td>\n      <td>20.0</td>\n      <td>0.043298</td>\n      <td>0.001875</td>\n      <td>23.250200</td>\n      <td>23.3559</td>\n      <td>23.3559</td>\n      <td>23.1749</td>\n    </tr>\n    <tr>\n      <th>4</th>\n      <th>106</th>\n      <td>-4.336809e-19</td>\n      <td>0.00005</td>\n      <td>-2.168404e-20</td>\n      <td>20.0</td>\n      <td>0.001972</td>\n      <td>0.000004</td>\n      <td>0.001972</td>\n      <td>0.0031</td>\n      <td>0.0048</td>\n      <td>-0.0048</td>\n      <td>...</td>\n      <td>465.5171</td>\n      <td>23.27205</td>\n      <td>23.275855</td>\n      <td>20.0</td>\n      <td>0.056855</td>\n      <td>0.003232</td>\n      <td>23.275924</td>\n      <td>23.3769</td>\n      <td>23.3769</td>\n      <td>23.1676</td>\n    </tr>\n    <tr>\n      <th>5</th>\n      <th>98</th>\n      <td>1.640000e-02</td>\n      <td>0.00105</td>\n      <td>8.200000e-04</td>\n      <td>20.0</td>\n      <td>0.002243</td>\n      <td>0.000005</td>\n      <td>0.002388</td>\n      <td>0.0062</td>\n      <td>0.0062</td>\n      <td>-0.0035</td>\n      <td>...</td>\n      <td>465.1504</td>\n      <td>23.24325</td>\n      <td>23.257520</td>\n      <td>20.0</td>\n      <td>0.064874</td>\n      <td>0.004209</td>\n      <td>23.257610</td>\n      <td>23.4117</td>\n      <td>23.4117</td>\n      <td>23.1476</td>\n    </tr>\n  </tbody>\n</table>\n<p>5 rows × 240 columns</p>\n</div>"
     },
     "metadata": {},
     "output_type": "display_data"
    },
    {
     "name": "stdout",
     "output_type": "stream",
     "text": [
      "Shape of y_test: (100, 1)\n"
     ]
    },
    {
     "data": {
      "text/plain": "                  RUL\nUnitNumber Cycle     \n1          31     112\n2          49      98\n3          126     69\n4          106     82\n5          98      91",
      "text/html": "<div>\n<style scoped>\n    .dataframe tbody tr th:only-of-type {\n        vertical-align: middle;\n    }\n\n    .dataframe tbody tr th {\n        vertical-align: top;\n    }\n\n    .dataframe thead th {\n        text-align: right;\n    }\n</style>\n<table border=\"1\" class=\"dataframe\">\n  <thead>\n    <tr style=\"text-align: right;\">\n      <th></th>\n      <th></th>\n      <th>RUL</th>\n    </tr>\n    <tr>\n      <th>UnitNumber</th>\n      <th>Cycle</th>\n      <th></th>\n    </tr>\n  </thead>\n  <tbody>\n    <tr>\n      <th>1</th>\n      <th>31</th>\n      <td>112</td>\n    </tr>\n    <tr>\n      <th>2</th>\n      <th>49</th>\n      <td>98</td>\n    </tr>\n    <tr>\n      <th>3</th>\n      <th>126</th>\n      <td>69</td>\n    </tr>\n    <tr>\n      <th>4</th>\n      <th>106</th>\n      <td>82</td>\n    </tr>\n    <tr>\n      <th>5</th>\n      <th>98</th>\n      <td>91</td>\n    </tr>\n  </tbody>\n</table>\n</div>"
     },
     "metadata": {},
     "output_type": "display_data"
    }
   ],
   "source": [
    "# check if X_test and y_test match\n",
    "print(f\"Shape of X_test: {X_test.shape}\")\n",
    "display(X_test.head(5))\n",
    "print(f\"Shape of y_test: {y_test.shape}\")\n",
    "display(y_test.head(5))"
   ],
   "metadata": {
    "collapsed": false,
    "ExecuteTime": {
     "end_time": "2024-05-12T13:53:42.668270700Z",
     "start_time": "2024-05-12T13:53:42.546993700Z"
    }
   }
  },
  {
   "cell_type": "markdown",
   "source": [
    "## 4. Summarize in Function"
   ],
   "metadata": {
    "collapsed": false
   }
  },
  {
   "cell_type": "code",
   "execution_count": 51,
   "outputs": [],
   "source": [
    "from src.data_preprocessing import create_rolling_windows_datasets"
   ],
   "metadata": {
    "collapsed": false,
    "ExecuteTime": {
     "end_time": "2024-05-12T14:28:07.019099400Z",
     "start_time": "2024-05-12T14:28:06.924588700Z"
    }
   }
  },
  {
   "cell_type": "code",
   "execution_count": 98,
   "outputs": [
    {
     "name": "stdout",
     "output_type": "stream",
     "text": [
      "2024-05-12 18:31:43 [\u001B[34msrc.data_preprocessing:59\u001B[0m] [\u001B[32mINFO\u001B[0m] >>>> Creating rolling windows for train data...\u001B[0m\n"
     ]
    },
    {
     "name": "stderr",
     "output_type": "stream",
     "text": [
      "Rolling: 100%|██████████| 37/37 [00:10<00:00,  3.63it/s]\n"
     ]
    },
    {
     "name": "stdout",
     "output_type": "stream",
     "text": [
      "2024-05-12 18:31:54 [\u001B[34msrc.data_preprocessing:62\u001B[0m] [\u001B[32mINFO\u001B[0m] >>>> Extracting features for train data...\u001B[0m\n"
     ]
    },
    {
     "name": "stderr",
     "output_type": "stream",
     "text": [
      "Feature Extraction: 100%|██████████| 40/40 [02:19<00:00,  3.48s/it]\n"
     ]
    },
    {
     "name": "stdout",
     "output_type": "stream",
     "text": [
      "2024-05-12 18:34:27 [\u001B[34msrc.data_preprocessing:70\u001B[0m] [\u001B[32mINFO\u001B[0m] >>>> Calculating target for train data...\u001B[0m\n",
      "2024-05-12 18:34:27 [\u001B[34msrc.data_preprocessing:77\u001B[0m] [\u001B[32mINFO\u001B[0m] >>>> Creating rolling windows for test data...\u001B[0m\n"
     ]
    },
    {
     "name": "stderr",
     "output_type": "stream",
     "text": [
      "Rolling: 100%|██████████| 38/38 [00:07<00:00,  5.18it/s]\n"
     ]
    },
    {
     "name": "stdout",
     "output_type": "stream",
     "text": [
      "2024-05-12 18:34:35 [\u001B[34msrc.data_preprocessing:82\u001B[0m] [\u001B[32mINFO\u001B[0m] >>>> Extracting features for test data...\u001B[0m\n"
     ]
    },
    {
     "name": "stderr",
     "output_type": "stream",
     "text": [
      "Feature Extraction: 100%|██████████| 40/40 [00:04<00:00,  8.07it/s]\n"
     ]
    },
    {
     "name": "stdout",
     "output_type": "stream",
     "text": [
      "2024-05-12 18:34:40 [\u001B[34msrc.data_preprocessing:90\u001B[0m] [\u001B[32mINFO\u001B[0m] >>>> Matching target index with test data...\u001B[0m\n",
      "2024-05-12 18:34:40 [\u001B[34msrc.data_preprocessing:94\u001B[0m] [\u001B[32mINFO\u001B[0m] >>>> Shape of X_train: (20131, 240)\u001B[0m\n",
      "2024-05-12 18:34:40 [\u001B[34msrc.data_preprocessing:95\u001B[0m] [\u001B[32mINFO\u001B[0m] >>>> Shape of y_train: (20131, 1)\u001B[0m\n",
      "2024-05-12 18:34:40 [\u001B[34msrc.data_preprocessing:96\u001B[0m] [\u001B[32mINFO\u001B[0m] >>>> Shape of X_test: (100, 240)\u001B[0m\n",
      "2024-05-12 18:34:40 [\u001B[34msrc.data_preprocessing:97\u001B[0m] [\u001B[32mINFO\u001B[0m] >>>> Shape of y_test: (100, 1)\u001B[0m\n",
      "CPU times: total: 49.3 s\n",
      "Wall time: 2min 57s\n"
     ]
    }
   ],
   "source": [
    "%%time\n",
    "X_train, y_train, X_test, y_test = create_rolling_windows_datasets(train_data, test_data, test_RUL_data, column_id=\"UnitNumber\", column_sort=\"Cycle\", max_timeshift=20, min_timeshift=5)"
   ],
   "metadata": {
    "collapsed": false,
    "ExecuteTime": {
     "end_time": "2024-05-12T16:34:41.045397500Z",
     "start_time": "2024-05-12T16:31:43.788822900Z"
    }
   }
  },
  {
   "cell_type": "code",
   "execution_count": 101,
   "outputs": [
    {
     "name": "stdout",
     "output_type": "stream",
     "text": [
      "Shape of X_train: (20131, 240)\n"
     ]
    },
    {
     "data": {
      "text/plain": "                  Operation Setting 1__sum_values  \\\nUnitNumber Cycle                                    \n1          6                              -0.0086   \n           7                              -0.0076   \n           8                              -0.0110   \n           9                              -0.0102   \n           10                             -0.0135   \n\n                  Operation Setting 1__median  Operation Setting 1__mean  \\\nUnitNumber Cycle                                                           \n1          6                          -0.0013                  -0.001433   \n           7                          -0.0007                  -0.001086   \n           8                          -0.0013                  -0.001375   \n           9                          -0.0007                  -0.001133   \n           10                         -0.0013                  -0.001350   \n\n                  Operation Setting 1__length  \\\nUnitNumber Cycle                                \n1          6                              6.0   \n           7                              7.0   \n           8                              8.0   \n           9                              9.0   \n           10                            10.0   \n\n                  Operation Setting 1__standard_deviation  \\\nUnitNumber Cycle                                            \n1          6                                     0.002340   \n           7                                     0.002328   \n           8                                     0.002308   \n           9                                     0.002281   \n           10                                    0.002259   \n\n                  Operation Setting 1__variance  \\\nUnitNumber Cycle                                  \n1          6                           0.000005   \n           7                           0.000005   \n           8                           0.000005   \n           9                           0.000005   \n           10                          0.000005   \n\n                  Operation Setting 1__root_mean_square  \\\nUnitNumber Cycle                                          \n1          6                                   0.002744   \n           7                                   0.002568   \n           8                                   0.002687   \n           9                                   0.002547   \n           10                                  0.002632   \n\n                  Operation Setting 1__maximum  \\\nUnitNumber Cycle                                 \n1          6                            0.0019   \n           7                            0.0019   \n           8                            0.0019   \n           9                            0.0019   \n           10                           0.0019   \n\n                  Operation Setting 1__absolute_maximum  \\\nUnitNumber Cycle                                          \n1          6                                     0.0043   \n           7                                     0.0043   \n           8                                     0.0043   \n           9                                     0.0043   \n           10                                    0.0043   \n\n                  Operation Setting 1__minimum  ...  \\\nUnitNumber Cycle                                ...   \n1          6                           -0.0043  ...   \n           7                           -0.0043  ...   \n           8                           -0.0043  ...   \n           9                           -0.0043  ...   \n           10                          -0.0043  ...   \n\n                  Sensor Measure 21__sum_values  Sensor Measure 21__median  \\\nUnitNumber Cycle                                                             \n1          6                           140.3320                   23.38915   \n           7                           163.7094                   23.37740   \n           8                           187.0200                   23.37565   \n           9                           210.4266                   23.37740   \n           10                          233.8960                   23.39090   \n\n                  Sensor Measure 21__mean  Sensor Measure 21__length  \\\nUnitNumber Cycle                                                       \n1          6                    23.388667                        6.0   \n           7                    23.387057                        7.0   \n           8                    23.377500                        8.0   \n           9                    23.380733                        9.0   \n           10                   23.389600                       10.0   \n\n                  Sensor Measure 21__standard_deviation  \\\nUnitNumber Cycle                                          \n1          6                                   0.029032   \n           7                                   0.027166   \n           8                                   0.035848   \n           9                                   0.035014   \n           10                                  0.042555   \n\n                  Sensor Measure 21__variance  \\\nUnitNumber Cycle                                \n1          6                         0.000843   \n           7                         0.000738   \n           8                         0.001285   \n           9                         0.001226   \n           10                        0.001811   \n\n                  Sensor Measure 21__root_mean_square  \\\nUnitNumber Cycle                                        \n1          6                                23.388685   \n           7                                23.387073   \n           8                                23.377527   \n           9                                23.380760   \n           10                               23.389639   \n\n                  Sensor Measure 21__maximum  \\\nUnitNumber Cycle                               \n1          6                         23.4236   \n           7                         23.4236   \n           8                         23.4236   \n           9                         23.4236   \n           10                        23.4694   \n\n                  Sensor Measure 21__absolute_maximum  \\\nUnitNumber Cycle                                        \n1          6                                  23.4236   \n           7                                  23.4236   \n           8                                  23.4236   \n           9                                  23.4236   \n           10                                 23.4694   \n\n                  Sensor Measure 21__minimum  \nUnitNumber Cycle                              \n1          6                         23.3442  \n           7                         23.3442  \n           8                         23.3106  \n           9                         23.3106  \n           10                        23.3106  \n\n[5 rows x 240 columns]",
      "text/html": "<div>\n<style scoped>\n    .dataframe tbody tr th:only-of-type {\n        vertical-align: middle;\n    }\n\n    .dataframe tbody tr th {\n        vertical-align: top;\n    }\n\n    .dataframe thead th {\n        text-align: right;\n    }\n</style>\n<table border=\"1\" class=\"dataframe\">\n  <thead>\n    <tr style=\"text-align: right;\">\n      <th></th>\n      <th></th>\n      <th>Operation Setting 1__sum_values</th>\n      <th>Operation Setting 1__median</th>\n      <th>Operation Setting 1__mean</th>\n      <th>Operation Setting 1__length</th>\n      <th>Operation Setting 1__standard_deviation</th>\n      <th>Operation Setting 1__variance</th>\n      <th>Operation Setting 1__root_mean_square</th>\n      <th>Operation Setting 1__maximum</th>\n      <th>Operation Setting 1__absolute_maximum</th>\n      <th>Operation Setting 1__minimum</th>\n      <th>...</th>\n      <th>Sensor Measure 21__sum_values</th>\n      <th>Sensor Measure 21__median</th>\n      <th>Sensor Measure 21__mean</th>\n      <th>Sensor Measure 21__length</th>\n      <th>Sensor Measure 21__standard_deviation</th>\n      <th>Sensor Measure 21__variance</th>\n      <th>Sensor Measure 21__root_mean_square</th>\n      <th>Sensor Measure 21__maximum</th>\n      <th>Sensor Measure 21__absolute_maximum</th>\n      <th>Sensor Measure 21__minimum</th>\n    </tr>\n    <tr>\n      <th>UnitNumber</th>\n      <th>Cycle</th>\n      <th></th>\n      <th></th>\n      <th></th>\n      <th></th>\n      <th></th>\n      <th></th>\n      <th></th>\n      <th></th>\n      <th></th>\n      <th></th>\n      <th></th>\n      <th></th>\n      <th></th>\n      <th></th>\n      <th></th>\n      <th></th>\n      <th></th>\n      <th></th>\n      <th></th>\n      <th></th>\n      <th></th>\n    </tr>\n  </thead>\n  <tbody>\n    <tr>\n      <th rowspan=\"5\" valign=\"top\">1</th>\n      <th>6</th>\n      <td>-0.0086</td>\n      <td>-0.0013</td>\n      <td>-0.001433</td>\n      <td>6.0</td>\n      <td>0.002340</td>\n      <td>0.000005</td>\n      <td>0.002744</td>\n      <td>0.0019</td>\n      <td>0.0043</td>\n      <td>-0.0043</td>\n      <td>...</td>\n      <td>140.3320</td>\n      <td>23.38915</td>\n      <td>23.388667</td>\n      <td>6.0</td>\n      <td>0.029032</td>\n      <td>0.000843</td>\n      <td>23.388685</td>\n      <td>23.4236</td>\n      <td>23.4236</td>\n      <td>23.3442</td>\n    </tr>\n    <tr>\n      <th>7</th>\n      <td>-0.0076</td>\n      <td>-0.0007</td>\n      <td>-0.001086</td>\n      <td>7.0</td>\n      <td>0.002328</td>\n      <td>0.000005</td>\n      <td>0.002568</td>\n      <td>0.0019</td>\n      <td>0.0043</td>\n      <td>-0.0043</td>\n      <td>...</td>\n      <td>163.7094</td>\n      <td>23.37740</td>\n      <td>23.387057</td>\n      <td>7.0</td>\n      <td>0.027166</td>\n      <td>0.000738</td>\n      <td>23.387073</td>\n      <td>23.4236</td>\n      <td>23.4236</td>\n      <td>23.3442</td>\n    </tr>\n    <tr>\n      <th>8</th>\n      <td>-0.0110</td>\n      <td>-0.0013</td>\n      <td>-0.001375</td>\n      <td>8.0</td>\n      <td>0.002308</td>\n      <td>0.000005</td>\n      <td>0.002687</td>\n      <td>0.0019</td>\n      <td>0.0043</td>\n      <td>-0.0043</td>\n      <td>...</td>\n      <td>187.0200</td>\n      <td>23.37565</td>\n      <td>23.377500</td>\n      <td>8.0</td>\n      <td>0.035848</td>\n      <td>0.001285</td>\n      <td>23.377527</td>\n      <td>23.4236</td>\n      <td>23.4236</td>\n      <td>23.3106</td>\n    </tr>\n    <tr>\n      <th>9</th>\n      <td>-0.0102</td>\n      <td>-0.0007</td>\n      <td>-0.001133</td>\n      <td>9.0</td>\n      <td>0.002281</td>\n      <td>0.000005</td>\n      <td>0.002547</td>\n      <td>0.0019</td>\n      <td>0.0043</td>\n      <td>-0.0043</td>\n      <td>...</td>\n      <td>210.4266</td>\n      <td>23.37740</td>\n      <td>23.380733</td>\n      <td>9.0</td>\n      <td>0.035014</td>\n      <td>0.001226</td>\n      <td>23.380760</td>\n      <td>23.4236</td>\n      <td>23.4236</td>\n      <td>23.3106</td>\n    </tr>\n    <tr>\n      <th>10</th>\n      <td>-0.0135</td>\n      <td>-0.0013</td>\n      <td>-0.001350</td>\n      <td>10.0</td>\n      <td>0.002259</td>\n      <td>0.000005</td>\n      <td>0.002632</td>\n      <td>0.0019</td>\n      <td>0.0043</td>\n      <td>-0.0043</td>\n      <td>...</td>\n      <td>233.8960</td>\n      <td>23.39090</td>\n      <td>23.389600</td>\n      <td>10.0</td>\n      <td>0.042555</td>\n      <td>0.001811</td>\n      <td>23.389639</td>\n      <td>23.4694</td>\n      <td>23.4694</td>\n      <td>23.3106</td>\n    </tr>\n  </tbody>\n</table>\n<p>5 rows × 240 columns</p>\n</div>"
     },
     "metadata": {},
     "output_type": "display_data"
    },
    {
     "name": "stdout",
     "output_type": "stream",
     "text": [
      "Shape of y_train: (20131, 1)\n"
     ]
    },
    {
     "data": {
      "text/plain": "                  RUL\nUnitNumber Cycle     \n1          6      187\n           7      186\n           8      185\n           9      184\n           10     183",
      "text/html": "<div>\n<style scoped>\n    .dataframe tbody tr th:only-of-type {\n        vertical-align: middle;\n    }\n\n    .dataframe tbody tr th {\n        vertical-align: top;\n    }\n\n    .dataframe thead th {\n        text-align: right;\n    }\n</style>\n<table border=\"1\" class=\"dataframe\">\n  <thead>\n    <tr style=\"text-align: right;\">\n      <th></th>\n      <th></th>\n      <th>RUL</th>\n    </tr>\n    <tr>\n      <th>UnitNumber</th>\n      <th>Cycle</th>\n      <th></th>\n    </tr>\n  </thead>\n  <tbody>\n    <tr>\n      <th rowspan=\"5\" valign=\"top\">1</th>\n      <th>6</th>\n      <td>187</td>\n    </tr>\n    <tr>\n      <th>7</th>\n      <td>186</td>\n    </tr>\n    <tr>\n      <th>8</th>\n      <td>185</td>\n    </tr>\n    <tr>\n      <th>9</th>\n      <td>184</td>\n    </tr>\n    <tr>\n      <th>10</th>\n      <td>183</td>\n    </tr>\n  </tbody>\n</table>\n</div>"
     },
     "metadata": {},
     "output_type": "display_data"
    }
   ],
   "source": [
    "# check if X_train and y_train match\n",
    "print(f\"Shape of X_train: {X_train.shape}\")\n",
    "display(X_train.head(5))\n",
    "print(f\"Shape of y_train: {y_train.shape}\")\n",
    "display(y_train.head(5))"
   ],
   "metadata": {
    "collapsed": false,
    "ExecuteTime": {
     "end_time": "2024-05-12T16:38:04.990849800Z",
     "start_time": "2024-05-12T16:38:04.785244900Z"
    }
   }
  },
  {
   "cell_type": "code",
   "execution_count": 100,
   "outputs": [
    {
     "name": "stdout",
     "output_type": "stream",
     "text": [
      "Shape of X_test: (100, 240)\n"
     ]
    },
    {
     "data": {
      "text/plain": "                  Sensor Measure 10__sum_values  Sensor Measure 10__median  \\\nUnitNumber Cycle                                                             \n1          31                              26.0                        1.3   \n2          49                              26.0                        1.3   \n3          126                             26.0                        1.3   \n4          106                             26.0                        1.3   \n5          98                              26.0                        1.3   \n\n                  Sensor Measure 10__mean  Sensor Measure 10__length  \\\nUnitNumber Cycle                                                       \n1          31                         1.3                       20.0   \n2          49                         1.3                       20.0   \n3          126                        1.3                       20.0   \n4          106                        1.3                       20.0   \n5          98                         1.3                       20.0   \n\n                  Sensor Measure 10__standard_deviation  \\\nUnitNumber Cycle                                          \n1          31                              2.220446e-16   \n2          49                              2.220446e-16   \n3          126                             2.220446e-16   \n4          106                             2.220446e-16   \n5          98                              2.220446e-16   \n\n                  Sensor Measure 10__variance  \\\nUnitNumber Cycle                                \n1          31                    4.930381e-32   \n2          49                    4.930381e-32   \n3          126                   4.930381e-32   \n4          106                   4.930381e-32   \n5          98                    4.930381e-32   \n\n                  Sensor Measure 10__root_mean_square  \\\nUnitNumber Cycle                                        \n1          31                                     1.3   \n2          49                                     1.3   \n3          126                                    1.3   \n4          106                                    1.3   \n5          98                                     1.3   \n\n                  Sensor Measure 10__maximum  \\\nUnitNumber Cycle                               \n1          31                            1.3   \n2          49                            1.3   \n3          126                           1.3   \n4          106                           1.3   \n5          98                            1.3   \n\n                  Sensor Measure 10__absolute_maximum  \\\nUnitNumber Cycle                                        \n1          31                                     1.3   \n2          49                                     1.3   \n3          126                                    1.3   \n4          106                                    1.3   \n5          98                                     1.3   \n\n                  Sensor Measure 10__minimum  ...  \\\nUnitNumber Cycle                              ...   \n1          31                            1.3  ...   \n2          49                            1.3  ...   \n3          126                           1.3  ...   \n4          106                           1.3  ...   \n5          98                            1.3  ...   \n\n                  Sensor Measure 9__sum_values  Sensor Measure 9__median  \\\nUnitNumber Cycle                                                           \n1          31                        180961.92                  9046.675   \n2          49                        180961.62                  9048.330   \n3          126                       181012.73                  9049.890   \n4          106                       181065.25                  9051.790   \n5          98                        181051.76                  9053.015   \n\n                  Sensor Measure 9__mean  Sensor Measure 9__length  \\\nUnitNumber Cycle                                                     \n1          31                  9048.0960                      20.0   \n2          49                  9048.0810                      20.0   \n3          126                 9050.6365                      20.0   \n4          106                 9053.2625                      20.0   \n5          98                  9052.5880                      20.0   \n\n                  Sensor Measure 9__standard_deviation  \\\nUnitNumber Cycle                                         \n1          31                                 4.379112   \n2          49                                 3.193564   \n3          126                                4.084531   \n4          106                                4.500998   \n5          98                                 3.830631   \n\n                  Sensor Measure 9__variance  \\\nUnitNumber Cycle                               \n1          31                      19.176624   \n2          49                      10.198849   \n3          126                     16.683393   \n4          106                     20.258979   \n5          98                      14.673736   \n\n                  Sensor Measure 9__root_mean_square  \\\nUnitNumber Cycle                                       \n1          31                            9048.097060   \n2          49                            9048.081564   \n3          126                           9050.637422   \n4          106                           9053.263619   \n5          98                            9052.588810   \n\n                  Sensor Measure 9__maximum  \\\nUnitNumber Cycle                              \n1          31                       9056.40   \n2          49                       9055.90   \n3          126                      9058.16   \n4          106                      9062.04   \n5          98                       9059.29   \n\n                  Sensor Measure 9__absolute_maximum  \\\nUnitNumber Cycle                                       \n1          31                                9056.40   \n2          49                                9055.90   \n3          126                               9058.16   \n4          106                               9062.04   \n5          98                                9059.29   \n\n                  Sensor Measure 9__minimum  \nUnitNumber Cycle                             \n1          31                       9041.12  \n2          49                       9042.03  \n3          126                      9044.93  \n4          106                      9046.96  \n5          98                       9044.76  \n\n[5 rows x 240 columns]",
      "text/html": "<div>\n<style scoped>\n    .dataframe tbody tr th:only-of-type {\n        vertical-align: middle;\n    }\n\n    .dataframe tbody tr th {\n        vertical-align: top;\n    }\n\n    .dataframe thead th {\n        text-align: right;\n    }\n</style>\n<table border=\"1\" class=\"dataframe\">\n  <thead>\n    <tr style=\"text-align: right;\">\n      <th></th>\n      <th></th>\n      <th>Sensor Measure 10__sum_values</th>\n      <th>Sensor Measure 10__median</th>\n      <th>Sensor Measure 10__mean</th>\n      <th>Sensor Measure 10__length</th>\n      <th>Sensor Measure 10__standard_deviation</th>\n      <th>Sensor Measure 10__variance</th>\n      <th>Sensor Measure 10__root_mean_square</th>\n      <th>Sensor Measure 10__maximum</th>\n      <th>Sensor Measure 10__absolute_maximum</th>\n      <th>Sensor Measure 10__minimum</th>\n      <th>...</th>\n      <th>Sensor Measure 9__sum_values</th>\n      <th>Sensor Measure 9__median</th>\n      <th>Sensor Measure 9__mean</th>\n      <th>Sensor Measure 9__length</th>\n      <th>Sensor Measure 9__standard_deviation</th>\n      <th>Sensor Measure 9__variance</th>\n      <th>Sensor Measure 9__root_mean_square</th>\n      <th>Sensor Measure 9__maximum</th>\n      <th>Sensor Measure 9__absolute_maximum</th>\n      <th>Sensor Measure 9__minimum</th>\n    </tr>\n    <tr>\n      <th>UnitNumber</th>\n      <th>Cycle</th>\n      <th></th>\n      <th></th>\n      <th></th>\n      <th></th>\n      <th></th>\n      <th></th>\n      <th></th>\n      <th></th>\n      <th></th>\n      <th></th>\n      <th></th>\n      <th></th>\n      <th></th>\n      <th></th>\n      <th></th>\n      <th></th>\n      <th></th>\n      <th></th>\n      <th></th>\n      <th></th>\n      <th></th>\n    </tr>\n  </thead>\n  <tbody>\n    <tr>\n      <th>1</th>\n      <th>31</th>\n      <td>26.0</td>\n      <td>1.3</td>\n      <td>1.3</td>\n      <td>20.0</td>\n      <td>2.220446e-16</td>\n      <td>4.930381e-32</td>\n      <td>1.3</td>\n      <td>1.3</td>\n      <td>1.3</td>\n      <td>1.3</td>\n      <td>...</td>\n      <td>180961.92</td>\n      <td>9046.675</td>\n      <td>9048.0960</td>\n      <td>20.0</td>\n      <td>4.379112</td>\n      <td>19.176624</td>\n      <td>9048.097060</td>\n      <td>9056.40</td>\n      <td>9056.40</td>\n      <td>9041.12</td>\n    </tr>\n    <tr>\n      <th>2</th>\n      <th>49</th>\n      <td>26.0</td>\n      <td>1.3</td>\n      <td>1.3</td>\n      <td>20.0</td>\n      <td>2.220446e-16</td>\n      <td>4.930381e-32</td>\n      <td>1.3</td>\n      <td>1.3</td>\n      <td>1.3</td>\n      <td>1.3</td>\n      <td>...</td>\n      <td>180961.62</td>\n      <td>9048.330</td>\n      <td>9048.0810</td>\n      <td>20.0</td>\n      <td>3.193564</td>\n      <td>10.198849</td>\n      <td>9048.081564</td>\n      <td>9055.90</td>\n      <td>9055.90</td>\n      <td>9042.03</td>\n    </tr>\n    <tr>\n      <th>3</th>\n      <th>126</th>\n      <td>26.0</td>\n      <td>1.3</td>\n      <td>1.3</td>\n      <td>20.0</td>\n      <td>2.220446e-16</td>\n      <td>4.930381e-32</td>\n      <td>1.3</td>\n      <td>1.3</td>\n      <td>1.3</td>\n      <td>1.3</td>\n      <td>...</td>\n      <td>181012.73</td>\n      <td>9049.890</td>\n      <td>9050.6365</td>\n      <td>20.0</td>\n      <td>4.084531</td>\n      <td>16.683393</td>\n      <td>9050.637422</td>\n      <td>9058.16</td>\n      <td>9058.16</td>\n      <td>9044.93</td>\n    </tr>\n    <tr>\n      <th>4</th>\n      <th>106</th>\n      <td>26.0</td>\n      <td>1.3</td>\n      <td>1.3</td>\n      <td>20.0</td>\n      <td>2.220446e-16</td>\n      <td>4.930381e-32</td>\n      <td>1.3</td>\n      <td>1.3</td>\n      <td>1.3</td>\n      <td>1.3</td>\n      <td>...</td>\n      <td>181065.25</td>\n      <td>9051.790</td>\n      <td>9053.2625</td>\n      <td>20.0</td>\n      <td>4.500998</td>\n      <td>20.258979</td>\n      <td>9053.263619</td>\n      <td>9062.04</td>\n      <td>9062.04</td>\n      <td>9046.96</td>\n    </tr>\n    <tr>\n      <th>5</th>\n      <th>98</th>\n      <td>26.0</td>\n      <td>1.3</td>\n      <td>1.3</td>\n      <td>20.0</td>\n      <td>2.220446e-16</td>\n      <td>4.930381e-32</td>\n      <td>1.3</td>\n      <td>1.3</td>\n      <td>1.3</td>\n      <td>1.3</td>\n      <td>...</td>\n      <td>181051.76</td>\n      <td>9053.015</td>\n      <td>9052.5880</td>\n      <td>20.0</td>\n      <td>3.830631</td>\n      <td>14.673736</td>\n      <td>9052.588810</td>\n      <td>9059.29</td>\n      <td>9059.29</td>\n      <td>9044.76</td>\n    </tr>\n  </tbody>\n</table>\n<p>5 rows × 240 columns</p>\n</div>"
     },
     "metadata": {},
     "output_type": "display_data"
    },
    {
     "name": "stdout",
     "output_type": "stream",
     "text": [
      "Shape of y_test: (100, 1)\n"
     ]
    },
    {
     "data": {
      "text/plain": "                  RUL\nUnitNumber Cycle     \n1          31     112\n2          49      98\n3          126     69\n4          106     82\n5          98      91",
      "text/html": "<div>\n<style scoped>\n    .dataframe tbody tr th:only-of-type {\n        vertical-align: middle;\n    }\n\n    .dataframe tbody tr th {\n        vertical-align: top;\n    }\n\n    .dataframe thead th {\n        text-align: right;\n    }\n</style>\n<table border=\"1\" class=\"dataframe\">\n  <thead>\n    <tr style=\"text-align: right;\">\n      <th></th>\n      <th></th>\n      <th>RUL</th>\n    </tr>\n    <tr>\n      <th>UnitNumber</th>\n      <th>Cycle</th>\n      <th></th>\n    </tr>\n  </thead>\n  <tbody>\n    <tr>\n      <th>1</th>\n      <th>31</th>\n      <td>112</td>\n    </tr>\n    <tr>\n      <th>2</th>\n      <th>49</th>\n      <td>98</td>\n    </tr>\n    <tr>\n      <th>3</th>\n      <th>126</th>\n      <td>69</td>\n    </tr>\n    <tr>\n      <th>4</th>\n      <th>106</th>\n      <td>82</td>\n    </tr>\n    <tr>\n      <th>5</th>\n      <th>98</th>\n      <td>91</td>\n    </tr>\n  </tbody>\n</table>\n</div>"
     },
     "metadata": {},
     "output_type": "display_data"
    }
   ],
   "source": [
    "# check if X_test and y_test match\n",
    "print(f\"Shape of X_test: {X_test.shape}\")\n",
    "display(X_test.head(5))\n",
    "print(f\"Shape of y_test: {y_test.shape}\")\n",
    "display(y_test.head(5))"
   ],
   "metadata": {
    "collapsed": false,
    "ExecuteTime": {
     "end_time": "2024-05-12T16:37:01.903468400Z",
     "start_time": "2024-05-12T16:37:01.705737200Z"
    }
   }
  },
  {
   "cell_type": "code",
   "execution_count": 41,
   "outputs": [],
   "source": [
    "# save processed data (as pickle)\n",
    "timestamp = time.strftime(\"%Y%m%d-%H%M%S\")\n",
    "X_train.to_pickle(f\"{config['paths']['processed_data_dir']}ex2_X_train_{timestamp}.pkl\")\n",
    "y_train.to_pickle(f\"{config['paths']['processed_data_dir']}ex2_y_train_{timestamp}.pkl\")\n",
    "X_test.to_pickle(f\"{config['paths']['processed_data_dir']}ex2_X_test_{timestamp}.pkl\")\n",
    "y_test.to_pickle(f\"{config['paths']['processed_data_dir']}ex2_y_test_{timestamp}.pkl\")"
   ],
   "metadata": {
    "collapsed": false,
    "ExecuteTime": {
     "end_time": "2024-05-12T13:55:05.034612Z",
     "start_time": "2024-05-12T13:55:05.034612Z"
    }
   }
  },
  {
   "cell_type": "markdown",
   "source": [
    "# Exkurs - Extract Features not using tsfresh"
   ],
   "metadata": {
    "collapsed": false
   }
  },
  {
   "cell_type": "code",
   "execution_count": null,
   "outputs": [],
   "source": [],
   "metadata": {
    "collapsed": false
   }
  }
 ],
 "metadata": {
  "kernelspec": {
   "display_name": "Python 3",
   "language": "python",
   "name": "python3"
  },
  "language_info": {
   "codemirror_mode": {
    "name": "ipython",
    "version": 2
   },
   "file_extension": ".py",
   "mimetype": "text/x-python",
   "name": "python",
   "nbconvert_exporter": "python",
   "pygments_lexer": "ipython2",
   "version": "2.7.6"
  }
 },
 "nbformat": 4,
 "nbformat_minor": 0
}
