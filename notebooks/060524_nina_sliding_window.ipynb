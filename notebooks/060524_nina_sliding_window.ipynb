{
 "cells": [
  {
   "cell_type": "code",
   "execution_count": null,
   "outputs": [],
   "source": [],
   "metadata": {
    "collapsed": false,
    "ExecuteTime": {
     "end_time": "2024-05-08T09:49:23.602421900Z",
     "start_time": "2024-05-08T09:49:23.571159300Z"
    }
   }
  },
  {
   "cell_type": "markdown",
   "source": [
    "# Imports"
   ],
   "metadata": {
    "collapsed": false
   }
  },
  {
   "cell_type": "code",
   "execution_count": 1,
   "outputs": [],
   "source": [
    "from src.utils import load_data, load_config, flatten"
   ],
   "metadata": {
    "collapsed": false,
    "ExecuteTime": {
     "end_time": "2024-05-08T09:49:24.240704300Z",
     "start_time": "2024-05-08T09:49:23.586798100Z"
    }
   }
  },
  {
   "cell_type": "code",
   "execution_count": 5,
   "outputs": [],
   "source": [
    "PATH_TO_CONFIG = \"../configs/config.yaml\""
   ],
   "metadata": {
    "collapsed": false,
    "ExecuteTime": {
     "end_time": "2024-05-08T09:50:32.291499200Z",
     "start_time": "2024-05-08T09:50:32.260222700Z"
    }
   }
  },
  {
   "cell_type": "markdown",
   "source": [
    "# Load Data + Config"
   ],
   "metadata": {
    "collapsed": false
   }
  },
  {
   "cell_type": "code",
   "execution_count": 2,
   "outputs": [],
   "source": [
    "config = load_config(PATH_TO_CONFIG) # config is dict"
   ],
   "metadata": {
    "collapsed": false,
    "ExecuteTime": {
     "end_time": "2024-05-08T09:49:24.258356100Z",
     "start_time": "2024-05-08T09:49:24.240704300Z"
    }
   }
  },
  {
   "cell_type": "code",
   "execution_count": 3,
   "outputs": [
    {
     "name": "stdout",
     "output_type": "stream",
     "text": [
      "2024-05-08 11:49:24,258 [\u001B[34msrc.utils:73\u001B[0m] [\u001B[32mINFO\u001B[0m] >>>> Loading data set 1...\u001B[0m\n",
      "2024-05-08 11:49:25,030 [\u001B[34msrc.utils:78\u001B[0m] [\u001B[32mINFO\u001B[0m] >>>> Data loaded successfully.\u001B[0m\n",
      "2024-05-08 11:49:25,030 [\u001B[34msrc.utils:81\u001B[0m] [\u001B[32mINFO\u001B[0m] >>>> Train Data: (53759, 26)\u001B[0m\n",
      "2024-05-08 11:49:25,030 [\u001B[34msrc.utils:82\u001B[0m] [\u001B[32mINFO\u001B[0m] >>>> Test Data: (33991, 26)\u001B[0m\n",
      "2024-05-08 11:49:25,030 [\u001B[34msrc.utils:83\u001B[0m] [\u001B[32mINFO\u001B[0m] >>>> RUL Data: (259, 1)\u001B[0m\n"
     ]
    }
   ],
   "source": [
    "train_data, test_data, RUL_data = load_data(config_path=PATH_TO_CONFIG, dataset_num=1, raw=True)"
   ],
   "metadata": {
    "collapsed": false,
    "ExecuteTime": {
     "end_time": "2024-05-08T09:49:25.061998700Z",
     "start_time": "2024-05-08T09:49:24.258356100Z"
    }
   }
  },
  {
   "cell_type": "code",
   "execution_count": 4,
   "outputs": [
    {
     "name": "stdout",
     "output_type": "stream",
     "text": [
      "2024-05-08 11:49:26,643 [\u001B[34msrc.utils:73\u001B[0m] [\u001B[32mINFO\u001B[0m] >>>> Loading data set 1...\u001B[0m\n",
      "2024-05-08 11:49:27,490 [\u001B[34msrc.utils:78\u001B[0m] [\u001B[32mINFO\u001B[0m] >>>> Data loaded successfully.\u001B[0m\n",
      "2024-05-08 11:49:27,506 [\u001B[34msrc.utils:90\u001B[0m] [\u001B[32mINFO\u001B[0m] >>>> Train Data: (53759, 27)\u001B[0m\n",
      "2024-05-08 11:49:27,506 [\u001B[34msrc.utils:91\u001B[0m] [\u001B[32mINFO\u001B[0m] >>>> Test Data: (33991, 27)\u001B[0m\n"
     ]
    }
   ],
   "source": [
    "test_data2, train_data2 = load_data(config_path=PATH_TO_CONFIG, dataset_num=1, raw=False)"
   ],
   "metadata": {
    "collapsed": false,
    "ExecuteTime": {
     "end_time": "2024-05-08T09:49:27.537599900Z",
     "start_time": "2024-05-08T09:49:26.643225200Z"
    }
   }
  },
  {
   "cell_type": "markdown",
   "source": [
    "# Topic: Sliding Window"
   ],
   "metadata": {
    "collapsed": false
   }
  },
  {
   "cell_type": "code",
   "execution_count": null,
   "outputs": [],
   "source": [],
   "metadata": {
    "collapsed": false
   }
  },
  {
   "cell_type": "markdown",
   "source": [
    "# Topic: Feature Engineering"
   ],
   "metadata": {
    "collapsed": false
   }
  },
  {
   "cell_type": "code",
   "execution_count": null,
   "outputs": [],
   "source": [],
   "metadata": {
    "collapsed": false
   }
  }
 ],
 "metadata": {
  "kernelspec": {
   "display_name": "Python 3",
   "language": "python",
   "name": "python3"
  },
  "language_info": {
   "codemirror_mode": {
    "name": "ipython",
    "version": 2
   },
   "file_extension": ".py",
   "mimetype": "text/x-python",
   "name": "python",
   "nbconvert_exporter": "python",
   "pygments_lexer": "ipython2",
   "version": "2.7.6"
  }
 },
 "nbformat": 4,
 "nbformat_minor": 0
}
