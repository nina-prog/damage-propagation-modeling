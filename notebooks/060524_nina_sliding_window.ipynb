{
 "cells": [
  {
   "cell_type": "code",
   "execution_count": 1,
   "source": [
    "%load_ext autoreload\n",
    "%autoreload 2"
   ],
   "metadata": {
    "collapsed": false,
    "ExecuteTime": {
     "end_time": "2024-05-12T13:52:15.266818100Z",
     "start_time": "2024-05-12T13:52:15.171679400Z"
    }
   },
   "outputs": []
  },
  {
   "cell_type": "code",
   "execution_count": 2,
   "source": [
    "%matplotlib inline\n",
    "%config InlineBackend.figure_format = 'retina'"
   ],
   "metadata": {
    "collapsed": false,
    "ExecuteTime": {
     "end_time": "2024-05-12T13:52:15.393576300Z",
     "start_time": "2024-05-12T13:52:15.266818100Z"
    }
   },
   "outputs": []
  },
  {
   "cell_type": "markdown",
   "source": [
    "# Topic: EX2 - Turbofan RUL Prediction\n",
    "**Task**: Predict the remaining useful life (RUL) of turbofan engines based on given sensor data (time series data). It is a regression problem.\n",
    "**Data**: Turbofan engine degradation simulation data (NASA) - [Link](https://data.nasa.gov/dataset/Turbofan-Engine-Degradation-Simulation-Data-Set/vrks-gjie). See also in the topic [introduction notebook](https://github.com/nina-prog/damage-propagation-modeling/blob/2fb8c1a1102a48d7abbf04e4031807790a913a99/notebooks/Turbofan%20remaining%20useful%20life%20Prediction.ipynb).\n",
    "\n",
    "**Subtasks**:\n",
    "1. Perform a deep **exploratory data analysis (EDA)** on the given data.\n",
    "2. Implement a more efficient **sliding window method** for time series data analysis. -> 🎯 **Focus on this task**\n",
    "3. Apply **traditional machine learning methods** (SOTA) to predict the remaining useful life. Includes data preparation, feature extraction, feature selection, model selection, and model parameter optimization.\n",
    "4. Create **neural network models** to predict the remaining useful life. Includes different architectures like Convolutional Neural Networks (CNN), Recurrent Neural Networks (RNN), or Attention Models. Note: You can search for SOTA research papers and reproduce current state-of-the-art models.\n"
   ],
   "metadata": {
    "collapsed": false
   }
  },
  {
   "cell_type": "markdown",
   "source": [
    "# Imports + Settings"
   ],
   "metadata": {
    "collapsed": false
   }
  },
  {
   "cell_type": "code",
   "execution_count": 50,
   "source": [
    "# third-party libraries\n",
    "import pandas as pd\n",
    "import numpy as np\n",
    "import os\n",
    "import time\n",
    "import seaborn as sns\n",
    "\n",
    "from tsfresh import extract_features, select_features\n",
    "from tsfresh.utilities.dataframe_functions import roll_time_series, make_forecasting_frame, impute\n",
    "from tsfresh.feature_extraction import EfficientFCParameters, MinimalFCParameters"
   ],
   "metadata": {
    "collapsed": false,
    "ExecuteTime": {
     "end_time": "2024-05-12T14:27:19.887189100Z",
     "start_time": "2024-05-12T14:27:19.777104Z"
    }
   },
   "outputs": []
  },
  {
   "cell_type": "code",
   "execution_count": 4,
   "source": [
    "# source code\n",
    "from src.utils import load_data, load_config\n",
    "from src.data_preprocessing import calculate_RUL"
   ],
   "metadata": {
    "collapsed": false,
    "ExecuteTime": {
     "end_time": "2024-05-12T13:52:16.510048Z",
     "start_time": "2024-05-12T13:52:16.415896800Z"
    }
   },
   "outputs": []
  },
  {
   "cell_type": "code",
   "execution_count": 5,
   "source": [
    "# settings\n",
    "sns.set_style(\"whitegrid\")\n",
    "sns.set_palette(\"Set2\")\n",
    "sns.set(rc={\"figure.dpi\":100, 'savefig.dpi':200})\n",
    "sns.set_context('notebook')"
   ],
   "metadata": {
    "collapsed": false,
    "ExecuteTime": {
     "end_time": "2024-05-12T13:52:16.589074400Z",
     "start_time": "2024-05-12T13:52:16.510048Z"
    }
   },
   "outputs": []
  },
  {
   "cell_type": "code",
   "execution_count": 6,
   "source": [
    "np.random.seed(42)"
   ],
   "metadata": {
    "collapsed": false,
    "ExecuteTime": {
     "end_time": "2024-05-12T13:52:16.688823600Z",
     "start_time": "2024-05-12T13:52:16.589074400Z"
    }
   },
   "outputs": []
  },
  {
   "cell_type": "markdown",
   "source": [
    "# Paths"
   ],
   "metadata": {
    "collapsed": false
   }
  },
  {
   "cell_type": "code",
   "execution_count": 7,
   "source": [
    "os.chdir(\"../\") # set working directory to root of project\n",
    "#os.getcwd() # check current working directory"
   ],
   "metadata": {
    "collapsed": false,
    "ExecuteTime": {
     "end_time": "2024-05-12T13:52:16.798900800Z",
     "start_time": "2024-05-12T13:52:16.688823600Z"
    }
   },
   "outputs": []
  },
  {
   "cell_type": "code",
   "execution_count": 8,
   "source": [
    "PATH_TO_CONFIG = \"configs/config.yaml\""
   ],
   "metadata": {
    "collapsed": false,
    "ExecuteTime": {
     "end_time": "2024-05-12T13:52:16.877810500Z",
     "start_time": "2024-05-12T13:52:16.798900800Z"
    }
   },
   "outputs": []
  },
  {
   "cell_type": "markdown",
   "source": [
    "# Load Config + Data"
   ],
   "metadata": {
    "collapsed": false
   }
  },
  {
   "cell_type": "code",
   "execution_count": 9,
   "source": [
    "config = load_config(PATH_TO_CONFIG) # config is dict"
   ],
   "metadata": {
    "collapsed": false,
    "ExecuteTime": {
     "end_time": "2024-05-12T13:52:16.969497Z",
     "start_time": "2024-05-12T13:52:16.877810500Z"
    }
   },
   "outputs": []
  },
  {
   "cell_type": "code",
   "execution_count": 10,
   "source": [
    "train_data, test_data, test_RUL_data = load_data(config_path=PATH_TO_CONFIG, dataset_num=1)"
   ],
   "metadata": {
    "collapsed": false,
    "ExecuteTime": {
     "end_time": "2024-05-12T13:52:17.349023100Z",
     "start_time": "2024-05-12T13:52:16.969497Z"
    }
   },
   "outputs": []
  },
  {
   "cell_type": "markdown",
   "source": [
    "# 📍 Subtask 2: Sliding Window Method"
   ],
   "metadata": {
    "collapsed": false
   }
  },
  {
   "cell_type": "markdown",
   "source": [
    "Note:\n",
    "* In training however, we need multiple examples to train. If we would only use the time series until today (and wait for the value of tomorrow to have a target), we would only have a single training example. Therefore, we use a trick: we replay the history.\n",
    "* At each time step $t$, you treat the data as it would be today. You extract the features with everything you know until today (which is all data until and including $t$). The target for the features until time $t$ is the time value of time t + 1 (which we already know, because everything has already happened).\n",
    "* The process of window-sliding is implemented in the function `roll_time_series`. Our window size will be 20 (we look at max 20 days in the past) and we disregard all windows which are shorter than 5 days.\n",
    "\n",
    "Generating Data to train Forecasting typically involves the following steps:\n",
    "1. Generate roling windows of size k (e.g. 20) from the time series data. It means that we take the last k time periods as relevant features, including the current time period. The target is then the next time period.\n",
    "2. Extract features from the rolling windows. This can be as simple as taking the mean of the last k days, or more complex features like the slope of a linear regression. The dimension of the rolling window then would be (k, n_features) and the dimension of the target would be (1,).\n",
    "\n",
    "--> The data would then be of size (n_samples, k, n_features) and the target would be of size (n_samples, 1)."
   ],
   "metadata": {
    "collapsed": false
   }
  },
  {
   "cell_type": "markdown",
   "source": [
    "## 1. Generate rolling windows"
   ],
   "metadata": {
    "collapsed": false
   }
  },
  {
   "cell_type": "code",
   "execution_count": 11,
   "source": [
    "# define window size\n",
    "MAX_K = 20\n",
    "MIN_K = 5"
   ],
   "metadata": {
    "collapsed": false,
    "ExecuteTime": {
     "end_time": "2024-05-12T13:52:17.425729500Z",
     "start_time": "2024-05-12T13:52:17.349023100Z"
    }
   },
   "outputs": []
  },
  {
   "cell_type": "code",
   "execution_count": 12,
   "source": [
    "%%time\n",
    "# generate rolling windows\n",
    "train_data_rolled = roll_time_series(train_data, column_id=\"UnitNumber\", column_sort=\"Cycle\", max_timeshift=MAX_K, min_timeshift=MIN_K)"
   ],
   "metadata": {
    "collapsed": false,
    "ExecuteTime": {
     "end_time": "2024-05-12T13:52:22.591191500Z",
     "start_time": "2024-05-12T13:52:17.425729500Z"
    }
   },
   "outputs": []
  },
  {
   "cell_type": "code",
   "execution_count": 13,
   "source": [
    "train_data_rolled.head(5)"
   ],
   "metadata": {
    "collapsed": false,
    "ExecuteTime": {
     "end_time": "2024-05-12T13:52:22.685385900Z",
     "start_time": "2024-05-12T13:52:22.591191500Z"
    }
   },
   "outputs": []
  },
  {
   "cell_type": "markdown",
   "source": [
    "Findings:\n",
    "* **Function Result**: New column `id` is generated, representing a **window id**. It is a tuple of the **`UnitNumber` (certain group)** and the **ending `Cycle` (ending time step)**.\n",
    "* **Example**: Data with the `id` (1, 40) contains the original data of `UnitNumber` 1 of the last 20 `Cycle` steps until `Cycle` 40 (including `Cycle` 40)."
   ],
   "metadata": {
    "collapsed": false
   }
  },
  {
   "cell_type": "code",
   "execution_count": 14,
   "source": [
    "# check if example interpretation is correct and if the window is generated correctly\n",
    "rolled_win = train_data_rolled[train_data_rolled[\"id\"] == (1, 40)]\n",
    "print(rolled_win.shape)\n",
    "display(rolled_win.head(5))\n",
    "\n",
    "original_win_data = train_data[(train_data[\"UnitNumber\"] == 1) &\n",
    "                               (train_data[\"Cycle\"] <= 40) &\n",
    "                               (train_data[\"Cycle\"] >= 40 - 20)]\n",
    "print(original_win_data.shape)\n",
    "display(original_win_data.head(5))"
   ],
   "metadata": {
    "collapsed": false,
    "ExecuteTime": {
     "end_time": "2024-05-12T13:52:22.858456400Z",
     "start_time": "2024-05-12T13:52:22.685385900Z"
    }
   },
   "outputs": []
  },
  {
   "cell_type": "code",
   "execution_count": 15,
   "source": [
    "print(f\"Number of samples: {train_data_rolled.shape[0]}\")\n",
    "print(f\"Number of unique windows: {train_data_rolled['id'].nunique()}\")\n",
    "print(f\"Number of windows shorter than 5 days: {train_data_rolled['id'].value_counts().loc[lambda x: x < MIN_K].sum()}\")\n",
    "print(f\"Number of unique units: {train_data_rolled['UnitNumber'].nunique()}\")"
   ],
   "metadata": {
    "collapsed": false,
    "ExecuteTime": {
     "end_time": "2024-05-12T13:52:23.156290400Z",
     "start_time": "2024-05-12T13:52:22.826702Z"
    }
   },
   "outputs": []
  },
  {
   "cell_type": "code",
   "execution_count": 16,
   "source": [
    "# check windows sizes / lengths\n",
    "train_data_rolled.groupby(\"id\").size().value_counts()"
   ],
   "metadata": {
    "collapsed": false,
    "ExecuteTime": {
     "end_time": "2024-05-12T13:52:23.203599400Z",
     "start_time": "2024-05-12T13:52:22.968256900Z"
    }
   },
   "outputs": []
  },
  {
   "cell_type": "code",
   "execution_count": 17,
   "source": [
    "# get list of features\n",
    "features = config[\"dataloading\"][\"features\"][\"operational_settings\"] + \\\n",
    "           config[\"dataloading\"][\"features\"][\"sensor_measure\"]"
   ],
   "metadata": {
    "collapsed": false,
    "ExecuteTime": {
     "end_time": "2024-05-12T13:52:23.258057900Z",
     "start_time": "2024-05-12T13:52:23.125037400Z"
    }
   },
   "outputs": []
  },
  {
   "cell_type": "markdown",
   "source": [
    "Findings:\n",
    "* The fact that there are always a number of 100 windows for each window size less than 21 and more than 5 indicates that there are 100 unique units in the data and that the windows are generated correctly."
   ],
   "metadata": {
    "collapsed": false
   }
  },
  {
   "cell_type": "markdown",
   "source": [
    "## 2. Extract Features\n",
    "Note:\n",
    "* We have many features and the `RUL` column is the target. so we thus need to extract features for each feature column in the window and then also get a y value for each window."
   ],
   "metadata": {
    "collapsed": false
   }
  },
  {
   "cell_type": "code",
   "execution_count": 18,
   "source": [
    "%%time\n",
    "# extract features - tsfresh\n",
    "X = extract_features(train_data_rolled.drop([\"UnitNumber\"], axis=1),\n",
    "                     column_id=\"id\", column_sort=\"Cycle\",\n",
    "                     default_fc_parameters=MinimalFCParameters(),\n",
    "                     impute_function=impute, show_warnings=False)\n",
    "# add index names\n",
    "X.index = X.index.rename([\"UnitNumber\", \"Cycle\"])"
   ],
   "metadata": {
    "collapsed": false,
    "ExecuteTime": {
     "end_time": "2024-05-12T13:53:33.798687700Z",
     "start_time": "2024-05-12T13:52:23.203599400Z"
    }
   },
   "outputs": []
  },
  {
   "cell_type": "code",
   "execution_count": 19,
   "source": [
    "X.head(5)"
   ],
   "metadata": {
    "collapsed": false,
    "ExecuteTime": {
     "end_time": "2024-05-12T13:53:33.909171700Z",
     "start_time": "2024-05-12T13:53:33.803596600Z"
    }
   },
   "outputs": []
  },
  {
   "cell_type": "code",
   "execution_count": 20,
   "source": [
    "# check if example window can also be found in the extracted features\n",
    "X.loc[(1, 40)]"
   ],
   "metadata": {
    "collapsed": false,
    "ExecuteTime": {
     "end_time": "2024-05-12T13:53:34.129368500Z",
     "start_time": "2024-05-12T13:53:33.909171700Z"
    }
   },
   "outputs": []
  },
  {
   "cell_type": "markdown",
   "source": [
    "## 3. Extract Target & Map to Features\n",
    "Note:\n",
    "* **Target Example**: The target for the row with the id (1, 40) is the RUL of the row with the id (1, 41) and so on --> shift the RUL column by one and then we can use it as our target. - Only if RUL is shifted by one for forcasting. (DEPRECATED)\n",
    "* **Target Example**: The target for the row with the id (1, 40) is the RUL of the row with the id (1, 40)"
   ],
   "metadata": {
    "collapsed": false
   }
  },
  {
   "cell_type": "code",
   "execution_count": 57,
   "source": [
    "# calculate RUL\n",
    "train_data_RUL = calculate_RUL(data=train_data, time_column=\"Cycle\", group_column=\"UnitNumber\")"
   ],
   "metadata": {
    "collapsed": false,
    "ExecuteTime": {
     "end_time": "2024-05-12T14:36:20.430501200Z",
     "start_time": "2024-05-12T14:36:20.335792900Z"
    }
   },
   "outputs": []
  },
  {
   "cell_type": "code",
   "execution_count": 58,
   "source": [
    "train_data_RUL[(train_data_RUL[\"UnitNumber\"] == 1)].tail(5)"
   ],
   "metadata": {
    "collapsed": false,
    "ExecuteTime": {
     "end_time": "2024-05-12T14:36:22.116930800Z",
     "start_time": "2024-05-12T14:36:21.994937200Z"
    }
   },
   "outputs": []
  },
  {
   "cell_type": "code",
   "execution_count": 89,
   "source": [
    "# extract target\n",
    "#y = train_data_RUL.set_index([\"UnitNumber\", \"Cycle\"]).sort_index().RUL.shift(-1) # shift RUL by one for forcasting (DEPRECATED)\n",
    "y = train_data_RUL.set_index([\"UnitNumber\", \"Cycle\"]).sort_index().RUL"
   ],
   "metadata": {
    "collapsed": false,
    "ExecuteTime": {
     "end_time": "2024-05-12T16:01:19.122717300Z",
     "start_time": "2024-05-12T16:01:18.934027900Z"
    }
   },
   "outputs": []
  },
  {
   "cell_type": "code",
   "execution_count": 85,
   "source": [
    "# consistency check for example window (1, 40)\n",
    "print(f\"y value for window (1, 40): {y.loc[(1, 40)]}\") # should be the same as the RUL of the row with the id (1, 41)\n",
    "print(f\"Train data RUL value for UnitNumber, Cycle (1, 41): {train_data_RUL[(train_data_RUL['UnitNumber'] == 1) & (train_data_RUL['Cycle'] == 41)]['RUL'].values[0]}\")"
   ],
   "metadata": {
    "collapsed": false,
    "ExecuteTime": {
     "end_time": "2024-05-12T15:53:48.559162700Z",
     "start_time": "2024-05-12T15:53:48.417482800Z"
    }
   },
   "outputs": []
  },
  {
   "cell_type": "markdown",
   "source": [
    "Findings:\n",
    "* The target value RUL does indeed match the RUL of the next cycle in the original data and the rolled data. If RUL is shifted by one for forcasting."
   ],
   "metadata": {
    "collapsed": false
   }
  },
  {
   "cell_type": "code",
   "execution_count": 90,
   "source": [
    "# compare index and size of X and y\n",
    "print(f\"Shape of X: {X.shape}\")\n",
    "print(f\"Fist 3 rows of index of X: {X.index[:3]}\")\n",
    "print(f\"Shape of y: {y.shape}\")\n",
    "print(f\"Fist 3 rows of index of y: {y.index[:3]}\")"
   ],
   "metadata": {
    "collapsed": false,
    "ExecuteTime": {
     "end_time": "2024-05-12T16:01:23.932522Z",
     "start_time": "2024-05-12T16:01:23.811316800Z"
    }
   },
   "outputs": []
  },
  {
   "cell_type": "code",
   "execution_count": 91,
   "source": [
    "# check last rows of y\n",
    "y.tail(5)"
   ],
   "metadata": {
    "collapsed": false,
    "ExecuteTime": {
     "end_time": "2024-05-12T16:01:26.418416400Z",
     "start_time": "2024-05-12T16:01:26.240616300Z"
    }
   },
   "outputs": []
  },
  {
   "cell_type": "code",
   "execution_count": 92,
   "source": [
    "# show nan values in y\n",
    "print(f\"Number of NaN values in y: {y.isnull().sum()}\")\n",
    "y[y.isnull()]"
   ],
   "metadata": {
    "collapsed": false,
    "ExecuteTime": {
     "end_time": "2024-05-12T16:01:28.104583800Z",
     "start_time": "2024-05-12T16:01:27.996832700Z"
    }
   },
   "outputs": []
  },
  {
   "cell_type": "markdown",
   "source": [
    "Findings:\n",
    "\n",
    "There are some inconsistencies! :\n",
    "* X is missing the first 5 dates (as our minimum window size was 5), which can be seen looking at the index length of X and y. X index has a length of `20131` and y index has a length of `20631`. This `500` difference is because we have `100` units and the first `5` cycles of each unit are not in X, thus we have $100 * 5 = 500$ missing rows in X which are in y. --> drop the first min_k time steps / cycles from X\n",
    "* y is missing the last date, as we cannot predict the RUL of the last cycle of each unit, as there is no next cycle to predict on. This can be seen by looking at the last row of y where the RUL is `NaN`. - only if shifted by one for forcasting. (DEPRECATED)"
   ],
   "metadata": {
    "collapsed": false
   }
  },
  {
   "cell_type": "code",
   "execution_count": 93,
   "source": [
    "# make X and y consistent\n",
    "y = y[y.index.isin(X.index)]\n",
    "X = X[X.index.isin(y.index)]"
   ],
   "metadata": {
    "collapsed": false,
    "ExecuteTime": {
     "end_time": "2024-05-12T16:01:31.255337500Z",
     "start_time": "2024-05-12T16:01:30.793548900Z"
    }
   },
   "outputs": []
  },
  {
   "cell_type": "code",
   "execution_count": 94,
   "source": [
    "# compare index of X and y\n",
    "print(f\"Shape of X: {X.shape}\")\n",
    "print(f\"Fist 3 rows of index of X: {X.index[:3]}\")\n",
    "print(f\"Shape of y: {y.shape}\")\n",
    "print(f\"Fist 3 rows of index of y: {y.index[:3]}\")"
   ],
   "metadata": {
    "collapsed": false,
    "ExecuteTime": {
     "end_time": "2024-05-12T16:01:32.402026600Z",
     "start_time": "2024-05-12T16:01:32.241690400Z"
    }
   },
   "outputs": []
  },
  {
   "cell_type": "code",
   "execution_count": 97,
   "source": [
    "print(f\"Shape of X: {X.shape}\")\n",
    "display(X.tail(5))\n",
    "print(f\"Shape of y: {y.shape}\")\n",
    "display(y.tail(5))"
   ],
   "metadata": {
    "collapsed": false,
    "ExecuteTime": {
     "end_time": "2024-05-12T16:29:56.858140700Z",
     "start_time": "2024-05-12T16:29:56.551268700Z"
    }
   },
   "outputs": []
  },
  {
   "cell_type": "markdown",
   "source": [
    "## 3. Modification for Test Set\n",
    "Note:\n",
    "* The test is different from the training set, as we have extern RUL target values for the test set. This target consits only of one value for each unit, which is the RUL of the last cycle of each unit. Thus, we need to filter the data.\n",
    "* Only use last window of each unit in the test set. The target RUL is in the `test_RUL_data` dataframe, which is the true RUL of the last cycle of each unit, thus a shape of (100, 1).\n",
    "\n",
    "--> Filter rolled data to only include the last window of each UnitNumber:\n",
    "* Ensure the selected cycles are sorted in ascending order of UnitNumber and Cycle values.\n",
    "* Group the filtered data by UnitNumber.\n",
    "* For each UnitNumber group, select the last max_window_size cycles.\n"
   ],
   "metadata": {
    "collapsed": false
   }
  },
  {
   "cell_type": "code",
   "execution_count": 31,
   "source": [
    "# generate rolling windows for test data\n",
    "test_data_rolled = roll_time_series(test_data, column_id=\"UnitNumber\", column_sort=\"Cycle\", max_timeshift=MAX_K, min_timeshift=MIN_K)"
   ],
   "metadata": {
    "collapsed": false,
    "ExecuteTime": {
     "end_time": "2024-05-12T13:53:39.205984900Z",
     "start_time": "2024-05-12T13:53:34.927511800Z"
    }
   },
   "outputs": []
  },
  {
   "cell_type": "code",
   "execution_count": 32,
   "source": [
    "test_data_rolled.head(5)"
   ],
   "metadata": {
    "collapsed": false,
    "ExecuteTime": {
     "end_time": "2024-05-12T13:53:39.299031Z",
     "start_time": "2024-05-12T13:53:39.208222500Z"
    }
   },
   "outputs": []
  },
  {
   "cell_type": "code",
   "execution_count": 33,
   "source": [
    "# filter to only include the last window of each unit\n",
    "filtered_test_data_rolled = test_data_rolled.groupby(\"UnitNumber\").tail(MAX_K)"
   ],
   "metadata": {
    "collapsed": false,
    "ExecuteTime": {
     "end_time": "2024-05-12T13:53:39.424460700Z",
     "start_time": "2024-05-12T13:53:39.299031Z"
    }
   },
   "outputs": []
  },
  {
   "cell_type": "code",
   "execution_count": 34,
   "source": [
    "filtered_test_data_rolled.head(40)"
   ],
   "metadata": {
    "collapsed": false,
    "ExecuteTime": {
     "end_time": "2024-05-12T13:53:39.534652700Z",
     "start_time": "2024-05-12T13:53:39.408830Z"
    }
   },
   "outputs": []
  },
  {
   "cell_type": "code",
   "execution_count": 35,
   "source": [
    "# extract features for test data\n",
    "X_test = extract_features(filtered_test_data_rolled.drop([\"UnitNumber\"], axis=1),\n",
    "                          column_id=\"id\", column_sort=\"Cycle\",\n",
    "                          default_fc_parameters=MinimalFCParameters(),\n",
    "                          impute_function=impute, show_warnings=False)\n",
    "# add index names\n",
    "X_test.index = X_test.index.rename([\"UnitNumber\", \"Cycle\"])"
   ],
   "metadata": {
    "collapsed": false,
    "ExecuteTime": {
     "end_time": "2024-05-12T13:53:42.463073600Z",
     "start_time": "2024-05-12T13:53:39.534652700Z"
    }
   },
   "outputs": []
  },
  {
   "cell_type": "code",
   "execution_count": 36,
   "source": [
    "# extract target for test data - match index of y_test with X_test\n",
    "y_test = test_RUL_data\n",
    "y_test.index = X_test.index"
   ],
   "metadata": {
    "collapsed": false,
    "ExecuteTime": {
     "end_time": "2024-05-12T13:53:42.546993700Z",
     "start_time": "2024-05-12T13:53:42.463073600Z"
    }
   },
   "outputs": []
  },
  {
   "cell_type": "code",
   "execution_count": 37,
   "source": [
    "# check if X_test and y_test match\n",
    "print(f\"Shape of X_test: {X_test.shape}\")\n",
    "display(X_test.head(5))\n",
    "print(f\"Shape of y_test: {y_test.shape}\")\n",
    "display(y_test.head(5))"
   ],
   "metadata": {
    "collapsed": false,
    "ExecuteTime": {
     "end_time": "2024-05-12T13:53:42.668270700Z",
     "start_time": "2024-05-12T13:53:42.546993700Z"
    }
   },
   "outputs": []
  },
  {
   "cell_type": "markdown",
   "source": [
    "## 4. Summarize in Function"
   ],
   "metadata": {
    "collapsed": false
   }
  },
  {
   "cell_type": "code",
   "execution_count": 51,
   "source": [
    "from src.data_preprocessing import create_rolling_windows_datasets"
   ],
   "metadata": {
    "collapsed": false,
    "ExecuteTime": {
     "end_time": "2024-05-12T14:28:07.019099400Z",
     "start_time": "2024-05-12T14:28:06.924588700Z"
    }
   },
   "outputs": []
  },
  {
   "cell_type": "code",
   "execution_count": 98,
   "source": [
    "%%time\n",
    "X_train, y_train, X_test, y_test = create_rolling_windows_datasets(train_data, test_data, test_RUL_data, column_id=\"UnitNumber\", column_sort=\"Cycle\", max_timeshift=20, min_timeshift=5)"
   ],
   "metadata": {
    "collapsed": false,
    "ExecuteTime": {
     "end_time": "2024-05-12T16:34:41.045397500Z",
     "start_time": "2024-05-12T16:31:43.788822900Z"
    }
   },
   "outputs": []
  },
  {
   "cell_type": "code",
   "execution_count": 101,
   "source": [
    "# check if X_train and y_train match\n",
    "print(f\"Shape of X_train: {X_train.shape}\")\n",
    "display(X_train.head(5))\n",
    "print(f\"Shape of y_train: {y_train.shape}\")\n",
    "display(y_train.head(5))"
   ],
   "metadata": {
    "collapsed": false,
    "ExecuteTime": {
     "end_time": "2024-05-12T16:38:04.990849800Z",
     "start_time": "2024-05-12T16:38:04.785244900Z"
    }
   },
   "outputs": []
  },
  {
   "cell_type": "code",
   "execution_count": 100,
   "source": [
    "# check if X_test and y_test match\n",
    "print(f\"Shape of X_test: {X_test.shape}\")\n",
    "display(X_test.head(5))\n",
    "print(f\"Shape of y_test: {y_test.shape}\")\n",
    "display(y_test.head(5))"
   ],
   "metadata": {
    "collapsed": false,
    "ExecuteTime": {
     "end_time": "2024-05-12T16:37:01.903468400Z",
     "start_time": "2024-05-12T16:37:01.705737200Z"
    }
   },
   "outputs": []
  },
  {
   "cell_type": "code",
   "execution_count": 41,
   "source": [
    "# save processed data (as pickle)\n",
    "timestamp = time.strftime(\"%Y%m%d-%H%M%S\")\n",
    "X_train.to_pickle(f\"{config['paths']['processed_data_dir']}ex2_X_train_{timestamp}.pkl\")\n",
    "y_train.to_pickle(f\"{config['paths']['processed_data_dir']}ex2_y_train_{timestamp}.pkl\")\n",
    "X_test.to_pickle(f\"{config['paths']['processed_data_dir']}ex2_X_test_{timestamp}.pkl\")\n",
    "y_test.to_pickle(f\"{config['paths']['processed_data_dir']}ex2_y_test_{timestamp}.pkl\")"
   ],
   "metadata": {
    "collapsed": false,
    "ExecuteTime": {
     "end_time": "2024-05-12T13:55:05.034612Z",
     "start_time": "2024-05-12T13:55:05.034612Z"
    }
   },
   "outputs": []
  },
  {
   "cell_type": "markdown",
   "source": [
    "# Exkurs - Extract Features not using tsfresh"
   ],
   "metadata": {
    "collapsed": false
   }
  },
  {
   "cell_type": "code",
   "execution_count": null,
   "source": [],
   "metadata": {
    "collapsed": false
   },
   "outputs": []
  }
 ],
 "metadata": {
  "kernelspec": {
   "display_name": "Python 3",
   "language": "python",
   "name": "python3"
  },
  "language_info": {
   "codemirror_mode": {
    "name": "ipython",
    "version": 2
   },
   "file_extension": ".py",
   "mimetype": "text/x-python",
   "name": "python",
   "nbconvert_exporter": "python",
   "pygments_lexer": "ipython2",
   "version": "2.7.6"
  }
 },
 "nbformat": 4,
 "nbformat_minor": 0
}
