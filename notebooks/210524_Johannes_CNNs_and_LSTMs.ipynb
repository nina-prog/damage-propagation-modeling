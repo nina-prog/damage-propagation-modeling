{
 "cells": [
  {
   "cell_type": "code",
   "source": [
    "%load_ext autoreload\n",
    "%autoreload 2"
   ],
   "metadata": {
    "collapsed": false,
    "ExecuteTime": {
     "end_time": "2024-05-24T11:26:18.016706Z",
     "start_time": "2024-05-24T11:26:17.555332Z"
    }
   },
   "execution_count": 8,
   "outputs": []
  },
  {
   "cell_type": "code",
   "source": [
    "%matplotlib inline\n",
    "%config InlineBackend.figure_format = 'retina'"
   ],
   "metadata": {
    "collapsed": false,
    "ExecuteTime": {
     "end_time": "2024-05-24T11:26:18.439817Z",
     "start_time": "2024-05-24T11:26:18.021711Z"
    }
   },
   "execution_count": 9,
   "outputs": []
  },
  {
   "cell_type": "markdown",
   "source": [
    "# Topic: EX2 - Turbofan RUL Prediction\n",
    "**Task**: Predict the remaining useful life (RUL) of turbofan engines based on given sensor data (time series data). It is a forcasting problem, where the goal is to predict the number of cycles an engine will last before it fails.\n",
    "**Data**: Turbofan engine degradation simulation data (NASA) - [Link](https://data.nasa.gov/dataset/Turbofan-Engine-Degradation-Simulation-Data-Set/vrks-gjie). See also in the topic [introduction notebook](https://github.com/nina-prog/damage-propagation-modeling/blob/2fb8c1a1102a48d7abbf04e4031807790a913a99/notebooks/Turbofan%20remaining%20useful%20life%20Prediction.ipynb).\n",
    "\n",
    "**Subtasks**:\n",
    "1. Perform a deep **exploratory data analysis (EDA)** on the given data.\n",
    "2. Implement a more efficient **sliding window method** for time series data analysis. -> 🎯 **Focus on this task**\n",
    "3. Apply **traditional machine learning methods** (SOTA) to predict the remaining useful life. Includes data preparation, feature extraction, feature selection, model selection, and model parameter optimization.\n",
    "4. Create **neural network models** to predict the remaining useful life. Includes different architectures like Convolutional Neural Networks (CNN), Recurrent Neural Networks (RNN), or Attention Models. Note: You can search for SOTA research papers and reproduce current state-of-the-art models.\n"
   ],
   "metadata": {
    "collapsed": false
   }
  },
  {
   "cell_type": "markdown",
   "source": [
    "# Imports + Settings"
   ],
   "metadata": {
    "collapsed": false
   }
  },
  {
   "cell_type": "code",
   "source": [
    "# third-party libraries\n",
    "import pandas as pd\n",
    "import numpy as np\n",
    "import os\n",
    "import pytorch_lightning as pl\n",
    "from pytorch_lightning import Trainer\n",
    "from pytorch_lightning.callbacks import ModelCheckpoint\n",
    "\n",
    "import time\n",
    "\n",
    "import plotly.express as px\n",
    "import matplotlib.pyplot as plt\n",
    "import seaborn as sns"
   ],
   "metadata": {
    "collapsed": false,
    "ExecuteTime": {
     "end_time": "2024-05-24T13:31:35.002202Z",
     "start_time": "2024-05-24T13:31:34.255798Z"
    }
   },
   "execution_count": 42,
   "outputs": []
  },
  {
   "cell_type": "code",
   "source": [
    "# source code\n",
    "from src.utils import load_data, load_config, train_val_split_by_group\n",
    "from src.nn_utils import scale_data, create_sliding_window\n",
    "from src.nn_util.nn_models.ligthning.cnnModel1 import CNNModel1 as CNNModel\n",
    "from src.nn_util.nn_models.ligthning.exampleLSTMModel import ExampleLSTMModel as LSTMModel\n",
    "from src.nn_util.datamodule.lightning.turbofanDatamodule import TurbofanDatamodule"
   ],
   "metadata": {
    "collapsed": false,
    "ExecuteTime": {
     "end_time": "2024-05-24T11:26:19.996550Z",
     "start_time": "2024-05-24T11:26:19.438139Z"
    }
   },
   "execution_count": 11,
   "outputs": []
  },
  {
   "cell_type": "code",
   "source": [
    "# settings\n",
    "sns.set_style(\"whitegrid\")\n",
    "sns.set_palette(\"Set2\")\n",
    "sns.set(rc={\"figure.dpi\":100, 'savefig.dpi':200})\n",
    "sns.set_context('notebook')"
   ],
   "metadata": {
    "collapsed": false,
    "ExecuteTime": {
     "end_time": "2024-05-24T11:26:20.641717Z",
     "start_time": "2024-05-24T11:26:20.108974Z"
    }
   },
   "execution_count": 12,
   "outputs": []
  },
  {
   "cell_type": "code",
   "source": [
    "np.random.seed(42)"
   ],
   "metadata": {
    "collapsed": false,
    "ExecuteTime": {
     "end_time": "2024-05-24T11:26:21.106661Z",
     "start_time": "2024-05-24T11:26:20.721362Z"
    }
   },
   "execution_count": 13,
   "outputs": []
  },
  {
   "cell_type": "markdown",
   "source": [
    "# Paths"
   ],
   "metadata": {
    "collapsed": false
   }
  },
  {
   "cell_type": "code",
   "source": [
    "# Make sure to execute this cell only once for one kernel session, before running any other cell below.\n",
    "os.chdir(\"../\") # set working directory to root of project\n",
    "os.getcwd() # check current working directory"
   ],
   "metadata": {
    "collapsed": false,
    "ExecuteTime": {
     "end_time": "2024-05-24T11:26:21.668142Z",
     "start_time": "2024-05-24T11:26:21.205710Z"
    }
   },
   "execution_count": 14,
   "outputs": []
  },
  {
   "cell_type": "code",
   "source": [
    "PATH_TO_CONFIG = \"configs/config.yaml\""
   ],
   "metadata": {
    "collapsed": false,
    "ExecuteTime": {
     "end_time": "2024-05-24T11:26:22.884953Z",
     "start_time": "2024-05-24T11:26:22.382557Z"
    }
   },
   "execution_count": 15,
   "outputs": []
  },
  {
   "cell_type": "markdown",
   "source": [
    "# Load Config + Data"
   ],
   "metadata": {
    "collapsed": false
   }
  },
  {
   "cell_type": "code",
   "source": [
    "config = load_config(PATH_TO_CONFIG) # config is dict"
   ],
   "metadata": {
    "collapsed": false,
    "ExecuteTime": {
     "end_time": "2024-05-24T11:26:24.509312Z",
     "start_time": "2024-05-24T11:26:23.927457Z"
    }
   },
   "execution_count": 16,
   "outputs": []
  },
  {
   "cell_type": "code",
   "source": "train_data, test_data, test_RUL_data = load_data(config_path=PATH_TO_CONFIG, dataset_num=1)",
   "metadata": {
    "collapsed": false,
    "ExecuteTime": {
     "end_time": "2024-05-24T11:26:25.485714Z",
     "start_time": "2024-05-24T11:26:24.514309Z"
    }
   },
   "execution_count": 17,
   "outputs": []
  },
  {
   "cell_type": "markdown",
   "source": [
    "# 📍 << Subtask X: TOPIC >>"
   ],
   "metadata": {
    "collapsed": false
   }
  },
  {
   "cell_type": "markdown",
   "source": [
    "[TEMPLATE]\n",
    "\n",
    "Findings:\n",
    "* Interpretation of plots\n",
    "* or other key take aways from previous code"
   ],
   "metadata": {
    "collapsed": false
   }
  },
  {
   "cell_type": "code",
   "source": [
    "# [TEMPLATE] - save processed data (as pickle)\n",
    "df = pd.DataFrame()\n",
    "timestamp = time.strftime(\"%Y%m%d-%H%M%S\")\n",
    "df.to_pickle(f\"{config['paths']['processed_data_dir']}ex2_topic_{timestamp}.pkl\")"
   ],
   "metadata": {
    "collapsed": false,
    "ExecuteTime": {
     "end_time": "2024-05-24T07:40:32.417374Z",
     "start_time": "2024-05-24T07:40:32.160273Z"
    }
   },
   "execution_count": 17,
   "outputs": []
  },
  {
   "cell_type": "code",
   "execution_count": 12,
   "source": [
    "# [TEMPLATE] - save data predictions (as csv)\n",
    "df = pd.DataFrame()\n",
    "timestamp = time.strftime(\"%Y%m%d-%H%M%S\")\n",
    "df.to_csv(f\"{config['paths']['prediction_dir']}ex2_topic_{timestamp}.csv\", sep=',', decimal='.')"
   ],
   "metadata": {
    "collapsed": false,
    "ExecuteTime": {
     "end_time": "2024-05-09T15:31:39.318667400Z",
     "start_time": "2024-05-09T15:31:39.220343800Z"
    }
   },
   "outputs": []
  },
  {
   "cell_type": "code",
   "execution_count": 13,
   "source": [
    "# [TEMPLATE] - save plot results (as png)\n",
    "fig = plt.figure(figsize=(9, 6))\n",
    "timestamp = time.strftime(\"%Y%m%d-%H%M%S\")\n",
    "fig.savefig(f\"{config['paths']['plot_dir']}ex2_topic_{timestamp}.png\")"
   ],
   "metadata": {
    "collapsed": false,
    "ExecuteTime": {
     "end_time": "2024-05-09T15:31:39.485116500Z",
     "start_time": "2024-05-09T15:31:39.320350800Z"
    }
   },
   "outputs": []
  },
  {
   "cell_type": "code",
   "execution_count": 13,
   "source": [],
   "metadata": {
    "collapsed": false,
    "ExecuteTime": {
     "end_time": "2024-05-09T15:31:39.522027500Z",
     "start_time": "2024-05-09T15:31:39.474058600Z"
    }
   },
   "outputs": []
  },
  {
   "metadata": {},
   "cell_type": "markdown",
   "source": "## Only CNN"
  },
  {
   "metadata": {},
   "cell_type": "markdown",
   "source": [
    "Inspiration: Paper Dynamic predictive maintenance for multiple components using data-driven\n",
    "probabilistic RUL prognostics: The case of turbofan engines"
   ]
  },
  {
   "metadata": {
    "ExecuteTime": {
     "end_time": "2024-05-24T11:26:30.208579Z",
     "start_time": "2024-05-24T11:26:29.683771Z"
    }
   },
   "cell_type": "code",
   "source": "window_size = 30",
   "execution_count": 18,
   "outputs": []
  },
  {
   "metadata": {
    "ExecuteTime": {
     "end_time": "2024-05-24T11:26:31.151477Z",
     "start_time": "2024-05-24T11:26:30.547900Z"
    }
   },
   "cell_type": "code",
   "source": [
    "# Setting the seed\n",
    "pl.seed_everything(17)"
   ],
   "execution_count": 19,
   "outputs": []
  },
  {
   "metadata": {
    "ExecuteTime": {
     "end_time": "2024-05-24T11:26:33.617883Z",
     "start_time": "2024-05-24T11:26:33.059245Z"
    }
   },
   "cell_type": "code",
   "source": [
    "#scoring: Dict[str, make_scorer] = {\n",
    "#    'mae': make_scorer(mean_absolute_error),\n",
    "#    'mse': make_scorer(mean_squared_error),\n",
    "#    'r2': make_scorer(r2_score)\n",
    "#}"
   ],
   "execution_count": 20,
   "outputs": []
  },
  {
   "metadata": {
    "ExecuteTime": {
     "end_time": "2024-05-24T11:26:34.596914Z",
     "start_time": "2024-05-24T11:26:33.887173Z"
    }
   },
   "cell_type": "code",
   "source": [
    "train_data = scale_data(train_data)\n",
    "test_data = scale_data(test_data)"
   ],
   "execution_count": 21,
   "outputs": []
  },
  {
   "metadata": {
    "ExecuteTime": {
     "end_time": "2024-05-24T11:26:35.468311Z",
     "start_time": "2024-05-24T11:26:34.910050Z"
    }
   },
   "cell_type": "code",
   "source": [
    "# TODO: Remove and use Ninas rolling window\n",
    "# Add RUL to train datasets\n",
    "from src.rolling_window_creator import calculate_RUL\n",
    "\n",
    "time_column = 'Cycle'\n",
    "group_column = 'UnitNumber'\n",
    "\n",
    "train_data = calculate_RUL(train_data, time_column, group_column)"
   ],
   "execution_count": 22,
   "outputs": []
  },
  {
   "metadata": {
    "ExecuteTime": {
     "end_time": "2024-05-24T11:26:37.155728Z",
     "start_time": "2024-05-24T11:26:36.264552Z"
    }
   },
   "cell_type": "code",
   "source": [
    "test_list = []\n",
    "for engine_number in test_data[\"UnitNumber\"].unique():\n",
    "    rows_of_engine = test_data[\"UnitNumber\"] == engine_number\n",
    "    num_rows_of_engine = rows_of_engine.sum()\n",
    "    remove_first = num_rows_of_engine - window_size\n",
    "    engine_dataframe = test_data[rows_of_engine][test_data[rows_of_engine]['Cycle'] > remove_first]\n",
    "    engine_dataframe = engine_dataframe.drop(columns=[\"UnitNumber\", \"Cycle\"])\n",
    "    test_list.append(engine_dataframe.values)\n",
    "    \n",
    "X_test = np.array(test_list)\n",
    "y_test = test_RUL_data.values"
   ],
   "execution_count": 23,
   "outputs": []
  },
  {
   "metadata": {
    "ExecuteTime": {
     "end_time": "2024-05-24T11:26:38.090537Z",
     "start_time": "2024-05-24T11:26:37.610502Z"
    }
   },
   "cell_type": "code",
   "source": "train, val = train_val_split_by_group(train_data)",
   "execution_count": 24,
   "outputs": []
  },
  {
   "metadata": {
    "ExecuteTime": {
     "end_time": "2024-05-24T11:26:46.122154Z",
     "start_time": "2024-05-24T11:26:38.121801Z"
    }
   },
   "cell_type": "code",
   "source": [
    "X_train, y_train = create_sliding_window(train, window_size=window_size)\n",
    "X_val, y_val = create_sliding_window(val, window_size=window_size)"
   ],
   "execution_count": 25,
   "outputs": []
  },
  {
   "metadata": {},
   "cell_type": "markdown",
   "source": "Change types of arrays and swap axes:"
  },
  {
   "metadata": {
    "ExecuteTime": {
     "end_time": "2024-05-24T11:26:51.956529Z",
     "start_time": "2024-05-24T11:26:51.335093Z"
    }
   },
   "cell_type": "code",
   "source": [
    "train_CNN = True\n",
    "\n",
    "print(X_train.shape)\n",
    "if train_CNN:\n",
    "    X_train = np.swapaxes(X_train, 1, 2)\n",
    "X_train = np.array(X_train, dtype=np.float32)\n",
    "y_train = np.array(y_train, dtype=np.float32)\n",
    "print(X_train.shape)\n",
    "\n",
    "print(X_val.shape)\n",
    "if train_CNN:\n",
    "    X_val = np.swapaxes(X_val, 1, 2)\n",
    "X_val = np.array(X_val, dtype=np.float32)\n",
    "y_val = np.array(y_val, dtype=np.float32)\n",
    "print(X_val.shape)\n",
    "\n",
    "print(X_test.shape)\n",
    "if train_CNN:\n",
    "    X_test = np.swapaxes(X_test, 1, 2)\n",
    "X_test = np.array(X_test, dtype=np.float32)\n",
    "y_test = np.array(y_test, dtype=np.float32)\n",
    "print(X_test.shape)"
   ],
   "execution_count": 26,
   "outputs": []
  },
  {
   "metadata": {
    "ExecuteTime": {
     "end_time": "2024-05-24T13:31:47.745415Z",
     "start_time": "2024-05-24T13:31:46.755892Z"
    }
   },
   "cell_type": "code",
   "source": [
    "# Select hyperparameters of trainer!\n",
    "checkpoint_callback = ModelCheckpoint(monitor=\"val_loss\")\n",
    "trainer = Trainer(min_epochs=1, max_epochs=150, callbacks=[checkpoint_callback])\n",
    "datamodule = TurbofanDatamodule()\n",
    "datamodule.set_train_dataset(X_train, y_train)\n",
    "datamodule.set_val_dataset(X_val, y_val)\n",
    "datamodule.set_predict_dataset(X_test)\n",
    "datamodule.set_test_dataset(X_test, y_test)\n",
    "model = CNNModel(lr=0.000001, window_size=window_size, dropout_rate=0.2)"
   ],
   "execution_count": 43,
   "outputs": []
  },
  {
   "metadata": {
    "ExecuteTime": {
     "end_time": "2024-05-24T13:41:11.591061Z",
     "start_time": "2024-05-24T13:31:48.034849Z"
    }
   },
   "cell_type": "code",
   "source": [
    "%%capture\n",
    "trainer.fit(model, datamodule=datamodule)"
   ],
   "execution_count": 44,
   "outputs": []
  },
  {
   "metadata": {
    "ExecuteTime": {
     "end_time": "2024-05-24T13:41:12.388643Z",
     "start_time": "2024-05-24T13:41:11.594061Z"
    }
   },
   "cell_type": "code",
   "source": "pred = trainer.test(model, datamodule=datamodule, ckpt_path='best')",
   "execution_count": 45,
   "outputs": []
  },
  {
   "metadata": {},
   "cell_type": "markdown",
   "source": "## Only LSTM"
  },
  {
   "metadata": {
    "ExecuteTime": {
     "end_time": "2024-05-24T08:37:03.255282Z",
     "start_time": "2024-05-24T08:37:02.730379Z"
    }
   },
   "cell_type": "code",
   "source": [
    "# Select hyperparameters of trainer!\n",
    "checkpoint_callback = ModelCheckpoint(monitor=\"val_loss\")\n",
    "trainer = Trainer(min_epochs=1, max_epochs=150, callbacks=[checkpoint_callback])\n",
    "datamodule = TurbofanDatamodule()\n",
    "datamodule.set_train_dataset(X_train, y_train)\n",
    "datamodule.set_val_dataset(X_val, y_val)\n",
    "datamodule.set_predict_dataset(X_test)\n",
    "datamodule.set_test_dataset(X_test, y_test)\n",
    "model = LSTMModel(lr=0.0001, window_size=window_size, dropout_rate=0.2)"
   ],
   "execution_count": 71,
   "outputs": []
  },
  {
   "metadata": {
    "ExecuteTime": {
     "end_time": "2024-05-24T08:17:11.276790Z",
     "start_time": "2024-05-24T08:00:26.838956Z"
    }
   },
   "cell_type": "code",
   "source": [
    "%%capture\n",
    "trainer.fit(model, datamodule=datamodule)"
   ],
   "execution_count": 64,
   "outputs": []
  },
  {
   "metadata": {
    "ExecuteTime": {
     "end_time": "2024-05-24T08:17:11.853275Z",
     "start_time": "2024-05-24T08:17:11.278790Z"
    }
   },
   "cell_type": "code",
   "source": "pred = trainer.test(model, datamodule=datamodule, ckpt_path='best')",
   "execution_count": 65,
   "outputs": []
  },
  {
   "metadata": {},
   "cell_type": "code",
   "execution_count": null,
   "source": "",
   "outputs": []
  }
 ],
 "metadata": {
  "kernelspec": {
   "display_name": "Python 3",
   "language": "python",
   "name": "python3"
  },
  "language_info": {
   "codemirror_mode": {
    "name": "ipython",
    "version": 2
   },
   "file_extension": ".py",
   "mimetype": "text/x-python",
   "name": "python",
   "nbconvert_exporter": "python",
   "pygments_lexer": "ipython2",
   "version": "2.7.6"
  }
 },
 "nbformat": 4,
 "nbformat_minor": 0
}
