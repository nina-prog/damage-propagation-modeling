{
 "cells": [
  {
   "cell_type": "code",
   "execution_count": 1,
   "outputs": [],
   "source": [
    "%load_ext autoreload\n",
    "%autoreload 2"
   ],
   "metadata": {
    "collapsed": false,
    "ExecuteTime": {
     "end_time": "2024-05-30T20:45:59.948819Z",
     "start_time": "2024-05-30T20:45:59.691665600Z"
    }
   }
  },
  {
   "cell_type": "code",
   "execution_count": 2,
   "outputs": [],
   "source": [
    "%matplotlib inline\n",
    "%config InlineBackend.figure_format = 'retina'"
   ],
   "metadata": {
    "collapsed": false,
    "ExecuteTime": {
     "end_time": "2024-05-30T20:45:59.948819Z",
     "start_time": "2024-05-30T20:45:59.786084800Z"
    }
   }
  },
  {
   "cell_type": "markdown",
   "source": [
    "# Topic: EX2 - Turbofan RUL Prediction\n",
    "**Task**: Predict the remaining useful life (RUL) of turbofan engines based on given sensor data (time series data). It is a regression problem.\n",
    "**Data**: Turbofan engine degradation simulation data (NASA) - [Link](https://data.nasa.gov/dataset/Turbofan-Engine-Degradation-Simulation-Data-Set/vrks-gjie). See also in the topic [introduction notebook](https://github.com/nina-prog/damage-propagation-modeling/blob/2fb8c1a1102a48d7abbf04e4031807790a913a99/notebooks/Turbofan%20remaining%20useful%20life%20Prediction.ipynb).\n",
    "\n",
    "**Subtasks**:\n",
    "1. Perform a deep **exploratory data analysis (EDA)** on the given data.\n",
    "2. Implement a more efficient **sliding window method** for time series data analysis. -> 🎯 **Focus on this task**\n",
    "3. Apply **traditional machine learning methods** (SOTA) to predict the remaining useful life. Includes data preparation, feature extraction, feature selection, model selection, and model parameter optimization.\n",
    "4. Create **neural network models** to predict the remaining useful life. Includes different architectures like Convolutional Neural Networks (CNN), Recurrent Neural Networks (RNN), or Attention Models. Note: You can search for SOTA research papers and reproduce current state-of-the-art models.\n"
   ],
   "metadata": {
    "collapsed": false
   }
  },
  {
   "cell_type": "markdown",
   "source": [
    "# Imports + Settings"
   ],
   "metadata": {
    "collapsed": false
   }
  },
  {
   "cell_type": "code",
   "execution_count": 1,
   "outputs": [],
   "source": [
    "# third-party libraries\n",
    "import numpy as np\n",
    "import os\n",
    "import seaborn as sns\n",
    "import matplotlib.pyplot as plt\n",
    "\n",
    "from tsfresh import extract_features\n",
    "from tsfresh.utilities.dataframe_functions import roll_time_series, impute\n",
    "from tsfresh.feature_extraction import MinimalFCParameters"
   ],
   "metadata": {
    "collapsed": false,
    "ExecuteTime": {
     "end_time": "2024-05-31T20:33:37.812779200Z",
     "start_time": "2024-05-31T20:33:36.771080400Z"
    }
   }
  },
  {
   "cell_type": "code",
   "execution_count": 3,
   "outputs": [],
   "source": [
    "# source code\n",
    "from src.data_loading import load_data, load_config\n",
    "from src.rolling_window_creator import calculate_RUL"
   ],
   "metadata": {
    "collapsed": false,
    "ExecuteTime": {
     "end_time": "2024-05-31T20:43:06.481396800Z",
     "start_time": "2024-05-31T20:43:06.437211700Z"
    }
   }
  },
  {
   "cell_type": "code",
   "execution_count": 5,
   "outputs": [],
   "source": [
    "# settings\n",
    "sns.set_style(\"whitegrid\")\n",
    "sns.set_palette(\"Set2\")\n",
    "sns.set(rc={\"figure.dpi\":100, 'savefig.dpi':200})\n",
    "sns.set_context('notebook')"
   ],
   "metadata": {
    "collapsed": false,
    "ExecuteTime": {
     "end_time": "2024-05-30T20:46:00.727381Z",
     "start_time": "2024-05-30T20:46:00.648494200Z"
    }
   }
  },
  {
   "cell_type": "code",
   "execution_count": 6,
   "outputs": [],
   "source": [
    "np.random.seed(42)"
   ],
   "metadata": {
    "collapsed": false,
    "ExecuteTime": {
     "end_time": "2024-05-30T20:46:00.790156700Z",
     "start_time": "2024-05-30T20:46:00.727381Z"
    }
   }
  },
  {
   "cell_type": "markdown",
   "source": [
    "# Paths"
   ],
   "metadata": {
    "collapsed": false
   }
  },
  {
   "cell_type": "code",
   "execution_count": 7,
   "outputs": [],
   "source": [
    "os.chdir(\"../\") # set working directory to root of project\n",
    "#os.getcwd() # check current working directory"
   ],
   "metadata": {
    "collapsed": false,
    "ExecuteTime": {
     "end_time": "2024-05-30T20:46:00.847323700Z",
     "start_time": "2024-05-30T20:46:00.790156700Z"
    }
   }
  },
  {
   "cell_type": "code",
   "execution_count": 8,
   "outputs": [],
   "source": [
    "PATH_TO_CONFIG = \"configs/config.yaml\""
   ],
   "metadata": {
    "collapsed": false,
    "ExecuteTime": {
     "end_time": "2024-05-30T20:46:00.925850400Z",
     "start_time": "2024-05-30T20:46:00.847323700Z"
    }
   }
  },
  {
   "cell_type": "markdown",
   "source": [
    "# Load Config + Data"
   ],
   "metadata": {
    "collapsed": false
   }
  },
  {
   "cell_type": "code",
   "execution_count": 9,
   "outputs": [],
   "source": [
    "config = load_config(PATH_TO_CONFIG) # config is dict"
   ],
   "metadata": {
    "collapsed": false,
    "ExecuteTime": {
     "end_time": "2024-05-30T20:46:01.008774800Z",
     "start_time": "2024-05-30T20:46:00.925850400Z"
    }
   }
  },
  {
   "cell_type": "code",
   "execution_count": 10,
   "outputs": [
    {
     "name": "stdout",
     "output_type": "stream",
     "text": [
      "2024-05-30 22:46:01 [\u001B[34msrc.data_loading:43\u001B[0m] [\u001B[32mINFO\u001B[0m] >>>> Loading data set 1...\u001B[0m\n",
      "2024-05-30 22:46:01 [\u001B[34msrc.data_loading:72\u001B[0m] [\u001B[32mINFO\u001B[0m] >>>> Loaded raw data for dataset 1.\u001B[0m\n",
      "2024-05-30 22:46:01 [\u001B[34msrc.data_loading:73\u001B[0m] [\u001B[32mINFO\u001B[0m] >>>> Train Data: (20631, 26)\u001B[0m\n",
      "2024-05-30 22:46:01 [\u001B[34msrc.data_loading:74\u001B[0m] [\u001B[32mINFO\u001B[0m] >>>> Test Data: (13096, 26)\u001B[0m\n",
      "2024-05-30 22:46:01 [\u001B[34msrc.data_loading:75\u001B[0m] [\u001B[32mINFO\u001B[0m] >>>> Test RUL Data: (100, 1)\u001B[0m\n"
     ]
    }
   ],
   "source": [
    "train_data, test_data, test_RUL_data = load_data(config_path=PATH_TO_CONFIG, dataset_num=1)"
   ],
   "metadata": {
    "collapsed": false,
    "ExecuteTime": {
     "end_time": "2024-05-30T20:46:01.424984400Z",
     "start_time": "2024-05-30T20:46:01.008774800Z"
    }
   }
  },
  {
   "cell_type": "markdown",
   "source": [
    "# 📍 Subtask 2: Sliding Window Method"
   ],
   "metadata": {
    "collapsed": false
   }
  },
  {
   "cell_type": "markdown",
   "source": [
    "---\n",
    "# Variant 1: Linear Degradation Model"
   ],
   "metadata": {
    "collapsed": false
   }
  },
  {
   "cell_type": "markdown",
   "source": [
    "Note:\n",
    "* In training however, we need multiple examples to train. If we would only use the time series until today we would only have a single training example. Therefore, we use a trick: we replay the history.\n",
    "* At each time step $t$, you treat the data as it would be today. You extract the features with everything you know until today (which is all data until and including $t$). The target for the features until time $t$ is the time value of time t (which we already know, because everything has already happened).\n",
    "* The process of window-sliding is implemented in the function `roll_time_series`. Our window size will be 20 (we look at max 20 days in the past) and we disregard all windows which are shorter than 5 days.\n",
    "\n",
    "Generating Data to train involves the following steps:\n",
    "1. Generate rolling windows of size k (e.g. 20) from the time series data. It means that we take the last k time periods as relevant features, including the current time period. The target is then the one of the last included time step (no forcasting in our case!).\n",
    "2. Extract features from the rolling windows. This can be as simple as taking the mean of the last k days, or more complex features like the slope of a linear regression. --> The data would then be of size (n_samples/k, n_features) and the target (n_samples/k, 1), this for every potential subgroup\n",
    "\n",
    "Visualization of the applied sliding window approach:\n",
    "<img src=\"../images/sliding_window_variant1.jpg\" alt=\"Visualization of the applied sliding window approach\" width=\"1000\"/>\n"
   ],
   "metadata": {
    "collapsed": false
   }
  },
  {
   "cell_type": "markdown",
   "source": [
    "## 1. Generate rolling windows"
   ],
   "metadata": {
    "collapsed": false
   }
  },
  {
   "cell_type": "code",
   "execution_count": 23,
   "outputs": [],
   "source": [
    "# define window size\n",
    "# with min_k every window with fewer values than this are not used\n",
    "MAX_K = 20\n",
    "MIN_K = 20"
   ],
   "metadata": {
    "collapsed": false,
    "ExecuteTime": {
     "end_time": "2024-05-30T20:48:22.725915600Z",
     "start_time": "2024-05-30T20:48:22.634083300Z"
    }
   }
  },
  {
   "cell_type": "markdown",
   "source": [
    "Given a k=20 the roll time series function also includes the k+1 data, so we use a downgrade of -1 for the timeshift parameter. It has to be used in this function because the maximum timeshift when expecting a window of size 20 (max_window_size) has to be 19, since the current cycle is also included in the window and counts as a time step itself in the window."
   ],
   "metadata": {
    "collapsed": false
   }
  },
  {
   "cell_type": "code",
   "execution_count": 24,
   "outputs": [
    {
     "name": "stderr",
     "output_type": "stream",
     "text": [
      "Rolling: 100%|██████████| 37/37 [00:04<00:00,  7.56it/s]\n"
     ]
    },
    {
     "name": "stdout",
     "output_type": "stream",
     "text": [
      "CPU times: total: 359 ms\n",
      "Wall time: 5.32 s\n"
     ]
    }
   ],
   "source": [
    "%%time\n",
    "# generate rolling windows\n",
    "train_data_rolled = roll_time_series(train_data, column_id=\"UnitNumber\", column_sort=\"Cycle\", max_timeshift=MAX_K-1, min_timeshift=MIN_K-1)"
   ],
   "metadata": {
    "collapsed": false,
    "ExecuteTime": {
     "end_time": "2024-05-30T20:48:29.810603100Z",
     "start_time": "2024-05-30T20:48:24.378248400Z"
    }
   }
  },
  {
   "cell_type": "code",
   "execution_count": 25,
   "outputs": [
    {
     "data": {
      "text/plain": "   UnitNumber  Cycle  Operation Setting 1  Operation Setting 2  \\\n0           1      1              -0.0007              -0.0004   \n1           1      2               0.0019              -0.0003   \n2           1      3              -0.0043               0.0003   \n3           1      4               0.0007               0.0000   \n4           1      5              -0.0019              -0.0002   \n\n   Operation Setting 3  Sensor Measure 1  Sensor Measure 2  Sensor Measure 3  \\\n0                100.0            518.67            641.82           1589.70   \n1                100.0            518.67            642.15           1591.82   \n2                100.0            518.67            642.35           1587.99   \n3                100.0            518.67            642.35           1582.79   \n4                100.0            518.67            642.37           1582.85   \n\n   Sensor Measure 4  Sensor Measure 5  ...  Sensor Measure 13  \\\n0           1400.60             14.62  ...            2388.02   \n1           1403.14             14.62  ...            2388.07   \n2           1404.20             14.62  ...            2388.03   \n3           1401.87             14.62  ...            2388.08   \n4           1406.22             14.62  ...            2388.04   \n\n   Sensor Measure 14  Sensor Measure 15  Sensor Measure 16  Sensor Measure 17  \\\n0            8138.62             8.4195               0.03                392   \n1            8131.49             8.4318               0.03                392   \n2            8133.23             8.4178               0.03                390   \n3            8133.83             8.3682               0.03                392   \n4            8133.80             8.4294               0.03                393   \n\n   Sensor Measure 18  Sensor Measure 19  Sensor Measure 20  Sensor Measure 21  \\\n0               2388              100.0              39.06            23.4190   \n1               2388              100.0              39.00            23.4236   \n2               2388              100.0              38.95            23.3442   \n3               2388              100.0              38.88            23.3739   \n4               2388              100.0              38.90            23.4044   \n\n        id  \n0  (1, 20)  \n1  (1, 20)  \n2  (1, 20)  \n3  (1, 20)  \n4  (1, 20)  \n\n[5 rows x 27 columns]",
      "text/html": "<div>\n<style scoped>\n    .dataframe tbody tr th:only-of-type {\n        vertical-align: middle;\n    }\n\n    .dataframe tbody tr th {\n        vertical-align: top;\n    }\n\n    .dataframe thead th {\n        text-align: right;\n    }\n</style>\n<table border=\"1\" class=\"dataframe\">\n  <thead>\n    <tr style=\"text-align: right;\">\n      <th></th>\n      <th>UnitNumber</th>\n      <th>Cycle</th>\n      <th>Operation Setting 1</th>\n      <th>Operation Setting 2</th>\n      <th>Operation Setting 3</th>\n      <th>Sensor Measure 1</th>\n      <th>Sensor Measure 2</th>\n      <th>Sensor Measure 3</th>\n      <th>Sensor Measure 4</th>\n      <th>Sensor Measure 5</th>\n      <th>...</th>\n      <th>Sensor Measure 13</th>\n      <th>Sensor Measure 14</th>\n      <th>Sensor Measure 15</th>\n      <th>Sensor Measure 16</th>\n      <th>Sensor Measure 17</th>\n      <th>Sensor Measure 18</th>\n      <th>Sensor Measure 19</th>\n      <th>Sensor Measure 20</th>\n      <th>Sensor Measure 21</th>\n      <th>id</th>\n    </tr>\n  </thead>\n  <tbody>\n    <tr>\n      <th>0</th>\n      <td>1</td>\n      <td>1</td>\n      <td>-0.0007</td>\n      <td>-0.0004</td>\n      <td>100.0</td>\n      <td>518.67</td>\n      <td>641.82</td>\n      <td>1589.70</td>\n      <td>1400.60</td>\n      <td>14.62</td>\n      <td>...</td>\n      <td>2388.02</td>\n      <td>8138.62</td>\n      <td>8.4195</td>\n      <td>0.03</td>\n      <td>392</td>\n      <td>2388</td>\n      <td>100.0</td>\n      <td>39.06</td>\n      <td>23.4190</td>\n      <td>(1, 20)</td>\n    </tr>\n    <tr>\n      <th>1</th>\n      <td>1</td>\n      <td>2</td>\n      <td>0.0019</td>\n      <td>-0.0003</td>\n      <td>100.0</td>\n      <td>518.67</td>\n      <td>642.15</td>\n      <td>1591.82</td>\n      <td>1403.14</td>\n      <td>14.62</td>\n      <td>...</td>\n      <td>2388.07</td>\n      <td>8131.49</td>\n      <td>8.4318</td>\n      <td>0.03</td>\n      <td>392</td>\n      <td>2388</td>\n      <td>100.0</td>\n      <td>39.00</td>\n      <td>23.4236</td>\n      <td>(1, 20)</td>\n    </tr>\n    <tr>\n      <th>2</th>\n      <td>1</td>\n      <td>3</td>\n      <td>-0.0043</td>\n      <td>0.0003</td>\n      <td>100.0</td>\n      <td>518.67</td>\n      <td>642.35</td>\n      <td>1587.99</td>\n      <td>1404.20</td>\n      <td>14.62</td>\n      <td>...</td>\n      <td>2388.03</td>\n      <td>8133.23</td>\n      <td>8.4178</td>\n      <td>0.03</td>\n      <td>390</td>\n      <td>2388</td>\n      <td>100.0</td>\n      <td>38.95</td>\n      <td>23.3442</td>\n      <td>(1, 20)</td>\n    </tr>\n    <tr>\n      <th>3</th>\n      <td>1</td>\n      <td>4</td>\n      <td>0.0007</td>\n      <td>0.0000</td>\n      <td>100.0</td>\n      <td>518.67</td>\n      <td>642.35</td>\n      <td>1582.79</td>\n      <td>1401.87</td>\n      <td>14.62</td>\n      <td>...</td>\n      <td>2388.08</td>\n      <td>8133.83</td>\n      <td>8.3682</td>\n      <td>0.03</td>\n      <td>392</td>\n      <td>2388</td>\n      <td>100.0</td>\n      <td>38.88</td>\n      <td>23.3739</td>\n      <td>(1, 20)</td>\n    </tr>\n    <tr>\n      <th>4</th>\n      <td>1</td>\n      <td>5</td>\n      <td>-0.0019</td>\n      <td>-0.0002</td>\n      <td>100.0</td>\n      <td>518.67</td>\n      <td>642.37</td>\n      <td>1582.85</td>\n      <td>1406.22</td>\n      <td>14.62</td>\n      <td>...</td>\n      <td>2388.04</td>\n      <td>8133.80</td>\n      <td>8.4294</td>\n      <td>0.03</td>\n      <td>393</td>\n      <td>2388</td>\n      <td>100.0</td>\n      <td>38.90</td>\n      <td>23.4044</td>\n      <td>(1, 20)</td>\n    </tr>\n  </tbody>\n</table>\n<p>5 rows × 27 columns</p>\n</div>"
     },
     "execution_count": 25,
     "metadata": {},
     "output_type": "execute_result"
    }
   ],
   "source": [
    "train_data_rolled.head(5)"
   ],
   "metadata": {
    "collapsed": false,
    "ExecuteTime": {
     "end_time": "2024-05-30T20:48:32.736479500Z",
     "start_time": "2024-05-30T20:48:32.626679700Z"
    }
   }
  },
  {
   "cell_type": "code",
   "execution_count": 38,
   "outputs": [
    {
     "name": "stdout",
     "output_type": "stream",
     "text": [
      "Number of windows to be generated: 18731\n",
      "Number of windows actually generated: 18731\n"
     ]
    }
   ],
   "source": [
    "# count number of windows to be generated, by logic\n",
    "num_units = train_data[\"UnitNumber\"].nunique()\n",
    "window_count = 0\n",
    "for i in range(1, num_units+1):\n",
    "    # number of possible \"window starting points\" for each unit\n",
    "    window_count += train_data[train_data[\"UnitNumber\"] == i].shape[0] - MAX_K + 1\n",
    "print(f\"Number of windows to be generated: {window_count}\")\n",
    "# actual number of windows generated\n",
    "print(f\"Number of windows actually generated: {train_data_rolled['id'].nunique()}\")"
   ],
   "metadata": {
    "collapsed": false,
    "ExecuteTime": {
     "end_time": "2024-05-30T21:05:12.583508Z",
     "start_time": "2024-05-30T21:05:12.461419500Z"
    }
   }
  },
  {
   "cell_type": "markdown",
   "source": [
    "Findings:\n",
    "* **Function Result**: New column `id` is generated, representing a **window id**. It is a tuple of the **`UnitNumber` (certain group)** and the **ending `Cycle` (ending time step)**.\n",
    "* **Example**: Data with the `id` (1, 40) contains the original data of `UnitNumber` 1 of the last 20 `Cycle` steps including `Cycle` 40."
   ],
   "metadata": {
    "collapsed": false
   }
  },
  {
   "cell_type": "code",
   "execution_count": 14,
   "outputs": [
    {
     "name": "stdout",
     "output_type": "stream",
     "text": [
      "(20, 27)\n"
     ]
    },
    {
     "data": {
      "text/plain": "       UnitNumber  Cycle  Operation Setting 1  Operation Setting 2  \\\n62000           1     21              -0.0012               0.0001   \n62001           1     22               0.0002               0.0000   \n62002           1     23               0.0034              -0.0003   \n62003           1     24              -0.0010               0.0003   \n62004           1     25               0.0023              -0.0004   \n\n       Operation Setting 3  Sensor Measure 1  Sensor Measure 2  \\\n62000                100.0            518.67            642.37   \n62001                100.0            518.67            642.77   \n62002                100.0            518.67            642.14   \n62003                100.0            518.67            642.38   \n62004                100.0            518.67            642.77   \n\n       Sensor Measure 3  Sensor Measure 4  Sensor Measure 5  ...  \\\n62000           1586.07           1398.13             14.62  ...   \n62001           1592.93           1400.57             14.62  ...   \n62002           1588.19           1394.75             14.62  ...   \n62003           1590.83           1398.81             14.62  ...   \n62004           1594.10           1399.39             14.62  ...   \n\n       Sensor Measure 13  Sensor Measure 14  Sensor Measure 15  \\\n62000            2388.08            8134.02             8.4049   \n62001            2388.03            8130.41             8.4034   \n62002            2388.05            8127.90             8.4240   \n62003            2388.03            8133.88             8.3891   \n62004            2388.02            8136.61             8.3917   \n\n       Sensor Measure 16  Sensor Measure 17  Sensor Measure 18  \\\n62000               0.03                392               2388   \n62001               0.03                392               2388   \n62002               0.03                392               2388   \n62003               0.03                392               2388   \n62004               0.03                393               2388   \n\n       Sensor Measure 19  Sensor Measure 20  Sensor Measure 21       id  \n62000              100.0              39.09            23.3101  (1, 40)  \n62001              100.0              38.92            23.3792  (1, 40)  \n62002              100.0              38.94            23.4562  (1, 40)  \n62003              100.0              39.00            23.3696  (1, 40)  \n62004              100.0              38.95            23.4288  (1, 40)  \n\n[5 rows x 27 columns]",
      "text/html": "<div>\n<style scoped>\n    .dataframe tbody tr th:only-of-type {\n        vertical-align: middle;\n    }\n\n    .dataframe tbody tr th {\n        vertical-align: top;\n    }\n\n    .dataframe thead th {\n        text-align: right;\n    }\n</style>\n<table border=\"1\" class=\"dataframe\">\n  <thead>\n    <tr style=\"text-align: right;\">\n      <th></th>\n      <th>UnitNumber</th>\n      <th>Cycle</th>\n      <th>Operation Setting 1</th>\n      <th>Operation Setting 2</th>\n      <th>Operation Setting 3</th>\n      <th>Sensor Measure 1</th>\n      <th>Sensor Measure 2</th>\n      <th>Sensor Measure 3</th>\n      <th>Sensor Measure 4</th>\n      <th>Sensor Measure 5</th>\n      <th>...</th>\n      <th>Sensor Measure 13</th>\n      <th>Sensor Measure 14</th>\n      <th>Sensor Measure 15</th>\n      <th>Sensor Measure 16</th>\n      <th>Sensor Measure 17</th>\n      <th>Sensor Measure 18</th>\n      <th>Sensor Measure 19</th>\n      <th>Sensor Measure 20</th>\n      <th>Sensor Measure 21</th>\n      <th>id</th>\n    </tr>\n  </thead>\n  <tbody>\n    <tr>\n      <th>62000</th>\n      <td>1</td>\n      <td>21</td>\n      <td>-0.0012</td>\n      <td>0.0001</td>\n      <td>100.0</td>\n      <td>518.67</td>\n      <td>642.37</td>\n      <td>1586.07</td>\n      <td>1398.13</td>\n      <td>14.62</td>\n      <td>...</td>\n      <td>2388.08</td>\n      <td>8134.02</td>\n      <td>8.4049</td>\n      <td>0.03</td>\n      <td>392</td>\n      <td>2388</td>\n      <td>100.0</td>\n      <td>39.09</td>\n      <td>23.3101</td>\n      <td>(1, 40)</td>\n    </tr>\n    <tr>\n      <th>62001</th>\n      <td>1</td>\n      <td>22</td>\n      <td>0.0002</td>\n      <td>0.0000</td>\n      <td>100.0</td>\n      <td>518.67</td>\n      <td>642.77</td>\n      <td>1592.93</td>\n      <td>1400.57</td>\n      <td>14.62</td>\n      <td>...</td>\n      <td>2388.03</td>\n      <td>8130.41</td>\n      <td>8.4034</td>\n      <td>0.03</td>\n      <td>392</td>\n      <td>2388</td>\n      <td>100.0</td>\n      <td>38.92</td>\n      <td>23.3792</td>\n      <td>(1, 40)</td>\n    </tr>\n    <tr>\n      <th>62002</th>\n      <td>1</td>\n      <td>23</td>\n      <td>0.0034</td>\n      <td>-0.0003</td>\n      <td>100.0</td>\n      <td>518.67</td>\n      <td>642.14</td>\n      <td>1588.19</td>\n      <td>1394.75</td>\n      <td>14.62</td>\n      <td>...</td>\n      <td>2388.05</td>\n      <td>8127.90</td>\n      <td>8.4240</td>\n      <td>0.03</td>\n      <td>392</td>\n      <td>2388</td>\n      <td>100.0</td>\n      <td>38.94</td>\n      <td>23.4562</td>\n      <td>(1, 40)</td>\n    </tr>\n    <tr>\n      <th>62003</th>\n      <td>1</td>\n      <td>24</td>\n      <td>-0.0010</td>\n      <td>0.0003</td>\n      <td>100.0</td>\n      <td>518.67</td>\n      <td>642.38</td>\n      <td>1590.83</td>\n      <td>1398.81</td>\n      <td>14.62</td>\n      <td>...</td>\n      <td>2388.03</td>\n      <td>8133.88</td>\n      <td>8.3891</td>\n      <td>0.03</td>\n      <td>392</td>\n      <td>2388</td>\n      <td>100.0</td>\n      <td>39.00</td>\n      <td>23.3696</td>\n      <td>(1, 40)</td>\n    </tr>\n    <tr>\n      <th>62004</th>\n      <td>1</td>\n      <td>25</td>\n      <td>0.0023</td>\n      <td>-0.0004</td>\n      <td>100.0</td>\n      <td>518.67</td>\n      <td>642.77</td>\n      <td>1594.10</td>\n      <td>1399.39</td>\n      <td>14.62</td>\n      <td>...</td>\n      <td>2388.02</td>\n      <td>8136.61</td>\n      <td>8.3917</td>\n      <td>0.03</td>\n      <td>393</td>\n      <td>2388</td>\n      <td>100.0</td>\n      <td>38.95</td>\n      <td>23.4288</td>\n      <td>(1, 40)</td>\n    </tr>\n  </tbody>\n</table>\n<p>5 rows × 27 columns</p>\n</div>"
     },
     "metadata": {},
     "output_type": "display_data"
    },
    {
     "name": "stdout",
     "output_type": "stream",
     "text": [
      "(21, 26)\n"
     ]
    },
    {
     "data": {
      "text/plain": "    UnitNumber  Cycle  Operation Setting 1  Operation Setting 2  \\\n19           1     20              -0.0037               0.0001   \n20           1     21              -0.0012               0.0001   \n21           1     22               0.0002               0.0000   \n22           1     23               0.0034              -0.0003   \n23           1     24              -0.0010               0.0003   \n\n    Operation Setting 3  Sensor Measure 1  Sensor Measure 2  Sensor Measure 3  \\\n19                100.0            518.67            643.04           1581.11   \n20                100.0            518.67            642.37           1586.07   \n21                100.0            518.67            642.77           1592.93   \n22                100.0            518.67            642.14           1588.19   \n23                100.0            518.67            642.38           1590.83   \n\n    Sensor Measure 4  Sensor Measure 5  ...  Sensor Measure 12  \\\n19           1405.23             14.62  ...             522.07   \n20           1398.13             14.62  ...             522.42   \n21           1400.57             14.62  ...             522.00   \n22           1394.75             14.62  ...             521.52   \n23           1398.81             14.62  ...             522.13   \n\n    Sensor Measure 13  Sensor Measure 14  Sensor Measure 15  \\\n19            2388.02            8129.71             8.4210   \n20            2388.08            8134.02             8.4049   \n21            2388.03            8130.41             8.4034   \n22            2388.05            8127.90             8.4240   \n23            2388.03            8133.88             8.3891   \n\n    Sensor Measure 16  Sensor Measure 17  Sensor Measure 18  \\\n19               0.03                392               2388   \n20               0.03                392               2388   \n21               0.03                392               2388   \n22               0.03                392               2388   \n23               0.03                392               2388   \n\n    Sensor Measure 19  Sensor Measure 20  Sensor Measure 21  \n19              100.0              39.03            23.4220  \n20              100.0              39.09            23.3101  \n21              100.0              38.92            23.3792  \n22              100.0              38.94            23.4562  \n23              100.0              39.00            23.3696  \n\n[5 rows x 26 columns]",
      "text/html": "<div>\n<style scoped>\n    .dataframe tbody tr th:only-of-type {\n        vertical-align: middle;\n    }\n\n    .dataframe tbody tr th {\n        vertical-align: top;\n    }\n\n    .dataframe thead th {\n        text-align: right;\n    }\n</style>\n<table border=\"1\" class=\"dataframe\">\n  <thead>\n    <tr style=\"text-align: right;\">\n      <th></th>\n      <th>UnitNumber</th>\n      <th>Cycle</th>\n      <th>Operation Setting 1</th>\n      <th>Operation Setting 2</th>\n      <th>Operation Setting 3</th>\n      <th>Sensor Measure 1</th>\n      <th>Sensor Measure 2</th>\n      <th>Sensor Measure 3</th>\n      <th>Sensor Measure 4</th>\n      <th>Sensor Measure 5</th>\n      <th>...</th>\n      <th>Sensor Measure 12</th>\n      <th>Sensor Measure 13</th>\n      <th>Sensor Measure 14</th>\n      <th>Sensor Measure 15</th>\n      <th>Sensor Measure 16</th>\n      <th>Sensor Measure 17</th>\n      <th>Sensor Measure 18</th>\n      <th>Sensor Measure 19</th>\n      <th>Sensor Measure 20</th>\n      <th>Sensor Measure 21</th>\n    </tr>\n  </thead>\n  <tbody>\n    <tr>\n      <th>19</th>\n      <td>1</td>\n      <td>20</td>\n      <td>-0.0037</td>\n      <td>0.0001</td>\n      <td>100.0</td>\n      <td>518.67</td>\n      <td>643.04</td>\n      <td>1581.11</td>\n      <td>1405.23</td>\n      <td>14.62</td>\n      <td>...</td>\n      <td>522.07</td>\n      <td>2388.02</td>\n      <td>8129.71</td>\n      <td>8.4210</td>\n      <td>0.03</td>\n      <td>392</td>\n      <td>2388</td>\n      <td>100.0</td>\n      <td>39.03</td>\n      <td>23.4220</td>\n    </tr>\n    <tr>\n      <th>20</th>\n      <td>1</td>\n      <td>21</td>\n      <td>-0.0012</td>\n      <td>0.0001</td>\n      <td>100.0</td>\n      <td>518.67</td>\n      <td>642.37</td>\n      <td>1586.07</td>\n      <td>1398.13</td>\n      <td>14.62</td>\n      <td>...</td>\n      <td>522.42</td>\n      <td>2388.08</td>\n      <td>8134.02</td>\n      <td>8.4049</td>\n      <td>0.03</td>\n      <td>392</td>\n      <td>2388</td>\n      <td>100.0</td>\n      <td>39.09</td>\n      <td>23.3101</td>\n    </tr>\n    <tr>\n      <th>21</th>\n      <td>1</td>\n      <td>22</td>\n      <td>0.0002</td>\n      <td>0.0000</td>\n      <td>100.0</td>\n      <td>518.67</td>\n      <td>642.77</td>\n      <td>1592.93</td>\n      <td>1400.57</td>\n      <td>14.62</td>\n      <td>...</td>\n      <td>522.00</td>\n      <td>2388.03</td>\n      <td>8130.41</td>\n      <td>8.4034</td>\n      <td>0.03</td>\n      <td>392</td>\n      <td>2388</td>\n      <td>100.0</td>\n      <td>38.92</td>\n      <td>23.3792</td>\n    </tr>\n    <tr>\n      <th>22</th>\n      <td>1</td>\n      <td>23</td>\n      <td>0.0034</td>\n      <td>-0.0003</td>\n      <td>100.0</td>\n      <td>518.67</td>\n      <td>642.14</td>\n      <td>1588.19</td>\n      <td>1394.75</td>\n      <td>14.62</td>\n      <td>...</td>\n      <td>521.52</td>\n      <td>2388.05</td>\n      <td>8127.90</td>\n      <td>8.4240</td>\n      <td>0.03</td>\n      <td>392</td>\n      <td>2388</td>\n      <td>100.0</td>\n      <td>38.94</td>\n      <td>23.4562</td>\n    </tr>\n    <tr>\n      <th>23</th>\n      <td>1</td>\n      <td>24</td>\n      <td>-0.0010</td>\n      <td>0.0003</td>\n      <td>100.0</td>\n      <td>518.67</td>\n      <td>642.38</td>\n      <td>1590.83</td>\n      <td>1398.81</td>\n      <td>14.62</td>\n      <td>...</td>\n      <td>522.13</td>\n      <td>2388.03</td>\n      <td>8133.88</td>\n      <td>8.3891</td>\n      <td>0.03</td>\n      <td>392</td>\n      <td>2388</td>\n      <td>100.0</td>\n      <td>39.00</td>\n      <td>23.3696</td>\n    </tr>\n  </tbody>\n</table>\n<p>5 rows × 26 columns</p>\n</div>"
     },
     "metadata": {},
     "output_type": "display_data"
    }
   ],
   "source": [
    "# check if example interpretation is correct and if the window is generated correctly\n",
    "rolled_win = train_data_rolled[train_data_rolled[\"id\"] == (1, 40)]\n",
    "print(rolled_win.shape)\n",
    "display(rolled_win.head(5))\n",
    "\n",
    "original_win_data = train_data[(train_data[\"UnitNumber\"] == 1) &\n",
    "                               (train_data[\"Cycle\"] <= 40) &\n",
    "                               (train_data[\"Cycle\"] >= 40 - 20)]\n",
    "print(original_win_data.shape)\n",
    "display(original_win_data.head(5))"
   ],
   "metadata": {
    "collapsed": false
   }
  },
  {
   "cell_type": "code",
   "execution_count": 15,
   "outputs": [
    {
     "name": "stdout",
     "output_type": "stream",
     "text": [
      "Number of samples: 392120\n",
      "Number of unique windows: 20131\n",
      "Number of windows shorter than 5 days: 0\n",
      "Number of unique units: 100\n"
     ]
    }
   ],
   "source": [
    "print(f\"Number of samples: {train_data_rolled.shape[0]}\")\n",
    "print(f\"Number of unique windows: {train_data_rolled['id'].nunique()}\")\n",
    "print(f\"Number of windows shorter than 5 days: {train_data_rolled['id'].value_counts().loc[lambda x: x < MIN_K].sum()}\")\n",
    "print(f\"Number of unique units: {train_data_rolled['UnitNumber'].nunique()}\")"
   ],
   "metadata": {
    "collapsed": false
   }
  },
  {
   "cell_type": "code",
   "execution_count": 16,
   "outputs": [
    {
     "data": {
      "text/plain": "20    18731\n6       100\n7       100\n8       100\n9       100\n10      100\n11      100\n12      100\n13      100\n14      100\n15      100\n16      100\n17      100\n18      100\n19      100\nName: count, dtype: int64"
     },
     "execution_count": 16,
     "metadata": {},
     "output_type": "execute_result"
    }
   ],
   "source": [
    "# check windows sizes / lengths\n",
    "train_data_rolled.groupby(\"id\").size().value_counts()"
   ],
   "metadata": {
    "collapsed": false
   }
  },
  {
   "cell_type": "code",
   "execution_count": 17,
   "outputs": [],
   "source": [
    "# get list of features\n",
    "features = config[\"dataloading\"][\"features\"][\"operational_settings\"] + \\\n",
    "           config[\"dataloading\"][\"features\"][\"sensor_measure\"]"
   ],
   "metadata": {
    "collapsed": false
   }
  },
  {
   "cell_type": "markdown",
   "source": [
    "Findings:\n",
    "* The fact that there are always a number of 100 windows for each window size less than 20 and more than 5 indicates that there are 100 unique units in the data and that the windows are generated correctly."
   ],
   "metadata": {
    "collapsed": false
   }
  },
  {
   "cell_type": "markdown",
   "source": [
    "## 2. Extract Features\n",
    "Note:\n",
    "* We have many features and the `RUL` column is the target. so we thus need to extract features for each feature column in the window and then also get a y value for each window."
   ],
   "metadata": {
    "collapsed": false
   }
  },
  {
   "cell_type": "code",
   "execution_count": 18,
   "outputs": [
    {
     "name": "stderr",
     "output_type": "stream",
     "text": [
      "Feature Extraction: 100%|██████████| 40/40 [01:16<00:00,  1.91s/it]\n"
     ]
    },
    {
     "name": "stdout",
     "output_type": "stream",
     "text": [
      "CPU times: total: 30.9 s\n",
      "Wall time: 1min 27s\n"
     ]
    }
   ],
   "source": [
    "%%time\n",
    "# extract features - tsfresh\n",
    "X = extract_features(train_data_rolled.drop([\"UnitNumber\"], axis=1),\n",
    "                     column_id=\"id\", column_sort=\"Cycle\",\n",
    "                     default_fc_parameters=MinimalFCParameters(),\n",
    "                     impute_function=impute, show_warnings=False)\n",
    "# add index names\n",
    "X.index = X.index.rename([\"UnitNumber\", \"Cycle\"])"
   ],
   "metadata": {
    "collapsed": false
   }
  },
  {
   "cell_type": "code",
   "execution_count": 19,
   "outputs": [
    {
     "data": {
      "text/plain": "                  Operation Setting 1__sum_values  \\\nUnitNumber Cycle                                    \n1          6                              -0.0086   \n           7                              -0.0076   \n           8                              -0.0110   \n           9                              -0.0102   \n           10                             -0.0135   \n\n                  Operation Setting 1__median  Operation Setting 1__mean  \\\nUnitNumber Cycle                                                           \n1          6                          -0.0013                  -0.001433   \n           7                          -0.0007                  -0.001086   \n           8                          -0.0013                  -0.001375   \n           9                          -0.0007                  -0.001133   \n           10                         -0.0013                  -0.001350   \n\n                  Operation Setting 1__length  \\\nUnitNumber Cycle                                \n1          6                              6.0   \n           7                              7.0   \n           8                              8.0   \n           9                              9.0   \n           10                            10.0   \n\n                  Operation Setting 1__standard_deviation  \\\nUnitNumber Cycle                                            \n1          6                                     0.002340   \n           7                                     0.002328   \n           8                                     0.002308   \n           9                                     0.002281   \n           10                                    0.002259   \n\n                  Operation Setting 1__variance  \\\nUnitNumber Cycle                                  \n1          6                           0.000005   \n           7                           0.000005   \n           8                           0.000005   \n           9                           0.000005   \n           10                          0.000005   \n\n                  Operation Setting 1__root_mean_square  \\\nUnitNumber Cycle                                          \n1          6                                   0.002744   \n           7                                   0.002568   \n           8                                   0.002687   \n           9                                   0.002547   \n           10                                  0.002632   \n\n                  Operation Setting 1__maximum  \\\nUnitNumber Cycle                                 \n1          6                            0.0019   \n           7                            0.0019   \n           8                            0.0019   \n           9                            0.0019   \n           10                           0.0019   \n\n                  Operation Setting 1__absolute_maximum  \\\nUnitNumber Cycle                                          \n1          6                                     0.0043   \n           7                                     0.0043   \n           8                                     0.0043   \n           9                                     0.0043   \n           10                                    0.0043   \n\n                  Operation Setting 1__minimum  ...  \\\nUnitNumber Cycle                                ...   \n1          6                           -0.0043  ...   \n           7                           -0.0043  ...   \n           8                           -0.0043  ...   \n           9                           -0.0043  ...   \n           10                          -0.0043  ...   \n\n                  Sensor Measure 21__sum_values  Sensor Measure 21__median  \\\nUnitNumber Cycle                                                             \n1          6                           140.3320                   23.38915   \n           7                           163.7094                   23.37740   \n           8                           187.0200                   23.37565   \n           9                           210.4266                   23.37740   \n           10                          233.8960                   23.39090   \n\n                  Sensor Measure 21__mean  Sensor Measure 21__length  \\\nUnitNumber Cycle                                                       \n1          6                    23.388667                        6.0   \n           7                    23.387057                        7.0   \n           8                    23.377500                        8.0   \n           9                    23.380733                        9.0   \n           10                   23.389600                       10.0   \n\n                  Sensor Measure 21__standard_deviation  \\\nUnitNumber Cycle                                          \n1          6                                   0.029032   \n           7                                   0.027166   \n           8                                   0.035848   \n           9                                   0.035014   \n           10                                  0.042555   \n\n                  Sensor Measure 21__variance  \\\nUnitNumber Cycle                                \n1          6                         0.000843   \n           7                         0.000738   \n           8                         0.001285   \n           9                         0.001226   \n           10                        0.001811   \n\n                  Sensor Measure 21__root_mean_square  \\\nUnitNumber Cycle                                        \n1          6                                23.388685   \n           7                                23.387073   \n           8                                23.377527   \n           9                                23.380760   \n           10                               23.389639   \n\n                  Sensor Measure 21__maximum  \\\nUnitNumber Cycle                               \n1          6                         23.4236   \n           7                         23.4236   \n           8                         23.4236   \n           9                         23.4236   \n           10                        23.4694   \n\n                  Sensor Measure 21__absolute_maximum  \\\nUnitNumber Cycle                                        \n1          6                                  23.4236   \n           7                                  23.4236   \n           8                                  23.4236   \n           9                                  23.4236   \n           10                                 23.4694   \n\n                  Sensor Measure 21__minimum  \nUnitNumber Cycle                              \n1          6                         23.3442  \n           7                         23.3442  \n           8                         23.3106  \n           9                         23.3106  \n           10                        23.3106  \n\n[5 rows x 240 columns]",
      "text/html": "<div>\n<style scoped>\n    .dataframe tbody tr th:only-of-type {\n        vertical-align: middle;\n    }\n\n    .dataframe tbody tr th {\n        vertical-align: top;\n    }\n\n    .dataframe thead th {\n        text-align: right;\n    }\n</style>\n<table border=\"1\" class=\"dataframe\">\n  <thead>\n    <tr style=\"text-align: right;\">\n      <th></th>\n      <th></th>\n      <th>Operation Setting 1__sum_values</th>\n      <th>Operation Setting 1__median</th>\n      <th>Operation Setting 1__mean</th>\n      <th>Operation Setting 1__length</th>\n      <th>Operation Setting 1__standard_deviation</th>\n      <th>Operation Setting 1__variance</th>\n      <th>Operation Setting 1__root_mean_square</th>\n      <th>Operation Setting 1__maximum</th>\n      <th>Operation Setting 1__absolute_maximum</th>\n      <th>Operation Setting 1__minimum</th>\n      <th>...</th>\n      <th>Sensor Measure 21__sum_values</th>\n      <th>Sensor Measure 21__median</th>\n      <th>Sensor Measure 21__mean</th>\n      <th>Sensor Measure 21__length</th>\n      <th>Sensor Measure 21__standard_deviation</th>\n      <th>Sensor Measure 21__variance</th>\n      <th>Sensor Measure 21__root_mean_square</th>\n      <th>Sensor Measure 21__maximum</th>\n      <th>Sensor Measure 21__absolute_maximum</th>\n      <th>Sensor Measure 21__minimum</th>\n    </tr>\n    <tr>\n      <th>UnitNumber</th>\n      <th>Cycle</th>\n      <th></th>\n      <th></th>\n      <th></th>\n      <th></th>\n      <th></th>\n      <th></th>\n      <th></th>\n      <th></th>\n      <th></th>\n      <th></th>\n      <th></th>\n      <th></th>\n      <th></th>\n      <th></th>\n      <th></th>\n      <th></th>\n      <th></th>\n      <th></th>\n      <th></th>\n      <th></th>\n      <th></th>\n    </tr>\n  </thead>\n  <tbody>\n    <tr>\n      <th rowspan=\"5\" valign=\"top\">1</th>\n      <th>6</th>\n      <td>-0.0086</td>\n      <td>-0.0013</td>\n      <td>-0.001433</td>\n      <td>6.0</td>\n      <td>0.002340</td>\n      <td>0.000005</td>\n      <td>0.002744</td>\n      <td>0.0019</td>\n      <td>0.0043</td>\n      <td>-0.0043</td>\n      <td>...</td>\n      <td>140.3320</td>\n      <td>23.38915</td>\n      <td>23.388667</td>\n      <td>6.0</td>\n      <td>0.029032</td>\n      <td>0.000843</td>\n      <td>23.388685</td>\n      <td>23.4236</td>\n      <td>23.4236</td>\n      <td>23.3442</td>\n    </tr>\n    <tr>\n      <th>7</th>\n      <td>-0.0076</td>\n      <td>-0.0007</td>\n      <td>-0.001086</td>\n      <td>7.0</td>\n      <td>0.002328</td>\n      <td>0.000005</td>\n      <td>0.002568</td>\n      <td>0.0019</td>\n      <td>0.0043</td>\n      <td>-0.0043</td>\n      <td>...</td>\n      <td>163.7094</td>\n      <td>23.37740</td>\n      <td>23.387057</td>\n      <td>7.0</td>\n      <td>0.027166</td>\n      <td>0.000738</td>\n      <td>23.387073</td>\n      <td>23.4236</td>\n      <td>23.4236</td>\n      <td>23.3442</td>\n    </tr>\n    <tr>\n      <th>8</th>\n      <td>-0.0110</td>\n      <td>-0.0013</td>\n      <td>-0.001375</td>\n      <td>8.0</td>\n      <td>0.002308</td>\n      <td>0.000005</td>\n      <td>0.002687</td>\n      <td>0.0019</td>\n      <td>0.0043</td>\n      <td>-0.0043</td>\n      <td>...</td>\n      <td>187.0200</td>\n      <td>23.37565</td>\n      <td>23.377500</td>\n      <td>8.0</td>\n      <td>0.035848</td>\n      <td>0.001285</td>\n      <td>23.377527</td>\n      <td>23.4236</td>\n      <td>23.4236</td>\n      <td>23.3106</td>\n    </tr>\n    <tr>\n      <th>9</th>\n      <td>-0.0102</td>\n      <td>-0.0007</td>\n      <td>-0.001133</td>\n      <td>9.0</td>\n      <td>0.002281</td>\n      <td>0.000005</td>\n      <td>0.002547</td>\n      <td>0.0019</td>\n      <td>0.0043</td>\n      <td>-0.0043</td>\n      <td>...</td>\n      <td>210.4266</td>\n      <td>23.37740</td>\n      <td>23.380733</td>\n      <td>9.0</td>\n      <td>0.035014</td>\n      <td>0.001226</td>\n      <td>23.380760</td>\n      <td>23.4236</td>\n      <td>23.4236</td>\n      <td>23.3106</td>\n    </tr>\n    <tr>\n      <th>10</th>\n      <td>-0.0135</td>\n      <td>-0.0013</td>\n      <td>-0.001350</td>\n      <td>10.0</td>\n      <td>0.002259</td>\n      <td>0.000005</td>\n      <td>0.002632</td>\n      <td>0.0019</td>\n      <td>0.0043</td>\n      <td>-0.0043</td>\n      <td>...</td>\n      <td>233.8960</td>\n      <td>23.39090</td>\n      <td>23.389600</td>\n      <td>10.0</td>\n      <td>0.042555</td>\n      <td>0.001811</td>\n      <td>23.389639</td>\n      <td>23.4694</td>\n      <td>23.4694</td>\n      <td>23.3106</td>\n    </tr>\n  </tbody>\n</table>\n<p>5 rows × 240 columns</p>\n</div>"
     },
     "execution_count": 19,
     "metadata": {},
     "output_type": "execute_result"
    }
   ],
   "source": [
    "X.head(5)"
   ],
   "metadata": {
    "collapsed": false
   }
  },
  {
   "cell_type": "code",
   "execution_count": 20,
   "outputs": [
    {
     "data": {
      "text/plain": "Operation Setting 1__sum_values            -0.007000\nOperation Setting 1__median                -0.000200\nOperation Setting 1__mean                  -0.000350\nOperation Setting 1__length                20.000000\nOperation Setting 1__standard_deviation     0.001804\n                                             ...    \nSensor Measure 21__variance                 0.003237\nSensor Measure 21__root_mean_square        23.393159\nSensor Measure 21__maximum                 23.499900\nSensor Measure 21__absolute_maximum        23.499900\nSensor Measure 21__minimum                 23.284100\nName: (1, 40), Length: 240, dtype: float64"
     },
     "execution_count": 20,
     "metadata": {},
     "output_type": "execute_result"
    }
   ],
   "source": [
    "# check if example window can also be found in the extracted features\n",
    "X.loc[(1, 40)]"
   ],
   "metadata": {
    "collapsed": false
   }
  },
  {
   "cell_type": "markdown",
   "source": [
    "Potential Features:\n",
    "* Uisng tsfresh Comprehensive Set:\n",
    "    * Contains around **64** feature calculators and hundreds of resulting features. Each calculator can produce multiple features with different parameters.\n",
    "* Using tsfresh Efficient Set:\n",
    "    * Includes fewer calculators and parameters, focusing on features that are quicker to compute. It typically includes around **40-50** unique feature calculators.\n",
    "* Using tsfresh Minimal Set:\n",
    "    * The minimal set includes the following **8** basic features:\n",
    "        * \"absolute_maximum\"\n",
    "        * \"absolute_minimum\"\n",
    "        * \"mean\"\n",
    "        * \"median\"\n",
    "        * \"standard_deviation\"\n",
    "        * \"variance\"\n",
    "        * \"skewness\"\n",
    "        * \"kurtosis\"\n",
    "* Using Custom Set:\n",
    "    * Custom set of features can be defined by the user. In our case a set is defined as a subset from all possible tsfresh features available. This can be done by defining a dictionary with the feature names and the corresponding parameters. It is specifically defined in the config file.\n",
    "    * We selected the basics as well as basic features with some parameter variations. Also, some additional features that also capture the trend of the data and the distribution of the data.\n",
    "    * The custom set contains **48** features.\n",
    "\n",
    "The process is selected by defining the `feature_extraction_mode` in the `RollingWindowDatasetCreator` class. The default is set to `minimal`. Other options are `efficient` and `comprehensive`, as well as a `custom` dictionary with the feature names and the corresponding parameters."
   ],
   "metadata": {
    "collapsed": false
   }
  },
  {
   "cell_type": "markdown",
   "source": [
    "## 3. Extract Target & Map to Features\n",
    "Note:\n",
    "* **Target Example**: The target for the row with the id (1, 40) is the RUL of the row with the id (1, 40) meaning unit number 1, cycle 40"
   ],
   "metadata": {
    "collapsed": false
   }
  },
  {
   "cell_type": "code",
   "execution_count": 21,
   "outputs": [],
   "source": [
    "# calculate RUL\n",
    "train_data_RUL = calculate_RUL(data=train_data, time_column=\"Cycle\", group_column=\"UnitNumber\")"
   ],
   "metadata": {
    "collapsed": false
   }
  },
  {
   "cell_type": "code",
   "execution_count": 22,
   "outputs": [
    {
     "data": {
      "text/plain": "     UnitNumber  Cycle  Operation Setting 1  Operation Setting 2  \\\n187           1    188              -0.0067               0.0003   \n188           1    189              -0.0006               0.0002   \n189           1    190              -0.0027               0.0001   \n190           1    191              -0.0000              -0.0004   \n191           1    192               0.0009              -0.0000   \n\n     Operation Setting 3  Sensor Measure 1  Sensor Measure 2  \\\n187                100.0            518.67            643.75   \n188                100.0            518.67            644.18   \n189                100.0            518.67            643.64   \n190                100.0            518.67            643.34   \n191                100.0            518.67            643.54   \n\n     Sensor Measure 3  Sensor Measure 4  Sensor Measure 5  ...  \\\n187           1602.38           1422.78             14.62  ...   \n188           1596.17           1428.01             14.62  ...   \n189           1599.22           1425.95             14.62  ...   \n190           1602.36           1425.77             14.62  ...   \n191           1601.41           1427.20             14.62  ...   \n\n     Sensor Measure 13  Sensor Measure 14  Sensor Measure 15  \\\n187            2388.23            8117.69             8.5207   \n188            2388.33            8117.51             8.5183   \n189            2388.35            8112.58             8.5223   \n190            2388.30            8114.61             8.5174   \n191            2388.32            8110.93             8.5113   \n\n     Sensor Measure 16  Sensor Measure 17  Sensor Measure 18  \\\n187               0.03                396               2388   \n188               0.03                395               2388   \n189               0.03                398               2388   \n190               0.03                394               2388   \n191               0.03                396               2388   \n\n     Sensor Measure 19  Sensor Measure 20  Sensor Measure 21  RUL  \n187              100.0              38.51            22.9588    5  \n188              100.0              38.48            23.1127    4  \n189              100.0              38.49            23.0675    3  \n190              100.0              38.45            23.1295    2  \n191              100.0              38.48            22.9649    1  \n\n[5 rows x 27 columns]",
      "text/html": "<div>\n<style scoped>\n    .dataframe tbody tr th:only-of-type {\n        vertical-align: middle;\n    }\n\n    .dataframe tbody tr th {\n        vertical-align: top;\n    }\n\n    .dataframe thead th {\n        text-align: right;\n    }\n</style>\n<table border=\"1\" class=\"dataframe\">\n  <thead>\n    <tr style=\"text-align: right;\">\n      <th></th>\n      <th>UnitNumber</th>\n      <th>Cycle</th>\n      <th>Operation Setting 1</th>\n      <th>Operation Setting 2</th>\n      <th>Operation Setting 3</th>\n      <th>Sensor Measure 1</th>\n      <th>Sensor Measure 2</th>\n      <th>Sensor Measure 3</th>\n      <th>Sensor Measure 4</th>\n      <th>Sensor Measure 5</th>\n      <th>...</th>\n      <th>Sensor Measure 13</th>\n      <th>Sensor Measure 14</th>\n      <th>Sensor Measure 15</th>\n      <th>Sensor Measure 16</th>\n      <th>Sensor Measure 17</th>\n      <th>Sensor Measure 18</th>\n      <th>Sensor Measure 19</th>\n      <th>Sensor Measure 20</th>\n      <th>Sensor Measure 21</th>\n      <th>RUL</th>\n    </tr>\n  </thead>\n  <tbody>\n    <tr>\n      <th>187</th>\n      <td>1</td>\n      <td>188</td>\n      <td>-0.0067</td>\n      <td>0.0003</td>\n      <td>100.0</td>\n      <td>518.67</td>\n      <td>643.75</td>\n      <td>1602.38</td>\n      <td>1422.78</td>\n      <td>14.62</td>\n      <td>...</td>\n      <td>2388.23</td>\n      <td>8117.69</td>\n      <td>8.5207</td>\n      <td>0.03</td>\n      <td>396</td>\n      <td>2388</td>\n      <td>100.0</td>\n      <td>38.51</td>\n      <td>22.9588</td>\n      <td>5</td>\n    </tr>\n    <tr>\n      <th>188</th>\n      <td>1</td>\n      <td>189</td>\n      <td>-0.0006</td>\n      <td>0.0002</td>\n      <td>100.0</td>\n      <td>518.67</td>\n      <td>644.18</td>\n      <td>1596.17</td>\n      <td>1428.01</td>\n      <td>14.62</td>\n      <td>...</td>\n      <td>2388.33</td>\n      <td>8117.51</td>\n      <td>8.5183</td>\n      <td>0.03</td>\n      <td>395</td>\n      <td>2388</td>\n      <td>100.0</td>\n      <td>38.48</td>\n      <td>23.1127</td>\n      <td>4</td>\n    </tr>\n    <tr>\n      <th>189</th>\n      <td>1</td>\n      <td>190</td>\n      <td>-0.0027</td>\n      <td>0.0001</td>\n      <td>100.0</td>\n      <td>518.67</td>\n      <td>643.64</td>\n      <td>1599.22</td>\n      <td>1425.95</td>\n      <td>14.62</td>\n      <td>...</td>\n      <td>2388.35</td>\n      <td>8112.58</td>\n      <td>8.5223</td>\n      <td>0.03</td>\n      <td>398</td>\n      <td>2388</td>\n      <td>100.0</td>\n      <td>38.49</td>\n      <td>23.0675</td>\n      <td>3</td>\n    </tr>\n    <tr>\n      <th>190</th>\n      <td>1</td>\n      <td>191</td>\n      <td>-0.0000</td>\n      <td>-0.0004</td>\n      <td>100.0</td>\n      <td>518.67</td>\n      <td>643.34</td>\n      <td>1602.36</td>\n      <td>1425.77</td>\n      <td>14.62</td>\n      <td>...</td>\n      <td>2388.30</td>\n      <td>8114.61</td>\n      <td>8.5174</td>\n      <td>0.03</td>\n      <td>394</td>\n      <td>2388</td>\n      <td>100.0</td>\n      <td>38.45</td>\n      <td>23.1295</td>\n      <td>2</td>\n    </tr>\n    <tr>\n      <th>191</th>\n      <td>1</td>\n      <td>192</td>\n      <td>0.0009</td>\n      <td>-0.0000</td>\n      <td>100.0</td>\n      <td>518.67</td>\n      <td>643.54</td>\n      <td>1601.41</td>\n      <td>1427.20</td>\n      <td>14.62</td>\n      <td>...</td>\n      <td>2388.32</td>\n      <td>8110.93</td>\n      <td>8.5113</td>\n      <td>0.03</td>\n      <td>396</td>\n      <td>2388</td>\n      <td>100.0</td>\n      <td>38.48</td>\n      <td>22.9649</td>\n      <td>1</td>\n    </tr>\n  </tbody>\n</table>\n<p>5 rows × 27 columns</p>\n</div>"
     },
     "execution_count": 22,
     "metadata": {},
     "output_type": "execute_result"
    }
   ],
   "source": [
    "train_data_RUL[(train_data_RUL[\"UnitNumber\"] == 1)].tail(5)"
   ],
   "metadata": {
    "collapsed": false
   }
  },
  {
   "cell_type": "code",
   "execution_count": 23,
   "outputs": [],
   "source": [
    "# extract target\n",
    "y = train_data_RUL.set_index([\"UnitNumber\", \"Cycle\"]).sort_index().RUL"
   ],
   "metadata": {
    "collapsed": false
   }
  },
  {
   "cell_type": "code",
   "execution_count": 43,
   "outputs": [
    {
     "name": "stdout",
     "output_type": "stream",
     "text": [
      "y value for window (1, 40): 153\n",
      "Train data RUL value for UnitNumber, Cycle (1, 40): 153\n"
     ]
    }
   ],
   "source": [
    "# consistency check for example window (1, 40)\n",
    "print(f\"y value for window (1, 40): {y.loc[(1, 40)]}\") # should be the same as the RUL of the row with the id (1, 40)\n",
    "print(f\"Train data RUL value for UnitNumber, Cycle (1, 40): {train_data_RUL[(train_data_RUL['UnitNumber'] == 1) & (train_data_RUL['Cycle'] == 40)]['RUL'].values[0]}\")"
   ],
   "metadata": {
    "collapsed": false,
    "ExecuteTime": {
     "end_time": "2024-05-30T10:11:27.790486700Z",
     "start_time": "2024-05-30T10:11:27.610619400Z"
    }
   }
  },
  {
   "cell_type": "markdown",
   "source": [
    "Findings:\n",
    "* The target value RUL does indeed match the RUL of the last cycle in the window."
   ],
   "metadata": {
    "collapsed": false
   }
  },
  {
   "cell_type": "code",
   "execution_count": 25,
   "outputs": [
    {
     "name": "stdout",
     "output_type": "stream",
     "text": [
      "Shape of X: (20131, 240)\n",
      "Fist 3 rows of index of X: MultiIndex([(1, 6),\n",
      "            (1, 7),\n",
      "            (1, 8)],\n",
      "           names=['UnitNumber', 'Cycle'])\n",
      "Shape of y: (20631,)\n",
      "Fist 3 rows of index of y: MultiIndex([(1, 1),\n",
      "            (1, 2),\n",
      "            (1, 3)],\n",
      "           names=['UnitNumber', 'Cycle'])\n"
     ]
    }
   ],
   "source": [
    "# compare index and size of X and y\n",
    "print(f\"Shape of X: {X.shape}\")\n",
    "print(f\"Fist 3 rows of index of X: {X.index[:3]}\")\n",
    "print(f\"Shape of y: {y.shape}\")\n",
    "print(f\"Fist 3 rows of index of y: {y.index[:3]}\")"
   ],
   "metadata": {
    "collapsed": false
   }
  },
  {
   "cell_type": "code",
   "execution_count": 26,
   "outputs": [
    {
     "data": {
      "text/plain": "UnitNumber  Cycle\n100         196      5\n            197      4\n            198      3\n            199      2\n            200      1\nName: RUL, dtype: int64"
     },
     "execution_count": 26,
     "metadata": {},
     "output_type": "execute_result"
    }
   ],
   "source": [
    "# check last rows of y\n",
    "y.tail(5)"
   ],
   "metadata": {
    "collapsed": false
   }
  },
  {
   "cell_type": "code",
   "execution_count": 27,
   "outputs": [
    {
     "name": "stdout",
     "output_type": "stream",
     "text": [
      "Number of NaN values in y: 0\n"
     ]
    },
    {
     "data": {
      "text/plain": "Series([], Name: RUL, dtype: int64)"
     },
     "execution_count": 27,
     "metadata": {},
     "output_type": "execute_result"
    }
   ],
   "source": [
    "# show nan values in y\n",
    "print(f\"Number of NaN values in y: {y.isnull().sum()}\")\n",
    "y[y.isnull()]"
   ],
   "metadata": {
    "collapsed": false
   }
  },
  {
   "cell_type": "markdown",
   "source": [
    "Findings:\n",
    "\n",
    "There are some inconsistencies! :\n",
    "* X is missing the first 5 dates (as our minimum window size was 5), which can be seen looking at the index length of X and y. X index has a length of `20131` and y index has a length of `20631`. This `500` difference is because we have `100` units and the first `5` cycles of each unit are not in X, thus we have $100 * 5 = 500$ missing rows in X which are in y. --> drop the first min_k time steps / cycles from X"
   ],
   "metadata": {
    "collapsed": false
   }
  },
  {
   "cell_type": "code",
   "execution_count": 28,
   "outputs": [],
   "source": [
    "# make X and y consistent\n",
    "y = y[y.index.isin(X.index)]\n",
    "X = X[X.index.isin(y.index)]"
   ],
   "metadata": {
    "collapsed": false
   }
  },
  {
   "cell_type": "code",
   "execution_count": 29,
   "outputs": [
    {
     "name": "stdout",
     "output_type": "stream",
     "text": [
      "Shape of X: (20131, 240)\n",
      "Fist 3 rows of index of X: MultiIndex([(1, 6),\n",
      "            (1, 7),\n",
      "            (1, 8)],\n",
      "           names=['UnitNumber', 'Cycle'])\n",
      "Shape of y: (20131,)\n",
      "Fist 3 rows of index of y: MultiIndex([(1, 6),\n",
      "            (1, 7),\n",
      "            (1, 8)],\n",
      "           names=['UnitNumber', 'Cycle'])\n"
     ]
    }
   ],
   "source": [
    "# compare index of X and y\n",
    "print(f\"Shape of X: {X.shape}\")\n",
    "print(f\"Fist 3 rows of index of X: {X.index[:3]}\")\n",
    "print(f\"Shape of y: {y.shape}\")\n",
    "print(f\"Fist 3 rows of index of y: {y.index[:3]}\")"
   ],
   "metadata": {
    "collapsed": false
   }
  },
  {
   "cell_type": "code",
   "execution_count": 30,
   "outputs": [
    {
     "name": "stdout",
     "output_type": "stream",
     "text": [
      "Shape of X: (20131, 240)\n"
     ]
    },
    {
     "data": {
      "text/plain": "                  Operation Setting 1__sum_values  \\\nUnitNumber Cycle                                    \n100        196                             0.0052   \n           197                             0.0047   \n           198                             0.0046   \n           199                             0.0015   \n           200                            -0.0007   \n\n                  Operation Setting 1__median  Operation Setting 1__mean  \\\nUnitNumber Cycle                                                           \n100        196                       -0.00015                   0.000260   \n           197                       -0.00015                   0.000235   \n           198                       -0.00015                   0.000230   \n           199                       -0.00030                   0.000075   \n           200                       -0.00030                  -0.000035   \n\n                  Operation Setting 1__length  \\\nUnitNumber Cycle                                \n100        196                           20.0   \n           197                           20.0   \n           198                           20.0   \n           199                           20.0   \n           200                           20.0   \n\n                  Operation Setting 1__standard_deviation  \\\nUnitNumber Cycle                                            \n100        196                                   0.001346   \n           197                                   0.001375   \n           198                                   0.001374   \n           199                                   0.001340   \n           200                                   0.001504   \n\n                  Operation Setting 1__variance  \\\nUnitNumber Cycle                                  \n100        196                         0.000002   \n           197                         0.000002   \n           198                         0.000002   \n           199                         0.000002   \n           200                         0.000002   \n\n                  Operation Setting 1__root_mean_square  \\\nUnitNumber Cycle                                          \n100        196                                 0.001370   \n           197                                 0.001395   \n           198                                 0.001393   \n           199                                 0.001342   \n           200                                 0.001504   \n\n                  Operation Setting 1__maximum  \\\nUnitNumber Cycle                                 \n100        196                          0.0027   \n           197                          0.0027   \n           198                          0.0027   \n           199                          0.0027   \n           200                          0.0027   \n\n                  Operation Setting 1__absolute_maximum  \\\nUnitNumber Cycle                                          \n100        196                                   0.0027   \n           197                                   0.0027   \n           198                                   0.0027   \n           199                                   0.0027   \n           200                                   0.0032   \n\n                  Operation Setting 1__minimum  ...  \\\nUnitNumber Cycle                                ...   \n100        196                         -0.0014  ...   \n           197                         -0.0016  ...   \n           198                         -0.0016  ...   \n           199                         -0.0016  ...   \n           200                         -0.0032  ...   \n\n                  Sensor Measure 21__sum_values  Sensor Measure 21__median  \\\nUnitNumber Cycle                                                             \n100        196                         462.4189                   23.12235   \n           197                         462.5431                   23.12590   \n           198                         462.2512                   23.12235   \n           199                         462.1467                   23.11955   \n           200                         461.9644                   23.09715   \n\n                  Sensor Measure 21__mean  Sensor Measure 21__length  \\\nUnitNumber Cycle                                                       \n100        196                  23.120945                       20.0   \n           197                  23.127155                       20.0   \n           198                  23.112560                       20.0   \n           199                  23.107335                       20.0   \n           200                  23.098220                       20.0   \n\n                  Sensor Measure 21__standard_deviation  \\\nUnitNumber Cycle                                          \n100        196                                 0.074145   \n           197                                 0.071870   \n           198                                 0.079691   \n           199                                 0.079276   \n           200                                 0.074465   \n\n                  Sensor Measure 21__variance  \\\nUnitNumber Cycle                                \n100        196                       0.005497   \n           197                       0.005165   \n           198                       0.006351   \n           199                       0.006285   \n           200                       0.005545   \n\n                  Sensor Measure 21__root_mean_square  \\\nUnitNumber Cycle                                        \n100        196                              23.121064   \n           197                              23.127267   \n           198                              23.112697   \n           199                              23.107471   \n           200                              23.098340   \n\n                  Sensor Measure 21__maximum  \\\nUnitNumber Cycle                               \n100        196                       23.2345   \n           197                       23.2345   \n           198                       23.2345   \n           199                       23.2345   \n           200                       23.2308   \n\n                  Sensor Measure 21__absolute_maximum  \\\nUnitNumber Cycle                                        \n100        196                                23.2345   \n           197                                23.2345   \n           198                                23.2345   \n           199                                23.2345   \n           200                                23.2308   \n\n                  Sensor Measure 21__minimum  \nUnitNumber Cycle                              \n100        196                       22.9735  \n           197                       22.9735  \n           198                       22.9333  \n           199                       22.9333  \n           200                       22.9333  \n\n[5 rows x 240 columns]",
      "text/html": "<div>\n<style scoped>\n    .dataframe tbody tr th:only-of-type {\n        vertical-align: middle;\n    }\n\n    .dataframe tbody tr th {\n        vertical-align: top;\n    }\n\n    .dataframe thead th {\n        text-align: right;\n    }\n</style>\n<table border=\"1\" class=\"dataframe\">\n  <thead>\n    <tr style=\"text-align: right;\">\n      <th></th>\n      <th></th>\n      <th>Operation Setting 1__sum_values</th>\n      <th>Operation Setting 1__median</th>\n      <th>Operation Setting 1__mean</th>\n      <th>Operation Setting 1__length</th>\n      <th>Operation Setting 1__standard_deviation</th>\n      <th>Operation Setting 1__variance</th>\n      <th>Operation Setting 1__root_mean_square</th>\n      <th>Operation Setting 1__maximum</th>\n      <th>Operation Setting 1__absolute_maximum</th>\n      <th>Operation Setting 1__minimum</th>\n      <th>...</th>\n      <th>Sensor Measure 21__sum_values</th>\n      <th>Sensor Measure 21__median</th>\n      <th>Sensor Measure 21__mean</th>\n      <th>Sensor Measure 21__length</th>\n      <th>Sensor Measure 21__standard_deviation</th>\n      <th>Sensor Measure 21__variance</th>\n      <th>Sensor Measure 21__root_mean_square</th>\n      <th>Sensor Measure 21__maximum</th>\n      <th>Sensor Measure 21__absolute_maximum</th>\n      <th>Sensor Measure 21__minimum</th>\n    </tr>\n    <tr>\n      <th>UnitNumber</th>\n      <th>Cycle</th>\n      <th></th>\n      <th></th>\n      <th></th>\n      <th></th>\n      <th></th>\n      <th></th>\n      <th></th>\n      <th></th>\n      <th></th>\n      <th></th>\n      <th></th>\n      <th></th>\n      <th></th>\n      <th></th>\n      <th></th>\n      <th></th>\n      <th></th>\n      <th></th>\n      <th></th>\n      <th></th>\n      <th></th>\n    </tr>\n  </thead>\n  <tbody>\n    <tr>\n      <th rowspan=\"5\" valign=\"top\">100</th>\n      <th>196</th>\n      <td>0.0052</td>\n      <td>-0.00015</td>\n      <td>0.000260</td>\n      <td>20.0</td>\n      <td>0.001346</td>\n      <td>0.000002</td>\n      <td>0.001370</td>\n      <td>0.0027</td>\n      <td>0.0027</td>\n      <td>-0.0014</td>\n      <td>...</td>\n      <td>462.4189</td>\n      <td>23.12235</td>\n      <td>23.120945</td>\n      <td>20.0</td>\n      <td>0.074145</td>\n      <td>0.005497</td>\n      <td>23.121064</td>\n      <td>23.2345</td>\n      <td>23.2345</td>\n      <td>22.9735</td>\n    </tr>\n    <tr>\n      <th>197</th>\n      <td>0.0047</td>\n      <td>-0.00015</td>\n      <td>0.000235</td>\n      <td>20.0</td>\n      <td>0.001375</td>\n      <td>0.000002</td>\n      <td>0.001395</td>\n      <td>0.0027</td>\n      <td>0.0027</td>\n      <td>-0.0016</td>\n      <td>...</td>\n      <td>462.5431</td>\n      <td>23.12590</td>\n      <td>23.127155</td>\n      <td>20.0</td>\n      <td>0.071870</td>\n      <td>0.005165</td>\n      <td>23.127267</td>\n      <td>23.2345</td>\n      <td>23.2345</td>\n      <td>22.9735</td>\n    </tr>\n    <tr>\n      <th>198</th>\n      <td>0.0046</td>\n      <td>-0.00015</td>\n      <td>0.000230</td>\n      <td>20.0</td>\n      <td>0.001374</td>\n      <td>0.000002</td>\n      <td>0.001393</td>\n      <td>0.0027</td>\n      <td>0.0027</td>\n      <td>-0.0016</td>\n      <td>...</td>\n      <td>462.2512</td>\n      <td>23.12235</td>\n      <td>23.112560</td>\n      <td>20.0</td>\n      <td>0.079691</td>\n      <td>0.006351</td>\n      <td>23.112697</td>\n      <td>23.2345</td>\n      <td>23.2345</td>\n      <td>22.9333</td>\n    </tr>\n    <tr>\n      <th>199</th>\n      <td>0.0015</td>\n      <td>-0.00030</td>\n      <td>0.000075</td>\n      <td>20.0</td>\n      <td>0.001340</td>\n      <td>0.000002</td>\n      <td>0.001342</td>\n      <td>0.0027</td>\n      <td>0.0027</td>\n      <td>-0.0016</td>\n      <td>...</td>\n      <td>462.1467</td>\n      <td>23.11955</td>\n      <td>23.107335</td>\n      <td>20.0</td>\n      <td>0.079276</td>\n      <td>0.006285</td>\n      <td>23.107471</td>\n      <td>23.2345</td>\n      <td>23.2345</td>\n      <td>22.9333</td>\n    </tr>\n    <tr>\n      <th>200</th>\n      <td>-0.0007</td>\n      <td>-0.00030</td>\n      <td>-0.000035</td>\n      <td>20.0</td>\n      <td>0.001504</td>\n      <td>0.000002</td>\n      <td>0.001504</td>\n      <td>0.0027</td>\n      <td>0.0032</td>\n      <td>-0.0032</td>\n      <td>...</td>\n      <td>461.9644</td>\n      <td>23.09715</td>\n      <td>23.098220</td>\n      <td>20.0</td>\n      <td>0.074465</td>\n      <td>0.005545</td>\n      <td>23.098340</td>\n      <td>23.2308</td>\n      <td>23.2308</td>\n      <td>22.9333</td>\n    </tr>\n  </tbody>\n</table>\n<p>5 rows × 240 columns</p>\n</div>"
     },
     "metadata": {},
     "output_type": "display_data"
    },
    {
     "name": "stdout",
     "output_type": "stream",
     "text": [
      "Shape of y: (20131,)\n"
     ]
    },
    {
     "data": {
      "text/plain": "UnitNumber  Cycle\n100         196      5\n            197      4\n            198      3\n            199      2\n            200      1\nName: RUL, dtype: int64"
     },
     "metadata": {},
     "output_type": "display_data"
    }
   ],
   "source": [
    "print(f\"Shape of X: {X.shape}\")\n",
    "display(X.tail(5))\n",
    "print(f\"Shape of y: {y.shape}\")\n",
    "display(y.tail(5))"
   ],
   "metadata": {
    "collapsed": false
   }
  },
  {
   "cell_type": "markdown",
   "source": [
    "## 3. Modification for Test Set\n",
    "Note:\n",
    "* The test is different from the training set, as we have extern RUL target values for the test set. This target consits only of one value for each unit, which is the RUL of the last cycle of each unit. Thus, we need to filter the data.\n",
    "* Only use last window of each unit in the test set. The target RUL is in the `test_RUL_data` dataframe, which is the true RUL of the last cycle of each unit, thus a shape of (100, 1).\n",
    "\n",
    "--> Filter rolled data to only include the last window of each UnitNumber:\n",
    "* Ensure the selected cycles are sorted in ascending order of UnitNumber and Cycle values.\n",
    "* Group the filtered data by UnitNumber.\n",
    "* For each UnitNumber group, select the last max_window_size cycles.\n"
   ],
   "metadata": {
    "collapsed": false
   }
  },
  {
   "cell_type": "code",
   "execution_count": 31,
   "outputs": [
    {
     "name": "stderr",
     "output_type": "stream",
     "text": [
      "Rolling: 100%|██████████| 38/38 [00:04<00:00,  8.84it/s]\n"
     ]
    }
   ],
   "source": [
    "# generate rolling windows for test data (-1 due to the same already mentioned in the train set)\n",
    "test_data_rolled = roll_time_series(test_data, column_id=\"UnitNumber\", column_sort=\"Cycle\", max_timeshift=MAX_K-1, min_timeshift=MIN_K)"
   ],
   "metadata": {
    "collapsed": false
   }
  },
  {
   "cell_type": "code",
   "execution_count": 32,
   "outputs": [
    {
     "data": {
      "text/plain": "   UnitNumber  Cycle  Operation Setting 1  Operation Setting 2  \\\n0           1      1               0.0023               0.0003   \n1           1      2              -0.0027              -0.0003   \n2           1      3               0.0003               0.0001   \n3           1      4               0.0042               0.0000   \n4           1      5               0.0014               0.0000   \n\n   Operation Setting 3  Sensor Measure 1  Sensor Measure 2  Sensor Measure 3  \\\n0                100.0            518.67            643.02           1585.29   \n1                100.0            518.67            641.71           1588.45   \n2                100.0            518.67            642.46           1586.94   \n3                100.0            518.67            642.44           1584.12   \n4                100.0            518.67            642.51           1587.19   \n\n   Sensor Measure 4  Sensor Measure 5  ...  Sensor Measure 13  \\\n0           1398.21             14.62  ...            2388.03   \n1           1395.42             14.62  ...            2388.06   \n2           1401.34             14.62  ...            2388.03   \n3           1406.42             14.62  ...            2388.05   \n4           1401.92             14.62  ...            2388.03   \n\n   Sensor Measure 14  Sensor Measure 15  Sensor Measure 16  Sensor Measure 17  \\\n0            8125.55             8.4052               0.03                392   \n1            8139.62             8.3803               0.03                393   \n2            8130.10             8.4441               0.03                393   \n3            8132.90             8.3917               0.03                391   \n4            8129.54             8.4031               0.03                390   \n\n   Sensor Measure 18  Sensor Measure 19  Sensor Measure 20  Sensor Measure 21  \\\n0               2388              100.0              38.86            23.3735   \n1               2388              100.0              39.02            23.3916   \n2               2388              100.0              39.08            23.4166   \n3               2388              100.0              39.00            23.3737   \n4               2388              100.0              38.99            23.4130   \n\n       id  \n0  (1, 6)  \n1  (1, 6)  \n2  (1, 6)  \n3  (1, 6)  \n4  (1, 6)  \n\n[5 rows x 27 columns]",
      "text/html": "<div>\n<style scoped>\n    .dataframe tbody tr th:only-of-type {\n        vertical-align: middle;\n    }\n\n    .dataframe tbody tr th {\n        vertical-align: top;\n    }\n\n    .dataframe thead th {\n        text-align: right;\n    }\n</style>\n<table border=\"1\" class=\"dataframe\">\n  <thead>\n    <tr style=\"text-align: right;\">\n      <th></th>\n      <th>UnitNumber</th>\n      <th>Cycle</th>\n      <th>Operation Setting 1</th>\n      <th>Operation Setting 2</th>\n      <th>Operation Setting 3</th>\n      <th>Sensor Measure 1</th>\n      <th>Sensor Measure 2</th>\n      <th>Sensor Measure 3</th>\n      <th>Sensor Measure 4</th>\n      <th>Sensor Measure 5</th>\n      <th>...</th>\n      <th>Sensor Measure 13</th>\n      <th>Sensor Measure 14</th>\n      <th>Sensor Measure 15</th>\n      <th>Sensor Measure 16</th>\n      <th>Sensor Measure 17</th>\n      <th>Sensor Measure 18</th>\n      <th>Sensor Measure 19</th>\n      <th>Sensor Measure 20</th>\n      <th>Sensor Measure 21</th>\n      <th>id</th>\n    </tr>\n  </thead>\n  <tbody>\n    <tr>\n      <th>0</th>\n      <td>1</td>\n      <td>1</td>\n      <td>0.0023</td>\n      <td>0.0003</td>\n      <td>100.0</td>\n      <td>518.67</td>\n      <td>643.02</td>\n      <td>1585.29</td>\n      <td>1398.21</td>\n      <td>14.62</td>\n      <td>...</td>\n      <td>2388.03</td>\n      <td>8125.55</td>\n      <td>8.4052</td>\n      <td>0.03</td>\n      <td>392</td>\n      <td>2388</td>\n      <td>100.0</td>\n      <td>38.86</td>\n      <td>23.3735</td>\n      <td>(1, 6)</td>\n    </tr>\n    <tr>\n      <th>1</th>\n      <td>1</td>\n      <td>2</td>\n      <td>-0.0027</td>\n      <td>-0.0003</td>\n      <td>100.0</td>\n      <td>518.67</td>\n      <td>641.71</td>\n      <td>1588.45</td>\n      <td>1395.42</td>\n      <td>14.62</td>\n      <td>...</td>\n      <td>2388.06</td>\n      <td>8139.62</td>\n      <td>8.3803</td>\n      <td>0.03</td>\n      <td>393</td>\n      <td>2388</td>\n      <td>100.0</td>\n      <td>39.02</td>\n      <td>23.3916</td>\n      <td>(1, 6)</td>\n    </tr>\n    <tr>\n      <th>2</th>\n      <td>1</td>\n      <td>3</td>\n      <td>0.0003</td>\n      <td>0.0001</td>\n      <td>100.0</td>\n      <td>518.67</td>\n      <td>642.46</td>\n      <td>1586.94</td>\n      <td>1401.34</td>\n      <td>14.62</td>\n      <td>...</td>\n      <td>2388.03</td>\n      <td>8130.10</td>\n      <td>8.4441</td>\n      <td>0.03</td>\n      <td>393</td>\n      <td>2388</td>\n      <td>100.0</td>\n      <td>39.08</td>\n      <td>23.4166</td>\n      <td>(1, 6)</td>\n    </tr>\n    <tr>\n      <th>3</th>\n      <td>1</td>\n      <td>4</td>\n      <td>0.0042</td>\n      <td>0.0000</td>\n      <td>100.0</td>\n      <td>518.67</td>\n      <td>642.44</td>\n      <td>1584.12</td>\n      <td>1406.42</td>\n      <td>14.62</td>\n      <td>...</td>\n      <td>2388.05</td>\n      <td>8132.90</td>\n      <td>8.3917</td>\n      <td>0.03</td>\n      <td>391</td>\n      <td>2388</td>\n      <td>100.0</td>\n      <td>39.00</td>\n      <td>23.3737</td>\n      <td>(1, 6)</td>\n    </tr>\n    <tr>\n      <th>4</th>\n      <td>1</td>\n      <td>5</td>\n      <td>0.0014</td>\n      <td>0.0000</td>\n      <td>100.0</td>\n      <td>518.67</td>\n      <td>642.51</td>\n      <td>1587.19</td>\n      <td>1401.92</td>\n      <td>14.62</td>\n      <td>...</td>\n      <td>2388.03</td>\n      <td>8129.54</td>\n      <td>8.4031</td>\n      <td>0.03</td>\n      <td>390</td>\n      <td>2388</td>\n      <td>100.0</td>\n      <td>38.99</td>\n      <td>23.4130</td>\n      <td>(1, 6)</td>\n    </tr>\n  </tbody>\n</table>\n<p>5 rows × 27 columns</p>\n</div>"
     },
     "execution_count": 32,
     "metadata": {},
     "output_type": "execute_result"
    }
   ],
   "source": [
    "test_data_rolled.head(5)"
   ],
   "metadata": {
    "collapsed": false
   }
  },
  {
   "cell_type": "code",
   "execution_count": 33,
   "outputs": [],
   "source": [
    "# filter to only include the last window of each unit\n",
    "filtered_test_data_rolled = test_data_rolled.groupby(\"UnitNumber\").tail(MAX_K)"
   ],
   "metadata": {
    "collapsed": false
   }
  },
  {
   "cell_type": "code",
   "execution_count": 34,
   "outputs": [
    {
     "data": {
      "text/plain": "        UnitNumber  Cycle  Operation Setting 1  Operation Setting 2  \\\n39420            1     12               0.0026               0.0003   \n39421            1     13              -0.0056               0.0003   \n39422            1     14               0.0017              -0.0004   \n39423            1     15              -0.0003              -0.0003   \n39424            1     16              -0.0018               0.0003   \n39425            1     17               0.0014               0.0002   \n39426            1     18               0.0035               0.0001   \n39427            1     19               0.0029               0.0001   \n39428            1     20               0.0011              -0.0001   \n39429            1     21               0.0038              -0.0002   \n39430            1     22               0.0012               0.0001   \n39431            1     23               0.0009              -0.0000   \n39432            1     24              -0.0006              -0.0001   \n39433            1     25               0.0028              -0.0003   \n39434            1     26               0.0047              -0.0005   \n39435            1     27              -0.0007               0.0001   \n39436            1     28               0.0022               0.0005   \n39437            1     29               0.0014               0.0001   \n39438            1     30              -0.0025               0.0004   \n39439            1     31              -0.0006               0.0004   \n102400           2     30               0.0015               0.0004   \n102401           2     31               0.0003               0.0002   \n102402           2     32               0.0032               0.0002   \n102403           2     33              -0.0006              -0.0003   \n102404           2     34              -0.0033               0.0001   \n102405           2     35              -0.0033              -0.0001   \n102406           2     36              -0.0017               0.0001   \n102407           2     37               0.0004              -0.0001   \n102408           2     38              -0.0029              -0.0001   \n102409           2     39               0.0002               0.0004   \n102410           2     40               0.0023               0.0003   \n102411           2     41              -0.0001              -0.0002   \n102412           2     42              -0.0039              -0.0002   \n102413           2     43               0.0014               0.0001   \n102414           2     44              -0.0023               0.0003   \n102415           2     45              -0.0029               0.0000   \n102416           2     46               0.0026              -0.0002   \n102417           2     47              -0.0029              -0.0004   \n102418           2     48               0.0011              -0.0001   \n102419           2     49               0.0018              -0.0001   \n\n        Operation Setting 3  Sensor Measure 1  Sensor Measure 2  \\\n39420                 100.0            518.67            642.54   \n39421                 100.0            518.67            641.94   \n39422                 100.0            518.67            642.23   \n39423                 100.0            518.67            642.50   \n39424                 100.0            518.67            642.32   \n39425                 100.0            518.67            642.19   \n39426                 100.0            518.67            642.59   \n39427                 100.0            518.67            642.43   \n39428                 100.0            518.67            642.61   \n39429                 100.0            518.67            642.70   \n39430                 100.0            518.67            642.45   \n39431                 100.0            518.67            642.12   \n39432                 100.0            518.67            642.32   \n39433                 100.0            518.67            642.25   \n39434                 100.0            518.67            642.48   \n39435                 100.0            518.67            642.08   \n39436                 100.0            518.67            641.93   \n39437                 100.0            518.67            641.95   \n39438                 100.0            518.67            642.79   \n39439                 100.0            518.67            642.58   \n102400                100.0            518.67            642.75   \n102401                100.0            518.67            642.77   \n102402                100.0            518.67            642.78   \n102403                100.0            518.67            642.53   \n102404                100.0            518.67            642.43   \n102405                100.0            518.67            642.89   \n102406                100.0            518.67            642.23   \n102407                100.0            518.67            643.20   \n102408                100.0            518.67            642.62   \n102409                100.0            518.67            642.98   \n102410                100.0            518.67            642.65   \n102411                100.0            518.67            642.78   \n102412                100.0            518.67            642.74   \n102413                100.0            518.67            642.82   \n102414                100.0            518.67            642.77   \n102415                100.0            518.67            642.48   \n102416                100.0            518.67            642.84   \n102417                100.0            518.67            642.85   \n102418                100.0            518.67            642.64   \n102419                100.0            518.67            642.55   \n\n        Sensor Measure 3  Sensor Measure 4  Sensor Measure 5  ...  \\\n39420            1587.43           1397.82             14.62  ...   \n39421            1589.09           1403.94             14.62  ...   \n39422            1583.16           1402.88             14.62  ...   \n39423            1584.81           1398.79             14.62  ...   \n39424            1584.51           1407.76             14.62  ...   \n39425            1582.70           1404.12             14.62  ...   \n39426            1586.53           1403.69             14.62  ...   \n39427            1585.58           1402.30             14.62  ...   \n39428            1587.78           1400.70             14.62  ...   \n39429            1583.30           1399.20             14.62  ...   \n39430            1582.78           1404.06             14.62  ...   \n39431            1587.51           1395.09             14.62  ...   \n39432            1594.29           1400.15             14.62  ...   \n39433            1582.43           1400.23             14.62  ...   \n39434            1583.28           1408.07             14.62  ...   \n39435            1586.65           1400.31             14.62  ...   \n39436            1594.25           1401.29             14.62  ...   \n39437            1587.15           1398.11             14.62  ...   \n39438            1585.72           1400.97             14.62  ...   \n39439            1581.22           1398.91             14.62  ...   \n102400           1583.78           1409.97             14.62  ...   \n102401           1591.32           1402.47             14.62  ...   \n102402           1594.31           1416.93             14.62  ...   \n102403           1592.58           1405.06             14.62  ...   \n102404           1582.25           1409.15             14.62  ...   \n102405           1597.36           1402.02             14.62  ...   \n102406           1584.89           1407.87             14.62  ...   \n102407           1581.90           1404.83             14.62  ...   \n102408           1588.47           1401.81             14.62  ...   \n102409           1591.62           1405.46             14.62  ...   \n102410           1590.33           1407.82             14.62  ...   \n102411           1595.98           1405.79             14.62  ...   \n102412           1586.43           1409.10             14.62  ...   \n102413           1588.40           1405.06             14.62  ...   \n102414           1591.75           1411.05             14.62  ...   \n102415           1590.52           1406.20             14.62  ...   \n102416           1589.31           1401.67             14.62  ...   \n102417           1587.58           1403.23             14.62  ...   \n102418           1587.71           1411.96             14.62  ...   \n102419           1586.59           1410.83             14.62  ...   \n\n        Sensor Measure 13  Sensor Measure 14  Sensor Measure 15  \\\n39420             2388.06            8132.33             8.3984   \n39421             2388.03            8131.12             8.4166   \n39422             2388.06            8130.30             8.4293   \n39423             2388.00            8133.62             8.4163   \n39424             2388.10            8133.83             8.4300   \n39425             2388.02            8126.78             8.4577   \n39426             2388.06            8133.22             8.4323   \n39427             2388.01            8129.31             8.3892   \n39428             2388.05            8128.59             8.4099   \n39429             2388.11            8126.86             8.4174   \n39430             2388.04            8128.89             8.4557   \n39431             2388.06            8130.97             8.4116   \n39432             2388.12            8130.70             8.4074   \n39433             2388.08            8128.65             8.4007   \n39434             2388.07            8129.12             8.3949   \n39435             2388.02            8127.24             8.4494   \n39436             2388.07            8134.89             8.4470   \n39437             2388.07            8133.13             8.4212   \n39438             2388.10            8134.79             8.4110   \n39439             2388.06            8130.11             8.4024   \n102400            2388.11            8132.58             8.4629   \n102401            2388.13            8129.54             8.4312   \n102402            2388.11            8129.92             8.4061   \n102403            2388.06            8127.13             8.4163   \n102404            2388.09            8126.81             8.4476   \n102405            2388.14            8124.10             8.4593   \n102406            2388.12            8131.65             8.4211   \n102407            2388.16            8135.15             8.4178   \n102408            2388.12            8127.19             8.4541   \n102409            2388.13            8128.53             8.4363   \n102410            2388.12            8127.59             8.4190   \n102411            2388.10            8125.49             8.4247   \n102412            2388.14            8126.66             8.4788   \n102413            2388.15            8125.56             8.4927   \n102414            2388.13            8132.18             8.4366   \n102415            2388.10            8128.22             8.4467   \n102416            2388.10            8128.82             8.4455   \n102417            2388.11            8128.77             8.4221   \n102418            2388.11            8125.65             8.4465   \n102419            2388.09            8126.90             8.4505   \n\n        Sensor Measure 16  Sensor Measure 17  Sensor Measure 18  \\\n39420                0.03                391               2388   \n39421                0.03                392               2388   \n39422                0.03                392               2388   \n39423                0.03                392               2388   \n39424                0.03                390               2388   \n39425                0.03                391               2388   \n39426                0.03                391               2388   \n39427                0.03                391               2388   \n39428                0.03                392               2388   \n39429                0.03                392               2388   \n39430                0.03                392               2388   \n39431                0.03                393               2388   \n39432                0.03                393               2388   \n39433                0.03                393               2388   \n39434                0.03                391               2388   \n39435                0.03                392               2388   \n39436                0.03                392               2388   \n39437                0.03                392               2388   \n39438                0.03                391               2388   \n39439                0.03                393               2388   \n102400               0.03                393               2388   \n102401               0.03                394               2388   \n102402               0.03                394               2388   \n102403               0.03                395               2388   \n102404               0.03                392               2388   \n102405               0.03                393               2388   \n102406               0.03                393               2388   \n102407               0.03                393               2388   \n102408               0.03                393               2388   \n102409               0.03                394               2388   \n102410               0.03                393               2388   \n102411               0.03                393               2388   \n102412               0.03                393               2388   \n102413               0.03                392               2388   \n102414               0.03                392               2388   \n102415               0.03                392               2388   \n102416               0.03                394               2388   \n102417               0.03                392               2388   \n102418               0.03                392               2388   \n102419               0.03                391               2388   \n\n        Sensor Measure 19  Sensor Measure 20  Sensor Measure 21       id  \n39420               100.0              39.11            23.3845  (1, 31)  \n39421               100.0              39.08            23.3677  (1, 31)  \n39422               100.0              39.03            23.4572  (1, 31)  \n39423               100.0              39.04            23.3672  (1, 31)  \n39424               100.0              38.87            23.3484  (1, 31)  \n39425               100.0              39.09            23.3409  (1, 31)  \n39426               100.0              38.96            23.4481  (1, 31)  \n39427               100.0              39.06            23.3809  (1, 31)  \n39428               100.0              39.00            23.3325  (1, 31)  \n39429               100.0              38.96            23.4025  (1, 31)  \n39430               100.0              38.94            23.3770  (1, 31)  \n39431               100.0              39.10            23.3186  (1, 31)  \n39432               100.0              38.94            23.3971  (1, 31)  \n39433               100.0              38.96            23.3785  (1, 31)  \n39434               100.0              38.77            23.3557  (1, 31)  \n39435               100.0              38.87            23.3931  (1, 31)  \n39436               100.0              38.83            23.3502  (1, 31)  \n39437               100.0              39.02            23.3621  (1, 31)  \n39438               100.0              39.09            23.4069  (1, 31)  \n39439               100.0              38.81            23.3552  (1, 31)  \n102400              100.0              38.93            23.3048  (2, 49)  \n102401              100.0              38.74            23.3065  (2, 49)  \n102402              100.0              38.74            23.3139  (2, 49)  \n102403              100.0              39.02            23.3074  (2, 49)  \n102404              100.0              38.97            23.2535  (2, 49)  \n102405              100.0              38.87            23.3074  (2, 49)  \n102406              100.0              38.84            23.2243  (2, 49)  \n102407              100.0              39.02            23.2880  (2, 49)  \n102408              100.0              38.81            23.3641  (2, 49)  \n102409              100.0              38.67            23.3072  (2, 49)  \n102410              100.0              38.74            23.3693  (2, 49)  \n102411              100.0              38.82            23.3411  (2, 49)  \n102412              100.0              38.88            23.2196  (2, 49)  \n102413              100.0              38.73            23.2775  (2, 49)  \n102414              100.0              38.79            23.3533  (2, 49)  \n102415              100.0              38.95            23.2906  (2, 49)  \n102416              100.0              38.88            23.2310  (2, 49)  \n102417              100.0              38.88            23.2965  (2, 49)  \n102418              100.0              38.99            23.2918  (2, 49)  \n102419              100.0              38.81            23.2618  (2, 49)  \n\n[40 rows x 27 columns]",
      "text/html": "<div>\n<style scoped>\n    .dataframe tbody tr th:only-of-type {\n        vertical-align: middle;\n    }\n\n    .dataframe tbody tr th {\n        vertical-align: top;\n    }\n\n    .dataframe thead th {\n        text-align: right;\n    }\n</style>\n<table border=\"1\" class=\"dataframe\">\n  <thead>\n    <tr style=\"text-align: right;\">\n      <th></th>\n      <th>UnitNumber</th>\n      <th>Cycle</th>\n      <th>Operation Setting 1</th>\n      <th>Operation Setting 2</th>\n      <th>Operation Setting 3</th>\n      <th>Sensor Measure 1</th>\n      <th>Sensor Measure 2</th>\n      <th>Sensor Measure 3</th>\n      <th>Sensor Measure 4</th>\n      <th>Sensor Measure 5</th>\n      <th>...</th>\n      <th>Sensor Measure 13</th>\n      <th>Sensor Measure 14</th>\n      <th>Sensor Measure 15</th>\n      <th>Sensor Measure 16</th>\n      <th>Sensor Measure 17</th>\n      <th>Sensor Measure 18</th>\n      <th>Sensor Measure 19</th>\n      <th>Sensor Measure 20</th>\n      <th>Sensor Measure 21</th>\n      <th>id</th>\n    </tr>\n  </thead>\n  <tbody>\n    <tr>\n      <th>39420</th>\n      <td>1</td>\n      <td>12</td>\n      <td>0.0026</td>\n      <td>0.0003</td>\n      <td>100.0</td>\n      <td>518.67</td>\n      <td>642.54</td>\n      <td>1587.43</td>\n      <td>1397.82</td>\n      <td>14.62</td>\n      <td>...</td>\n      <td>2388.06</td>\n      <td>8132.33</td>\n      <td>8.3984</td>\n      <td>0.03</td>\n      <td>391</td>\n      <td>2388</td>\n      <td>100.0</td>\n      <td>39.11</td>\n      <td>23.3845</td>\n      <td>(1, 31)</td>\n    </tr>\n    <tr>\n      <th>39421</th>\n      <td>1</td>\n      <td>13</td>\n      <td>-0.0056</td>\n      <td>0.0003</td>\n      <td>100.0</td>\n      <td>518.67</td>\n      <td>641.94</td>\n      <td>1589.09</td>\n      <td>1403.94</td>\n      <td>14.62</td>\n      <td>...</td>\n      <td>2388.03</td>\n      <td>8131.12</td>\n      <td>8.4166</td>\n      <td>0.03</td>\n      <td>392</td>\n      <td>2388</td>\n      <td>100.0</td>\n      <td>39.08</td>\n      <td>23.3677</td>\n      <td>(1, 31)</td>\n    </tr>\n    <tr>\n      <th>39422</th>\n      <td>1</td>\n      <td>14</td>\n      <td>0.0017</td>\n      <td>-0.0004</td>\n      <td>100.0</td>\n      <td>518.67</td>\n      <td>642.23</td>\n      <td>1583.16</td>\n      <td>1402.88</td>\n      <td>14.62</td>\n      <td>...</td>\n      <td>2388.06</td>\n      <td>8130.30</td>\n      <td>8.4293</td>\n      <td>0.03</td>\n      <td>392</td>\n      <td>2388</td>\n      <td>100.0</td>\n      <td>39.03</td>\n      <td>23.4572</td>\n      <td>(1, 31)</td>\n    </tr>\n    <tr>\n      <th>39423</th>\n      <td>1</td>\n      <td>15</td>\n      <td>-0.0003</td>\n      <td>-0.0003</td>\n      <td>100.0</td>\n      <td>518.67</td>\n      <td>642.50</td>\n      <td>1584.81</td>\n      <td>1398.79</td>\n      <td>14.62</td>\n      <td>...</td>\n      <td>2388.00</td>\n      <td>8133.62</td>\n      <td>8.4163</td>\n      <td>0.03</td>\n      <td>392</td>\n      <td>2388</td>\n      <td>100.0</td>\n      <td>39.04</td>\n      <td>23.3672</td>\n      <td>(1, 31)</td>\n    </tr>\n    <tr>\n      <th>39424</th>\n      <td>1</td>\n      <td>16</td>\n      <td>-0.0018</td>\n      <td>0.0003</td>\n      <td>100.0</td>\n      <td>518.67</td>\n      <td>642.32</td>\n      <td>1584.51</td>\n      <td>1407.76</td>\n      <td>14.62</td>\n      <td>...</td>\n      <td>2388.10</td>\n      <td>8133.83</td>\n      <td>8.4300</td>\n      <td>0.03</td>\n      <td>390</td>\n      <td>2388</td>\n      <td>100.0</td>\n      <td>38.87</td>\n      <td>23.3484</td>\n      <td>(1, 31)</td>\n    </tr>\n    <tr>\n      <th>39425</th>\n      <td>1</td>\n      <td>17</td>\n      <td>0.0014</td>\n      <td>0.0002</td>\n      <td>100.0</td>\n      <td>518.67</td>\n      <td>642.19</td>\n      <td>1582.70</td>\n      <td>1404.12</td>\n      <td>14.62</td>\n      <td>...</td>\n      <td>2388.02</td>\n      <td>8126.78</td>\n      <td>8.4577</td>\n      <td>0.03</td>\n      <td>391</td>\n      <td>2388</td>\n      <td>100.0</td>\n      <td>39.09</td>\n      <td>23.3409</td>\n      <td>(1, 31)</td>\n    </tr>\n    <tr>\n      <th>39426</th>\n      <td>1</td>\n      <td>18</td>\n      <td>0.0035</td>\n      <td>0.0001</td>\n      <td>100.0</td>\n      <td>518.67</td>\n      <td>642.59</td>\n      <td>1586.53</td>\n      <td>1403.69</td>\n      <td>14.62</td>\n      <td>...</td>\n      <td>2388.06</td>\n      <td>8133.22</td>\n      <td>8.4323</td>\n      <td>0.03</td>\n      <td>391</td>\n      <td>2388</td>\n      <td>100.0</td>\n      <td>38.96</td>\n      <td>23.4481</td>\n      <td>(1, 31)</td>\n    </tr>\n    <tr>\n      <th>39427</th>\n      <td>1</td>\n      <td>19</td>\n      <td>0.0029</td>\n      <td>0.0001</td>\n      <td>100.0</td>\n      <td>518.67</td>\n      <td>642.43</td>\n      <td>1585.58</td>\n      <td>1402.30</td>\n      <td>14.62</td>\n      <td>...</td>\n      <td>2388.01</td>\n      <td>8129.31</td>\n      <td>8.3892</td>\n      <td>0.03</td>\n      <td>391</td>\n      <td>2388</td>\n      <td>100.0</td>\n      <td>39.06</td>\n      <td>23.3809</td>\n      <td>(1, 31)</td>\n    </tr>\n    <tr>\n      <th>39428</th>\n      <td>1</td>\n      <td>20</td>\n      <td>0.0011</td>\n      <td>-0.0001</td>\n      <td>100.0</td>\n      <td>518.67</td>\n      <td>642.61</td>\n      <td>1587.78</td>\n      <td>1400.70</td>\n      <td>14.62</td>\n      <td>...</td>\n      <td>2388.05</td>\n      <td>8128.59</td>\n      <td>8.4099</td>\n      <td>0.03</td>\n      <td>392</td>\n      <td>2388</td>\n      <td>100.0</td>\n      <td>39.00</td>\n      <td>23.3325</td>\n      <td>(1, 31)</td>\n    </tr>\n    <tr>\n      <th>39429</th>\n      <td>1</td>\n      <td>21</td>\n      <td>0.0038</td>\n      <td>-0.0002</td>\n      <td>100.0</td>\n      <td>518.67</td>\n      <td>642.70</td>\n      <td>1583.30</td>\n      <td>1399.20</td>\n      <td>14.62</td>\n      <td>...</td>\n      <td>2388.11</td>\n      <td>8126.86</td>\n      <td>8.4174</td>\n      <td>0.03</td>\n      <td>392</td>\n      <td>2388</td>\n      <td>100.0</td>\n      <td>38.96</td>\n      <td>23.4025</td>\n      <td>(1, 31)</td>\n    </tr>\n    <tr>\n      <th>39430</th>\n      <td>1</td>\n      <td>22</td>\n      <td>0.0012</td>\n      <td>0.0001</td>\n      <td>100.0</td>\n      <td>518.67</td>\n      <td>642.45</td>\n      <td>1582.78</td>\n      <td>1404.06</td>\n      <td>14.62</td>\n      <td>...</td>\n      <td>2388.04</td>\n      <td>8128.89</td>\n      <td>8.4557</td>\n      <td>0.03</td>\n      <td>392</td>\n      <td>2388</td>\n      <td>100.0</td>\n      <td>38.94</td>\n      <td>23.3770</td>\n      <td>(1, 31)</td>\n    </tr>\n    <tr>\n      <th>39431</th>\n      <td>1</td>\n      <td>23</td>\n      <td>0.0009</td>\n      <td>-0.0000</td>\n      <td>100.0</td>\n      <td>518.67</td>\n      <td>642.12</td>\n      <td>1587.51</td>\n      <td>1395.09</td>\n      <td>14.62</td>\n      <td>...</td>\n      <td>2388.06</td>\n      <td>8130.97</td>\n      <td>8.4116</td>\n      <td>0.03</td>\n      <td>393</td>\n      <td>2388</td>\n      <td>100.0</td>\n      <td>39.10</td>\n      <td>23.3186</td>\n      <td>(1, 31)</td>\n    </tr>\n    <tr>\n      <th>39432</th>\n      <td>1</td>\n      <td>24</td>\n      <td>-0.0006</td>\n      <td>-0.0001</td>\n      <td>100.0</td>\n      <td>518.67</td>\n      <td>642.32</td>\n      <td>1594.29</td>\n      <td>1400.15</td>\n      <td>14.62</td>\n      <td>...</td>\n      <td>2388.12</td>\n      <td>8130.70</td>\n      <td>8.4074</td>\n      <td>0.03</td>\n      <td>393</td>\n      <td>2388</td>\n      <td>100.0</td>\n      <td>38.94</td>\n      <td>23.3971</td>\n      <td>(1, 31)</td>\n    </tr>\n    <tr>\n      <th>39433</th>\n      <td>1</td>\n      <td>25</td>\n      <td>0.0028</td>\n      <td>-0.0003</td>\n      <td>100.0</td>\n      <td>518.67</td>\n      <td>642.25</td>\n      <td>1582.43</td>\n      <td>1400.23</td>\n      <td>14.62</td>\n      <td>...</td>\n      <td>2388.08</td>\n      <td>8128.65</td>\n      <td>8.4007</td>\n      <td>0.03</td>\n      <td>393</td>\n      <td>2388</td>\n      <td>100.0</td>\n      <td>38.96</td>\n      <td>23.3785</td>\n      <td>(1, 31)</td>\n    </tr>\n    <tr>\n      <th>39434</th>\n      <td>1</td>\n      <td>26</td>\n      <td>0.0047</td>\n      <td>-0.0005</td>\n      <td>100.0</td>\n      <td>518.67</td>\n      <td>642.48</td>\n      <td>1583.28</td>\n      <td>1408.07</td>\n      <td>14.62</td>\n      <td>...</td>\n      <td>2388.07</td>\n      <td>8129.12</td>\n      <td>8.3949</td>\n      <td>0.03</td>\n      <td>391</td>\n      <td>2388</td>\n      <td>100.0</td>\n      <td>38.77</td>\n      <td>23.3557</td>\n      <td>(1, 31)</td>\n    </tr>\n    <tr>\n      <th>39435</th>\n      <td>1</td>\n      <td>27</td>\n      <td>-0.0007</td>\n      <td>0.0001</td>\n      <td>100.0</td>\n      <td>518.67</td>\n      <td>642.08</td>\n      <td>1586.65</td>\n      <td>1400.31</td>\n      <td>14.62</td>\n      <td>...</td>\n      <td>2388.02</td>\n      <td>8127.24</td>\n      <td>8.4494</td>\n      <td>0.03</td>\n      <td>392</td>\n      <td>2388</td>\n      <td>100.0</td>\n      <td>38.87</td>\n      <td>23.3931</td>\n      <td>(1, 31)</td>\n    </tr>\n    <tr>\n      <th>39436</th>\n      <td>1</td>\n      <td>28</td>\n      <td>0.0022</td>\n      <td>0.0005</td>\n      <td>100.0</td>\n      <td>518.67</td>\n      <td>641.93</td>\n      <td>1594.25</td>\n      <td>1401.29</td>\n      <td>14.62</td>\n      <td>...</td>\n      <td>2388.07</td>\n      <td>8134.89</td>\n      <td>8.4470</td>\n      <td>0.03</td>\n      <td>392</td>\n      <td>2388</td>\n      <td>100.0</td>\n      <td>38.83</td>\n      <td>23.3502</td>\n      <td>(1, 31)</td>\n    </tr>\n    <tr>\n      <th>39437</th>\n      <td>1</td>\n      <td>29</td>\n      <td>0.0014</td>\n      <td>0.0001</td>\n      <td>100.0</td>\n      <td>518.67</td>\n      <td>641.95</td>\n      <td>1587.15</td>\n      <td>1398.11</td>\n      <td>14.62</td>\n      <td>...</td>\n      <td>2388.07</td>\n      <td>8133.13</td>\n      <td>8.4212</td>\n      <td>0.03</td>\n      <td>392</td>\n      <td>2388</td>\n      <td>100.0</td>\n      <td>39.02</td>\n      <td>23.3621</td>\n      <td>(1, 31)</td>\n    </tr>\n    <tr>\n      <th>39438</th>\n      <td>1</td>\n      <td>30</td>\n      <td>-0.0025</td>\n      <td>0.0004</td>\n      <td>100.0</td>\n      <td>518.67</td>\n      <td>642.79</td>\n      <td>1585.72</td>\n      <td>1400.97</td>\n      <td>14.62</td>\n      <td>...</td>\n      <td>2388.10</td>\n      <td>8134.79</td>\n      <td>8.4110</td>\n      <td>0.03</td>\n      <td>391</td>\n      <td>2388</td>\n      <td>100.0</td>\n      <td>39.09</td>\n      <td>23.4069</td>\n      <td>(1, 31)</td>\n    </tr>\n    <tr>\n      <th>39439</th>\n      <td>1</td>\n      <td>31</td>\n      <td>-0.0006</td>\n      <td>0.0004</td>\n      <td>100.0</td>\n      <td>518.67</td>\n      <td>642.58</td>\n      <td>1581.22</td>\n      <td>1398.91</td>\n      <td>14.62</td>\n      <td>...</td>\n      <td>2388.06</td>\n      <td>8130.11</td>\n      <td>8.4024</td>\n      <td>0.03</td>\n      <td>393</td>\n      <td>2388</td>\n      <td>100.0</td>\n      <td>38.81</td>\n      <td>23.3552</td>\n      <td>(1, 31)</td>\n    </tr>\n    <tr>\n      <th>102400</th>\n      <td>2</td>\n      <td>30</td>\n      <td>0.0015</td>\n      <td>0.0004</td>\n      <td>100.0</td>\n      <td>518.67</td>\n      <td>642.75</td>\n      <td>1583.78</td>\n      <td>1409.97</td>\n      <td>14.62</td>\n      <td>...</td>\n      <td>2388.11</td>\n      <td>8132.58</td>\n      <td>8.4629</td>\n      <td>0.03</td>\n      <td>393</td>\n      <td>2388</td>\n      <td>100.0</td>\n      <td>38.93</td>\n      <td>23.3048</td>\n      <td>(2, 49)</td>\n    </tr>\n    <tr>\n      <th>102401</th>\n      <td>2</td>\n      <td>31</td>\n      <td>0.0003</td>\n      <td>0.0002</td>\n      <td>100.0</td>\n      <td>518.67</td>\n      <td>642.77</td>\n      <td>1591.32</td>\n      <td>1402.47</td>\n      <td>14.62</td>\n      <td>...</td>\n      <td>2388.13</td>\n      <td>8129.54</td>\n      <td>8.4312</td>\n      <td>0.03</td>\n      <td>394</td>\n      <td>2388</td>\n      <td>100.0</td>\n      <td>38.74</td>\n      <td>23.3065</td>\n      <td>(2, 49)</td>\n    </tr>\n    <tr>\n      <th>102402</th>\n      <td>2</td>\n      <td>32</td>\n      <td>0.0032</td>\n      <td>0.0002</td>\n      <td>100.0</td>\n      <td>518.67</td>\n      <td>642.78</td>\n      <td>1594.31</td>\n      <td>1416.93</td>\n      <td>14.62</td>\n      <td>...</td>\n      <td>2388.11</td>\n      <td>8129.92</td>\n      <td>8.4061</td>\n      <td>0.03</td>\n      <td>394</td>\n      <td>2388</td>\n      <td>100.0</td>\n      <td>38.74</td>\n      <td>23.3139</td>\n      <td>(2, 49)</td>\n    </tr>\n    <tr>\n      <th>102403</th>\n      <td>2</td>\n      <td>33</td>\n      <td>-0.0006</td>\n      <td>-0.0003</td>\n      <td>100.0</td>\n      <td>518.67</td>\n      <td>642.53</td>\n      <td>1592.58</td>\n      <td>1405.06</td>\n      <td>14.62</td>\n      <td>...</td>\n      <td>2388.06</td>\n      <td>8127.13</td>\n      <td>8.4163</td>\n      <td>0.03</td>\n      <td>395</td>\n      <td>2388</td>\n      <td>100.0</td>\n      <td>39.02</td>\n      <td>23.3074</td>\n      <td>(2, 49)</td>\n    </tr>\n    <tr>\n      <th>102404</th>\n      <td>2</td>\n      <td>34</td>\n      <td>-0.0033</td>\n      <td>0.0001</td>\n      <td>100.0</td>\n      <td>518.67</td>\n      <td>642.43</td>\n      <td>1582.25</td>\n      <td>1409.15</td>\n      <td>14.62</td>\n      <td>...</td>\n      <td>2388.09</td>\n      <td>8126.81</td>\n      <td>8.4476</td>\n      <td>0.03</td>\n      <td>392</td>\n      <td>2388</td>\n      <td>100.0</td>\n      <td>38.97</td>\n      <td>23.2535</td>\n      <td>(2, 49)</td>\n    </tr>\n    <tr>\n      <th>102405</th>\n      <td>2</td>\n      <td>35</td>\n      <td>-0.0033</td>\n      <td>-0.0001</td>\n      <td>100.0</td>\n      <td>518.67</td>\n      <td>642.89</td>\n      <td>1597.36</td>\n      <td>1402.02</td>\n      <td>14.62</td>\n      <td>...</td>\n      <td>2388.14</td>\n      <td>8124.10</td>\n      <td>8.4593</td>\n      <td>0.03</td>\n      <td>393</td>\n      <td>2388</td>\n      <td>100.0</td>\n      <td>38.87</td>\n      <td>23.3074</td>\n      <td>(2, 49)</td>\n    </tr>\n    <tr>\n      <th>102406</th>\n      <td>2</td>\n      <td>36</td>\n      <td>-0.0017</td>\n      <td>0.0001</td>\n      <td>100.0</td>\n      <td>518.67</td>\n      <td>642.23</td>\n      <td>1584.89</td>\n      <td>1407.87</td>\n      <td>14.62</td>\n      <td>...</td>\n      <td>2388.12</td>\n      <td>8131.65</td>\n      <td>8.4211</td>\n      <td>0.03</td>\n      <td>393</td>\n      <td>2388</td>\n      <td>100.0</td>\n      <td>38.84</td>\n      <td>23.2243</td>\n      <td>(2, 49)</td>\n    </tr>\n    <tr>\n      <th>102407</th>\n      <td>2</td>\n      <td>37</td>\n      <td>0.0004</td>\n      <td>-0.0001</td>\n      <td>100.0</td>\n      <td>518.67</td>\n      <td>643.20</td>\n      <td>1581.90</td>\n      <td>1404.83</td>\n      <td>14.62</td>\n      <td>...</td>\n      <td>2388.16</td>\n      <td>8135.15</td>\n      <td>8.4178</td>\n      <td>0.03</td>\n      <td>393</td>\n      <td>2388</td>\n      <td>100.0</td>\n      <td>39.02</td>\n      <td>23.2880</td>\n      <td>(2, 49)</td>\n    </tr>\n    <tr>\n      <th>102408</th>\n      <td>2</td>\n      <td>38</td>\n      <td>-0.0029</td>\n      <td>-0.0001</td>\n      <td>100.0</td>\n      <td>518.67</td>\n      <td>642.62</td>\n      <td>1588.47</td>\n      <td>1401.81</td>\n      <td>14.62</td>\n      <td>...</td>\n      <td>2388.12</td>\n      <td>8127.19</td>\n      <td>8.4541</td>\n      <td>0.03</td>\n      <td>393</td>\n      <td>2388</td>\n      <td>100.0</td>\n      <td>38.81</td>\n      <td>23.3641</td>\n      <td>(2, 49)</td>\n    </tr>\n    <tr>\n      <th>102409</th>\n      <td>2</td>\n      <td>39</td>\n      <td>0.0002</td>\n      <td>0.0004</td>\n      <td>100.0</td>\n      <td>518.67</td>\n      <td>642.98</td>\n      <td>1591.62</td>\n      <td>1405.46</td>\n      <td>14.62</td>\n      <td>...</td>\n      <td>2388.13</td>\n      <td>8128.53</td>\n      <td>8.4363</td>\n      <td>0.03</td>\n      <td>394</td>\n      <td>2388</td>\n      <td>100.0</td>\n      <td>38.67</td>\n      <td>23.3072</td>\n      <td>(2, 49)</td>\n    </tr>\n    <tr>\n      <th>102410</th>\n      <td>2</td>\n      <td>40</td>\n      <td>0.0023</td>\n      <td>0.0003</td>\n      <td>100.0</td>\n      <td>518.67</td>\n      <td>642.65</td>\n      <td>1590.33</td>\n      <td>1407.82</td>\n      <td>14.62</td>\n      <td>...</td>\n      <td>2388.12</td>\n      <td>8127.59</td>\n      <td>8.4190</td>\n      <td>0.03</td>\n      <td>393</td>\n      <td>2388</td>\n      <td>100.0</td>\n      <td>38.74</td>\n      <td>23.3693</td>\n      <td>(2, 49)</td>\n    </tr>\n    <tr>\n      <th>102411</th>\n      <td>2</td>\n      <td>41</td>\n      <td>-0.0001</td>\n      <td>-0.0002</td>\n      <td>100.0</td>\n      <td>518.67</td>\n      <td>642.78</td>\n      <td>1595.98</td>\n      <td>1405.79</td>\n      <td>14.62</td>\n      <td>...</td>\n      <td>2388.10</td>\n      <td>8125.49</td>\n      <td>8.4247</td>\n      <td>0.03</td>\n      <td>393</td>\n      <td>2388</td>\n      <td>100.0</td>\n      <td>38.82</td>\n      <td>23.3411</td>\n      <td>(2, 49)</td>\n    </tr>\n    <tr>\n      <th>102412</th>\n      <td>2</td>\n      <td>42</td>\n      <td>-0.0039</td>\n      <td>-0.0002</td>\n      <td>100.0</td>\n      <td>518.67</td>\n      <td>642.74</td>\n      <td>1586.43</td>\n      <td>1409.10</td>\n      <td>14.62</td>\n      <td>...</td>\n      <td>2388.14</td>\n      <td>8126.66</td>\n      <td>8.4788</td>\n      <td>0.03</td>\n      <td>393</td>\n      <td>2388</td>\n      <td>100.0</td>\n      <td>38.88</td>\n      <td>23.2196</td>\n      <td>(2, 49)</td>\n    </tr>\n    <tr>\n      <th>102413</th>\n      <td>2</td>\n      <td>43</td>\n      <td>0.0014</td>\n      <td>0.0001</td>\n      <td>100.0</td>\n      <td>518.67</td>\n      <td>642.82</td>\n      <td>1588.40</td>\n      <td>1405.06</td>\n      <td>14.62</td>\n      <td>...</td>\n      <td>2388.15</td>\n      <td>8125.56</td>\n      <td>8.4927</td>\n      <td>0.03</td>\n      <td>392</td>\n      <td>2388</td>\n      <td>100.0</td>\n      <td>38.73</td>\n      <td>23.2775</td>\n      <td>(2, 49)</td>\n    </tr>\n    <tr>\n      <th>102414</th>\n      <td>2</td>\n      <td>44</td>\n      <td>-0.0023</td>\n      <td>0.0003</td>\n      <td>100.0</td>\n      <td>518.67</td>\n      <td>642.77</td>\n      <td>1591.75</td>\n      <td>1411.05</td>\n      <td>14.62</td>\n      <td>...</td>\n      <td>2388.13</td>\n      <td>8132.18</td>\n      <td>8.4366</td>\n      <td>0.03</td>\n      <td>392</td>\n      <td>2388</td>\n      <td>100.0</td>\n      <td>38.79</td>\n      <td>23.3533</td>\n      <td>(2, 49)</td>\n    </tr>\n    <tr>\n      <th>102415</th>\n      <td>2</td>\n      <td>45</td>\n      <td>-0.0029</td>\n      <td>0.0000</td>\n      <td>100.0</td>\n      <td>518.67</td>\n      <td>642.48</td>\n      <td>1590.52</td>\n      <td>1406.20</td>\n      <td>14.62</td>\n      <td>...</td>\n      <td>2388.10</td>\n      <td>8128.22</td>\n      <td>8.4467</td>\n      <td>0.03</td>\n      <td>392</td>\n      <td>2388</td>\n      <td>100.0</td>\n      <td>38.95</td>\n      <td>23.2906</td>\n      <td>(2, 49)</td>\n    </tr>\n    <tr>\n      <th>102416</th>\n      <td>2</td>\n      <td>46</td>\n      <td>0.0026</td>\n      <td>-0.0002</td>\n      <td>100.0</td>\n      <td>518.67</td>\n      <td>642.84</td>\n      <td>1589.31</td>\n      <td>1401.67</td>\n      <td>14.62</td>\n      <td>...</td>\n      <td>2388.10</td>\n      <td>8128.82</td>\n      <td>8.4455</td>\n      <td>0.03</td>\n      <td>394</td>\n      <td>2388</td>\n      <td>100.0</td>\n      <td>38.88</td>\n      <td>23.2310</td>\n      <td>(2, 49)</td>\n    </tr>\n    <tr>\n      <th>102417</th>\n      <td>2</td>\n      <td>47</td>\n      <td>-0.0029</td>\n      <td>-0.0004</td>\n      <td>100.0</td>\n      <td>518.67</td>\n      <td>642.85</td>\n      <td>1587.58</td>\n      <td>1403.23</td>\n      <td>14.62</td>\n      <td>...</td>\n      <td>2388.11</td>\n      <td>8128.77</td>\n      <td>8.4221</td>\n      <td>0.03</td>\n      <td>392</td>\n      <td>2388</td>\n      <td>100.0</td>\n      <td>38.88</td>\n      <td>23.2965</td>\n      <td>(2, 49)</td>\n    </tr>\n    <tr>\n      <th>102418</th>\n      <td>2</td>\n      <td>48</td>\n      <td>0.0011</td>\n      <td>-0.0001</td>\n      <td>100.0</td>\n      <td>518.67</td>\n      <td>642.64</td>\n      <td>1587.71</td>\n      <td>1411.96</td>\n      <td>14.62</td>\n      <td>...</td>\n      <td>2388.11</td>\n      <td>8125.65</td>\n      <td>8.4465</td>\n      <td>0.03</td>\n      <td>392</td>\n      <td>2388</td>\n      <td>100.0</td>\n      <td>38.99</td>\n      <td>23.2918</td>\n      <td>(2, 49)</td>\n    </tr>\n    <tr>\n      <th>102419</th>\n      <td>2</td>\n      <td>49</td>\n      <td>0.0018</td>\n      <td>-0.0001</td>\n      <td>100.0</td>\n      <td>518.67</td>\n      <td>642.55</td>\n      <td>1586.59</td>\n      <td>1410.83</td>\n      <td>14.62</td>\n      <td>...</td>\n      <td>2388.09</td>\n      <td>8126.90</td>\n      <td>8.4505</td>\n      <td>0.03</td>\n      <td>391</td>\n      <td>2388</td>\n      <td>100.0</td>\n      <td>38.81</td>\n      <td>23.2618</td>\n      <td>(2, 49)</td>\n    </tr>\n  </tbody>\n</table>\n<p>40 rows × 27 columns</p>\n</div>"
     },
     "execution_count": 34,
     "metadata": {},
     "output_type": "execute_result"
    }
   ],
   "source": [
    "filtered_test_data_rolled.head(40)"
   ],
   "metadata": {
    "collapsed": false
   }
  },
  {
   "cell_type": "code",
   "execution_count": 35,
   "outputs": [
    {
     "name": "stderr",
     "output_type": "stream",
     "text": [
      "Feature Extraction: 100%|██████████| 40/40 [00:03<00:00, 13.29it/s]\n"
     ]
    }
   ],
   "source": [
    "# extract features for test data\n",
    "X_test = extract_features(filtered_test_data_rolled.drop([\"UnitNumber\"], axis=1),\n",
    "                          column_id=\"id\", column_sort=\"Cycle\",\n",
    "                          default_fc_parameters=MinimalFCParameters(),\n",
    "                          impute_function=impute, show_warnings=False)\n",
    "# add index names\n",
    "X_test.index = X_test.index.rename([\"UnitNumber\", \"Cycle\"])"
   ],
   "metadata": {
    "collapsed": false
   }
  },
  {
   "cell_type": "code",
   "execution_count": 36,
   "outputs": [],
   "source": [
    "# extract target for test data - match index of y_test with X_test\n",
    "y_test = test_RUL_data\n",
    "y_test.index = X_test.index"
   ],
   "metadata": {
    "collapsed": false
   }
  },
  {
   "cell_type": "code",
   "execution_count": 37,
   "outputs": [
    {
     "name": "stdout",
     "output_type": "stream",
     "text": [
      "Shape of X_test: (100, 240)\n"
     ]
    },
    {
     "data": {
      "text/plain": "                  Operation Setting 1__sum_values  \\\nUnitNumber Cycle                                    \n1          31                        1.810000e-02   \n2          49                       -9.100000e-03   \n3          126                      -4.400000e-03   \n4          106                      -4.336809e-19   \n5          98                        1.640000e-02   \n\n                  Operation Setting 1__median  Operation Setting 1__mean  \\\nUnitNumber Cycle                                                           \n1          31                         0.00130               9.050000e-04   \n2          49                         0.00005              -4.550000e-04   \n3          126                       -0.00025              -2.200000e-04   \n4          106                        0.00005              -2.168404e-20   \n5          98                         0.00105               8.200000e-04   \n\n                  Operation Setting 1__length  \\\nUnitNumber Cycle                                \n1          31                            20.0   \n2          49                            20.0   \n3          126                           20.0   \n4          106                           20.0   \n5          98                            20.0   \n\n                  Operation Setting 1__standard_deviation  \\\nUnitNumber Cycle                                            \n1          31                                    0.002373   \n2          49                                    0.002212   \n3          126                                   0.002824   \n4          106                                   0.001972   \n5          98                                    0.002243   \n\n                  Operation Setting 1__variance  \\\nUnitNumber Cycle                                  \n1          31                          0.000006   \n2          49                          0.000005   \n3          126                         0.000008   \n4          106                         0.000004   \n5          98                          0.000005   \n\n                  Operation Setting 1__root_mean_square  \\\nUnitNumber Cycle                                          \n1          31                                  0.002540   \n2          49                                  0.002258   \n3          126                                 0.002832   \n4          106                                 0.001972   \n5          98                                  0.002388   \n\n                  Operation Setting 1__maximum  \\\nUnitNumber Cycle                                 \n1          31                           0.0047   \n2          49                           0.0032   \n3          126                          0.0057   \n4          106                          0.0031   \n5          98                           0.0062   \n\n                  Operation Setting 1__absolute_maximum  \\\nUnitNumber Cycle                                          \n1          31                                    0.0056   \n2          49                                    0.0039   \n3          126                                   0.0057   \n4          106                                   0.0048   \n5          98                                    0.0062   \n\n                  Operation Setting 1__minimum  ...  \\\nUnitNumber Cycle                                ...   \n1          31                          -0.0056  ...   \n2          49                          -0.0039  ...   \n3          126                         -0.0057  ...   \n4          106                         -0.0048  ...   \n5          98                          -0.0035  ...   \n\n                  Sensor Measure 21__sum_values  Sensor Measure 21__median  \\\nUnitNumber Cycle                                                             \n1          31                          467.5243                   23.37235   \n2          49                          465.9096                   23.30065   \n3          126                         465.0032                   23.24990   \n4          106                         465.5171                   23.27205   \n5          98                          465.1504                   23.24325   \n\n                  Sensor Measure 21__mean  Sensor Measure 21__length  \\\nUnitNumber Cycle                                                       \n1          31                   23.376215                       20.0   \n2          49                   23.295480                       20.0   \n3          126                  23.250160                       20.0   \n4          106                  23.275855                       20.0   \n5          98                   23.257520                       20.0   \n\n                  Sensor Measure 21__standard_deviation  \\\nUnitNumber Cycle                                          \n1          31                                  0.034147   \n2          49                                  0.041742   \n3          126                                 0.043298   \n4          106                                 0.056855   \n5          98                                  0.064874   \n\n                  Sensor Measure 21__variance  \\\nUnitNumber Cycle                                \n1          31                        0.001166   \n2          49                        0.001742   \n3          126                       0.001875   \n4          106                       0.003232   \n5          98                        0.004209   \n\n                  Sensor Measure 21__root_mean_square  \\\nUnitNumber Cycle                                        \n1          31                               23.376240   \n2          49                               23.295517   \n3          126                              23.250200   \n4          106                              23.275924   \n5          98                               23.257610   \n\n                  Sensor Measure 21__maximum  \\\nUnitNumber Cycle                               \n1          31                        23.4572   \n2          49                        23.3693   \n3          126                       23.3559   \n4          106                       23.3769   \n5          98                        23.4117   \n\n                  Sensor Measure 21__absolute_maximum  \\\nUnitNumber Cycle                                        \n1          31                                 23.4572   \n2          49                                 23.3693   \n3          126                                23.3559   \n4          106                                23.3769   \n5          98                                 23.4117   \n\n                  Sensor Measure 21__minimum  \nUnitNumber Cycle                              \n1          31                        23.3186  \n2          49                        23.2196  \n3          126                       23.1749  \n4          106                       23.1676  \n5          98                        23.1476  \n\n[5 rows x 240 columns]",
      "text/html": "<div>\n<style scoped>\n    .dataframe tbody tr th:only-of-type {\n        vertical-align: middle;\n    }\n\n    .dataframe tbody tr th {\n        vertical-align: top;\n    }\n\n    .dataframe thead th {\n        text-align: right;\n    }\n</style>\n<table border=\"1\" class=\"dataframe\">\n  <thead>\n    <tr style=\"text-align: right;\">\n      <th></th>\n      <th></th>\n      <th>Operation Setting 1__sum_values</th>\n      <th>Operation Setting 1__median</th>\n      <th>Operation Setting 1__mean</th>\n      <th>Operation Setting 1__length</th>\n      <th>Operation Setting 1__standard_deviation</th>\n      <th>Operation Setting 1__variance</th>\n      <th>Operation Setting 1__root_mean_square</th>\n      <th>Operation Setting 1__maximum</th>\n      <th>Operation Setting 1__absolute_maximum</th>\n      <th>Operation Setting 1__minimum</th>\n      <th>...</th>\n      <th>Sensor Measure 21__sum_values</th>\n      <th>Sensor Measure 21__median</th>\n      <th>Sensor Measure 21__mean</th>\n      <th>Sensor Measure 21__length</th>\n      <th>Sensor Measure 21__standard_deviation</th>\n      <th>Sensor Measure 21__variance</th>\n      <th>Sensor Measure 21__root_mean_square</th>\n      <th>Sensor Measure 21__maximum</th>\n      <th>Sensor Measure 21__absolute_maximum</th>\n      <th>Sensor Measure 21__minimum</th>\n    </tr>\n    <tr>\n      <th>UnitNumber</th>\n      <th>Cycle</th>\n      <th></th>\n      <th></th>\n      <th></th>\n      <th></th>\n      <th></th>\n      <th></th>\n      <th></th>\n      <th></th>\n      <th></th>\n      <th></th>\n      <th></th>\n      <th></th>\n      <th></th>\n      <th></th>\n      <th></th>\n      <th></th>\n      <th></th>\n      <th></th>\n      <th></th>\n      <th></th>\n      <th></th>\n    </tr>\n  </thead>\n  <tbody>\n    <tr>\n      <th>1</th>\n      <th>31</th>\n      <td>1.810000e-02</td>\n      <td>0.00130</td>\n      <td>9.050000e-04</td>\n      <td>20.0</td>\n      <td>0.002373</td>\n      <td>0.000006</td>\n      <td>0.002540</td>\n      <td>0.0047</td>\n      <td>0.0056</td>\n      <td>-0.0056</td>\n      <td>...</td>\n      <td>467.5243</td>\n      <td>23.37235</td>\n      <td>23.376215</td>\n      <td>20.0</td>\n      <td>0.034147</td>\n      <td>0.001166</td>\n      <td>23.376240</td>\n      <td>23.4572</td>\n      <td>23.4572</td>\n      <td>23.3186</td>\n    </tr>\n    <tr>\n      <th>2</th>\n      <th>49</th>\n      <td>-9.100000e-03</td>\n      <td>0.00005</td>\n      <td>-4.550000e-04</td>\n      <td>20.0</td>\n      <td>0.002212</td>\n      <td>0.000005</td>\n      <td>0.002258</td>\n      <td>0.0032</td>\n      <td>0.0039</td>\n      <td>-0.0039</td>\n      <td>...</td>\n      <td>465.9096</td>\n      <td>23.30065</td>\n      <td>23.295480</td>\n      <td>20.0</td>\n      <td>0.041742</td>\n      <td>0.001742</td>\n      <td>23.295517</td>\n      <td>23.3693</td>\n      <td>23.3693</td>\n      <td>23.2196</td>\n    </tr>\n    <tr>\n      <th>3</th>\n      <th>126</th>\n      <td>-4.400000e-03</td>\n      <td>-0.00025</td>\n      <td>-2.200000e-04</td>\n      <td>20.0</td>\n      <td>0.002824</td>\n      <td>0.000008</td>\n      <td>0.002832</td>\n      <td>0.0057</td>\n      <td>0.0057</td>\n      <td>-0.0057</td>\n      <td>...</td>\n      <td>465.0032</td>\n      <td>23.24990</td>\n      <td>23.250160</td>\n      <td>20.0</td>\n      <td>0.043298</td>\n      <td>0.001875</td>\n      <td>23.250200</td>\n      <td>23.3559</td>\n      <td>23.3559</td>\n      <td>23.1749</td>\n    </tr>\n    <tr>\n      <th>4</th>\n      <th>106</th>\n      <td>-4.336809e-19</td>\n      <td>0.00005</td>\n      <td>-2.168404e-20</td>\n      <td>20.0</td>\n      <td>0.001972</td>\n      <td>0.000004</td>\n      <td>0.001972</td>\n      <td>0.0031</td>\n      <td>0.0048</td>\n      <td>-0.0048</td>\n      <td>...</td>\n      <td>465.5171</td>\n      <td>23.27205</td>\n      <td>23.275855</td>\n      <td>20.0</td>\n      <td>0.056855</td>\n      <td>0.003232</td>\n      <td>23.275924</td>\n      <td>23.3769</td>\n      <td>23.3769</td>\n      <td>23.1676</td>\n    </tr>\n    <tr>\n      <th>5</th>\n      <th>98</th>\n      <td>1.640000e-02</td>\n      <td>0.00105</td>\n      <td>8.200000e-04</td>\n      <td>20.0</td>\n      <td>0.002243</td>\n      <td>0.000005</td>\n      <td>0.002388</td>\n      <td>0.0062</td>\n      <td>0.0062</td>\n      <td>-0.0035</td>\n      <td>...</td>\n      <td>465.1504</td>\n      <td>23.24325</td>\n      <td>23.257520</td>\n      <td>20.0</td>\n      <td>0.064874</td>\n      <td>0.004209</td>\n      <td>23.257610</td>\n      <td>23.4117</td>\n      <td>23.4117</td>\n      <td>23.1476</td>\n    </tr>\n  </tbody>\n</table>\n<p>5 rows × 240 columns</p>\n</div>"
     },
     "metadata": {},
     "output_type": "display_data"
    },
    {
     "name": "stdout",
     "output_type": "stream",
     "text": [
      "Shape of y_test: (100, 1)\n"
     ]
    },
    {
     "data": {
      "text/plain": "                  RUL\nUnitNumber Cycle     \n1          31     112\n2          49      98\n3          126     69\n4          106     82\n5          98      91",
      "text/html": "<div>\n<style scoped>\n    .dataframe tbody tr th:only-of-type {\n        vertical-align: middle;\n    }\n\n    .dataframe tbody tr th {\n        vertical-align: top;\n    }\n\n    .dataframe thead th {\n        text-align: right;\n    }\n</style>\n<table border=\"1\" class=\"dataframe\">\n  <thead>\n    <tr style=\"text-align: right;\">\n      <th></th>\n      <th></th>\n      <th>RUL</th>\n    </tr>\n    <tr>\n      <th>UnitNumber</th>\n      <th>Cycle</th>\n      <th></th>\n    </tr>\n  </thead>\n  <tbody>\n    <tr>\n      <th>1</th>\n      <th>31</th>\n      <td>112</td>\n    </tr>\n    <tr>\n      <th>2</th>\n      <th>49</th>\n      <td>98</td>\n    </tr>\n    <tr>\n      <th>3</th>\n      <th>126</th>\n      <td>69</td>\n    </tr>\n    <tr>\n      <th>4</th>\n      <th>106</th>\n      <td>82</td>\n    </tr>\n    <tr>\n      <th>5</th>\n      <th>98</th>\n      <td>91</td>\n    </tr>\n  </tbody>\n</table>\n</div>"
     },
     "metadata": {},
     "output_type": "display_data"
    }
   ],
   "source": [
    "# check if X_test and y_test match\n",
    "print(f\"Shape of X_test: {X_test.shape}\")\n",
    "display(X_test.head(5))\n",
    "print(f\"Shape of y_test: {y_test.shape}\")\n",
    "display(y_test.head(5))"
   ],
   "metadata": {
    "collapsed": false
   }
  },
  {
   "cell_type": "markdown",
   "source": [
    "## 4. Summarize in Function"
   ],
   "metadata": {
    "collapsed": false
   }
  },
  {
   "cell_type": "code",
   "execution_count": 38,
   "outputs": [],
   "source": [
    "from src.rolling_window_creator import RollingWindowDatasetCreator"
   ],
   "metadata": {
    "collapsed": false
   }
  },
  {
   "cell_type": "code",
   "execution_count": 39,
   "outputs": [
    {
     "name": "stdout",
     "output_type": "stream",
     "text": [
      "2024-05-30 12:09:59 [\u001B[34msrc.rolling_window_creator:117\u001B[0m] [\u001B[32mINFO\u001B[0m] >>>> Creating rolling windows for train data...\u001B[0m\n"
     ]
    },
    {
     "name": "stderr",
     "output_type": "stream",
     "text": [
      "Rolling: 100%|██████████| 37/37 [00:05<00:00,  7.29it/s]\n"
     ]
    },
    {
     "name": "stdout",
     "output_type": "stream",
     "text": [
      "2024-05-30 12:10:04 [\u001B[34msrc.rolling_window_creator:125\u001B[0m] [\u001B[32mINFO\u001B[0m] >>>> Extracting features for train data...\u001B[0m\n"
     ]
    },
    {
     "name": "stderr",
     "output_type": "stream",
     "text": [
      "Feature Extraction: 100%|██████████| 40/40 [01:03<00:00,  1.58s/it]\n"
     ]
    },
    {
     "name": "stdout",
     "output_type": "stream",
     "text": [
      "2024-05-30 12:11:19 [\u001B[34msrc.rolling_window_creator:133\u001B[0m] [\u001B[32mINFO\u001B[0m] >>>> Calculating target for train data...\u001B[0m\n",
      "2024-05-30 12:11:19 [\u001B[34msrc.rolling_window_creator:117\u001B[0m] [\u001B[32mINFO\u001B[0m] >>>> Creating rolling windows for test data...\u001B[0m\n"
     ]
    },
    {
     "name": "stderr",
     "output_type": "stream",
     "text": [
      "Rolling: 100%|██████████| 38/38 [00:04<00:00,  9.40it/s]\n"
     ]
    },
    {
     "name": "stdout",
     "output_type": "stream",
     "text": [
      "2024-05-30 12:11:24 [\u001B[34msrc.rolling_window_creator:125\u001B[0m] [\u001B[32mINFO\u001B[0m] >>>> Extracting features for test data...\u001B[0m\n"
     ]
    },
    {
     "name": "stderr",
     "output_type": "stream",
     "text": [
      "Feature Extraction: 100%|██████████| 40/40 [00:02<00:00, 13.65it/s]\n"
     ]
    },
    {
     "name": "stdout",
     "output_type": "stream",
     "text": [
      "2024-05-30 12:11:27 [\u001B[34msrc.rolling_window_creator:161\u001B[0m] [\u001B[32mINFO\u001B[0m] >>>> Datasets created successfully.\u001B[0m\n",
      "2024-05-30 12:11:27 [\u001B[34msrc.rolling_window_creator:162\u001B[0m] [\u001B[32mINFO\u001B[0m] >>>> Shape of X_train: (20131, 240)\u001B[0m\n",
      "2024-05-30 12:11:27 [\u001B[34msrc.rolling_window_creator:163\u001B[0m] [\u001B[32mINFO\u001B[0m] >>>> Shape of y_train: (20131, 1)\u001B[0m\n",
      "2024-05-30 12:11:27 [\u001B[34msrc.rolling_window_creator:164\u001B[0m] [\u001B[32mINFO\u001B[0m] >>>> Shape of X_test: (100, 240)\u001B[0m\n",
      "2024-05-30 12:11:27 [\u001B[34msrc.rolling_window_creator:165\u001B[0m] [\u001B[32mINFO\u001B[0m] >>>> Shape of y_test: (100, 1)\u001B[0m\n"
     ]
    }
   ],
   "source": [
    "creator = RollingWindowDatasetCreator(column_id=\"UnitNumber\",\n",
    "                                      column_sort=\"Cycle\",\n",
    "                                      max_window_size=config[\"preprocessing\"][\"max_window_size\"],\n",
    "                                      min_window_size=config[\"preprocessing\"][\"min_window_size\"],\n",
    "                                      feature_extraction_mode='minimal',\n",
    "                                      early_RUL=None)\n",
    "X_train, y_train, X_test, y_test = creator.create_rolling_windows_datasets(train_data, test_data, test_RUL_data)"
   ],
   "metadata": {
    "collapsed": false
   }
  },
  {
   "cell_type": "code",
   "execution_count": 40,
   "outputs": [
    {
     "name": "stdout",
     "output_type": "stream",
     "text": [
      "Shape of X_train: (20131, 240)\n"
     ]
    },
    {
     "data": {
      "text/plain": "                  Operation Setting 1__sum_values  \\\nUnitNumber Cycle                                    \n1          6                              -0.0086   \n           7                              -0.0076   \n           8                              -0.0110   \n           9                              -0.0102   \n           10                             -0.0135   \n\n                  Operation Setting 1__median  Operation Setting 1__mean  \\\nUnitNumber Cycle                                                           \n1          6                          -0.0013                  -0.001433   \n           7                          -0.0007                  -0.001086   \n           8                          -0.0013                  -0.001375   \n           9                          -0.0007                  -0.001133   \n           10                         -0.0013                  -0.001350   \n\n                  Operation Setting 1__length  \\\nUnitNumber Cycle                                \n1          6                              6.0   \n           7                              7.0   \n           8                              8.0   \n           9                              9.0   \n           10                            10.0   \n\n                  Operation Setting 1__standard_deviation  \\\nUnitNumber Cycle                                            \n1          6                                     0.002340   \n           7                                     0.002328   \n           8                                     0.002308   \n           9                                     0.002281   \n           10                                    0.002259   \n\n                  Operation Setting 1__variance  \\\nUnitNumber Cycle                                  \n1          6                           0.000005   \n           7                           0.000005   \n           8                           0.000005   \n           9                           0.000005   \n           10                          0.000005   \n\n                  Operation Setting 1__root_mean_square  \\\nUnitNumber Cycle                                          \n1          6                                   0.002744   \n           7                                   0.002568   \n           8                                   0.002687   \n           9                                   0.002547   \n           10                                  0.002632   \n\n                  Operation Setting 1__maximum  \\\nUnitNumber Cycle                                 \n1          6                            0.0019   \n           7                            0.0019   \n           8                            0.0019   \n           9                            0.0019   \n           10                           0.0019   \n\n                  Operation Setting 1__absolute_maximum  \\\nUnitNumber Cycle                                          \n1          6                                     0.0043   \n           7                                     0.0043   \n           8                                     0.0043   \n           9                                     0.0043   \n           10                                    0.0043   \n\n                  Operation Setting 1__minimum  ...  \\\nUnitNumber Cycle                                ...   \n1          6                           -0.0043  ...   \n           7                           -0.0043  ...   \n           8                           -0.0043  ...   \n           9                           -0.0043  ...   \n           10                          -0.0043  ...   \n\n                  Sensor Measure 21__sum_values  Sensor Measure 21__median  \\\nUnitNumber Cycle                                                             \n1          6                           140.3320                   23.38915   \n           7                           163.7094                   23.37740   \n           8                           187.0200                   23.37565   \n           9                           210.4266                   23.37740   \n           10                          233.8960                   23.39090   \n\n                  Sensor Measure 21__mean  Sensor Measure 21__length  \\\nUnitNumber Cycle                                                       \n1          6                    23.388667                        6.0   \n           7                    23.387057                        7.0   \n           8                    23.377500                        8.0   \n           9                    23.380733                        9.0   \n           10                   23.389600                       10.0   \n\n                  Sensor Measure 21__standard_deviation  \\\nUnitNumber Cycle                                          \n1          6                                   0.029032   \n           7                                   0.027166   \n           8                                   0.035848   \n           9                                   0.035014   \n           10                                  0.042555   \n\n                  Sensor Measure 21__variance  \\\nUnitNumber Cycle                                \n1          6                         0.000843   \n           7                         0.000738   \n           8                         0.001285   \n           9                         0.001226   \n           10                        0.001811   \n\n                  Sensor Measure 21__root_mean_square  \\\nUnitNumber Cycle                                        \n1          6                                23.388685   \n           7                                23.387073   \n           8                                23.377527   \n           9                                23.380760   \n           10                               23.389639   \n\n                  Sensor Measure 21__maximum  \\\nUnitNumber Cycle                               \n1          6                         23.4236   \n           7                         23.4236   \n           8                         23.4236   \n           9                         23.4236   \n           10                        23.4694   \n\n                  Sensor Measure 21__absolute_maximum  \\\nUnitNumber Cycle                                        \n1          6                                  23.4236   \n           7                                  23.4236   \n           8                                  23.4236   \n           9                                  23.4236   \n           10                                 23.4694   \n\n                  Sensor Measure 21__minimum  \nUnitNumber Cycle                              \n1          6                         23.3442  \n           7                         23.3442  \n           8                         23.3106  \n           9                         23.3106  \n           10                        23.3106  \n\n[5 rows x 240 columns]",
      "text/html": "<div>\n<style scoped>\n    .dataframe tbody tr th:only-of-type {\n        vertical-align: middle;\n    }\n\n    .dataframe tbody tr th {\n        vertical-align: top;\n    }\n\n    .dataframe thead th {\n        text-align: right;\n    }\n</style>\n<table border=\"1\" class=\"dataframe\">\n  <thead>\n    <tr style=\"text-align: right;\">\n      <th></th>\n      <th></th>\n      <th>Operation Setting 1__sum_values</th>\n      <th>Operation Setting 1__median</th>\n      <th>Operation Setting 1__mean</th>\n      <th>Operation Setting 1__length</th>\n      <th>Operation Setting 1__standard_deviation</th>\n      <th>Operation Setting 1__variance</th>\n      <th>Operation Setting 1__root_mean_square</th>\n      <th>Operation Setting 1__maximum</th>\n      <th>Operation Setting 1__absolute_maximum</th>\n      <th>Operation Setting 1__minimum</th>\n      <th>...</th>\n      <th>Sensor Measure 21__sum_values</th>\n      <th>Sensor Measure 21__median</th>\n      <th>Sensor Measure 21__mean</th>\n      <th>Sensor Measure 21__length</th>\n      <th>Sensor Measure 21__standard_deviation</th>\n      <th>Sensor Measure 21__variance</th>\n      <th>Sensor Measure 21__root_mean_square</th>\n      <th>Sensor Measure 21__maximum</th>\n      <th>Sensor Measure 21__absolute_maximum</th>\n      <th>Sensor Measure 21__minimum</th>\n    </tr>\n    <tr>\n      <th>UnitNumber</th>\n      <th>Cycle</th>\n      <th></th>\n      <th></th>\n      <th></th>\n      <th></th>\n      <th></th>\n      <th></th>\n      <th></th>\n      <th></th>\n      <th></th>\n      <th></th>\n      <th></th>\n      <th></th>\n      <th></th>\n      <th></th>\n      <th></th>\n      <th></th>\n      <th></th>\n      <th></th>\n      <th></th>\n      <th></th>\n      <th></th>\n    </tr>\n  </thead>\n  <tbody>\n    <tr>\n      <th rowspan=\"5\" valign=\"top\">1</th>\n      <th>6</th>\n      <td>-0.0086</td>\n      <td>-0.0013</td>\n      <td>-0.001433</td>\n      <td>6.0</td>\n      <td>0.002340</td>\n      <td>0.000005</td>\n      <td>0.002744</td>\n      <td>0.0019</td>\n      <td>0.0043</td>\n      <td>-0.0043</td>\n      <td>...</td>\n      <td>140.3320</td>\n      <td>23.38915</td>\n      <td>23.388667</td>\n      <td>6.0</td>\n      <td>0.029032</td>\n      <td>0.000843</td>\n      <td>23.388685</td>\n      <td>23.4236</td>\n      <td>23.4236</td>\n      <td>23.3442</td>\n    </tr>\n    <tr>\n      <th>7</th>\n      <td>-0.0076</td>\n      <td>-0.0007</td>\n      <td>-0.001086</td>\n      <td>7.0</td>\n      <td>0.002328</td>\n      <td>0.000005</td>\n      <td>0.002568</td>\n      <td>0.0019</td>\n      <td>0.0043</td>\n      <td>-0.0043</td>\n      <td>...</td>\n      <td>163.7094</td>\n      <td>23.37740</td>\n      <td>23.387057</td>\n      <td>7.0</td>\n      <td>0.027166</td>\n      <td>0.000738</td>\n      <td>23.387073</td>\n      <td>23.4236</td>\n      <td>23.4236</td>\n      <td>23.3442</td>\n    </tr>\n    <tr>\n      <th>8</th>\n      <td>-0.0110</td>\n      <td>-0.0013</td>\n      <td>-0.001375</td>\n      <td>8.0</td>\n      <td>0.002308</td>\n      <td>0.000005</td>\n      <td>0.002687</td>\n      <td>0.0019</td>\n      <td>0.0043</td>\n      <td>-0.0043</td>\n      <td>...</td>\n      <td>187.0200</td>\n      <td>23.37565</td>\n      <td>23.377500</td>\n      <td>8.0</td>\n      <td>0.035848</td>\n      <td>0.001285</td>\n      <td>23.377527</td>\n      <td>23.4236</td>\n      <td>23.4236</td>\n      <td>23.3106</td>\n    </tr>\n    <tr>\n      <th>9</th>\n      <td>-0.0102</td>\n      <td>-0.0007</td>\n      <td>-0.001133</td>\n      <td>9.0</td>\n      <td>0.002281</td>\n      <td>0.000005</td>\n      <td>0.002547</td>\n      <td>0.0019</td>\n      <td>0.0043</td>\n      <td>-0.0043</td>\n      <td>...</td>\n      <td>210.4266</td>\n      <td>23.37740</td>\n      <td>23.380733</td>\n      <td>9.0</td>\n      <td>0.035014</td>\n      <td>0.001226</td>\n      <td>23.380760</td>\n      <td>23.4236</td>\n      <td>23.4236</td>\n      <td>23.3106</td>\n    </tr>\n    <tr>\n      <th>10</th>\n      <td>-0.0135</td>\n      <td>-0.0013</td>\n      <td>-0.001350</td>\n      <td>10.0</td>\n      <td>0.002259</td>\n      <td>0.000005</td>\n      <td>0.002632</td>\n      <td>0.0019</td>\n      <td>0.0043</td>\n      <td>-0.0043</td>\n      <td>...</td>\n      <td>233.8960</td>\n      <td>23.39090</td>\n      <td>23.389600</td>\n      <td>10.0</td>\n      <td>0.042555</td>\n      <td>0.001811</td>\n      <td>23.389639</td>\n      <td>23.4694</td>\n      <td>23.4694</td>\n      <td>23.3106</td>\n    </tr>\n  </tbody>\n</table>\n<p>5 rows × 240 columns</p>\n</div>"
     },
     "metadata": {},
     "output_type": "display_data"
    },
    {
     "name": "stdout",
     "output_type": "stream",
     "text": [
      "Shape of y_train: (20131, 1)\n"
     ]
    },
    {
     "data": {
      "text/plain": "                  RUL\nUnitNumber Cycle     \n1          6      187\n           7      186\n           8      185\n           9      184\n           10     183",
      "text/html": "<div>\n<style scoped>\n    .dataframe tbody tr th:only-of-type {\n        vertical-align: middle;\n    }\n\n    .dataframe tbody tr th {\n        vertical-align: top;\n    }\n\n    .dataframe thead th {\n        text-align: right;\n    }\n</style>\n<table border=\"1\" class=\"dataframe\">\n  <thead>\n    <tr style=\"text-align: right;\">\n      <th></th>\n      <th></th>\n      <th>RUL</th>\n    </tr>\n    <tr>\n      <th>UnitNumber</th>\n      <th>Cycle</th>\n      <th></th>\n    </tr>\n  </thead>\n  <tbody>\n    <tr>\n      <th rowspan=\"5\" valign=\"top\">1</th>\n      <th>6</th>\n      <td>187</td>\n    </tr>\n    <tr>\n      <th>7</th>\n      <td>186</td>\n    </tr>\n    <tr>\n      <th>8</th>\n      <td>185</td>\n    </tr>\n    <tr>\n      <th>9</th>\n      <td>184</td>\n    </tr>\n    <tr>\n      <th>10</th>\n      <td>183</td>\n    </tr>\n  </tbody>\n</table>\n</div>"
     },
     "metadata": {},
     "output_type": "display_data"
    }
   ],
   "source": [
    "# check if X_train and y_train match\n",
    "print(f\"Shape of X_train: {X_train.shape}\")\n",
    "display(X_train.head(5))\n",
    "print(f\"Shape of y_train: {y_train.shape}\")\n",
    "display(y_train.head(5))"
   ],
   "metadata": {
    "collapsed": false
   }
  },
  {
   "cell_type": "code",
   "execution_count": 41,
   "outputs": [
    {
     "name": "stdout",
     "output_type": "stream",
     "text": [
      "Shape of X_test: (100, 240)\n"
     ]
    },
    {
     "data": {
      "text/plain": "                  Sensor Measure 10__sum_values  Sensor Measure 10__median  \\\nUnitNumber Cycle                                                             \n1          31                              19.5                        1.3   \n2          49                              19.5                        1.3   \n3          126                             19.5                        1.3   \n4          106                             19.5                        1.3   \n5          98                              19.5                        1.3   \n\n                  Sensor Measure 10__mean  Sensor Measure 10__length  \\\nUnitNumber Cycle                                                       \n1          31                         1.3                       15.0   \n2          49                         1.3                       15.0   \n3          126                        1.3                       15.0   \n4          106                        1.3                       15.0   \n5          98                         1.3                       15.0   \n\n                  Sensor Measure 10__standard_deviation  \\\nUnitNumber Cycle                                          \n1          31                              2.220446e-16   \n2          49                              2.220446e-16   \n3          126                             2.220446e-16   \n4          106                             2.220446e-16   \n5          98                              2.220446e-16   \n\n                  Sensor Measure 10__variance  \\\nUnitNumber Cycle                                \n1          31                    4.930381e-32   \n2          49                    4.930381e-32   \n3          126                   4.930381e-32   \n4          106                   4.930381e-32   \n5          98                    4.930381e-32   \n\n                  Sensor Measure 10__root_mean_square  \\\nUnitNumber Cycle                                        \n1          31                                     1.3   \n2          49                                     1.3   \n3          126                                    1.3   \n4          106                                    1.3   \n5          98                                     1.3   \n\n                  Sensor Measure 10__maximum  \\\nUnitNumber Cycle                               \n1          31                            1.3   \n2          49                            1.3   \n3          126                           1.3   \n4          106                           1.3   \n5          98                            1.3   \n\n                  Sensor Measure 10__absolute_maximum  \\\nUnitNumber Cycle                                        \n1          31                                     1.3   \n2          49                                     1.3   \n3          126                                    1.3   \n4          106                                    1.3   \n5          98                                     1.3   \n\n                  Sensor Measure 10__minimum  ...  \\\nUnitNumber Cycle                              ...   \n1          31                            1.3  ...   \n2          49                            1.3  ...   \n3          126                           1.3  ...   \n4          106                           1.3  ...   \n5          98                            1.3  ...   \n\n                  Sensor Measure 9__sum_values  Sensor Measure 9__median  \\\nUnitNumber Cycle                                                           \n1          31                        135726.40                   9046.90   \n2          49                        135719.03                   9048.35   \n3          126                       135756.92                   9049.41   \n4          106                       135812.17                   9054.42   \n5          98                        135791.72                   9053.85   \n\n                  Sensor Measure 9__mean  Sensor Measure 9__length  \\\nUnitNumber Cycle                                                     \n1          31                9048.426667                      15.0   \n2          49                9047.935333                      15.0   \n3          126               9050.461333                      15.0   \n4          106               9054.144667                      15.0   \n5          98                9052.781333                      15.0   \n\n                  Sensor Measure 9__standard_deviation  \\\nUnitNumber Cycle                                         \n1          31                                 4.519551   \n2          49                                 2.786065   \n3          126                                4.376840   \n4          106                                4.782503   \n5          98                                 3.870707   \n\n                  Sensor Measure 9__variance  \\\nUnitNumber Cycle                               \n1          31                      20.426342   \n2          49                       7.762158   \n3          126                     19.156732   \n4          106                     22.872332   \n5          98                      14.982372   \n\n                  Sensor Measure 9__root_mean_square  \\\nUnitNumber Cycle                                       \n1          31                            9048.427795   \n2          49                            9047.935762   \n3          126                           9050.462392   \n4          106                           9054.145930   \n5          98                            9052.782161   \n\n                  Sensor Measure 9__maximum  \\\nUnitNumber Cycle                              \n1          31                       9056.40   \n2          49                       9052.32   \n3          126                      9058.16   \n4          106                      9062.04   \n5          98                       9059.29   \n\n                  Sensor Measure 9__absolute_maximum  \\\nUnitNumber Cycle                                       \n1          31                                9056.40   \n2          49                                9052.32   \n3          126                               9058.16   \n4          106                               9062.04   \n5          98                                9059.29   \n\n                  Sensor Measure 9__minimum  \nUnitNumber Cycle                             \n1          31                       9041.12  \n2          49                       9042.03  \n3          126                      9044.93  \n4          106                      9046.96  \n5          98                       9044.76  \n\n[5 rows x 240 columns]",
      "text/html": "<div>\n<style scoped>\n    .dataframe tbody tr th:only-of-type {\n        vertical-align: middle;\n    }\n\n    .dataframe tbody tr th {\n        vertical-align: top;\n    }\n\n    .dataframe thead th {\n        text-align: right;\n    }\n</style>\n<table border=\"1\" class=\"dataframe\">\n  <thead>\n    <tr style=\"text-align: right;\">\n      <th></th>\n      <th></th>\n      <th>Sensor Measure 10__sum_values</th>\n      <th>Sensor Measure 10__median</th>\n      <th>Sensor Measure 10__mean</th>\n      <th>Sensor Measure 10__length</th>\n      <th>Sensor Measure 10__standard_deviation</th>\n      <th>Sensor Measure 10__variance</th>\n      <th>Sensor Measure 10__root_mean_square</th>\n      <th>Sensor Measure 10__maximum</th>\n      <th>Sensor Measure 10__absolute_maximum</th>\n      <th>Sensor Measure 10__minimum</th>\n      <th>...</th>\n      <th>Sensor Measure 9__sum_values</th>\n      <th>Sensor Measure 9__median</th>\n      <th>Sensor Measure 9__mean</th>\n      <th>Sensor Measure 9__length</th>\n      <th>Sensor Measure 9__standard_deviation</th>\n      <th>Sensor Measure 9__variance</th>\n      <th>Sensor Measure 9__root_mean_square</th>\n      <th>Sensor Measure 9__maximum</th>\n      <th>Sensor Measure 9__absolute_maximum</th>\n      <th>Sensor Measure 9__minimum</th>\n    </tr>\n    <tr>\n      <th>UnitNumber</th>\n      <th>Cycle</th>\n      <th></th>\n      <th></th>\n      <th></th>\n      <th></th>\n      <th></th>\n      <th></th>\n      <th></th>\n      <th></th>\n      <th></th>\n      <th></th>\n      <th></th>\n      <th></th>\n      <th></th>\n      <th></th>\n      <th></th>\n      <th></th>\n      <th></th>\n      <th></th>\n      <th></th>\n      <th></th>\n      <th></th>\n    </tr>\n  </thead>\n  <tbody>\n    <tr>\n      <th>1</th>\n      <th>31</th>\n      <td>19.5</td>\n      <td>1.3</td>\n      <td>1.3</td>\n      <td>15.0</td>\n      <td>2.220446e-16</td>\n      <td>4.930381e-32</td>\n      <td>1.3</td>\n      <td>1.3</td>\n      <td>1.3</td>\n      <td>1.3</td>\n      <td>...</td>\n      <td>135726.40</td>\n      <td>9046.90</td>\n      <td>9048.426667</td>\n      <td>15.0</td>\n      <td>4.519551</td>\n      <td>20.426342</td>\n      <td>9048.427795</td>\n      <td>9056.40</td>\n      <td>9056.40</td>\n      <td>9041.12</td>\n    </tr>\n    <tr>\n      <th>2</th>\n      <th>49</th>\n      <td>19.5</td>\n      <td>1.3</td>\n      <td>1.3</td>\n      <td>15.0</td>\n      <td>2.220446e-16</td>\n      <td>4.930381e-32</td>\n      <td>1.3</td>\n      <td>1.3</td>\n      <td>1.3</td>\n      <td>1.3</td>\n      <td>...</td>\n      <td>135719.03</td>\n      <td>9048.35</td>\n      <td>9047.935333</td>\n      <td>15.0</td>\n      <td>2.786065</td>\n      <td>7.762158</td>\n      <td>9047.935762</td>\n      <td>9052.32</td>\n      <td>9052.32</td>\n      <td>9042.03</td>\n    </tr>\n    <tr>\n      <th>3</th>\n      <th>126</th>\n      <td>19.5</td>\n      <td>1.3</td>\n      <td>1.3</td>\n      <td>15.0</td>\n      <td>2.220446e-16</td>\n      <td>4.930381e-32</td>\n      <td>1.3</td>\n      <td>1.3</td>\n      <td>1.3</td>\n      <td>1.3</td>\n      <td>...</td>\n      <td>135756.92</td>\n      <td>9049.41</td>\n      <td>9050.461333</td>\n      <td>15.0</td>\n      <td>4.376840</td>\n      <td>19.156732</td>\n      <td>9050.462392</td>\n      <td>9058.16</td>\n      <td>9058.16</td>\n      <td>9044.93</td>\n    </tr>\n    <tr>\n      <th>4</th>\n      <th>106</th>\n      <td>19.5</td>\n      <td>1.3</td>\n      <td>1.3</td>\n      <td>15.0</td>\n      <td>2.220446e-16</td>\n      <td>4.930381e-32</td>\n      <td>1.3</td>\n      <td>1.3</td>\n      <td>1.3</td>\n      <td>1.3</td>\n      <td>...</td>\n      <td>135812.17</td>\n      <td>9054.42</td>\n      <td>9054.144667</td>\n      <td>15.0</td>\n      <td>4.782503</td>\n      <td>22.872332</td>\n      <td>9054.145930</td>\n      <td>9062.04</td>\n      <td>9062.04</td>\n      <td>9046.96</td>\n    </tr>\n    <tr>\n      <th>5</th>\n      <th>98</th>\n      <td>19.5</td>\n      <td>1.3</td>\n      <td>1.3</td>\n      <td>15.0</td>\n      <td>2.220446e-16</td>\n      <td>4.930381e-32</td>\n      <td>1.3</td>\n      <td>1.3</td>\n      <td>1.3</td>\n      <td>1.3</td>\n      <td>...</td>\n      <td>135791.72</td>\n      <td>9053.85</td>\n      <td>9052.781333</td>\n      <td>15.0</td>\n      <td>3.870707</td>\n      <td>14.982372</td>\n      <td>9052.782161</td>\n      <td>9059.29</td>\n      <td>9059.29</td>\n      <td>9044.76</td>\n    </tr>\n  </tbody>\n</table>\n<p>5 rows × 240 columns</p>\n</div>"
     },
     "metadata": {},
     "output_type": "display_data"
    },
    {
     "name": "stdout",
     "output_type": "stream",
     "text": [
      "Shape of y_test: (100, 1)\n"
     ]
    },
    {
     "data": {
      "text/plain": "                  RUL\nUnitNumber Cycle     \n1          31     112\n2          49      98\n3          126     69\n4          106     82\n5          98      91",
      "text/html": "<div>\n<style scoped>\n    .dataframe tbody tr th:only-of-type {\n        vertical-align: middle;\n    }\n\n    .dataframe tbody tr th {\n        vertical-align: top;\n    }\n\n    .dataframe thead th {\n        text-align: right;\n    }\n</style>\n<table border=\"1\" class=\"dataframe\">\n  <thead>\n    <tr style=\"text-align: right;\">\n      <th></th>\n      <th></th>\n      <th>RUL</th>\n    </tr>\n    <tr>\n      <th>UnitNumber</th>\n      <th>Cycle</th>\n      <th></th>\n    </tr>\n  </thead>\n  <tbody>\n    <tr>\n      <th>1</th>\n      <th>31</th>\n      <td>112</td>\n    </tr>\n    <tr>\n      <th>2</th>\n      <th>49</th>\n      <td>98</td>\n    </tr>\n    <tr>\n      <th>3</th>\n      <th>126</th>\n      <td>69</td>\n    </tr>\n    <tr>\n      <th>4</th>\n      <th>106</th>\n      <td>82</td>\n    </tr>\n    <tr>\n      <th>5</th>\n      <th>98</th>\n      <td>91</td>\n    </tr>\n  </tbody>\n</table>\n</div>"
     },
     "metadata": {},
     "output_type": "display_data"
    }
   ],
   "source": [
    "# check if X_test and y_test match\n",
    "print(f\"Shape of X_test: {X_test.shape}\")\n",
    "display(X_test.head(5))\n",
    "print(f\"Shape of y_test: {y_test.shape}\")\n",
    "display(y_test.head(5))"
   ],
   "metadata": {
    "collapsed": false
   }
  },
  {
   "cell_type": "code",
   "execution_count": 42,
   "outputs": [],
   "source": [
    "# save processed data (as pickle)\n",
    "#timestamp = time.strftime(\"%Y%m%d-%H%M%S\")\n",
    "#X_train.to_pickle(f\"{config['paths']['processed_data_dir']}ex2_X_train_{timestamp}.pkl\")\n",
    "#y_train.to_pickle(f\"{config['paths']['processed_data_dir']}ex2_y_train_{timestamp}.pkl\")\n",
    "#X_test.to_pickle(f\"{config['paths']['processed_data_dir']}ex2_X_test_{timestamp}.pkl\")\n",
    "#y_test.to_pickle(f\"{config['paths']['processed_data_dir']}ex2_y_test_{timestamp}.pkl\")\n"
   ],
   "metadata": {
    "collapsed": false
   }
  },
  {
   "cell_type": "markdown",
   "source": [
    "---\n",
    "# Variant 2: Piecewise Linear Degradation Model\n",
    "\n",
    "The piecewise linear degradation model is a more realistic model for the degradation of turbofan engines. It is based on the assumption that the degradation of the engine is not linear over the whole life cycle, but rather consists of several linear segments. In this context there is an early RUL, which is a constant. This is set until the actual RUL is reached, then the degradation is linear. The early RUL is a hyperparameter that can be set. The piecewise and linear degradation model is implemented in the `calculate_RUL` function in the `rolling_window_creator.py` file.\n",
    "\n",
    "Example: If the early RUL is set to 100, the RUL is 100 until the actual RUL reaches 100, then the degradation is linear. For implementation, we can calculate the RUL for each unit with a linear degradation model, but we afterward clip the RUL at a certain value (early RUL). This is done in the `calculate_RUL` function."
   ],
   "metadata": {
    "collapsed": false
   }
  },
  {
   "cell_type": "code",
   "execution_count": 2,
   "outputs": [
    {
     "ename": "NameError",
     "evalue": "name 'train_data' is not defined",
     "output_type": "error",
     "traceback": [
      "\u001B[1;31m---------------------------------------------------------------------------\u001B[0m",
      "\u001B[1;31mNameError\u001B[0m                                 Traceback (most recent call last)",
      "Cell \u001B[1;32mIn[2], line 4\u001B[0m\n\u001B[0;32m      2\u001B[0m \u001B[38;5;28;01mfrom\u001B[39;00m \u001B[38;5;21;01msrc\u001B[39;00m\u001B[38;5;21;01m.\u001B[39;00m\u001B[38;5;21;01mrolling_window_creator\u001B[39;00m \u001B[38;5;28;01mimport\u001B[39;00m calculate_RUL\n\u001B[0;32m      3\u001B[0m clipping_val \u001B[38;5;241m=\u001B[39m \u001B[38;5;241m150\u001B[39m\n\u001B[1;32m----> 4\u001B[0m picewise_deg \u001B[38;5;241m=\u001B[39m calculate_RUL(\u001B[43mtrain_data\u001B[49m, time_column\u001B[38;5;241m=\u001B[39m\u001B[38;5;124m\"\u001B[39m\u001B[38;5;124mCycle\u001B[39m\u001B[38;5;124m\"\u001B[39m, group_column\u001B[38;5;241m=\u001B[39m\u001B[38;5;124m\"\u001B[39m\u001B[38;5;124mUnitNumber\u001B[39m\u001B[38;5;124m\"\u001B[39m, clipping_value_of_RUL\u001B[38;5;241m=\u001B[39mclipping_val)\n\u001B[0;32m      5\u001B[0m lin_deg \u001B[38;5;241m=\u001B[39m calculate_RUL(train_data, time_column\u001B[38;5;241m=\u001B[39m\u001B[38;5;124m\"\u001B[39m\u001B[38;5;124mCycle\u001B[39m\u001B[38;5;124m\"\u001B[39m, group_column\u001B[38;5;241m=\u001B[39m\u001B[38;5;124m\"\u001B[39m\u001B[38;5;124mUnitNumber\u001B[39m\u001B[38;5;124m\"\u001B[39m, clipping_value_of_RUL\u001B[38;5;241m=\u001B[39m\u001B[38;5;28;01mNone\u001B[39;00m)\n",
      "\u001B[1;31mNameError\u001B[0m: name 'train_data' is not defined"
     ]
    }
   ],
   "source": [
    "# calculate pice wise and linear degradation of RUL\n",
    "clipping_val = 150\n",
    "\n",
    "picewise_deg = calculate_RUL(train_data, time_column=\"Cycle\", group_column=\"UnitNumber\", clipping_value_of_RUL=clipping_val)\n",
    "lin_deg = calculate_RUL(train_data, time_column=\"Cycle\", group_column=\"UnitNumber\", clipping_value_of_RUL=None)"
   ],
   "metadata": {
    "collapsed": false,
    "ExecuteTime": {
     "end_time": "2024-05-31T20:40:02.463190Z",
     "start_time": "2024-05-31T20:40:01.838925900Z"
    }
   }
  },
  {
   "cell_type": "code",
   "execution_count": null,
   "outputs": [],
   "source": [
    "# plot pice wise and linear degradation of RUL for i random units\n",
    "i = 4\n",
    "\n",
    "num_cols = 2\n",
    "num_rows = int(np.ceil(i / num_cols))\n",
    "units = np.random.choice(picewise_deg[\"UnitNumber\"].unique(), i, replace=False)\n",
    "\n",
    "fig, ax = plt.subplots(num_rows, num_cols, figsize=(12, 10))\n",
    "for idx, unit in enumerate(units):\n",
    "    # plot piecewise and linear degradation\n",
    "    sns.lineplot(data=picewise_deg[picewise_deg[\"UnitNumber\"]==unit], x=\"Cycle\", y=\"RUL\", ax=ax[idx//num_cols, idx%num_cols], label=f\"Piecewise Degradation ({clipping_val} clipped)\")\n",
    "    # plot linear degradation\n",
    "    sns.lineplot(data=lin_deg[lin_deg[\"UnitNumber\"]==unit], x=\"Cycle\", y=\"RUL\", ax=ax[idx//num_cols, idx%num_cols], label=\"Linear Degradation\")\n",
    "    # set title, labels and intersection point\n",
    "    ax[idx//num_cols, idx%num_cols].set_title(f\"Unit {unit}\")\n",
    "    ax[idx//num_cols, idx%num_cols].set_xlabel(\"Cycle\")\n",
    "    ax[idx//num_cols, idx%num_cols].set_ylabel(\"RUL\")\n",
    "    # get first intersection point of both degradation curves\n",
    "    intersection_point = picewise_deg[picewise_deg[\"UnitNumber\"]==unit].merge(lin_deg[lin_deg[\"UnitNumber\"]==unit], on=\"Cycle\", suffixes=(\"_piecewise\", \"_linear\"))\n",
    "    intersection_point = intersection_point[intersection_point[\"RUL_piecewise\"] == intersection_point[\"RUL_linear\"]].iloc[0]\n",
    "    # plot intersection point  and add vertical line up to the intersection point\n",
    "    ax[idx//num_cols, idx%num_cols].scatter(intersection_point[\"Cycle\"], intersection_point[\"RUL_piecewise\"], color=\"red\", label=f\"Intersection Point ({int(intersection_point['Cycle'])}, {int(intersection_point['RUL_piecewise'])})\")\n",
    "    ymax_fraction = intersection_point[\"RUL_piecewise\"] / ax[idx//num_cols, idx%num_cols].get_ylim()[1]\n",
    "    ax[idx//num_cols, idx%num_cols].axvline(intersection_point[\"Cycle\"], color=\"red\", linestyle=\"--\", ymax=ymax_fraction)\n",
    "    ax[idx//num_cols, idx%num_cols].legend()\n",
    "plt.suptitle(\"Comparison of Piecewise and Linear Degradation of RUL for Random Units\")\n",
    "plt.tight_layout()\n",
    "plt.show()"
   ],
   "metadata": {
    "collapsed": false
   }
  },
  {
   "cell_type": "markdown",
   "source": [
    "Findings:\n",
    "* The picewise linear degradation model shows the expected behavior. The RUL is constant until the early RUL is reached, then the degradation is linear.\n",
    "* Can be seen in the plots where the intersection point of the two degradation curves is the point where the early RUL is reached and the linear degradation starts.\n"
   ],
   "metadata": {
    "collapsed": false
   }
  }
 ],
 "metadata": {
  "kernelspec": {
   "display_name": "Python 3",
   "language": "python",
   "name": "python3"
  },
  "language_info": {
   "codemirror_mode": {
    "name": "ipython",
    "version": 2
   },
   "file_extension": ".py",
   "mimetype": "text/x-python",
   "name": "python",
   "nbconvert_exporter": "python",
   "pygments_lexer": "ipython2",
   "version": "2.7.6"
  }
 },
 "nbformat": 4,
 "nbformat_minor": 0
}
